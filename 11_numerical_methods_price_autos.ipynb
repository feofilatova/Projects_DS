{
 "cells": [
  {
   "cell_type": "markdown",
   "id": "b16739ae",
   "metadata": {},
   "source": [
    "# Численные методы. Проектная работа. \n",
    "# Определение стоимости автомобилей"
   ]
  },
  {
   "cell_type": "markdown",
   "id": "1357ff9a",
   "metadata": {},
   "source": [
    "## Описание проекта."
   ]
  },
  {
   "cell_type": "markdown",
   "id": "92ceed7c",
   "metadata": {},
   "source": [
    "Сервис по продаже автомобилей с пробегом «Не бит, не крашен» разрабатывает приложение для привлечения новых клиентов. В нём можно быстро узнать рыночную стоимость своего автомобиля. В вашем распоряжении исторические данные: технические характеристики, комплектации и цены автомобилей. Вам нужно построить модель для определения стоимости.\n",
    "\n",
    "Заказчику важны:\n",
    "\n",
    "* качество предсказания\n",
    "* скорость предсказания\n",
    "* время обучения"
   ]
  },
  {
   "cell_type": "markdown",
   "id": "85751b55",
   "metadata": {},
   "source": [
    "## Подготовка данных"
   ]
  },
  {
   "cell_type": "markdown",
   "id": "4f8e62d5",
   "metadata": {},
   "source": [
    "Импротируем необходимые библиотети и загрузим данные"
   ]
  },
  {
   "cell_type": "code",
   "execution_count": null,
   "id": "9be3cd65",
   "metadata": {},
   "outputs": [],
   "source": [
    "import pandas as pd\n",
    "import numpy as np\n",
    "import re\n",
    "import datetime\n",
    "\n",
    "\n",
    "\n",
    "import seaborn as sns\n",
    "import matplotlib.pyplot as plt\n",
    "\n",
    "from sklearn.model_selection import train_test_split\n",
    "from sklearn.utils import shuffle\n",
    "from sklearn.model_selection import GridSearchCV\n",
    "from sklearn.model_selection import cross_val_score\n",
    "\n",
    "from sklearn.linear_model import LinearRegression\n",
    "from sklearn.tree import DecisionTreeRegressor\n",
    "from sklearn.ensemble import RandomForestRegressor\n",
    "from sklearn.dummy import DummyRegressor\n",
    "\n",
    "from catboost import Pool, CatBoostClassifier, CatBoostRegressor\n",
    "\n",
    "\n",
    "import lightgbm as lgb\n",
    "\n",
    "from sklearn.metrics import make_scorer\n",
    "from sklearn.metrics import mean_squared_error\n",
    "\n",
    "\n",
    "from sklearn.pipeline import Pipeline\n",
    "from sklearn.compose import ColumnTransformer\n",
    "from sklearn.preprocessing import OneHotEncoder, StandardScaler, MinMaxScaler, RobustScaler, OrdinalEncoder\n",
    "from sklearn.preprocessing import PowerTransformer, QuantileTransformer\n",
    "\n",
    "import warnings\n",
    "warnings.filterwarnings('ignore')"
   ]
  },
  {
   "cell_type": "code",
   "execution_count": null,
   "id": "06bbe804",
   "metadata": {},
   "outputs": [],
   "source": [
    "random_magic = 1024"
   ]
  },
  {
   "cell_type": "code",
   "execution_count": null,
   "id": "c4f0ef58",
   "metadata": {},
   "outputs": [],
   "source": [
    "try:\n",
    "    data = pd.read_csv('autos.csv')\n",
    "except:\n",
    "    data = pd.read_csv('/datasets/autos.csv')"
   ]
  },
  {
   "cell_type": "code",
   "execution_count": null,
   "id": "94edcb46",
   "metadata": {},
   "outputs": [],
   "source": [
    "data.head()"
   ]
  },
  {
   "cell_type": "code",
   "execution_count": null,
   "id": "cfb3e70d",
   "metadata": {},
   "outputs": [],
   "source": [
    "data.info()"
   ]
  },
  {
   "cell_type": "code",
   "execution_count": null,
   "id": "f1139d5e",
   "metadata": {},
   "outputs": [],
   "source": [
    "data.describe()"
   ]
  },
  {
   "cell_type": "markdown",
   "id": "d7076909",
   "metadata": {},
   "source": [
    "Набор данных предстален 16 столбцами и 354369 строками.\n",
    "\n",
    "Признаки:\n",
    "\n",
    "* DateCrawled — дата скачивания анкеты из базы\n",
    "* VehicleType — тип автомобильного кузова\n",
    "* RegistrationYear — год регистрации автомобиля\n",
    "* Gearbox — тип коробки передач\n",
    "* Power — мощность (л. с.)\n",
    "* Model — модель автомобиля\n",
    "* Kilometer — пробег (км)\n",
    "* RegistrationMonth — месяц регистрации автомобиля\n",
    "* FuelType — тип топлива\n",
    "* Brand — марка автомобиля\n",
    "* NotRepaired — была машина в ремонте или нет\n",
    "* DateCreated — дата создания анкеты\n",
    "* NumberOfPictures — количество фотографий автомобиля\n",
    "* PostalCode — почтовый индекс владельца анкеты (пользователя)\n",
    "* LastSeen — дата последней активности пользователя\n",
    "\n",
    "Целевой признак:\n",
    "\n",
    "* Price — цена (евро)\n",
    "\n",
    "В таблице 9 строковых и 7 целочисленных атрибутов, нужно преобразовать столбцы с датами в тип данных даты.\n",
    "\n",
    "Имеются пропуски в столбцах VehicleType, Gearbox, Model, FuelType, NotRepaired.\n",
    "\n",
    "Необходимо приведение названий признаков к \"змеиному регистру\".\n",
    "\n",
    "Кроме того, в отдельных атрибутах явно имеются аномальные значения:\n",
    "\n",
    "* '9999' - год регистрации\n",
    "* 0 - месяц регистрации\n",
    "* 0 - цена автомобиля\n",
    "* 20000 - мощность (л. с.)\n",
    "\n",
    "Решение о способе вставки пропусков и замены указанных аномальных значений целесообразно принять на этапе последующего изучения и предобработки данных.\n",
    "\n",
    "Данные объявлений также содержат персональную информацию пользователей - почтовый код и время последней активности (видимо, на ресурсе, где представлены объявления), которые целесообразно сразу исключить из рассмотрения.\n",
    "\n",
    "Помимо прочего в данных содержатся признаки, описывающие само объявление, а не продаваемый автомобиль - количество фотографий, дата создания и выгрузки объявления. При этом признак количества фотографий содержит только одно значение - 0. Этот признак также целесообразно сразу исключить из рассмотрения."
   ]
  },
  {
   "cell_type": "markdown",
   "id": "681efcbe",
   "metadata": {},
   "source": [
    "## Подготовка данных"
   ]
  },
  {
   "cell_type": "markdown",
   "id": "eabc15e0",
   "metadata": {},
   "source": [
    "Приведем названия признаков к \" змеиному регистру\""
   ]
  },
  {
   "cell_type": "code",
   "execution_count": null,
   "id": "9b2eae12",
   "metadata": {},
   "outputs": [],
   "source": [
    "data.rename(columns=lambda x: re.sub('(?!^)([A-Z]+)', r'_\\1',x).lower(), inplace=True)\n",
    "data.head()"
   ]
  },
  {
   "cell_type": "markdown",
   "id": "5b8df4e1",
   "metadata": {},
   "source": [
    "Выполним преобразование типа данных для дат."
   ]
  },
  {
   "cell_type": "code",
   "execution_count": null,
   "id": "e60b5f94",
   "metadata": {},
   "outputs": [],
   "source": [
    "data['date_crawled'] = pd.to_datetime(data['date_crawled'])\n",
    "data['date_created'] = pd.to_datetime(data['date_created'])"
   ]
  },
  {
   "cell_type": "markdown",
   "id": "88a86d03",
   "metadata": {},
   "source": [
    "Проверим данные на дубликаты"
   ]
  },
  {
   "cell_type": "code",
   "execution_count": null,
   "id": "4dad637c",
   "metadata": {},
   "outputs": [],
   "source": [
    "duplicates = data[data.duplicated()] \n",
    "duplicates"
   ]
  },
  {
   "cell_type": "markdown",
   "id": "339ac5df",
   "metadata": {},
   "source": [
    "Удалим их."
   ]
  },
  {
   "cell_type": "code",
   "execution_count": null,
   "id": "a80d88f6",
   "metadata": {},
   "outputs": [],
   "source": [
    "data = data.drop_duplicates().reset_index(drop=True)"
   ]
  },
  {
   "cell_type": "markdown",
   "id": "cc2f8a9d",
   "metadata": {},
   "source": [
    "Рассморим один интересный момент. Признак \"была машина в ремонте или нет\" допускает разное толкование. Если мы будем опираться на английское название столбца 'not repaired', то оно будет скорее трактоваться как \"не отремотирована\" - то есть ответ 'yes' говорит, что она находится в битом состоянии, а ответ 'no' - отремонтирована, то есть на ходу.\n",
    "\n",
    "Если же мы обратимся к русской трактовке признака, которая дана в описании данных, то на вопрос \"была машина в ремонте или нет\" положительный ответ \"да\" будет означать, что она отремонтирована. Для прояснения ситуации отдельно исследуем этот признак."
   ]
  },
  {
   "cell_type": "code",
   "execution_count": null,
   "id": "150478aa",
   "metadata": {},
   "outputs": [],
   "source": [
    "sns.set_style('whitegrid')\n",
    "sns.boxplot(data = data, x='not_repaired', y='price', palette='Set2', fliersize=0.5)\n",
    "plt.title('Цена на автомобили в разрезе \"not_repaired\"');"
   ]
  },
  {
   "cell_type": "code",
   "execution_count": null,
   "id": "1f015591",
   "metadata": {},
   "outputs": [],
   "source": [
    "data['not_repaired'].value_counts()"
   ]
  },
  {
   "cell_type": "markdown",
   "id": "3ce2d6ed",
   "metadata": {},
   "source": [
    "В объявлениях, где в 'not_repaired' указан ответ 'no' - медианная цена гораздо выше, чем там, где 'yes'. Значит, мы для себя можем определить, что этот признак выражает на ходу машина или нет.\n",
    "\n",
    "'not_repaired' - 'не отремонтирована': 'no' - нет, не \"не отремонтирована\" - значит, на ходу; 'yes' - да, \"не отремонтирована\", значит, не на ходу.\n",
    "\n",
    "Также анализ объявления реальных площадок показал, что есть такой параметр как \"битая\" - и там объявления машин после аварий. Значит, признак 'not_repaired' для нас выступает в роли такого флажка - 'no' - все в порядке, можно ездить, 'yes' - битая, ездить вряд ли получится.\n",
    "\n",
    "Если бы это был реальная задача, ты мы бы сделали запрос в источнику выгрузки базы данных."
   ]
  },
  {
   "cell_type": "markdown",
   "id": "95eaba06",
   "metadata": {},
   "source": [
    "Рассмотрим остальные признаки поподробнее"
   ]
  },
  {
   "cell_type": "code",
   "execution_count": null,
   "id": "fbfaf119",
   "metadata": {},
   "outputs": [],
   "source": [
    "data.sort_values(by='date_crawled', ascending=True)"
   ]
  },
  {
   "cell_type": "markdown",
   "id": "18f023b9",
   "metadata": {},
   "source": [
    "Скачанные из базы анкеты охватывают временной промежуток около месяца - примерно март 2016 года."
   ]
  },
  {
   "cell_type": "code",
   "execution_count": null,
   "id": "8d788f4b",
   "metadata": {},
   "outputs": [],
   "source": [
    "data.sort_values(by='date_created', ascending=True)"
   ]
  },
  {
   "cell_type": "markdown",
   "id": "52e3f550",
   "metadata": {},
   "source": [
    "При этом анкеты создавались в течение двух лет - с марта 2014 года."
   ]
  },
  {
   "cell_type": "code",
   "execution_count": null,
   "id": "b511e593",
   "metadata": {},
   "outputs": [],
   "source": [
    "data.sort_values(by='last_seen', ascending=True)"
   ]
  },
  {
   "cell_type": "markdown",
   "id": "c3dc1855",
   "metadata": {},
   "source": [
    "Пользователи также появлялись на сайте в течение последнего месяца, значит, можно говорить о том, что ценовые данные даже для старых объявлений - актуальны."
   ]
  },
  {
   "cell_type": "markdown",
   "id": "6cbcc055",
   "metadata": {},
   "source": [
    "Удалим признаки \"количество фотографий автомобиля\", \"почтовый код\" и \"время последней активности\"."
   ]
  },
  {
   "cell_type": "code",
   "execution_count": null,
   "id": "7e7d1464",
   "metadata": {},
   "outputs": [],
   "source": [
    "data.drop(columns=['number_of_pictures', 'postal_code', 'last_seen'], inplace=True)"
   ]
  },
  {
   "cell_type": "markdown",
   "id": "7b6bec36",
   "metadata": {},
   "source": [
    "Чтобы оценить, адекватные ли в нашей базе данные, построим ящики с усами"
   ]
  },
  {
   "cell_type": "code",
   "execution_count": null,
   "id": "4e8ffd21",
   "metadata": {},
   "outputs": [],
   "source": [
    "features_to_plot = {'price':0, 'registration_year':1, 'power':2,'kilometer':3}\n",
    "fig, axes = plt.subplots(1,4, figsize = (12,6))\n",
    "for feature, pos in features_to_plot.items():\n",
    "    sns.boxplot(x=data[feature], orient='h', palette='Set2', fliersize=0.5, ax=axes[pos]);"
   ]
  },
  {
   "cell_type": "markdown",
   "id": "0afceaee",
   "metadata": {},
   "source": [
    "'price' - медиана по цене составляет около 2700 тыс. евро, видимо, в основном представлены бюджетные автомобили.\n",
    "Есть автомобили с ценой 0 - нам предстоит понять, что это - неявные пропуски или продавцы отдают в дар.\n",
    "\n",
    "'regisrtation_year' - много значений выше 2500, похоже, на ошибки, нужно будет посмотреть на них и, скорее всего, избавиться.\n",
    "\n",
    "'power' - также неадекватно высокая мощность, возможно, предстоит избавиться.\n",
    "\n",
    "'kilometer' - столбец с пробегом не вызывает подозрений, кроме того, что медиана - 150 тыс. км и максимальное значение такое же. Возможно, при выгрузке данных стоял какой-то фильтр, например, пробег не более 150 000 км, поэтому будем работать с тем, что есть."
   ]
  },
  {
   "cell_type": "markdown",
   "id": "121a6e27",
   "metadata": {},
   "source": [
    "Посмотрим на обьявления с неадекватно низкой ценой, менее 100 евро"
   ]
  },
  {
   "cell_type": "code",
   "execution_count": null,
   "id": "12286e2e",
   "metadata": {},
   "outputs": [],
   "source": [
    "df = data.query('price < 100')\n",
    "df['price'].value_counts()"
   ]
  },
  {
   "cell_type": "markdown",
   "id": "626f6df8",
   "metadata": {},
   "source": [
    "10772 обьявления, возможно, это автомобили не на ходу, посмотрим имел ли место ремонт."
   ]
  },
  {
   "cell_type": "code",
   "execution_count": null,
   "id": "b3caa327",
   "metadata": {},
   "outputs": [],
   "source": [
    "low_price = data.query('price < 100')\n",
    "low_price.info()"
   ]
  },
  {
   "cell_type": "code",
   "execution_count": null,
   "id": "15b2cda5",
   "metadata": {},
   "outputs": [],
   "source": [
    "low_price['not_repaired'].value_counts()"
   ]
  },
  {
   "cell_type": "markdown",
   "id": "afc13dd0",
   "metadata": {},
   "source": [
    "Исследования показывают, что 3955 автомобилей с очень низкой ценой были отремонтированы, 2005 - нет и остальная часть объявлений с низкой ценой без данных о ремонте. То есть, если бы мы однозначно увидели, что все автомобили с низкой ценой в столбце 'not_repaired' имеют 'yes' - то есть они были бы не находу - тогда мы теоретически могли бы сказать, что в этом срезе у нас автохлам. С учетом того, что это целевой признак, проявлять фантазию и пытаться заполнить модами или медианами выглядит опасным, поэтому придется избавиться от этих данных."
   ]
  },
  {
   "cell_type": "code",
   "execution_count": null,
   "id": "efa93bfa",
   "metadata": {},
   "outputs": [],
   "source": [
    "data = data.query('price >= 100')"
   ]
  },
  {
   "cell_type": "markdown",
   "id": "ad9a307d",
   "metadata": {},
   "source": [
    "Разберем подробно столбец с пропусками о ремонте, попробуем воссстановить данные.\n",
    "Отберем объявления, где указано, что машина в ремонте не была."
   ]
  },
  {
   "cell_type": "code",
   "execution_count": null,
   "id": "9892d8b2",
   "metadata": {},
   "outputs": [],
   "source": [
    "data[data['not_repaired'] == 'no'].describe(include='all')"
   ]
  },
  {
   "cell_type": "markdown",
   "id": "1f7b85a8",
   "metadata": {},
   "source": [
    "Средняя стоимость этих авто 4382 евро, медианная - 3799. \n",
    "\n",
    "Посмотрим на те же метрики у объявлений, где указано, что авто было в ремонте."
   ]
  },
  {
   "cell_type": "code",
   "execution_count": null,
   "id": "a0acfa1f",
   "metadata": {},
   "outputs": [],
   "source": [
    "data[data['not_repaired'] == 'yes'].describe(include='all')"
   ]
  },
  {
   "cell_type": "markdown",
   "id": "1abf6606",
   "metadata": {},
   "source": [
    "Средняя стимость этих автомобилей 2061 евро, медиана - 1000."
   ]
  },
  {
   "cell_type": "markdown",
   "id": "7dd101b4",
   "metadata": {},
   "source": [
    "Теперь посмотрим на объявления, где наличие или отсутствие ремонта не указано."
   ]
  },
  {
   "cell_type": "code",
   "execution_count": null,
   "id": "a6342f29",
   "metadata": {},
   "outputs": [],
   "source": [
    "data[data['not_repaired'].isna()].describe(include='all')"
   ]
  },
  {
   "cell_type": "markdown",
   "id": "7a436c22",
   "metadata": {},
   "source": [
    "Здесь средняя стоимость 2903 евро и медиана 1600. Можно было бы сделать выбор в пользу заполнения параметром \"yes\", так как цены больше тяготеют к выборке автомобилей, бывших в ремонте, но всё же не будем рисковать,ситуация, когда факт проведения ремонта не указан, все-таки отличается от ситуации, когда указано, что автомобиль не ремонтировался. Но и удалять такой массив данных не хотелось бы, поэтому принято решение вместо пропусков создать отдельную категорию - unknown."
   ]
  },
  {
   "cell_type": "code",
   "execution_count": null,
   "id": "d4f81a9b",
   "metadata": {},
   "outputs": [],
   "source": [
    "data['not_repaired'] = data['not_repaired'].fillna('unknown')"
   ]
  },
  {
   "cell_type": "markdown",
   "id": "184ae8fe",
   "metadata": {},
   "source": [
    "Далее проанализируем признак 'год регистрации'. В наших данных не может быть автомобилей с годом регистрации больше 2016, была версия, что данные пополнялись но она разбилась о дату регистрации анкеты, объявление не могло быть опубликовано ранее, чем автомобиль был зарегистрирован."
   ]
  },
  {
   "cell_type": "code",
   "execution_count": null,
   "id": "bd3ef914",
   "metadata": {},
   "outputs": [],
   "source": [
    "data[data['registration_year'] >= 2017].describe(include='all')"
   ]
  },
  {
   "cell_type": "code",
   "execution_count": null,
   "id": "9ef89e65",
   "metadata": {},
   "outputs": [],
   "source": [
    "display(data[data['registration_year']  >= 2017])"
   ]
  },
  {
   "cell_type": "markdown",
   "id": "91a63672",
   "metadata": {},
   "source": [
    "Информация о данных этого среза и визуальный осмотр объявлений говорит нам о том, что здесь не наблюдается определенной системы в пропусках - представлены машины различных брендов и моделей, типов топлива. При этом почти у всех у них есть пропуски в типе кузова. Почему эти машины попали в нашу выборку из будущего выяснить не представляется возможным, удалим эти данные."
   ]
  },
  {
   "cell_type": "code",
   "execution_count": null,
   "id": "ca195d49",
   "metadata": {},
   "outputs": [],
   "source": [
    "data = data.query('registration_year <= 2017')"
   ]
  },
  {
   "cell_type": "markdown",
   "id": "b9c60eb6",
   "metadata": {},
   "source": [
    "Посчитаем долю объявлений по очень старым автомобилям."
   ]
  },
  {
   "cell_type": "code",
   "execution_count": null,
   "id": "1d07ae3e",
   "metadata": {},
   "outputs": [],
   "source": [
    "display('Доля объявлений с указанием года регистрации до 1980: {0:.2%}'\n",
    "      .format(data.query('registration_year < 1980')['registration_year'].count() / data.shape[0]))"
   ]
  },
  {
   "cell_type": "markdown",
   "id": "d6c6dd9c",
   "metadata": {},
   "source": [
    "Без сожалений избавляемся и от них."
   ]
  },
  {
   "cell_type": "markdown",
   "id": "1c8bc6d4",
   "metadata": {},
   "source": [
    "Кроме того, удалим данные имеющие большое количество пропусков/аномалий. Значение марки автомобиля sonstige_autos с немецкого - прочие автомобили, что никак не добавляет ясности в наши данные."
   ]
  },
  {
   "cell_type": "code",
   "execution_count": null,
   "id": "b86f116b",
   "metadata": {},
   "outputs": [],
   "source": [
    "data.drop(\n",
    "    data.query('vehicle_type.isnull() and gearbox.isnull() and power == 0 \\\n",
    "              and fuel_type.isnull() and brand==\\'sonstige_autos\\' and not_repaired.isnull()', engine='python').index,\n",
    "    inplace=True\n",
    ")"
   ]
  },
  {
   "cell_type": "code",
   "execution_count": null,
   "id": "5828eea0",
   "metadata": {},
   "outputs": [],
   "source": [
    "data = data.query('registration_year >= 1980')"
   ]
  },
  {
   "cell_type": "code",
   "execution_count": null,
   "id": "be40c318",
   "metadata": {},
   "outputs": [],
   "source": [
    "data['registration_month'].value_counts()"
   ]
  },
  {
   "cell_type": "markdown",
   "id": "8e9524b3",
   "metadata": {},
   "source": [
    "Объявлений с 0 в качестве месяца регистрации порядка 10% от общего числа объявлений. С учетом того, что данные по месяцу регистрации распределены достаточно равномерно, то и замену значения 0 целесообразно сделать таким образом, чтобы не изменить исходное распределение.\n",
    "\n",
    "Сделаем замену случайным образом на число из диапазона (1, 12) - для этого индекс записи приведем к модулю 12 и добавим 1."
   ]
  },
  {
   "cell_type": "code",
   "execution_count": null,
   "id": "8250fb2a",
   "metadata": {},
   "outputs": [],
   "source": [
    "data.loc[data['registration_month'] == 0, 'registration_month'] = (\n",
    "    data.query('registration_month == 0').index % 12 + 1\n",
    ")"
   ]
  },
  {
   "cell_type": "code",
   "execution_count": null,
   "id": "072bc2f7",
   "metadata": {
    "scrolled": true
   },
   "outputs": [],
   "source": [
    "data['registration_month'].value_counts()"
   ]
  },
  {
   "cell_type": "markdown",
   "id": "dbaa2c0e",
   "metadata": {},
   "source": [
    "Выше было отмечено, что значение sonstige_autos является аномальным (соответствует категории прочие марки автомобилей). Очевидно, что марка автомобиля является одним из ключевых признаков - определяет модель, а также неявно определяет многие прочие характеристики (например, в заданный период производитель может выпускать только автомобили определенного типа кузова или определенной мощности). Необходимо оценить долю автомобилей без указания марки в общем объеме объявлений."
   ]
  },
  {
   "cell_type": "code",
   "execution_count": null,
   "id": "dd14b329",
   "metadata": {},
   "outputs": [],
   "source": [
    "data.query('brand == \\'sonstige_autos\\'')"
   ]
  },
  {
   "cell_type": "code",
   "execution_count": null,
   "id": "5918a252",
   "metadata": {},
   "outputs": [],
   "source": [
    "data.query('brand==\\'sonstige_autos\\' and (vehicle_type.isnull() or gearbox.isnull() or power == 0 \\\n",
    "              or fuel_type.isnull() or not_repaired.isnull() or price in (0, 1))', engine='python')"
   ]
  },
  {
   "cell_type": "markdown",
   "id": "e2dc8e75",
   "metadata": {},
   "source": [
    "Доля автомобилей без указания марки составляет всего 0.6% (ближе к нижней части списка частот встречаемости). Кроме того, среди указанных автомобилей есть те, для которых не указаны и прочие параметры - мощность, тип кузова, тип коробки передач. \n",
    "\n",
    "Целесообразно удалить все данные об автомобилях без указания марки, поскольку их доля в общем объеме мала и кроме того среди этих данных много пропусков/аномалий в прочих атрибутах."
   ]
  },
  {
   "cell_type": "code",
   "execution_count": null,
   "id": "b392fa5c",
   "metadata": {},
   "outputs": [],
   "source": [
    "data = data.query('brand != \\'sonstige_autos\\'')"
   ]
  },
  {
   "cell_type": "markdown",
   "id": "996abd46",
   "metadata": {},
   "source": [
    "Для последующего стратифицированного разделения данных, целесообразно добавить дополнительный атрибут, позволяющий отделить модели, занимающие менее 1% рынка от других."
   ]
  },
  {
   "cell_type": "code",
   "execution_count": null,
   "id": "4a5d32e0",
   "metadata": {},
   "outputs": [],
   "source": [
    "top_models = [\n",
    "    'volkswagen',        \n",
    "    'opel',\n",
    "    'bmw',\n",
    "    'mercedes_benz', \n",
    "    'audi',\n",
    "    'ford',\n",
    "    'renault',\n",
    "    'peugeot',\n",
    "    'fiat',\n",
    "    'seat',\n",
    "    'mazda',\n",
    "    'skoda',\n",
    "    'smart',\n",
    "    'citroen',\n",
    "    'nissan',\n",
    "    'toyota',\n",
    "    'hyundai',\n",
    "]"
   ]
  },
  {
   "cell_type": "code",
   "execution_count": null,
   "id": "3b5ad61e",
   "metadata": {},
   "outputs": [],
   "source": [
    "data['brand_type'] = data.apply(\n",
    "    lambda row: row['brand'] if row['brand'] in top_models else 'other',    \n",
    "    axis=1\n",
    ")"
   ]
  },
  {
   "cell_type": "markdown",
   "id": "9a090186",
   "metadata": {},
   "source": [
    "Оценим значения мощностей двигателей в представленном наборе данных.\n",
    "Сразу отбросим объявление с указанной мощностью более 1000 л.с.\n",
    "\n",
    "Можно было бы сделать замену - разделить указанное значение на 20 (некий средний переводной коэффициент из объема в мощность, но это было бы искажение данных, так как доподлинно нам не известно, что это указание объема двигателя. "
   ]
  },
  {
   "cell_type": "code",
   "execution_count": null,
   "id": "124249dd",
   "metadata": {},
   "outputs": [],
   "source": [
    "data =data[data['power'] < 1000]"
   ]
  },
  {
   "cell_type": "code",
   "execution_count": null,
   "id": "76c63a26",
   "metadata": {},
   "outputs": [],
   "source": [
    "plt.boxplot(x=data['power']);"
   ]
  },
  {
   "cell_type": "markdown",
   "id": "e1fb3dc8",
   "metadata": {},
   "source": [
    "Посмотрим на нулевые значения."
   ]
  },
  {
   "cell_type": "code",
   "execution_count": null,
   "id": "e998b1b6",
   "metadata": {},
   "outputs": [],
   "source": [
    "data[data['power'] < 1]"
   ]
  },
  {
   "cell_type": "markdown",
   "id": "ae473800",
   "metadata": {},
   "source": [
    "Вероятно объявления, в которых значение мощности просто не было указано, их доля относительно всего объема - порядка 10%.\n",
    "\n",
    "Предлагается нулевые значения заменить на основе средних значений по производителям и годам производства. Чтобы не переобучить модель указанную операцию целесообразно выполнить после разделения всей выборки на обучающую и тестовую (на обучающей собрать статистику и использовать ее для замены значений на обучающей и тестовой выборках)."
   ]
  },
  {
   "cell_type": "markdown",
   "id": "82ac09e7",
   "metadata": {},
   "source": [
    "Значения в интервале от 1 до 45 целесообразно удалить как выбросы.\n",
    "\n",
    "Зона выбросов - значения свыше 300 л.с. также присутствует, но исключение этих данных нецелесообразно - в них присутствуют как ошибки (например mitsubishi colt мощностью 953 л.с.), так и верные данные (porsche cayenne 450 л.с.)."
   ]
  },
  {
   "cell_type": "code",
   "execution_count": null,
   "id": "01d6610f",
   "metadata": {},
   "outputs": [],
   "source": [
    "data = data.query('power == 0 or power >= 45')"
   ]
  },
  {
   "cell_type": "markdown",
   "id": "f8d4f76b",
   "metadata": {},
   "source": [
    "Оценим распределение значений пробега."
   ]
  },
  {
   "cell_type": "code",
   "execution_count": null,
   "id": "7e5fc647",
   "metadata": {},
   "outputs": [],
   "source": [
    "data['kilometer'].value_counts()"
   ]
  },
  {
   "cell_type": "markdown",
   "id": "56cdb4b2",
   "metadata": {},
   "source": [
    "Значения распределены в интервале от 5000 до 150000, в основном с шагом 10000. Вероятнее всего на ресурсе, с которого получены указанные объявления, ввод пробега осуществляется путем выбора из некоторого списка (судя по всему с ограничением: минимальное значение - от 0 до 5000, максимальное - свыше 150000).  Можно отметить, что признак пробега можно отнести к категориальным - количество уникальных значений ограничено (судя по всему, на указанном ресурсе выбор пробега осуществляется только путем выбора из списка значений)."
   ]
  },
  {
   "cell_type": "markdown",
   "id": "3f98d75d",
   "metadata": {},
   "source": [
    "Посмотрим на распределение видов топлива."
   ]
  },
  {
   "cell_type": "code",
   "execution_count": null,
   "id": "13234783",
   "metadata": {},
   "outputs": [],
   "source": [
    "data['fuel_type'].value_counts()"
   ]
  },
  {
   "cell_type": "markdown",
   "id": "c554a2c2",
   "metadata": {},
   "source": [
    "Распределение по виду топлива крайне неравномерно - 98% приходятся на виды топлива petrol и gasoline. Учитывая то, что указанные слова являются синонимами, целесообразно:\n",
    "\n",
    "* заменить эти категории на одну\n",
    "* имеющиеся пропуски (учитывая их существенный объем относительного всех данных) заменить также на наиболее частую категорию - petrol"
   ]
  },
  {
   "cell_type": "markdown",
   "id": "79a4d4a0",
   "metadata": {},
   "source": [
    "Также целесообразно категории lpg и cng объединить в одну, поскольку они относятся к категории газового вида топлива. А оставшиеся категории малого объема предложений (гибридные, электродвигатели) исключить."
   ]
  },
  {
   "cell_type": "code",
   "execution_count": null,
   "id": "a0adf9c5",
   "metadata": {},
   "outputs": [],
   "source": [
    "data.loc[data['fuel_type'] == 'gasoline', 'fuel_type'] = 'petrol'"
   ]
  },
  {
   "cell_type": "code",
   "execution_count": null,
   "id": "17af2012",
   "metadata": {},
   "outputs": [],
   "source": [
    "data['fuel_type'] = data['fuel_type'].fillna('petrol')"
   ]
  },
  {
   "cell_type": "code",
   "execution_count": null,
   "id": "b1d9614e",
   "metadata": {},
   "outputs": [],
   "source": [
    "data.loc[data['fuel_type'] == 'lpg', 'fuel_type'] = 'gas'\n",
    "data.loc[data['fuel_type'] == 'cng', 'fuel_type'] = 'gas'"
   ]
  },
  {
   "cell_type": "code",
   "execution_count": null,
   "id": "87f183b1",
   "metadata": {},
   "outputs": [],
   "source": [
    "data = data.query('fuel_type in (\\'petrol\\', \\'gas\\')')"
   ]
  },
  {
   "cell_type": "code",
   "execution_count": null,
   "id": "eee8823d",
   "metadata": {},
   "outputs": [],
   "source": [
    "data['fuel_type'].value_counts()"
   ]
  },
  {
   "cell_type": "code",
   "execution_count": null,
   "id": "6678b069",
   "metadata": {},
   "outputs": [],
   "source": [
    "data['model'].value_counts()"
   ]
  },
  {
   "cell_type": "code",
   "execution_count": null,
   "id": "d9e177ab",
   "metadata": {},
   "outputs": [],
   "source": [
    "data['model'].isnull().sum() / data.shape[0]"
   ]
  },
  {
   "cell_type": "markdown",
   "id": "90d6861a",
   "metadata": {},
   "source": [
    "Модельный ряд представлен списком из порядка 250 различных наименований. Учитывая то, что помимо пропусков в данных присутствует значение other (прочие модели), целесообразно заменить пропуски указанным значением."
   ]
  },
  {
   "cell_type": "code",
   "execution_count": null,
   "id": "97cbfcee",
   "metadata": {},
   "outputs": [],
   "source": [
    "data['model'] = data['model'].fillna('other')"
   ]
  },
  {
   "cell_type": "markdown",
   "id": "4edac9b3",
   "metadata": {},
   "source": [
    "Учитывая то, что уникальных значений признака модели достаточно много (около 250), целесообразно для обучения ML-модели создать производный признак, который бы содержал наиболее распространенные модели, а остальные относил бы к категории \"прочие\".\n",
    "\n",
    "Указанную операцию выполним на этапе подготовки обучающей и тестовой выборок (по статистике обучающей выборки)."
   ]
  },
  {
   "cell_type": "markdown",
   "id": "61573ee1",
   "metadata": {},
   "source": [
    "Посмотрим на типы коробки передач."
   ]
  },
  {
   "cell_type": "code",
   "execution_count": null,
   "id": "b90582b5",
   "metadata": {},
   "outputs": [],
   "source": [
    "data['gearbox'].isnull().sum()"
   ]
  },
  {
   "cell_type": "code",
   "execution_count": null,
   "id": "6a288434",
   "metadata": {},
   "outputs": [],
   "source": [
    "data['gearbox'].value_counts()"
   ]
  },
  {
   "cell_type": "markdown",
   "id": "7e83bb32",
   "metadata": {},
   "source": [
    "Соотношение ручная/автоматическая коробка передач - 4 к 1. Учитывая относительно небольшой объем пропусков данных, нецелесообразно выделять отдельную категорию (например, unknown) - имеет смысл заменить на наиболее распространенное значение - manual."
   ]
  },
  {
   "cell_type": "code",
   "execution_count": null,
   "id": "10d0d678",
   "metadata": {},
   "outputs": [],
   "source": [
    "data['gearbox'] = data['gearbox'].fillna('manual')"
   ]
  },
  {
   "cell_type": "markdown",
   "id": "6a73166f",
   "metadata": {},
   "source": [
    "Оценим распределение значений признака типа кузова."
   ]
  },
  {
   "cell_type": "code",
   "execution_count": null,
   "id": "842f9f96",
   "metadata": {},
   "outputs": [],
   "source": [
    "data['vehicle_type'].value_counts()"
   ]
  },
  {
   "cell_type": "code",
   "execution_count": null,
   "id": "9ef2d1b4",
   "metadata": {},
   "outputs": [],
   "source": [
    "data['vehicle_type'].isnull().sum()"
   ]
  },
  {
   "cell_type": "markdown",
   "id": "b94be5a8",
   "metadata": {},
   "source": [
    "Присутствуют данные с пропусками в типе кузова, при этом для многих подобных объявлений указаны марка и модель, что позволит выполнить замену, например, на наиболее распространенный тип кузова для модели.\n",
    "\n",
    "Аналогично замене 0 признака мощности, чтобы не переобучить модель указанную операцию целесообразно выполнить после разделения всей выборки на обучающую и тестовую (на обучающей собрать статистику и использовать ее для замены значений на обучающей и тестовой выборках)."
   ]
  },
  {
   "cell_type": "markdown",
   "id": "bdcf5fa8",
   "metadata": {},
   "source": [
    "#### Разделение данных на обучающую и тестовую выборку. Заполнение пропусков на основе статистики в обучающей выборке."
   ]
  },
  {
   "cell_type": "markdown",
   "id": "38041dbc",
   "metadata": {},
   "source": [
    "Выполним стратифицированное разделение данных на обучающую и тестовую выборку. В качестве разделяющего признака используем добавленный выше признак brand_type, позволяющий отделить производителей, занимающих более 1% рынка от производителей с небольшой долей."
   ]
  },
  {
   "cell_type": "code",
   "execution_count": null,
   "id": "2b8b6d4b",
   "metadata": {},
   "outputs": [],
   "source": [
    "df_train, df_test = train_test_split(\n",
    "        data, test_size=0.2, random_state=random_magic, stratify=data['brand_type']\n",
    "    )"
   ]
  },
  {
   "cell_type": "markdown",
   "id": "83a562b7",
   "metadata": {},
   "source": [
    "Подготовим статистические данные для замены пропусков/аномалий в признаках на основе имеющихся в обучающей выборке данных - значениях мощности и типа кузова для конкретных производителей и моделей автомобилей."
   ]
  },
  {
   "cell_type": "code",
   "execution_count": null,
   "id": "c27b4dfa",
   "metadata": {},
   "outputs": [],
   "source": [
    "df_train = df_train.copy()\n",
    "df_test = df_test.copy()"
   ]
  },
  {
   "cell_type": "markdown",
   "id": "419870fc",
   "metadata": {},
   "source": [
    "Определим медианные мощности по производителям и маркам автомобилей на основе данных обучающей выборки."
   ]
  },
  {
   "cell_type": "code",
   "execution_count": null,
   "id": "47dc2ca6",
   "metadata": {},
   "outputs": [],
   "source": [
    "power_median = df_train.query('power > 0 and brand_type == \\'other\\'')['power'].median()\n",
    "power_median"
   ]
  },
  {
   "cell_type": "code",
   "execution_count": null,
   "id": "b39e80a8",
   "metadata": {},
   "outputs": [],
   "source": [
    "df_model_power = (\n",
    "    df_train\n",
    "    .query('power > 0')\n",
    "    .groupby(['brand', 'model'])['power']\n",
    "    .median()\n",
    "    .reset_index()\n",
    ")\n",
    "\n",
    "df_model_power"
   ]
  },
  {
   "cell_type": "code",
   "execution_count": null,
   "id": "8e6ccb7e",
   "metadata": {},
   "outputs": [],
   "source": [
    "def find_power_median_value(brand, model):\n",
    "    \"\"\"\n",
    "    функция возвращает медианное значение мощности для входных параметров \n",
    "    brand - марка автомобиля\n",
    "    model - модель автомобиля\n",
    "    при отсутствии в таблице медианных значений указанной модели - возврат медианного значения мощности \n",
    "    по всей таблице (без учета пустых значений)\n",
    "    \n",
    "    \"\"\"\n",
    "    power_group = df_model_power.query('brand == @brand and model == @model')['power']\n",
    "\n",
    "    if power_group.empty:\n",
    "        return power_median\n",
    "    else:\n",
    "        return power_group.values[0]"
   ]
  },
  {
   "cell_type": "markdown",
   "id": "f47f928c",
   "metadata": {},
   "source": [
    "Выполним замену в обучающей и тестовой выборках на основе сформированной статистики."
   ]
  },
  {
   "cell_type": "code",
   "execution_count": null,
   "id": "9c85fd67",
   "metadata": {},
   "outputs": [],
   "source": [
    "df_train.loc[df_train['power'] == 0,  'power'] = df_train.query('power == 0').apply(\n",
    "    lambda row: find_power_median_value(row['brand'], row['model']),\n",
    "    axis=1\n",
    ").astype('int')"
   ]
  },
  {
   "cell_type": "code",
   "execution_count": null,
   "id": "056f9feb",
   "metadata": {},
   "outputs": [],
   "source": [
    "df_test.loc[df_test['power'] == 0, 'power'] = df_test.query('power == 0').apply(\n",
    "    lambda row: find_power_median_value(row['brand'], row['model']),\n",
    "    axis=1\n",
    ").astype('int')"
   ]
  },
  {
   "cell_type": "markdown",
   "id": "cb964ecb",
   "metadata": {},
   "source": [
    "Определим наиболее часто встречаемые типы кузовов по производителям и моделям."
   ]
  },
  {
   "cell_type": "code",
   "execution_count": null,
   "id": "636d7783",
   "metadata": {},
   "outputs": [],
   "source": [
    "vehicle_type_top = df_train['vehicle_type'].mode()[0]\n",
    "vehicle_type_top"
   ]
  },
  {
   "cell_type": "code",
   "execution_count": null,
   "id": "047eb271",
   "metadata": {},
   "outputs": [],
   "source": [
    "df_model_vehicle_type = (\n",
    "    df_train.groupby(['brand', 'model'])['vehicle_type'].\n",
    "    agg(lambda x:x.value_counts().index[0])\n",
    "    .reset_index()\n",
    ")\n",
    "\n",
    "df_model_vehicle_type"
   ]
  },
  {
   "cell_type": "code",
   "execution_count": null,
   "id": "e23c0167",
   "metadata": {},
   "outputs": [],
   "source": [
    "def find_vehicle_type_top_value(brand, model):\n",
    "    \"\"\"\n",
    "    функция возвращает медианное значение мощности для входных параметров \n",
    "    brand - марка автомобиля\n",
    "    model - модель автомобиля\n",
    "    при отсутствии в таблице медианных значений указанной модели - возврат медианного значения мощности \n",
    "    по всей таблице (без учета пустых значений)\n",
    "    \n",
    "    \"\"\"\n",
    "    vehicle_type_group = df_model_vehicle_type.query('brand == @brand and model == @model')['vehicle_type']\n",
    "\n",
    "    if vehicle_type_group.empty:\n",
    "        return vehicle_type_top\n",
    "    else:\n",
    "        return vehicle_type_group.values[0]"
   ]
  },
  {
   "cell_type": "markdown",
   "id": "668b336a",
   "metadata": {},
   "source": [
    "Аналогичным образом заполняем пропуски в обучающей и тестовой выборках"
   ]
  },
  {
   "cell_type": "code",
   "execution_count": null,
   "id": "e1102c9c",
   "metadata": {},
   "outputs": [],
   "source": [
    "df_train.loc[df_train['vehicle_type'].isnull(),  'vehicle_type'] = (\n",
    "    df_train.query('vehicle_type.isnull()', engine='python').apply(\n",
    "    lambda row: find_vehicle_type_top_value(row['brand'], row['model']),\n",
    "    axis=1)\n",
    ")"
   ]
  },
  {
   "cell_type": "code",
   "execution_count": null,
   "id": "40aa201f",
   "metadata": {},
   "outputs": [],
   "source": [
    "df_test.loc[df_test['vehicle_type'].isnull(),  'vehicle_type'] = (\n",
    "    df_test.query('vehicle_type.isnull()', engine='python').apply(\n",
    "    lambda row: find_vehicle_type_top_value(row['brand'], row['model']),\n",
    "    axis=1)\n",
    ")"
   ]
  },
  {
   "cell_type": "markdown",
   "id": "9566d493",
   "metadata": {},
   "source": [
    "Добавим производный обучающий признак с целью выделить наиболее распространенные модели."
   ]
  },
  {
   "cell_type": "code",
   "execution_count": null,
   "id": "6c92eeba",
   "metadata": {},
   "outputs": [],
   "source": [
    "df_model_top = df_train.pivot_table(\n",
    "    index='model', \n",
    "    values='brand', \n",
    "    aggfunc=['count']\n",
    ").reset_index()\n",
    "\n",
    "df_model_top.columns = ['model_top', 'count']\n",
    "df_model_top = df_model_top.query('count > 1000')"
   ]
  },
  {
   "cell_type": "code",
   "execution_count": null,
   "id": "f8dc2f7b",
   "metadata": {},
   "outputs": [],
   "source": [
    "df_train['model_type'] = df_train.merge(\n",
    "    df_model_top, left_on='model', right_on ='model_top', how='left'\n",
    ")['model_top']\n",
    "\n",
    "df_train['model_type'] = df_train['model_type'].fillna('other')"
   ]
  },
  {
   "cell_type": "code",
   "execution_count": null,
   "id": "94e76a9d",
   "metadata": {},
   "outputs": [],
   "source": [
    "df_test['model_type'] = df_test.merge(\n",
    "    df_model_top, left_on='model', right_on ='model_top', how='left'\n",
    ")['model_top']\n",
    "\n",
    "df_test['model_type'] = df_test['model_type'].fillna('other')"
   ]
  },
  {
   "cell_type": "markdown",
   "id": "9f5e7cb0",
   "metadata": {},
   "source": [
    "Проверим общую информацию о признаках обучающей и тестовой выборок."
   ]
  },
  {
   "cell_type": "code",
   "execution_count": null,
   "id": "3943d6e9",
   "metadata": {},
   "outputs": [],
   "source": [
    "df_train.info()"
   ]
  },
  {
   "cell_type": "code",
   "execution_count": null,
   "id": "8d67ee4c",
   "metadata": {},
   "outputs": [],
   "source": [
    "df_test.info()"
   ]
  },
  {
   "cell_type": "markdown",
   "id": "7a633ec8",
   "metadata": {},
   "source": [
    "Пропуски заполнены, типы данных в обеих выборках совпадают. Можно переходить к этапу построения и обучения моделей."
   ]
  },
  {
   "cell_type": "markdown",
   "id": "1d19dabc",
   "metadata": {},
   "source": [
    "### Выводы:\n",
    "\n",
    "В таблице порядка 355 тысяч записей об объявлениях о продаже автомобилей. Целевым признаком является цена автомобиля (Price), указанная в евро.\n",
    "\n",
    "Состав атрибутов совпадает с полученным описанием. Для удобства работы выполнено приведение названий атрибутов из 'верблюжьего' стиля в 'змеиный'.\n",
    "\n",
    "Далее проведена оценка распределения значений признаков с целью выявления пропусков/аномалий в данных, которые целесообразно исключить или заменить.\n",
    "\n",
    "По результатам оценки признаков, относящихся к самим объявлениям (дата создания, дата выгрузки), исключены аномалии - объявления с большим периодом экспозиции, которые вероятно содержат недостоверные ценовые характеристики. Также исключены аномальные значения года регистрации автомобилей, а также значения-выбросы, не дающие представления о текущем состоянии рынка автомобилей.\n",
    "\n",
    "По результатам оценки числовых и категориальных признаков также устранены отдельные аномалии и выполнены замены пропусков значений.\n",
    "\n",
    "После выполнения указанных операций в таблице осталось порядка 330 тясяч записей. Указанная выборка разделена на обучающую и тестовую (с пропорциональным разбиением по производителю). На основе статистики обучающей выборки выполнена замена пропусков значений мощности, типа кузова и модели автомобилей.\n",
    "\n",
    "Данные подготовлены для этапа обучения моделей."
   ]
  },
  {
   "cell_type": "markdown",
   "id": "d8071341",
   "metadata": {},
   "source": [
    "## Обучение моделей"
   ]
  },
  {
   "cell_type": "markdown",
   "id": "aa6295e2",
   "metadata": {},
   "source": [
    "Построим различные модели машинного обучения.\n",
    "\n",
    "Определим наборы обучающих и целевого признаков, выделим категориальные и числовые (подлежащие масштабированию) признаки"
   ]
  },
  {
   "cell_type": "code",
   "execution_count": null,
   "id": "bfe53689",
   "metadata": {},
   "outputs": [],
   "source": [
    "features = ['vehicle_type',\n",
    "            'registration_year',\n",
    "            'gearbox',\n",
    "            'power',\n",
    "            'model_type',\n",
    "            'kilometer',\n",
    "            'registration_month',\n",
    "            'fuel_type',\n",
    "            'brand',\n",
    "            'not_repaired']\n",
    "\n",
    "features_category = ['vehicle_type', 'gearbox', 'model_type', 'kilometer', \n",
    "                     'registration_month', 'fuel_type', 'brand', 'not_repaired']\n",
    "\n",
    "features_scale = ['registration_year', 'power']\n",
    "\n",
    "target = ['price']"
   ]
  },
  {
   "cell_type": "code",
   "execution_count": null,
   "id": "bcb39b8b",
   "metadata": {},
   "outputs": [],
   "source": [
    "X_train = df_train[features]\n",
    "Y_train = df_train[target]\n",
    "\n",
    "X_test = df_test[features]\n",
    "Y_test = df_test[target]"
   ]
  },
  {
   "cell_type": "markdown",
   "id": "9e218070",
   "metadata": {},
   "source": [
    "Создадим функцию расчета метрики RMSE"
   ]
  },
  {
   "cell_type": "code",
   "execution_count": null,
   "id": "8a8f9837",
   "metadata": {},
   "outputs": [],
   "source": [
    "def rmse(Y_true, Y_predicted):\n",
    "    return mean_squared_error(Y_true, Y_predicted) ** 0.5"
   ]
  },
  {
   "cell_type": "code",
   "execution_count": null,
   "id": "2ecf880a",
   "metadata": {},
   "outputs": [],
   "source": [
    "scoring = make_scorer(rmse, greater_is_better=False)"
   ]
  },
  {
   "cell_type": "markdown",
   "id": "2da87b4b",
   "metadata": {},
   "source": [
    "Определим функции вывода значений метрики по результатам обучения и проверки моделей на тестовой выборке."
   ]
  },
  {
   "cell_type": "code",
   "execution_count": null,
   "id": "9f917825",
   "metadata": {},
   "outputs": [],
   "source": [
    "def print_scores(grid_search, params):\n",
    "    \"\"\"\n",
    "    функция печати сводной информации о параметрах модели\n",
    "    \n",
    "    \"\"\"\n",
    "    print ('Наилучшее значение метрики RMSE: %0.3f' % np.abs(grid_search.best_score_))\n",
    "    print ('Наилучшие параметры:')\n",
    "    best_parameters = grid_search.best_estimator_.get_params()\n",
    "    \n",
    "    for param_name in sorted(params.keys()):\n",
    "        print ('\\t%s: %r' % (param_name, best_parameters[param_name]))"
   ]
  },
  {
   "cell_type": "code",
   "execution_count": null,
   "id": "64db4883",
   "metadata": {},
   "outputs": [],
   "source": [
    "def print_scores_on_test(grid_search, params, X_test, Y_test):\n",
    "    print ('Параметры модели:')\n",
    "    best_parameters = grid_search.best_estimator_.get_params()\n",
    "    grid_parameters = {}\n",
    "    \n",
    "    for param_name in sorted(params.keys()):\n",
    "        grid_parameters[param_name] = best_parameters[param_name]\n",
    "        print ('\\t%s: %r' % (param_name, best_parameters[param_name]))\n",
    "    \n",
    "    score_value = np.abs(grid_search.score(X_test, Y_test))\n",
    "    print('Значение метрики RMSE на тестовых данных:', score_value)\n",
    "    \n",
    "    return score_value, grid_parameters"
   ]
  },
  {
   "cell_type": "markdown",
   "id": "840c0fb3",
   "metadata": {},
   "source": [
    "Для последующего сравнения моделей объявим переменную для хранения статистической информации по качеству и времени обучения моделей."
   ]
  },
  {
   "cell_type": "code",
   "execution_count": null,
   "id": "c34b174e",
   "metadata": {},
   "outputs": [],
   "source": [
    "ml_data = []"
   ]
  },
  {
   "cell_type": "markdown",
   "id": "c99d056d",
   "metadata": {},
   "source": [
    "#### Dummy-модель\n"
   ]
  },
  {
   "cell_type": "markdown",
   "id": "70ca70af",
   "metadata": {},
   "source": [
    "Для последующей оценки полученных результатов проверки моделй на тестовых данных рассмотрим несколько dummy-моделей, выполняющий предсказание по одному из простых принципов:\n",
    "\n",
    "* медианное значение цены\n",
    "* среднее значение по бренду\n",
    "* среднее значение по модели"
   ]
  },
  {
   "cell_type": "code",
   "execution_count": null,
   "id": "c6af0800",
   "metadata": {},
   "outputs": [],
   "source": [
    "dummy = DummyRegressor(strategy=\"median\")\n",
    "dummy.fit(X_train, Y_train)\n",
    "\n",
    "print(\n",
    "    'Значение dummy метрики RMSE на тестовых данных:', \n",
    "    rmse(Y_test.values.ravel(), dummy.predict(X_test)) \n",
    ")"
   ]
  },
  {
   "cell_type": "code",
   "execution_count": null,
   "id": "7f387c9a",
   "metadata": {},
   "outputs": [],
   "source": [
    "df_brand_median_price = df_train.pivot_table(\n",
    "    index='brand', \n",
    "    values='price', \n",
    "    aggfunc=['mean']\n",
    ").reset_index()\n",
    "\n",
    "df_brand_median_price.columns = ['brand', 'price']"
   ]
  },
  {
   "cell_type": "code",
   "execution_count": null,
   "id": "cacb46f4",
   "metadata": {},
   "outputs": [],
   "source": [
    "predictions = df_test.merge(\n",
    "    df_brand_median_price, left_on='brand', right_on ='brand', how='inner'\n",
    ")['price_y']\n",
    "\n",
    "print(\n",
    "    'Значение dummy метрики RMSE на тестовых данных:', \n",
    "    rmse(Y_test.values.ravel(), predictions) \n",
    ")"
   ]
  },
  {
   "cell_type": "code",
   "execution_count": null,
   "id": "00702898",
   "metadata": {},
   "outputs": [],
   "source": [
    "df_model_median_price = df_train.pivot_table(\n",
    "    index='model_type', \n",
    "    values='price', \n",
    "    aggfunc=['mean']\n",
    ").reset_index()\n",
    "\n",
    "df_model_median_price.columns = ['model_type', 'price']"
   ]
  },
  {
   "cell_type": "code",
   "execution_count": null,
   "id": "c86e4d40",
   "metadata": {},
   "outputs": [],
   "source": [
    "predictions = df_test.merge(\n",
    "    df_model_median_price, left_on='model_type', right_on ='model_type', how='inner'\n",
    ")['price_y']\n",
    "\n",
    "print(\n",
    "    'Значение dummy метрики RMSE на тестовых данных:', \n",
    "    rmse(Y_test.values.ravel(), predictions) \n",
    ")"
   ]
  },
  {
   "cell_type": "markdown",
   "id": "45e60a90",
   "metadata": {},
   "source": [
    "Базовое значение ошибки для построения моделей машинного обучения получено."
   ]
  },
  {
   "cell_type": "code",
   "execution_count": null,
   "id": "e8abda76",
   "metadata": {},
   "outputs": [],
   "source": [
    "ml_data.append(['dummy', 0, 0, 4499, {}])"
   ]
  },
  {
   "cell_type": "code",
   "execution_count": null,
   "id": "e54ede21",
   "metadata": {},
   "outputs": [],
   "source": [
    "cv_folds = 5\n",
    "simple_param = True"
   ]
  },
  {
   "cell_type": "markdown",
   "id": "69dcac57",
   "metadata": {},
   "source": [
    "#### Линейная регрессия"
   ]
  },
  {
   "cell_type": "markdown",
   "id": "8b6f1a7d",
   "metadata": {},
   "source": [
    "В качестве шагов преобразования данных определим масштабирование и кодирование с помощью OrdinalEncoder (целочисленный код категории). Указанный способ кодирования категориальных признаков ближе к применяемым к CatBoost и LightGBM численным способам кодирования."
   ]
  },
  {
   "cell_type": "code",
   "execution_count": null,
   "id": "4134db92",
   "metadata": {},
   "outputs": [],
   "source": [
    "transform_steps = [\n",
    "    (\n",
    "        'qtl', ColumnTransformer(\n",
    "            remainder='passthrough',\n",
    "            transformers=[  \n",
    "                ('std', StandardScaler(copy=False, with_mean=True, with_std=True), features_scale),\n",
    "                ('cat', OrdinalEncoder(), features_category)\n",
    "            ])\n",
    "    ),\n",
    "]"
   ]
  },
  {
   "cell_type": "code",
   "execution_count": null,
   "id": "deea709d",
   "metadata": {},
   "outputs": [],
   "source": [
    "model_lr = LinearRegression()\n",
    "\n",
    "params = {\n",
    "    'model__fit_intercept': [True, False],\n",
    "    'model__normalize': [True, False]\n",
    "}"
   ]
  },
  {
   "cell_type": "code",
   "execution_count": null,
   "id": "8242aff7",
   "metadata": {},
   "outputs": [],
   "source": [
    "def get_param_count(params):\n",
    "    return np.prod([len(value) for key, value in params.items()])"
   ]
  },
  {
   "cell_type": "code",
   "execution_count": null,
   "id": "e203ebbd",
   "metadata": {},
   "outputs": [],
   "source": [
    "grid_search = GridSearchCV(\n",
    "        Pipeline(transform_steps + [('model', model_lr)]), \n",
    "        param_grid=params, \n",
    "        cv=cv_folds, \n",
    "        scoring=scoring,\n",
    "    ) "
   ]
  },
  {
   "cell_type": "code",
   "execution_count": null,
   "id": "b9556e62",
   "metadata": {},
   "outputs": [],
   "source": [
    "%%time\n",
    "start_time = datetime.datetime.now()\n",
    "\n",
    "grid_search.fit(X_train, Y_train.values.ravel())\n",
    "\n",
    "learning_time = (datetime.datetime.now()-start_time).seconds\n",
    "\n",
    "print_scores(grid_search, params)"
   ]
  },
  {
   "cell_type": "code",
   "execution_count": null,
   "id": "01167115",
   "metadata": {},
   "outputs": [],
   "source": [
    "rmse_score, grid_parameters = print_scores_on_test(grid_search, params, X_test, Y_test.values.ravel())\n",
    "\n",
    "ml_data.append(['Линейная регрессия', learning_time, learning_time / get_param_count(params), rmse_score, grid_parameters])"
   ]
  },
  {
   "cell_type": "markdown",
   "id": "5c0627d2",
   "metadata": {},
   "source": [
    "С помощью линейной регрессии удалось достичь значения метрики RMSE = 2978, что  в 1.5 раза лучше, чем dummy-модель"
   ]
  },
  {
   "cell_type": "markdown",
   "id": "fa818e46",
   "metadata": {},
   "source": [
    "#### Случайный лес"
   ]
  },
  {
   "cell_type": "markdown",
   "id": "6588ebbd",
   "metadata": {},
   "source": [
    "Рассмотрим модель случайного леса. В качестве диапазона перебираемых гиперпараметров укажем глубину дерева и количество деревьев в лесу."
   ]
  },
  {
   "cell_type": "code",
   "execution_count": null,
   "id": "53591dfa",
   "metadata": {},
   "outputs": [],
   "source": [
    "model_rfr = RandomForestRegressor(random_state=random_magic)\n",
    "\n",
    "params = {\n",
    "    'model__n_estimators': [10, 20, 30],\n",
    "    'model__max_depth': [2, 3, 5],\n",
    "}\n",
    "\n",
    "if simple_param:\n",
    "    params = {\n",
    "        'model__n_estimators': [30],\n",
    "        'model__max_depth': [5],\n",
    "    }"
   ]
  },
  {
   "cell_type": "code",
   "execution_count": null,
   "id": "aa8c5a79",
   "metadata": {},
   "outputs": [],
   "source": [
    "grid_search = GridSearchCV(\n",
    "        Pipeline(transform_steps + [('model', model_rfr)]), \n",
    "        param_grid=params, \n",
    "        cv=cv_folds, \n",
    "        scoring=scoring,\n",
    "    )"
   ]
  },
  {
   "cell_type": "code",
   "execution_count": null,
   "id": "90fd29de",
   "metadata": {},
   "outputs": [],
   "source": [
    "%%time\n",
    "start_time = datetime.datetime.now()\n",
    "\n",
    "grid_search.fit(X_train, Y_train.values.ravel())\n",
    "\n",
    "learning_time = (datetime.datetime.now()-start_time).seconds\n",
    "\n",
    "print_scores(grid_search, params)"
   ]
  },
  {
   "cell_type": "code",
   "execution_count": null,
   "id": "9e71f9a8",
   "metadata": {},
   "outputs": [],
   "source": [
    "rmse_score, grid_parameters = print_scores_on_test(grid_search, params, X_test, Y_test.values.ravel())\n",
    "\n",
    "ml_data.append(['Случайный лес', learning_time, learning_time / get_param_count(params), rmse_score, grid_parameters])"
   ]
  },
  {
   "cell_type": "markdown",
   "id": "1b1ccace",
   "metadata": {},
   "source": [
    "Модель случайного леса позволила получить значения метрики RMSE = 2351, что более чем на 20% лучше модели линейной регрессии."
   ]
  },
  {
   "cell_type": "markdown",
   "id": "b2f420d2",
   "metadata": {},
   "source": [
    "#### CatBoost"
   ]
  },
  {
   "cell_type": "markdown",
   "id": "357b93ed",
   "metadata": {},
   "source": [
    "Рассмотрим модель градиентного бустинга CatBoostRegressor. В качестве метрики используем RMSE"
   ]
  },
  {
   "cell_type": "code",
   "execution_count": null,
   "id": "203ce873",
   "metadata": {},
   "outputs": [],
   "source": [
    "class RmseMetric(object):\n",
    "    def get_final_error(self, error, weight):\n",
    "        return np.sqrt(error / (weight + 1e-38))\n",
    "\n",
    "    def is_max_optimal(self):\n",
    "        return False\n",
    "\n",
    "    def evaluate(self, approxes, target, weight):\n",
    "        assert len(approxes) == 1\n",
    "        assert len(target) == len(approxes[0])\n",
    "\n",
    "        approx = approxes[0]\n",
    "\n",
    "        error_sum = 0.0\n",
    "        weight_sum = 0.0\n",
    "\n",
    "        for i in range(len(approx)):\n",
    "            w = 1.0 if weight is None else weight[i]\n",
    "            weight_sum += w\n",
    "            error_sum += w * ((approx[i] - target[i])**2)\n",
    "\n",
    "        return error_sum, weight_sum"
   ]
  },
  {
   "cell_type": "code",
   "execution_count": null,
   "id": "22b55e48",
   "metadata": {},
   "outputs": [],
   "source": [
    "model_cbr = CatBoostRegressor(\n",
    "    verbose=50,\n",
    "    #eval_metric='RMSE',\n",
    "    eval_metric=RmseMetric(),\n",
    "    cat_features=features_category,\n",
    "    task_type=\"CPU\",\n",
    "    iterations=1000,  \n",
    ")\n",
    "\n",
    "params = {\n",
    "    'learning_rate': [0.03, 0.05, 0.15],\n",
    "    'depth': [5, 7, 10],\n",
    "}\n",
    "\n",
    "if simple_param:\n",
    "    params = {\n",
    "        'learning_rate': [0.15],\n",
    "        'depth': [7],\n",
    "    }"
   ]
  },
  {
   "cell_type": "code",
   "execution_count": null,
   "id": "33b70468",
   "metadata": {},
   "outputs": [],
   "source": [
    "%%time\n",
    "\n",
    "start_time = datetime.datetime.now()\n",
    "\n",
    "model_cbr.fit(\n",
    "    df_train[features], df_train[target],\n",
    "    plot=True\n",
    ")\n",
    "\n",
    "learning_time = (datetime.datetime.now()-start_time).seconds"
   ]
  },
  {
   "cell_type": "code",
   "execution_count": null,
   "id": "5ef80a1c",
   "metadata": {},
   "outputs": [],
   "source": [
    "rmse_score = rmse(Y_test.values.ravel(), model_cbr.predict(X_test))\n",
    "\n",
    "print('Значение метрики RMSE на тестовых данных:', rmse_score)\n",
    "\n",
    "ml_data.append(['CatBoost', learning_time, learning_time / get_param_count(params), rmse_score, {}])"
   ]
  },
  {
   "cell_type": "markdown",
   "id": "a53a72bd",
   "metadata": {},
   "source": [
    "Модель CatBoostRegressor библиотеки CatBoost позволила получить значение метрики RMSE на тестовых данных ~ 1633, что ниже рассмотренных выше моделей."
   ]
  },
  {
   "cell_type": "markdown",
   "id": "191c5dbb",
   "metadata": {},
   "source": [
    "#### LightGBM"
   ]
  },
  {
   "cell_type": "markdown",
   "id": "68511e39",
   "metadata": {},
   "source": [
    "Рассмотрим модель градиентного бустинга LGBMRegressor.\n",
    "\n",
    "Поскольку для модели LGBMRegressor категориальные признаки требуются в формате категориальных типов данных - выполним склейку обучающей и тестовой выборки, преобразование категориальных типов и последующее обратное разделение (по имеющимся индексам)."
   ]
  },
  {
   "cell_type": "code",
   "execution_count": null,
   "id": "4b3c188c",
   "metadata": {},
   "outputs": [],
   "source": [
    "df_lgbm = df_train.append(df_test)"
   ]
  },
  {
   "cell_type": "code",
   "execution_count": null,
   "id": "82bbfcba",
   "metadata": {},
   "outputs": [],
   "source": [
    "for c in df_lgbm.columns:\n",
    "    col_type = df_lgbm[c].dtype\n",
    "    if col_type == 'object' or col_type.name == 'category':\n",
    "        df_lgbm[c] = df_lgbm[c].astype('category')"
   ]
  },
  {
   "cell_type": "code",
   "execution_count": null,
   "id": "0cc2d6f9",
   "metadata": {},
   "outputs": [],
   "source": [
    "df_train_lgbm = df_lgbm.loc[df_train.index]\n",
    "df_test_lgbm = df_lgbm.loc[df_test.index]"
   ]
  },
  {
   "cell_type": "code",
   "execution_count": null,
   "id": "6826c0ff",
   "metadata": {},
   "outputs": [],
   "source": [
    "X_train_lgbm = df_train_lgbm[features]\n",
    "Y_train_lgbm = df_train_lgbm[target]\n",
    "\n",
    "X_test_lgbm = df_test_lgbm[features]\n",
    "Y_test_lgbm = df_test_lgbm[target]"
   ]
  },
  {
   "cell_type": "code",
   "execution_count": null,
   "id": "a81137bf",
   "metadata": {},
   "outputs": [],
   "source": [
    "model_lgbm = lgb.LGBMRegressor(\n",
    "    random_state=random_magic,\n",
    "    device=\"cpu\"\n",
    ")\n",
    "\n",
    "params = {\n",
    "    'max_depth': [3, 5, 7],\n",
    "    'learning_rate': [0.03, 0.05, 0.15],\n",
    "}\n",
    "\n",
    "if simple_param:\n",
    "    params = {\n",
    "        'max_depth': [7],\n",
    "        'learning_rate': [0.15],\n",
    "    }"
   ]
  },
  {
   "cell_type": "code",
   "execution_count": null,
   "id": "f4621d21",
   "metadata": {},
   "outputs": [],
   "source": [
    "%%time\n",
    "\n",
    "start_time = datetime.datetime.now()\n",
    "\n",
    "grid_search = GridSearchCV(\n",
    "        estimator=model_lgbm,\n",
    "        param_grid=params, \n",
    "        cv=cv_folds, \n",
    "        scoring=scoring,\n",
    "        n_jobs=-1, \n",
    "        verbose=5\n",
    "    )\n",
    "fitted_model = grid_search.fit(X_train_lgbm, Y_train_lgbm)\n",
    "\n",
    "learning_time = (datetime.datetime.now()-start_time).seconds\n",
    "\n",
    "print_scores(grid_search, params)"
   ]
  },
  {
   "cell_type": "code",
   "execution_count": null,
   "id": "ff67f87b",
   "metadata": {},
   "outputs": [],
   "source": [
    "rmse_score, grid_parameters = print_scores_on_test(grid_search, params, X_test_lgbm, Y_test_lgbm.values.ravel())\n",
    "\n",
    "ml_data.append(['LightGBM', learning_time, learning_time / get_param_count(params), rmse_score, grid_parameters])"
   ]
  },
  {
   "cell_type": "markdown",
   "id": "94c032ce",
   "metadata": {},
   "source": [
    "Модель LGBMRegressor библиотеки LightGBM позволила получить значение метрики RMSE на тестовых данных ~ 1669, что немного хуже CatBoost."
   ]
  },
  {
   "cell_type": "markdown",
   "id": "8929e5ee",
   "metadata": {},
   "source": [
    "## Анализ моделей"
   ]
  },
  {
   "cell_type": "code",
   "execution_count": null,
   "id": "e1908b27",
   "metadata": {},
   "outputs": [],
   "source": [
    "df_ml_compare = pd.DataFrame(ml_data, columns=['model', 'learning_time', 'learning_time_per_param', 'rmse', 'params'])\n",
    "df_ml_compare"
   ]
  },
  {
   "cell_type": "markdown",
   "id": "90c65aad",
   "metadata": {},
   "source": [
    "Линейная регрессия позволила получить значение метрики равное ~ 2978, случайный лес ~ 2351, обе модели градиентного бустинга ~ 1633-1669. Все из перечисленных моделей значительно улучшили предсказание dummy-моделей (~ 4500), при этом качество моделей градиентного бустинга почти в 2 раза лучше линейной регрессии и на 25% лучше случайного леса.\n",
    "\n",
    "Время обучения модели градиентного бустинга LGBMRegressor незначительно превышает время обучения линейной регрессии. \n",
    "\n",
    "Качество моделей градиентного бустинга на 25% выше случайного леса и существенного превосходят оценки dummy-модели. Время обучения CatBoost относительно LightGBM на порядок хуже."
   ]
  },
  {
   "cell_type": "markdown",
   "id": "874afd15",
   "metadata": {},
   "source": [
    "### Выводы:\n",
    "\n",
    "В рамках исследования проведено построение моделей машинного обучения с целью предсказания на основе технических характеристик цены автомобилей.\n",
    "\n",
    "Проведена обработка данных (порядка 355 тысяч записей об объявлениях о продаже автомобилей):\n",
    "\n",
    "* проведена оценка распределения значений признаков с целью выявления пропусков/аномалий в данных, которые целесообразно исключить или заменить.\n",
    "* по результатам оценки признаков, относящихся к самим объявлениям (дата создания, дата выгрузки), исключены аномалии - объявления с большим периодом экспозиции, которые вероятно содержат недостоверные ценовые характеристики. Также исключены аномальные значения года регистрации автомобилей, а также значения-выбросы, не дающие представления о текущем состоянии рынка автомобилей.\n",
    "* по результатам оценки числовых и категориальных признаков также устранены отдельные аномалии и выполнены замены пропусков значений.\n",
    "\n",
    "После выполнения указанных операций в таблице осталось порядка 330 тысяч записей. Указанная выборка разделена на обучающую и тестовую (с пропорциональным разбиением по производителю). На основе статистики обучающей выборки выполнена замена пропусков значений мощности, типа кузова и модели автомобилей.\n",
    "\n",
    "Проведено обучение 4 различных типов моделей:\n",
    "\n",
    "* линейная регрессия\n",
    "* случайный лес\n",
    "* градиентный бустинг CatBoost\n",
    "* градиентный бустинг LightGBM\n",
    "\n",
    "Линейная регрессия позволила получить значение метрики равное ~ 2978, случайный лес ~ 2351, обе модели градиентного бустинга ~ 1633-1669. Все из перечисленных моделей значительно улучшили предсказание dummy-моделей (~ 4500), при этом качество моделей градиентного бустинга почти в 2 раза лучше линейной регрессии и на 25% лучше случайного леса.\n",
    "\n",
    "Время обучения модели градиентного бустинга LGBMRegressor незначительно превышает время обучения линейной регрессии. \n",
    "\n",
    "Качество моделей градиентного бустинга на 25% выше случайного леса и существенного превосходят оценки dummy-модели. Время обучения CatBoost относительно LightGBM на порядок хуже."
   ]
  },
  {
   "cell_type": "code",
   "execution_count": null,
   "id": "2c3ddcd0",
   "metadata": {},
   "outputs": [],
   "source": []
  }
 ],
 "metadata": {
  "kernelspec": {
   "display_name": "Python 3 (ipykernel)",
   "language": "python",
   "name": "python3"
  },
  "language_info": {
   "codemirror_mode": {
    "name": "ipython",
    "version": 3
   },
   "file_extension": ".py",
   "mimetype": "text/x-python",
   "name": "python",
   "nbconvert_exporter": "python",
   "pygments_lexer": "ipython3",
   "version": "3.9.7"
  }
 },
 "nbformat": 4,
 "nbformat_minor": 5
}
