{
 "cells": [
  {
   "cell_type": "markdown",
   "id": "5b78e18a",
   "metadata": {},
   "source": [
    "# Введение в машинное обучение. Проектная работа. \n",
    "# Анализ поведения клиентов оператора мобильной связи «Мегалайн». "
   ]
  },
  {
   "cell_type": "markdown",
   "id": "6a954b98",
   "metadata": {},
   "source": [
    "## Описание проекта."
   ]
  },
  {
   "cell_type": "markdown",
   "id": "5e8a5fd1",
   "metadata": {},
   "source": [
    "Оператор мобильной связи «Мегалайн» выяснил: многие клиенты пользуются архивными тарифами. Они хотят построить систему, способную проанализировать поведение клиентов и предложить пользователям новый тариф: «Смарт» или «Ультра».\n",
    "В нашем распоряжении данные о поведении клиентов, которые уже перешли на эти тарифы. Нужно построить модель для задачи классификации, которая выберет подходящий тариф."
   ]
  },
  {
   "cell_type": "markdown",
   "id": "9f8c10aa",
   "metadata": {},
   "source": [
    "Задачи исследования:\n",
    "\n",
    "* построение моделей для решения задачи классификации клиентов по тарифам.\n",
    "* сравнение моделей и выбор одной с наилучшим значением метрики accuracy (доля правильных ответов) не менее 0.75.\n",
    "* проверка модели на адекватность."
   ]
  },
  {
   "cell_type": "markdown",
   "id": "d152746a",
   "metadata": {},
   "source": [
    "## Шаг 1. Откроем файл с данными и изучим общую инфоормацию."
   ]
  },
  {
   "cell_type": "code",
   "execution_count": null,
   "id": "79862995",
   "metadata": {},
   "outputs": [],
   "source": [
    "import pandas as pd\n",
    "import numpy as np\n",
    "from sklearn.model_selection import train_test_split\n",
    "from sklearn.tree import DecisionTreeClassifier\n",
    "from sklearn.ensemble import RandomForestClassifier\n",
    "from sklearn.linear_model import LogisticRegression\n",
    "from sklearn.metrics import accuracy_score\n",
    "from sklearn.metrics import recall_score\n",
    "from sklearn.model_selection import train_test_split"
   ]
  },
  {
   "cell_type": "code",
   "execution_count": null,
   "id": "999f170e",
   "metadata": {},
   "outputs": [],
   "source": [
    "users = pd.read_csv('users_behavior.csv')\n",
    "users.info()"
   ]
  },
  {
   "cell_type": "markdown",
   "id": "cbc56f71",
   "metadata": {},
   "source": [
    "### Описание данных\n",
    "Каждый объект в наборе данных — это информация о поведении одного пользователя за месяц. Известно:\n",
    "* сalls — количество звонков,\n",
    "* minutes — суммарная длительность звонков в минутах,\n",
    "* messages — количество sms-сообщений,\n",
    "* mb_used — израсходованный интернет-трафик в Мб,\n",
    "* is_ultra — каким тарифом пользовался в течение месяца («Ультра» — 1, «Смарт» — 0).\n"
   ]
  },
  {
   "cell_type": "markdown",
   "id": "eff9c8bf",
   "metadata": {},
   "source": [
    "### Вывод:\n",
    "В таблице пять колонок и информация о поведении 3214 пользователях за месяц. Хороший набор данных без пропусков и некорректных значений."
   ]
  },
  {
   "cell_type": "markdown",
   "id": "102cffb3",
   "metadata": {},
   "source": [
    "## Шаг 2. Разделим исходные данные на обучающую, валидационную и тестовую выборки."
   ]
  },
  {
   "cell_type": "markdown",
   "id": "c7386570",
   "metadata": {},
   "source": [
    "Нам необходимо выделить среди наших данных три выборки - обучающую, валидационную и тестовую.\n",
    "\n",
    "Мы возьмем их в соотношениях 3 : 1 : 1.\n",
    "\n",
    "Для этого воспользуемся функцией train_test_split 2 раза, кроме этого, сделаем стратификацию, чтобы доли обоих значений целевого признака во всех выборках были равны."
   ]
  },
  {
   "cell_type": "code",
   "execution_count": null,
   "id": "ec466154",
   "metadata": {},
   "outputs": [],
   "source": [
    "target = users['is_ultra']\n",
    "features = users.drop('is_ultra', axis=1)\n",
    "\n",
    "features_train, features_valid_test, target_train, target_valid_test = train_test_split(features, \n",
    "                                        target, test_size=0.4, random_state=1, stratify = target)\n",
    "\n",
    "features_valid, features_test, target_valid, target_test = train_test_split(features_valid_test, \n",
    "                        target_valid_test, test_size=0.5, random_state=1, stratify=target_valid_test)"
   ]
  },
  {
   "cell_type": "markdown",
   "id": "761e298a",
   "metadata": {},
   "source": [
    "Проверим, представительство классов в выборках."
   ]
  },
  {
   "cell_type": "code",
   "execution_count": null,
   "id": "ee7d7bf3",
   "metadata": {},
   "outputs": [],
   "source": [
    "for i in [target_train, target_valid, target_test]:\n",
    "    display(i.value_counts(), i.value_counts(normalize=True))"
   ]
  },
  {
   "cell_type": "markdown",
   "id": "55a05fec",
   "metadata": {},
   "source": [
    "Заметно, что стратификация прошла успешно и доли классов во всех трех выборках одинаковы.\n",
    "\n",
    "Итак, выборки сформированы в соотношении 3 : 1 : 1, признакам присвоены имена. Можно приступать к исследованию моделей."
   ]
  },
  {
   "cell_type": "markdown",
   "id": "15b52751",
   "metadata": {},
   "source": [
    "## Шаг 3. Исследование моделей."
   ]
  },
  {
   "cell_type": "markdown",
   "id": "bc83e6a0",
   "metadata": {},
   "source": [
    "Прежде чем переходить к изучению моделей, создадим функцию для проверки точности модели на гиперпараметрах по умолчанию."
   ]
  },
  {
   "cell_type": "code",
   "execution_count": null,
   "id": "2d5ba25e",
   "metadata": {},
   "outputs": [],
   "source": [
    "def default_check(model_type, f_train, t_train, f_valid, t_valid):\n",
    "    model = model_type(random_state=1)\n",
    "    model.fit(f_train, t_train)\n",
    "    model_predictions = model.predict(f_valid)\n",
    "    return accuracy_score(t_valid, model_predictions)"
   ]
  },
  {
   "cell_type": "markdown",
   "id": "c6f50068",
   "metadata": {},
   "source": [
    "### Дерево решений\n",
    "Первой рассмотренной моделью будет алгоритм дерева решений.\n",
    "\n",
    "Вызовем для него проверку по умолчанию."
   ]
  },
  {
   "cell_type": "code",
   "execution_count": null,
   "id": "9cde7543",
   "metadata": {},
   "outputs": [],
   "source": [
    "default_check(DecisionTreeClassifier, features_train, target_train, features_valid, target_valid)\n"
   ]
  },
  {
   "cell_type": "markdown",
   "id": "08b15e84",
   "metadata": {},
   "source": [
    "Получается, что на валидационной выборке наша модель показала точность чуть выше 70%, что ниже требуемого заданием порога в 75%.\n",
    "\n",
    "Посмотрим, приведет ли изменение гиперпараметров к повышению точности.\n",
    "\n",
    "Перебирать различные значения гиперпараметров будем во вложенных циклах.\n",
    "\n",
    "Для модели дерева решения попробуем менять следующие параметры (здесь и далее описание гиперпараметров приведено как попытка перевода с английского из документаций соответствующих алгоритмов):\n",
    "\n",
    "* максимальная глубина дерева;\n",
    "* минимальное количество объектов в листе - он будет запрещать создавать лист, в котором слишком мало объектов обучающей выборки, по умолчанию = 1;\n",
    "* минимальное количество примеров для разделения - будет запрещать создавать узлы, в которые попадает слишком мало объектов обучающей выборки, по умолчанию = 2.\n",
    "Перед выполнением цикла создадим новые переменные, которые будет сохранять информацию о гиперпараметрах лучшей по точности модели.\n",
    "\n",
    "После обучения модели будем проверять ее на валидационной выборке."
   ]
  },
  {
   "cell_type": "code",
   "execution_count": null,
   "id": "9f79f2c7",
   "metadata": {},
   "outputs": [],
   "source": [
    "best_tree_model = None\n",
    "best_tree_result = 0\n",
    "best_depth = 0\n",
    "best_samples_leaf = 0\n",
    "best_samples_split = 0\n",
    "\n",
    "for depth in range(1,10):\n",
    "    for leaf in range(1,20):\n",
    "        for split in range(2,10):\n",
    "            tree_model = DecisionTreeClassifier(random_state=1, max_depth=depth, \n",
    "                                min_samples_leaf=leaf, min_samples_split=split)\n",
    "            \n",
    "            tree_model.fit(features_train, target_train)\n",
    "            tree_predictions = tree_model.predict(features_valid)\n",
    "            result = accuracy_score(target_valid, tree_predictions)\n",
    "            \n",
    "            if result > best_tree_result:\n",
    "                \n",
    "                best_tree_model = tree_model\n",
    "                best_tree_result = result\n",
    "                best_depth = depth\n",
    "                best_samples_leaf = leaf\n",
    "                best_samples_split = split"
   ]
  },
  {
   "cell_type": "markdown",
   "id": "0798ab98",
   "metadata": {},
   "source": [
    "Выведем точность и значения гиперпараметров алгоритма лучшей модели."
   ]
  },
  {
   "cell_type": "code",
   "execution_count": null,
   "id": "e7aeedc6",
   "metadata": {},
   "outputs": [],
   "source": [
    "print(f'Точность наилучшей модели дерева решений: {best_tree_result:.2%}')\n",
    "print(f'Максимальная глубина: {best_depth}')\n",
    "print(f'Минимальное количество объектов в листе: {best_samples_leaf}')\n",
    "print(f'Минимальное количество примеров для разделения: {best_samples_split}')"
   ]
  },
  {
   "cell_type": "markdown",
   "id": "300e6fd0",
   "metadata": {},
   "source": [
    "Получается, что точность модели выросла более чем на 10%, по сравнению с настройками по умолчанию.\n",
    "\n",
    "Мы видим, что наше лучшее дерево достигло глубины в 7 уровней. Значение по умолчанию для этого гиперпараметра отсутствует - узлы расширяются до тех пор, пока все листья - чистые или содержат меньше, чем минимальное количество примеров для разделения.\n",
    "\n",
    "Кроме того, в лучшей модели минимальное количество объектов выборки, попадающих в лист - 6.\n",
    "\n",
    "Минимальное количество примеров для разделения осталось значением \"по умолчанию\"."
   ]
  },
  {
   "cell_type": "markdown",
   "id": "cc0fbdae",
   "metadata": {},
   "source": [
    "### Случайный лес\n",
    "Далее рассмотрим модель случайного леса.\n",
    "\n",
    "Проверим ее на гиперпараметрах по умолчанию."
   ]
  },
  {
   "cell_type": "code",
   "execution_count": null,
   "id": "6efb915c",
   "metadata": {},
   "outputs": [],
   "source": [
    "default_check(RandomForestClassifier, features_train, target_train, features_valid, target_valid)"
   ]
  },
  {
   "cell_type": "markdown",
   "id": "f5da82ac",
   "metadata": {},
   "source": [
    "Модель сразу же выдала точность выше 78%.\n",
    "\n",
    "Посомтрим, можно ли ее повысить, изменяя гиперпараметры.\n",
    "\n",
    "В качестве изменяемых гиперпараметров возьмем следующие:\n",
    "\n",
    "* n_estimators - количество деревьев в лесу;\n",
    "* максимальная глубина дерева;\n",
    "* максимальное количество листьев - то есть конечных ячеек.\n",
    "* Выполним цикл для случайного леса."
   ]
  },
  {
   "cell_type": "code",
   "execution_count": null,
   "id": "8127c7b5",
   "metadata": {},
   "outputs": [],
   "source": [
    "best_forest_model = None\n",
    "best_forest_result = 0\n",
    "best_depth_for_forest = 0\n",
    "best_estimators = 0\n",
    "best_max_leaf_nodes = 0\n",
    "\n",
    "for est in range(1,10):\n",
    "    for depth in range(1,10):\n",
    "        for node in range(2,10):\n",
    "            forest_model = RandomForestClassifier(random_state=1, max_depth=depth, \n",
    "                                n_estimators=est,max_leaf_nodes=node)\n",
    "            \n",
    "            forest_model.fit(features_train, target_train)\n",
    "            forest_predictions = forest_model.predict(features_valid)\n",
    "            result = accuracy_score(target_valid, forest_predictions)\n",
    "            \n",
    "            if result > best_forest_result:\n",
    "                \n",
    "                best_forest_model = forest_model\n",
    "                best_forest_result = result\n",
    "                best_depth_for_forest = depth\n",
    "                best_estimators = est\n",
    "                best_max_leaf_nodes = node"
   ]
  },
  {
   "cell_type": "markdown",
   "id": "96a9b67a",
   "metadata": {},
   "source": [
    "Выведем значения точности и гиперпараметров."
   ]
  },
  {
   "cell_type": "code",
   "execution_count": null,
   "id": "35c6df82",
   "metadata": {},
   "outputs": [],
   "source": [
    "print(f'Точность наилучшей модели случайного леса: {best_forest_result:.2%}')\n",
    "print(f'Максимальная глубина: {best_depth_for_forest}')\n",
    "print(f'Количество деревьев: {best_estimators}')\n",
    "print(f'Максимальное количество листьев: {best_max_leaf_nodes}')"
   ]
  },
  {
   "cell_type": "markdown",
   "id": "196edd1c",
   "metadata": {},
   "source": [
    "Итак, лучшая модель случайного леса насчитывает в себе 4 дерева.\n",
    "\n",
    "Нам незначительно удалось повысить показатель точности, изменняя гиперпараметры.\n",
    "\n",
    "То есть, алгоритм обучил 4 независимых друг от друга случайных деревьев, а потом принял решение на основе голосования.\n",
    "\n",
    "Максимальная глубина - 3, у этой модели уровней у дерева меньше, чем у предыдущей.\n",
    "\n",
    "Кроме того, получилось, что у лучшей модели число конечных ячеек (листьев) ограничено семью. (В этих ячейках назначаются классы)."
   ]
  },
  {
   "cell_type": "markdown",
   "id": "8d10b4f4",
   "metadata": {},
   "source": [
    "### Логистическая регрессия\n",
    "Далее рассмотрим алгоритм логистической регрессии.\n",
    "\n",
    "Выполним для него проверку по умолчанию."
   ]
  },
  {
   "cell_type": "code",
   "execution_count": null,
   "id": "76815604",
   "metadata": {},
   "outputs": [],
   "source": [
    "default_check(LogisticRegression, features_train, target_train, features_valid, target_valid)"
   ]
  },
  {
   "cell_type": "markdown",
   "id": "120304d2",
   "metadata": {},
   "source": [
    "Точность модели на валидационной выборке - около 75%.\n",
    "\n",
    "Посмотрим, удастся ли его повысить меняя гиперпараметры.\n",
    "\n",
    "Попробуем менять следующие:\n",
    "\n",
    "включение константы (пересечения с осью y) в функцию (по умолчанию=True);\n",
    "выбор алгоритма для решения задачи оптимизации (по умолчанию lbfgs - метод с ограничением использования памяти алгоритма Бройдена — Флетчера — Гольдфарба — Шанно )\n",
    "попробуем разное количество итераций для алгоритма оптимизации - при малых значений модель предупреждала об ошибке."
   ]
  },
  {
   "cell_type": "code",
   "execution_count": null,
   "id": "6efacd37",
   "metadata": {},
   "outputs": [],
   "source": [
    "best_LR_model = None\n",
    "best_LR_result = 0\n",
    "best_intercept = 0\n",
    "best_solver = None\n",
    "best_iter = 0\n",
    "best_class = None\n",
    "\n",
    "for intercept in [True, False]:\n",
    "    for solver in ['lbfgs', 'liblinear', 'sag', 'saga']:\n",
    "        for iterations in range(4000, 7000, 1500):\n",
    "             \n",
    "                    LR_model = LogisticRegression(random_state=1, fit_intercept=intercept,\n",
    "                                             solver=solver, max_iter=iterations)\n",
    "            \n",
    "                    LR_model.fit(features_train, target_train)\n",
    "                    LR_predictions = LR_model.predict(features_valid)\n",
    "                    result = accuracy_score(target_valid, LR_predictions)\n",
    "            \n",
    "                    if result > best_LR_result:\n",
    "                        best_LR_model = LR_model\n",
    "                        best_LR_result = result\n",
    "                        best_intercept = intercept\n",
    "                        best_solver = solver\n",
    "                        best_iter = iterations"
   ]
  },
  {
   "cell_type": "code",
   "execution_count": null,
   "id": "059d71f8",
   "metadata": {},
   "outputs": [],
   "source": [
    "print(f'Точность наилучшей логистической регрессии: {best_LR_result:.2%}')\n",
    "print(f'Включаем ли константу в функцию: {best_intercept}')\n",
    "print(f'Алгоритм для решения задачи оптимизации: {best_solver}')\n",
    "print(f'Максимальное количество итераций для алгоритма оптимизации: {best_iter}')"
   ]
  },
  {
   "cell_type": "markdown",
   "id": "98c72f31",
   "metadata": {},
   "source": [
    "Итак, получается, что точность модели после манипуляций на валидационной выборке незначительно выросла.\n",
    "\n",
    "Включение константы в функцию в лучшей модели осталось значением по умолчанию (включаем).\n",
    "\n",
    "Алгоритм оптимизации остался также по умолчанию.\n",
    "\n",
    "А количество итераций, потребовавшееся, чтобы модель работала без предупреждений - 4000.\n"
   ]
  },
  {
   "cell_type": "markdown",
   "id": "50199641",
   "metadata": {},
   "source": [
    "### Вывод\n",
    "Итак, мы рассмотрели три алгоритма обучения, для каждого из которых меняли гиперпараметры (в количестве трех штук).\n",
    "\n",
    "В целом, можно сказать, что изменение гиперпараметров положительно сказалось на повышении точности моделей на валидационной выборке, по сравнению с точностью при использовании алгоритмами гиперпараметров по умолчанию.\n",
    "\n",
    "Для дерева решений рост точности был заметным. Для случайного леса - более слабым. Для логистической регрессии - почти незаметным.\n",
    "\n",
    "В целом можно сказать, что затратив время на подбор лучших гиперпараметров, нам удалось добиться роста точности моделей на валидационной выборке."
   ]
  },
  {
   "cell_type": "markdown",
   "id": "b28b1147",
   "metadata": {},
   "source": [
    "## Шаг 4. Проверим качество модели на тестовой выборке."
   ]
  },
  {
   "cell_type": "markdown",
   "id": "994c3ddb",
   "metadata": {},
   "source": [
    "Напишем функцию проверки точности, которая принимает модели и тестовую выборку."
   ]
  },
  {
   "cell_type": "code",
   "execution_count": null,
   "id": "65159f04",
   "metadata": {},
   "outputs": [],
   "source": [
    "def test_accuracy(model, features, target):\n",
    "    predictions = model.predict(features)\n",
    "    return accuracy_score(target, predictions)"
   ]
  },
  {
   "cell_type": "code",
   "execution_count": null,
   "id": "3ddb9645",
   "metadata": {},
   "outputs": [],
   "source": [
    "models = {'Дерево решений': best_tree_model, 'Случайный лес' : best_forest_model, \n",
    "          'Логистическая регрессия': best_LR_model}\n",
    "for name, model in models.items():\n",
    "    print(f'Точность модели {name} на тестовой выборке: {test_accuracy(model, features_test, target_test):.2%}')"
   ]
  },
  {
   "cell_type": "markdown",
   "id": "01aa2e48",
   "metadata": {},
   "source": [
    "Далее воспользуемся метрикой recall_score, чтобы узнать, какую долю каждого класса наши модели предсказали правильно."
   ]
  },
  {
   "cell_type": "code",
   "execution_count": null,
   "id": "a30c7c16",
   "metadata": {},
   "outputs": [],
   "source": [
    "from sklearn.metrics import recall_score\n",
    "for name, model in models.items():\n",
    "    print(f'recall_score {name} на тестовой выборке: {recall_score(target_test, model.predict(features_test), average=None)}')"
   ]
  },
  {
   "cell_type": "markdown",
   "id": "716863f3",
   "metadata": {},
   "source": [
    "### Вывод\n",
    "Итак, мы решали задачу классификации абонентов, исходя из того, сколько звонков делают, сколько минут они говорят, сколько сообщений отправляют и сколько мегабайтов интернета в месяц они тратят, зная пользуются ли они тарифом ultra, либо тарифом smart.\n",
    "\n",
    "Все данные мы разбили на три выборки - обучающую, валидационную и тестовую в отношении 3 : 1 : 1.\n",
    "\n",
    "Модели мы обучали тремя алгоритмами обучения - деревом решений, случайным лесом и логистической регрессией.\n",
    "\n",
    "Все модели после перебора индивидуальных гиперпараметров показали повышение точности на валидационной выборке по сравнению с гиперпараметрами по умолчанию.\n",
    "\n",
    "На тестовой выборке Дерево решений и случайный лес показали точность около 80% соответственно. В то время как логистическая регрессия чуть перешагнула за границу в 75%.\n",
    "\n",
    "Также интересны были результаты работы recall_score. Оказалось, что случайный лес хуже всех прогнозирует абонентов тарифа \"Смарт\" (93%), но лучше всех - абонентов 'ultra' (почти 50%). Дерево решений имеет похожие результаты, но немного лучше по \"смарт\" и существенно хуже по \"ультра\".\n",
    "\n",
    "Логистическая регрессия отлично предсказывает абонентов \"смарт\" и только четверть абонентов \"ультра\"."
   ]
  },
  {
   "cell_type": "markdown",
   "id": "4b0deed9",
   "metadata": {},
   "source": [
    "## Шаг 5. Провериим модели на вменяемость.\n",
    "(дополнительное задание)\n",
    "\n",
    "Итак, sanity-check или \"проверка на вменяемость\" подразумевает относительно простой тест для определения, может ли быть модель адекватно применяемой.\n",
    "\n",
    "Для того, чтобы попытаться провести такую проверку для наших моделей обратимся к значениям целевого признака по датасету."
   ]
  },
  {
   "cell_type": "code",
   "execution_count": null,
   "id": "37a7db98",
   "metadata": {},
   "outputs": [],
   "source": [
    "users['is_ultra'].mean()"
   ]
  },
  {
   "cell_type": "markdown",
   "id": "c0d6083b",
   "metadata": {},
   "source": [
    "Значит, в нашем наборе данных около 69.5% абонентов пользуются тарифом \"смарт\".\n",
    "\n",
    "Следовательно, если мы предположим, что наши модели будут всегда предсказывать тариф \"смарт\", то точность моделей была бы на уровне 69.5%. Но у каждой из трех моделей после подбора лучших гиперпараметров она превышает это значение."
   ]
  },
  {
   "cell_type": "code",
   "execution_count": null,
   "id": "c15d4418",
   "metadata": {},
   "outputs": [],
   "source": [
    "from sklearn.dummy import DummyClassifier\n",
    "\n",
    "dummy_clf = DummyClassifier(strategy=\"most_frequent\")\n",
    "dummy_clf.fit(features_train, target_train)\n",
    "dummy_clf.score(dummy_clf.predict(features_valid), target_valid)"
   ]
  },
  {
   "cell_type": "markdown",
   "id": "5a87be4e",
   "metadata": {},
   "source": [
    "### Вывод:\n",
    "Таким обазом, на мой взгляд, модели прошли проверку на вменяемость."
   ]
  },
  {
   "cell_type": "markdown",
   "id": "ca4b3c65",
   "metadata": {},
   "source": [
    "## Выводы:\n",
    "\n",
    "В рамках исследования с целью построения модели для задачи бинарной классификации клиентов оператора «Мегалайн» по тарифным планам «Смарт» и «Ультра» выполнены следующие основные этапы:\n",
    "\n",
    "* проведена предварительная оценка и предобработка данных\n",
    "* выполнено разбиение (с сохранением пропорции в целевом атрибуте is_ultra) исходных данных случайным образом на обучающую, валидационную и тестовую выборки\n",
    "* выполнен расчет дополнительных атрибутов для последующего построения и сравнения моделей\n",
    "* определен целевой признак и сформирован словарь обучающих признаков для построения моделей\n",
    "* для каждого набора обучающих признаков проведена оценка гиперпараметров моделей дерева решений и случайного леса и определены модели с наиболее высоким значением метрики accuracy, вычисленным на валидационной выборке\n",
    "* для каждого набора обучающих признаков построена модель логистической регрессии и также определено наиболее высокое значение метрики accuracy\n",
    "* сформированный перечень моделей с наиболее высокими значениями метрики accuracy подготовлен для последующей проверки на тестовой выборке.\n",
    "\n",
    "По результатам проверки на тестовой выборке получены следующие результаты:\n",
    "\n",
    "* всем отобранным моделям удалось достичь требуемого значения метрики accuracy равного 0.75\n",
    "* наивысшее значение accuracy равное 0.80 у модели случайного леса с числом деревьев 4 и максимальной глубиной 3 и модель дерева решений с глубиной 7 и количеством объектов в листе 6.\n",
    "На тестовой выборке Дерево решений и случайный лес показали точность около 80% соответственно. В то время как логистическая регрессия чуть перешагнула за границу в 75%.\n",
    "\n",
    "Также проведена проверка модели на адекватность, т.е. сравнение полученного значения метрики accuracy с простыми способами определения тарифа:\n",
    "\n",
    "* с вероятностью случайного угадывания тарифа пользователя - определена равной 0.69 на основе определения доли абонентов тарифа «Смарт» в исходном репрезентативной выборке;\n",
    "* Полученное в результате исследования значение метрики accuracy (0.80) выше указанных вероятностей, соответственно, модель улучшает случайные метрики, т.е. адекватна."
   ]
  },
  {
   "cell_type": "code",
   "execution_count": null,
   "id": "6d3e2424",
   "metadata": {},
   "outputs": [],
   "source": []
  }
 ],
 "metadata": {
  "kernelspec": {
   "display_name": "Python 3 (ipykernel)",
   "language": "python",
   "name": "python3"
  },
  "language_info": {
   "codemirror_mode": {
    "name": "ipython",
    "version": 3
   },
   "file_extension": ".py",
   "mimetype": "text/x-python",
   "name": "python",
   "nbconvert_exporter": "python",
   "pygments_lexer": "ipython3",
   "version": "3.9.7"
  },
  "toc": {
   "base_numbering": 1,
   "nav_menu": {},
   "number_sections": true,
   "sideBar": true,
   "skip_h1_title": true,
   "title_cell": "Table of Contents",
   "title_sidebar": "Contents",
   "toc_cell": false,
   "toc_position": {},
   "toc_section_display": true,
   "toc_window_display": false
  }
 },
 "nbformat": 4,
 "nbformat_minor": 5
}
