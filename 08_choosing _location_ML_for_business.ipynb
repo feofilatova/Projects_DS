{
 "cells": [
  {
   "cell_type": "markdown",
   "id": "a8564fe1",
   "metadata": {},
   "source": [
    "# Машинное обучение в бизнесе. Проектная работа. Выбор оптимального региона для бурения новых скважин."
   ]
  },
  {
   "cell_type": "markdown",
   "id": "9bd2c437",
   "metadata": {},
   "source": [
    "## Описание проекта.\n",
    "\n",
    "Добывающей компании «ГлавРосГосНефть» нужно решить, где бурить новую скважину.\n",
    "\n",
    "Шаги для выбора локации :\n",
    "* В избранном регионе собирают характеристики для скважин: качество нефти и объём её запасов;\n",
    "* Строят модель для предсказания объёма запасов в новых скважинах;\n",
    "* Выбирают скважины с самыми высокими оценками значений;\n",
    "* Определяют регион с максимальной суммарной прибылью отобранных скважин.\n",
    "\n",
    "Мы располагаем пробами нефти в трёх регионах. Характеристики для каждой скважины в регионе уже известны. Необходимо построит модель для определения региона, где добыча принесёт наибольшую прибыль, проанализировать возможную прибыль и риски техникой Bootstrap.\n",
    "\n",
    "Условия задачи:\n",
    "* Для обучения модели подходит только линейная регрессия (остальные — недостаточно предсказуемые).\n",
    "* При разведке региона исследуют 500 точек, из которых с помощью машинного обучения выбирают 200 лучших для разработки.\n",
    "* Бюджет на разработку скважин в регионе — 10 млрд рублей.\n",
    "* При нынешних ценах один баррель сырья приносит 450 рублей дохода. Доход с каждой единицы продукта составляет 450 тыс. рублей, поскольку объём указан в тысячах баррелей.\n",
    "* После оценки рисков нужно оставить лишь те регионы, в которых вероятность убытков меньше 2.5%. Среди них выбирают регион с наибольшей средней прибылью.\n",
    "\n",
    "Данные синтетические: детали контрактов и характеристики месторождений не разглашаются."
   ]
  },
  {
   "cell_type": "markdown",
   "id": "1568310e",
   "metadata": {},
   "source": [
    "## Шаг 1. Загрузка и подготовька данных. "
   ]
  },
  {
   "cell_type": "code",
   "execution_count": null,
   "id": "e1cc432c",
   "metadata": {},
   "outputs": [],
   "source": [
    "import pandas as pd\n",
    "import numpy as np\n",
    "import seaborn as sns\n",
    "import matplotlib.pyplot as plt\n",
    "from sklearn.linear_model import LinearRegression\n",
    "from sklearn.model_selection import train_test_split\n",
    "from sklearn.metrics import mean_squared_error\n",
    "from scipy import stats as st\n",
    "import warnings\n",
    "warnings.filterwarnings('ignore')\n",
    "%config InlineBackend.figure_format = 'retina'"
   ]
  },
  {
   "cell_type": "markdown",
   "id": "f2a2a3ae",
   "metadata": {},
   "source": [
    "Откроем файлы с данными."
   ]
  },
  {
   "cell_type": "code",
   "execution_count": null,
   "id": "6a23fbde",
   "metadata": {},
   "outputs": [],
   "source": [
    "try:\n",
    "    region_1 = pd.read_csv('geo_data_0.csv')\n",
    "    region_2 = pd.read_csv('geo_data_1.csv')\n",
    "    region_3 = pd.read_csv('geo_data_2.csv')\n",
    "except:\n",
    "    region_1 = pd.read_csv('datasets/geo_data_0.csv')\n",
    "    region_2 = pd.read_csv('datasets/geo_data_1.csv')\n",
    "    region_3 = pd.read_csv('datasets/geo_data_2.csv')"
   ]
  },
  {
   "cell_type": "markdown",
   "id": "6ea083fd",
   "metadata": {},
   "source": [
    "Так как структура датасетов одинакова, создадим функцию для описания данных, где просмотрим первые строки, получим информацию о структуре, описательную статистику и сведения о дубликатах."
   ]
  },
  {
   "cell_type": "code",
   "execution_count": null,
   "id": "89eeda19",
   "metadata": {},
   "outputs": [],
   "source": [
    "def data_description(data):\n",
    "    display(data.head())\n",
    "    \n",
    "    display(data.info())\n",
    "    \n",
    "    display(data.describe(include='all').T)\n",
    "    \n",
    "    display('Дубликаты', data[data.duplicated()])\n",
    "    print('-'*100)"
   ]
  },
  {
   "cell_type": "markdown",
   "id": "8563da34",
   "metadata": {},
   "source": [
    "Опишем данные, переберем датафреймы в цикле."
   ]
  },
  {
   "cell_type": "code",
   "execution_count": null,
   "id": "f2710cb9",
   "metadata": {},
   "outputs": [],
   "source": [
    "for df in [region_1, region_2, region_3]:\n",
    "    data_description(df)"
   ]
  },
  {
   "cell_type": "markdown",
   "id": "1c93e94b",
   "metadata": {},
   "source": [
    "Описание данных:\n",
    "* id — уникальный идентификатор скважины;\n",
    "* f0, f1, f2 — три признака точек (неважно, что они означают, но сами признаки значимы);\n",
    "* product — объём запасов в скважине (тыс. баррелей).\n",
    "\n",
    "Пропусков и явных дубликатов в данных нет.\n",
    "\n",
    "Но встречаются одинаковые значения id, но под ними скрываются скважины с разными характеристиками.\n",
    "\n",
    "Возможно, это следствие синтетической природы данных, случайное совпадение, что id одинаковые.\n",
    "\n",
    "Также, сравнив описательную статистику, видим, что первый и третий датасет похожи - средний запас в скважине и стандартное отклонение находятся приблизительно на одном уровне.\n",
    "\n",
    "Создадим функцию для визуализации распределения признаков и целевого признака по всем трем датасетам, чтобы посмотреть, как они отличаются между собой, сведем все графики в один рисунок.\n"
   ]
  },
  {
   "cell_type": "code",
   "execution_count": null,
   "id": "5726878b",
   "metadata": {},
   "outputs": [],
   "source": [
    "def histograms_all(df_0,df_1,df_2):\n",
    "    \n",
    "    fig, axes = plt.subplots(3,4,figsize=(16,10))   \n",
    "    \n",
    "    columns_to_plot = df_0.columns[1:5]\n",
    "    \n",
    "    for i in range(len(columns_to_plot)):\n",
    "        sns.distplot(df_0[columns_to_plot[i]], ax=axes[0, i], color='r')  \n",
    "        \n",
    "    for i in range(len(columns_to_plot)):\n",
    "        sns.distplot(df_1[columns_to_plot[i]], ax=axes[1, i], color='g')\n",
    "        \n",
    "    for i in range(len(columns_to_plot)):\n",
    "        sns.distplot(df_2[columns_to_plot[i]], ax=axes[2, i], color='b')\n",
    "        \n",
    "sns.set_style('whitegrid')\n",
    "histograms_all(region_1, region_2, region_3)"
   ]
  },
  {
   "cell_type": "markdown",
   "id": "8b0280c6",
   "metadata": {},
   "source": [
    "Что же мы видим? Распределение запасов в скважине первого и третьего региона и правда достаточно похожи, при том, что у первого региона только признак f2 распределен нормально, а у третьего - все три.\n",
    "\n",
    "Еще интереснее выглядит второй датасет. Видно, что признак f2 и целевой признак принимают только отдельные значения. Вероятно, они обладают очень сильной корреляцией. Трудно сказать, насколько такое явление может иметь место при разработке реальных скважин, но поскольку данные синтетические, то примем это как данность.\n",
    "\n",
    "Для того, чтобы оценить корреляцию признаков и запасов в скважине - измерим ее и построим тепловые карты. Для этого создадим функцию.\n"
   ]
  },
  {
   "cell_type": "code",
   "execution_count": null,
   "id": "23cb43dd",
   "metadata": {},
   "outputs": [],
   "source": [
    "def heat_map(df,df_name):\n",
    "    df = df.drop('id', axis=1)\n",
    "    corr = df.corr(method='pearson')\n",
    "    mask = np.zeros_like(corr, dtype=np.bool)\n",
    "    mask[np.triu_indices_from(mask)] = True\n",
    "    f, ax = plt.subplots(figsize=(9, 6))\n",
    "    sns.heatmap(corr, mask=mask, annot=True, fmt='.2f', linewidths=0.5)\n",
    "    plt.title(df_name)"
   ]
  },
  {
   "cell_type": "code",
   "execution_count": null,
   "id": "cd2d7643",
   "metadata": {},
   "outputs": [],
   "source": [
    "for k,df in {'region_1': region_1, 'region_2': region_2, 'region_3': region_1}.items():\n",
    "    heat_map(df, k)"
   ]
  },
  {
   "cell_type": "markdown",
   "id": "fcbd239b",
   "metadata": {},
   "source": [
    "Получаем, что признаки f0 и f1 не имеют связи с целевым признаком по всем датасетам.\n",
    "\n",
    "Есть связь запасов только с признаком f2, для первого и третьего набора данных коэффициент корреляции около 0.5, для второго, как и предполагалось выше - единица.\n",
    "\n",
    "По всей видимости, такая связь f2 и запасов позволит нам построить очень точную модель линейной регрессии для второго региона."
   ]
  },
  {
   "cell_type": "markdown",
   "id": "4509040f",
   "metadata": {},
   "source": [
    "### Вывод: \n",
    "Набор данных корректный во всех трех файлах, есть одинаковые значения id, но скважины явно разные, оставим, как есть.\n",
    "На графиках выявили похожесть распределения запасов в скважинах первого и третьего региона. А также корреляцию признаков и запасов во втором регионе, что подтвердилось тепловыми картами."
   ]
  },
  {
   "cell_type": "markdown",
   "id": "f0419602",
   "metadata": {},
   "source": [
    "## Шаг 2. Обучение и проверка модели для каждого региона."
   ]
  },
  {
   "cell_type": "markdown",
   "id": "920e7552",
   "metadata": {},
   "source": [
    "Создадим функцию, в которой будем вызывать train_test_split для разбивки данных на обучающую и валидационную выборки в соотношении 75:25\n"
   ]
  },
  {
   "cell_type": "code",
   "execution_count": null,
   "id": "20e90ab1",
   "metadata": {},
   "outputs": [],
   "source": [
    "def split_for_train_valid(df):\n",
    "    target = df['product']\n",
    "    features = df.drop(['id','product'], axis=1)\n",
    "    features_train, features_valid, target_train, target_valid = train_test_split(features, target,\n",
    "                                                test_size=0.25, random_state=1)\n",
    "    return features_train, features_valid, target_train, target_valid"
   ]
  },
  {
   "cell_type": "markdown",
   "id": "d29a4d5a",
   "metadata": {},
   "source": [
    "После того, как мы обучим модели и сделаем предсказания на валидационной выборке, нам потребуется сохранить предсказания и ответы на валидационной выборке, а также вывести на экран средний предсказанный объем запасов и корень из средней квадратичной ошибки.\n",
    "\n",
    "Для этих целей также напишем функцию, внутри которой будет проходить обучение модели, предсказание и расчет необходимых метрик.\n",
    "\n",
    "Дополнительно рассчитаем R2."
   ]
  },
  {
   "cell_type": "code",
   "execution_count": null,
   "id": "44e72b9d",
   "metadata": {},
   "outputs": [],
   "source": [
    "def predicted_mean_and_rmse(arrays):\n",
    "    model = LinearRegression()\n",
    "    model = model.fit(arrays[0], arrays[2]) # индексы соответствуют порядку в split_for_train_valid\n",
    "    predictions_valid = model.predict(arrays[1])\n",
    "    \n",
    "    rmse = mean_squared_error(arrays[3], predictions_valid) ** 0.5\n",
    "    mean_prediction = predictions_valid.mean()\n",
    "    R2 = model.score(arrays[1], arrays[3])\n",
    "    \n",
    "    return predictions_valid, arrays[3], mean_prediction, rmse, R2, model"
   ]
  },
  {
   "cell_type": "markdown",
   "id": "adb27ed4",
   "metadata": {},
   "source": [
    "Далее создаём нужные нам переменные для каждого региона, в которые присваиваем результат вызова predicted_mean_and_rmse.\n",
    "\n",
    "В predicted_mean_and_rmse, в виде аргумента будет передаваться функция split_for_train_valid, в которую, в свою очередь, в виде аргумента будет передаваться нужный нам датафрейм."
   ]
  },
  {
   "cell_type": "code",
   "execution_count": null,
   "id": "6a494555",
   "metadata": {},
   "outputs": [],
   "source": [
    "predictions_valid_1, target_valid_1, mean_product_1, rmse_1, R2_1, model_1 = \\\n",
    "                                            predicted_mean_and_rmse(split_for_train_valid(region_1))\n",
    "\n",
    "predictions_valid_2, target_valid_2, mean_product_2, rmse_2, R2_2, model_2 = \\\n",
    "                                            predicted_mean_and_rmse(split_for_train_valid(region_2))\n",
    "\n",
    "predictions_valid_3, target_valid_3, mean_product_3, rmse_3, R2_3, model_3 = \\\n",
    "                                            predicted_mean_and_rmse(split_for_train_valid(region_3))"
   ]
  },
  {
   "cell_type": "markdown",
   "id": "30c6a386",
   "metadata": {},
   "source": [
    "Выведем на экран интересующие нас результаты. Создадим словарь для удобства."
   ]
  },
  {
   "cell_type": "code",
   "execution_count": null,
   "id": "8e9a3c95",
   "metadata": {},
   "outputs": [],
   "source": [
    "regions = {'Первый регион' : [mean_product_1, rmse_1, R2_1],\n",
    "           'Второй регион' : [mean_product_2, rmse_2, R2_2],\n",
    "           'Третий регион' : [mean_product_3, rmse_3, R2_3]}"
   ]
  },
  {
   "cell_type": "code",
   "execution_count": null,
   "id": "f3ace69a",
   "metadata": {},
   "outputs": [],
   "source": [
    "for region, values in regions.items():\n",
    "    print(region)\n",
    "    print(f'Средний запас предсказанного сырья: {values[0]:.2f} тыс. баррелей')\n",
    "    print(f'RMSE: {values[1]:.2f} тыс. баррелей')\n",
    "    print(f'R2: {values[2]:.2f}')\n",
    "    print('')"
   ]
  },
  {
   "cell_type": "markdown",
   "id": "d19a8bc0",
   "metadata": {},
   "source": [
    "### Вывод: \n",
    "\n",
    "Средний предсказанный запас сырья в скважине в первом и третьем регионе находится примерно на одном уровне. В то время как во втором регионе он более чем на 20 тыс. баррелей ниже.\n",
    "\n",
    "У предсказаний по первому и третьему региону велик корень из средней квадратичной ошибки - почти 40 тыс. баррелей.\n",
    "\n",
    "Второй регион, данные по которому обладали признаком, имеющим очень сильную связь с запасами в скважине, показал незначительный RMSE.\n",
    "\n",
    "Как следствие, коэффициенты детерминации для моделей первого и третьего регионов говорят о том, что дисперсия запасов в скважине только на 28% и 20% соответственно объясняется признаками f0, f1, f2.\n",
    "\n",
    "Это означает, что модели для первого и третьего регионов обладают достаточно низким качеством, в то время как модель для второго региона предсказывает запасы почти идеально.\n",
    "\n"
   ]
  },
  {
   "cell_type": "markdown",
   "id": "17d040c8",
   "metadata": {},
   "source": [
    "## Шаг 3. Подготовка к расчёту прибыли."
   ]
  },
  {
   "cell_type": "markdown",
   "id": "50139927",
   "metadata": {},
   "source": [
    "Все рассчеты будем производить в рублях и баррелях, а не в тыс. рублей и тыс. баррелей, если не будет отмечено отдельно.\n",
    "\n",
    "Итак, бюджет для разработки скважин составляет 10 млрд руб.\n",
    "\n",
    "При нынешних ценах один баррель сырья приносит 450 рублей дохода. Доход с каждой единицы продукта составляет 450 тыс. рублей, поскольку объём указан в тысячах баррелей.\n",
    "\n",
    "Нам нужно отобрать 200 лучших скважин, отдельно запишем это значение в переменную."
   ]
  },
  {
   "cell_type": "code",
   "execution_count": null,
   "id": "5cff334f",
   "metadata": {},
   "outputs": [],
   "source": [
    "total_budget = 10000000000\n",
    "revenue_per_barrel = 450\n",
    "wells_for_drilling = 200"
   ]
  },
  {
   "cell_type": "markdown",
   "id": "70813c58",
   "metadata": {},
   "source": [
    "Посчитаем, сколько нужно потратить на бурение одной скважины.\n",
    "\n",
    "Делая рассчёт, мы предполагаем о том, что скважины все относительно стандартные и бюджет для бурения каждой - одинаков. В любом случае, условий задачи недостаточно, чтобы сделать другие выводы."
   ]
  },
  {
   "cell_type": "code",
   "execution_count": null,
   "id": "ea06a677",
   "metadata": {},
   "outputs": [],
   "source": [
    "investments_per_well = total_budget / wells_for_drilling\n",
    "print(f'{investments_per_well:.0f}')"
   ]
  },
  {
   "cell_type": "markdown",
   "id": "df9e643e",
   "metadata": {},
   "source": [
    "Посчитаем, сколько сырья должно быть в скважине, чтобы ее разработка была безубыточной.\n",
    "\n",
    "Разделим бюджет для скважины на выручку с барреля."
   ]
  },
  {
   "cell_type": "code",
   "execution_count": null,
   "id": "3f20d5a2",
   "metadata": {},
   "outputs": [],
   "source": [
    "breakeven_reserves_per_well = investments_per_well / revenue_per_barrel\n",
    "print(f'{breakeven_reserves_per_well:.0f}')"
   ]
  },
  {
   "cell_type": "markdown",
   "id": "e2fca73b",
   "metadata": {},
   "source": [
    "### Вывод: \n",
    "Получается, что 50 млн руб. - бюджет для разработки одной скважины.\n",
    "В каждом регионе только около 20% скважин, согласно предсказаниям моделей, превышают безубыточный уровень."
   ]
  },
  {
   "cell_type": "markdown",
   "id": "99fc544c",
   "metadata": {},
   "source": [
    "# Шаг 4. Расчёт прибыли и рисков."
   ]
  },
  {
   "cell_type": "markdown",
   "id": "58507828",
   "metadata": {},
   "source": [
    "Создадим функцию расчета прибыли.\n",
    "Функция для расчета прибыли должна выбирать скважины с наибольшей величиной предсказанных запасов, и на основе ответов посчитать выручку."
   ]
  },
  {
   "cell_type": "code",
   "execution_count": null,
   "id": "056e8723",
   "metadata": {},
   "outputs": [],
   "source": [
    "def profit(wells_target, wells_predicted, number_of_wells_to_pick):\n",
    "    \n",
    "    wells_predicted_sorted = pd.Series(wells_predicted).sort_values(ascending=False)\n",
    "    wells_picked = wells_target[wells_predicted_sorted.index][:number_of_wells_to_pick]\n",
    "    wells_picked_total_product = wells_picked.sum() * 1000\n",
    "    \n",
    "    profit = wells_picked_total_product * revenue_per_barrel - total_budget\n",
    "    return profit"
   ]
  },
  {
   "cell_type": "markdown",
   "id": "72ba5695",
   "metadata": {},
   "source": [
    "Создадим функцию и операции бутстреп, чтобы потом применять ее для регионов.\n",
    "\n",
    "Внутри нее рассчитаем 95% доверительный интервал и риск убытков.\n",
    "\n",
    "Риск убытков рассчитаем функцией модуля scipy.stats.percentileofscore, которая покажает, какой процент значений массива с прибылями лежит ниже нуля. Это для нас и будет выражение риска убытков.\n",
    "\n",
    "Также внутри функции перезагрузим индексы для ответов, поскольку они принадлежат интервалу от 0 до 100000 случайным образом, а индексы предсказаний идут по порядку от 0 до 24999."
   ]
  },
  {
   "cell_type": "code",
   "execution_count": null,
   "id": "7c2982a3",
   "metadata": {},
   "outputs": [],
   "source": [
    "def profit_bootstrap(target, predictions, number_of_wells_to_observe, number_of_wells_to_pick):\n",
    "    \n",
    "    state = np.random.RandomState(17)\n",
    "    profits = []\n",
    "    predictions = pd.Series(predictions)\n",
    "    \n",
    "    target_new_index = target.reset_index(drop=True)\n",
    "    \n",
    "    for i in range(1000):\n",
    "        target_subsample = target_new_index.sample(n=number_of_wells_to_observe, replace=True, \n",
    "                                               random_state=state)\n",
    "        predictions_subsample = predictions[target_subsample.index]\n",
    "        profits.append(profit(target_subsample, predictions_subsample, number_of_wells_to_pick))\n",
    "        \n",
    "    profits = pd.Series(profits)\n",
    "    mean_profit = profits.mean()\n",
    "    \n",
    "    lower = profits.quantile(0.025)\n",
    "    upper = profits.quantile(0.975)\n",
    "    \n",
    "    loss_risk = st.percentileofscore(profits, 0)  #какой процент значений ниже нуля\n",
    "    \n",
    "    return profits, mean_profit, lower, upper, loss_risk"
   ]
  },
  {
   "cell_type": "markdown",
   "id": "de963432",
   "metadata": {},
   "source": [
    "Присвоим результаты вызова функции в интересующие нас переменные."
   ]
  },
  {
   "cell_type": "code",
   "execution_count": null,
   "id": "284a042e",
   "metadata": {},
   "outputs": [],
   "source": [
    "profits_1, mean_profit_1, lower_1, upper_1, loss_risk_1 = profit_bootstrap(target_valid_1,\n",
    "                                                                    predictions_valid_1,500, 200)\n",
    "\n",
    "profits_2, mean_profit_2, lower_2, upper_2, loss_risk_2 = profit_bootstrap(target_valid_2,\n",
    "                                                                    predictions_valid_2, 500, 200)\n",
    "\n",
    "profits_3, mean_profit_3, lower_3, upper_3, loss_risk_3 = profit_bootstrap(target_valid_3,\n",
    "                                                                    predictions_valid_3, 500, 200)"
   ]
  },
  {
   "cell_type": "markdown",
   "id": "aa383d89",
   "metadata": {},
   "source": [
    "Создадим словарь для перебора параметров."
   ]
  },
  {
   "cell_type": "code",
   "execution_count": null,
   "id": "462a5540",
   "metadata": {},
   "outputs": [],
   "source": [
    "profit_metrics = {'Первый регион' : [mean_profit_1, lower_1, upper_1, loss_risk_1],\n",
    "           'Второй регион' : [mean_profit_2, lower_2, upper_2, loss_risk_2],\n",
    "           'Третий регион' : [mean_profit_3, lower_3, upper_3, loss_risk_3]}"
   ]
  },
  {
   "cell_type": "code",
   "execution_count": null,
   "id": "b99d30fe",
   "metadata": {},
   "outputs": [],
   "source": [
    "for region, values in profit_metrics.items():\n",
    "    print(region)\n",
    "    print(f'Средняя прибыль: {values[0] / 1000000:.0f} млн руб.')\n",
    "    print(f'95% доверительный интервал для прибыли:({values[1] / 1000000:.0f},{values[2] / 1000000:.0f}) млн руб.')\n",
    "    print(f'Риск убытков: {values[3]}%')\n",
    "    print('')"
   ]
  },
  {
   "cell_type": "markdown",
   "id": "ca4e0dd6",
   "metadata": {},
   "source": [
    "### Вывод\n",
    "Итак, риск убытков выше 2.5% в первом и третьем регионе. Значит, по этому параметру отбора региона для разработки они не подходят.\n",
    "\n",
    "Остается второй регион, где риск убытков составляет 1%, да и значение средней прибыли выше, чем в остальных.\n",
    "\n",
    "Наверное, этот регион отобран \"по праву\", поскольку модель предсказания запасов для его скважин выглядит самой качественной, оценивая параметр R2, принимая как данность тот факт, что для этого региона значения параметра f2 и запасов обладают ярко выраженной синтетичностью."
   ]
  }
 ],
 "metadata": {
  "kernelspec": {
   "display_name": "Python 3 (ipykernel)",
   "language": "python",
   "name": "python3"
  },
  "language_info": {
   "codemirror_mode": {
    "name": "ipython",
    "version": 3
   },
   "file_extension": ".py",
   "mimetype": "text/x-python",
   "name": "python",
   "nbconvert_exporter": "python",
   "pygments_lexer": "ipython3",
   "version": "3.9.7"
  },
  "toc": {
   "base_numbering": 1,
   "nav_menu": {},
   "number_sections": true,
   "sideBar": true,
   "skip_h1_title": true,
   "title_cell": "Table of Contents",
   "title_sidebar": "Contents",
   "toc_cell": false,
   "toc_position": {},
   "toc_section_display": true,
   "toc_window_display": false
  }
 },
 "nbformat": 4,
 "nbformat_minor": 5
}
