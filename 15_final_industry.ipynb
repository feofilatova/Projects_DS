{
 "cells": [
  {
   "cell_type": "markdown",
   "id": "f4f5b043",
   "metadata": {},
   "source": [
    "# Прогнозирование тепературы стали"
   ]
  },
  {
   "cell_type": "markdown",
   "id": "3a15a026",
   "metadata": {},
   "source": [
    "## Описание проекта"
   ]
  },
  {
   "cell_type": "markdown",
   "id": "7491b0d7",
   "metadata": {},
   "source": [
    "В целях оптимизации производственных расходов металлургического комбината ООО «Так закаляем сталь» принято решение уменьшить потребление электроэнергии на этапе обработки стали. Необходимо построить модель, которая предскажет температуру стали."
   ]
  },
  {
   "cell_type": "markdown",
   "id": "ff9f3a62",
   "metadata": {},
   "source": [
    "### Описание этапа обработки\n",
    "\n",
    "Сталь обрабатывают в металлическом ковше вместимостью около 100 тонн. Чтобы ковш выдерживал высокие температуры, изнутри его облицовывают огнеупорным кирпичом. Расплавленную сталь заливают в ковш и подогревают до нужной температуры графитовыми электродами. Они установлены в крышке ковша. \n",
    "\n",
    "Из сплава выводится сера (десульфурация), добавлением примесей корректируется химический состав и отбираются пробы. Сталь легируют — изменяют её состав — подавая куски сплава из бункера для сыпучих материалов или проволоку через специальный трайб-аппарат (англ. tribe, «масса»).\n",
    "\n",
    "Перед тем как первый раз ввести легирующие добавки, измеряют температуру стали и производят её химический анализ. Потом температуру на несколько минут повышают, добавляют легирующие материалы и продувают сплав инертным газом. Затем его перемешивают и снова проводят измерения. Такой цикл повторяется до достижения целевого химического состава и оптимальной температуры плавки.\n",
    "\n",
    "Тогда расплавленная сталь отправляется на доводку металла или поступает в машину непрерывной разливки. Оттуда готовый продукт выходит в виде заготовок-слябов (англ. *slab*, «плита»).\n",
    "\n",
    "### Описание данных\n",
    "\n",
    "Данные состоят из файлов, полученных из разных источников:\n",
    "\n",
    "- `data_arc.csv` — данные об электродах;\n",
    "- `data_bulk.csv` — данные о подаче сыпучих материалов (объём);\n",
    "- `data_bulk_time.csv` — данные о подаче сыпучих материалов (время);\n",
    "- `data_gas.csv` — данные о продувке сплава газом;\n",
    "- `data_temp.csv` — результаты измерения температуры;\n",
    "- `data_wire.csv` — данные о проволочных материалах (объём);\n",
    "- `data_wire_time.csv` — данные о проволочных материалах (время).\n",
    "\n",
    "Во всех файлах столбец `key` содержит номер партии. В файлах может быть несколько строк с одинаковым значением `key`: они соответствуют разным итерациям обработки."
   ]
  },
  {
   "cell_type": "markdown",
   "id": "2f64f398",
   "metadata": {},
   "source": [
    "#### План работы:  \n",
    "- Провести исследовательский анализ данных:\n",
    "    - Посмотреть на распределение исходных данных\n",
    "    - Проанализировать порядок событий в производственном процессе\n",
    "    - Исключить партии, которые не имеют последнего замера темпиратуры, либо первый замер соответствует последнему, либо замеры отсутствуют \n",
    "    - Оставить только события, которые находятся в промежутке между первым и последним замерами\n",
    "- Подобрать признаки, на которых будет обучаться модель:\n",
    "    - Сгенерировать ряд признаков\n",
    "    - Проверить признаки на мультиколлинеарность, исключить лишние\n",
    "    - Провести масштабирование признаков\n",
    "- Построить модель, которая предскажет температуру стали:\n",
    "    - Сформировать обучающую, валидационную и тестовую выборки\n",
    "    - Выбрать несколько моделей и проверить их эффективность на валидационной выборке с помощью показателя эффективности MAE\n",
    "    - Эффективность лучшей модели проверить на тестовой выборке"
   ]
  },
  {
   "cell_type": "code",
   "execution_count": null,
   "id": "45c6ab18",
   "metadata": {},
   "outputs": [],
   "source": [
    "import pandas as pd\n",
    "import numpy as np\n",
    "import matplotlib.pyplot as plt\n",
    "import seaborn as sns\n",
    "\n",
    "\n",
    "from sklearn.model_selection import train_test_split\n",
    "from sklearn.linear_model import LinearRegression, Ridge\n",
    "from sklearn.ensemble import RandomForestRegressor\n",
    "from catboost import CatBoostRegressor\n",
    "\n",
    "from sklearn.metrics import mean_absolute_error as mae"
   ]
  },
  {
   "cell_type": "code",
   "execution_count": null,
   "id": "36c28555",
   "metadata": {},
   "outputs": [],
   "source": [
    "arc = pd.read_csv('/datasets/final_steel/data_arc.csv')\n",
    "bulk = pd.read_csv('/datasets/final_steel/data_bulk.csv')\n",
    "bulk_time = pd.read_csv('/datasets/final_steel/data_bulk_time.csv')\n",
    "gas = pd.read_csv('/datasets/final_steel/data_gas.csv')\n",
    "temp = pd.read_csv('/datasets/final_steel/data_temp.csv')\n",
    "wire = pd.read_csv('/datasets/final_steel/data_wire.csv')\n",
    "wire_time = pd.read_csv('/datasets/final_steel/data_wire_time.csv')"
   ]
  },
  {
   "cell_type": "markdown",
   "id": "ff3a5dec",
   "metadata": {},
   "source": [
    "## Исследовательский анализ данных"
   ]
  },
  {
   "cell_type": "code",
   "execution_count": null,
   "id": "d4ec2d3c",
   "metadata": {},
   "outputs": [],
   "source": [
    "try:\n",
    "    arc = pd.read_csv('data_arc.csv', parse_dates=['Начало нагрева дугой', 'Конец нагрева дугой'], dayfirst=True)\n",
    "    bulk = pd.read_csv('data_bulk.csv')\n",
    "    bulk_time = pd.read_csv('data_bulk_time.csv', parse_dates=['Bulk 1','Bulk 2', 'Bulk 3',\n",
    "                                                                                'Bulk 4','Bulk 5','Bulk 6',\n",
    "                                                                                'Bulk 7', 'Bulk 8','Bulk 9',\n",
    "                                                                                'Bulk 10','Bulk 11','Bulk 12',\n",
    "                                                                                'Bulk 13','Bulk 14','Bulk 15'])\n",
    "    gas = pd.read_csv('data_gas.csv')\n",
    "    temp = pd.read_csv('data_temp.csv', parse_dates=['Время замера'])\n",
    "    wire = pd.read_csv('data_wire.csv')\n",
    "    wire_time = pd.read_csv('data_wire_time.csv', parse_dates=['Wire 1','Wire 2', 'Wire 3',\n",
    "                                                                                'Wire 4','Wire 5','Wire 6',\n",
    "                                                                                'Wire 7', 'Wire 8','Wire 9'],)\n",
    "except:\n",
    "    arc = pd.read_csv('/datasets/final_steel/data_arc.csv', parse_dates=['Начало нагрева дугой', 'Конец нагрева дугой'])\n",
    "    bulk = pd.read_csv('/datasets/final_steel/data_bulk.csv')\n",
    "    bulk_time = pd.read_csv('/datasets/final_steel/data_bulk_time.csv', parse_dates=['Bulk 1','Bulk 2', 'Bulk 3',\n",
    "                                                                                'Bulk 4','Bulk 5','Bulk 6',\n",
    "                                                                                'Bulk 7', 'Bulk 8','Bulk 9',\n",
    "                                                                                'Bulk 10','Bulk 11','Bulk 12',\n",
    "                                                                                'Bulk 13','Bulk 14','Bulk 15'],\n",
    "                                                                                 dayfirst=True)\n",
    "    gas = pd.read_csv('/datasets/final_steel/data_gas.csv')\n",
    "    temp = pd.read_csv('/datasets/final_steel/data_temp.csv', parse_dates=['Время замера'])\n",
    "    wire = pd.read_csv('/datasets/final_steel/data_wire.csv')\n",
    "    wire_time = pd.read_csv('/datasets/final_steel/data_wire_time.csv', parse_dates=['Wire 1','Wire 2', 'Wire 3',\n",
    "                                                                                'Wire 4','Wire 5','Wire 6',\n",
    "                                                                                'Wire 7', 'Wire 8','Wire 9'])"
   ]
  },
  {
   "cell_type": "markdown",
   "id": "a311c4ac",
   "metadata": {},
   "source": [
    "Рассмотрим подробно представленные данные\n",
    "\n",
    "Посмотрим на данные по электродам, таблица `data_arc.csv`"
   ]
  },
  {
   "cell_type": "code",
   "execution_count": null,
   "id": "f1efdd30",
   "metadata": {},
   "outputs": [],
   "source": [
    "display(arc.sample(10))\n",
    "display(arc.info())\n",
    "display(arc.describe())\n",
    "arc.duplicated().sum()"
   ]
  },
  {
   "cell_type": "markdown",
   "id": "b8a162e5",
   "metadata": {},
   "source": [
    "В таблице 14876 записей о временых точках начала и конца нагрева стали и мощность. Мощность представлена в виде активной и реактивной мощностей.\n",
    "\n",
    "\n",
    "Реактивная мощность связана с полной мощностью S и активной мощностью P соотношением:\n",
    "$$Q = \\sqrt{S^2-P^2}$$\n",
    "\n",
    "Полная мощность — величина, равная произведению действующих значений периодического электрического тока I в цепи и напряжения U на её зажимах S=U * I связана с активной и реактивной мощностями соотношением:\n",
    "\n",
    "$$S = \\sqrt{P^2+Q^2}$$\n",
    "где P — активная мощность, Q — реактивная мощность.\n",
    "\n",
    "\n",
    "\n",
    "Так как в энергозатратах участвует полная мощность, будем использовать её как обучающий признак.\n",
    "\n",
    "Есть отрицательное значение реактивной мощности с очень высоким значением по модулю, посмотрим на данные всей партии.\n",
    "Дубликаты отсутствуют."
   ]
  },
  {
   "cell_type": "code",
   "execution_count": null,
   "id": "1b2c70e7",
   "metadata": {},
   "outputs": [],
   "source": [
    "arc[arc['Реактивная мощность'] < 0]"
   ]
  },
  {
   "cell_type": "code",
   "execution_count": null,
   "id": "7ce10625",
   "metadata": {},
   "outputs": [],
   "source": [
    "arc[arc['key'] == 2116]"
   ]
  },
  {
   "cell_type": "markdown",
   "id": "ac42240d",
   "metadata": {},
   "source": [
    "Похоже на ошибку либо был скачок напряжения, который выдал такой результат, в любом случае, эту партию (2116) стоит исключить из дальнейшего рассмотрения на этапе предобработки данных чтобы не искажать картину."
   ]
  },
  {
   "cell_type": "markdown",
   "id": "16924423",
   "metadata": {},
   "source": [
    "Рассмотрим данные об объеме сыпучих материалов, таблица `data_bulk.csv`"
   ]
  },
  {
   "cell_type": "code",
   "execution_count": null,
   "id": "d8abc32f",
   "metadata": {},
   "outputs": [],
   "source": [
    "display(bulk.sample(10))\n",
    "display(bulk.info())\n",
    "display(bulk.describe())\n",
    "bulk.duplicated().sum()"
   ]
  },
  {
   "cell_type": "markdown",
   "id": "f214a2c5",
   "metadata": {},
   "source": [
    "В таблице 3129 записей об объеме добавления 15 видов сыпучих материалов, много пропусков, они связаны с тем, что исходя из химического анализа пробы, необходимо добавить не обязательно все элементы, а только те, которых нехватает до необходимого химического состава сплава, пропуски заменим нулями.\n",
    "\n",
    "Отрицательных значений нет, дубликатов тоже нет."
   ]
  },
  {
   "cell_type": "markdown",
   "id": "3e4f869b",
   "metadata": {},
   "source": [
    "Рассмотрим данные о времени добавления сыпучих материалов, таблица `data_bulk_time.csv`"
   ]
  },
  {
   "cell_type": "code",
   "execution_count": null,
   "id": "2baa6f84",
   "metadata": {},
   "outputs": [],
   "source": [
    "display(bulk_time.sample(10))\n",
    "display(bulk_time.info())\n",
    "display(bulk_time.describe())\n",
    "bulk_time.duplicated().sum()"
   ]
  },
  {
   "cell_type": "markdown",
   "id": "8b77b489",
   "metadata": {},
   "source": [
    "В таблице 3129 записей о времени добавления 15 видов сыпучих материалов, много пропусков, они связаны с тем, что исходя из химического анализа пробы, необходимо добавить не обязательно все элементы, а только те, которых нехватает до необходимого химического состава сплава.\n",
    "\n",
    "Отрицательных значений нет, дубликатов тоже нет.\n",
    "\n",
    "Вероятно, эта информация для нас лишняя, поскольку мы будем работать с партиями и фактор точного времени для нас не  важен."
   ]
  },
  {
   "cell_type": "markdown",
   "id": "9a7f5f13",
   "metadata": {},
   "source": [
    "Рассмотрим данные о продувке сплава газом, таблица `data_gas.csv`"
   ]
  },
  {
   "cell_type": "code",
   "execution_count": null,
   "id": "478d1142",
   "metadata": {},
   "outputs": [],
   "source": [
    "display(gas.sample(10))\n",
    "display(gas.info())\n",
    "display(gas.describe())\n",
    "gas.duplicated().sum()"
   ]
  },
  {
   "cell_type": "markdown",
   "id": "ac8c2636",
   "metadata": {},
   "source": [
    "В таблице 3239 записей об объеме добавления газа, пропусков, отрицательных значений, дубликатов нет."
   ]
  },
  {
   "cell_type": "markdown",
   "id": "8b0f576a",
   "metadata": {},
   "source": [
    "Рассмотрим данные о замерах температуры, таблица `data_temp.csv`, температура последнего замера - целевой признак."
   ]
  },
  {
   "cell_type": "code",
   "execution_count": null,
   "id": "cf566e9d",
   "metadata": {},
   "outputs": [],
   "source": [
    "display(temp.sample(10))\n",
    "display(temp.info())\n",
    "display(temp.describe())\n",
    "temp.duplicated().sum()"
   ]
  },
  {
   "cell_type": "markdown",
   "id": "506a9ffa",
   "metadata": {},
   "source": [
    "В таблице 15907 записей об измерениях температуры, при этом присутствуют прпуски в замерах, всего 13 006 известных значений температуры. \n",
    "\n",
    "Отрицательные значения и дубликаты отсутствуют.\n",
    "\n",
    "Попробуем выяснить с чем связаны пропуски."
   ]
  },
  {
   "cell_type": "code",
   "execution_count": null,
   "id": "92482f69",
   "metadata": {},
   "outputs": [],
   "source": [
    "temp[temp.isna().any(axis=1)]"
   ]
  },
  {
   "cell_type": "markdown",
   "id": "44212a3f",
   "metadata": {},
   "source": [
    "Интересно, пропуски начались с 2500 партии, посмотрим на количество замеров температуры в каждой партии."
   ]
  },
  {
   "cell_type": "code",
   "execution_count": null,
   "id": "bd59eec7",
   "metadata": {},
   "outputs": [],
   "source": [
    "temp_count = temp.pivot_table(index='key', values='Температура',aggfunc='count')\n",
    "\n",
    "temp_count.plot(figsize=(18,6))\n",
    "plt.title('Количество замеров температуры в партии')\n",
    "plt.xlabel('Партия')\n",
    "plt.ylabel('Количество замеров');\n"
   ]
  },
  {
   "cell_type": "markdown",
   "id": "f261d80d",
   "metadata": {},
   "source": [
    "Начиная с 2500 партии был только один замер температуры на партию, выборочно посмотрим на партии с одним замером."
   ]
  },
  {
   "cell_type": "code",
   "execution_count": null,
   "id": "68c7d331",
   "metadata": {},
   "outputs": [],
   "source": [
    "temp[temp['key'].isin([2501])]"
   ]
  },
  {
   "cell_type": "code",
   "execution_count": null,
   "id": "10fa783c",
   "metadata": {},
   "outputs": [],
   "source": [
    "temp[temp['key'].isin([2749])]"
   ]
  },
  {
   "cell_type": "code",
   "execution_count": null,
   "id": "3c0e42b1",
   "metadata": {},
   "outputs": [],
   "source": [
    "temp[temp['key'].isin([3004])]"
   ]
  },
  {
   "cell_type": "code",
   "execution_count": null,
   "id": "360acd22",
   "metadata": {},
   "outputs": [],
   "source": [
    "temp[temp['key'].isin([3102])]"
   ]
  },
  {
   "cell_type": "code",
   "execution_count": null,
   "id": "1c754ed0",
   "metadata": {},
   "outputs": [],
   "source": [
    "temp[temp['key'].isin([3239])]"
   ]
  },
  {
   "cell_type": "markdown",
   "id": "dd717366",
   "metadata": {},
   "source": [
    "Видим, что начиная с 2500 партии есть данные замера только в первой итерации. Проверим, что это действительно так для всех  этх партий, заполним пропуски нулями."
   ]
  },
  {
   "cell_type": "code",
   "execution_count": null,
   "id": "073fc9fe",
   "metadata": {},
   "outputs": [],
   "source": [
    "temp['Температура'] = temp['Температура'].fillna(0)"
   ]
  },
  {
   "cell_type": "markdown",
   "id": "a083cb4d",
   "metadata": {},
   "source": [
    "Поскольку целевым признаком является температура последнего замера в партии нас интересует именно она. Если после 2500 партии действительно не было замеров в последней итерации, то на графике после 2500 партии мы увидим нули."
   ]
  },
  {
   "cell_type": "code",
   "execution_count": null,
   "id": "3ebcdd66",
   "metadata": {},
   "outputs": [],
   "source": [
    "temp_last = temp.pivot_table(index='key', values='Температура',aggfunc='last')\n",
    "temp_last.plot(figsize=(18,6))\n",
    "plt.title('Последняя температура в партии')\n",
    "plt.xlabel('Партия')\n",
    "plt.ylabel('Температура');"
   ]
  },
  {
   "cell_type": "markdown",
   "id": "4fad6577",
   "metadata": {},
   "source": [
    "Гипотеза подтвердилась, после 2500 партии только нули, значит, в этих партиях нет необходимо целевого признака и на этих данных обучать модель мы не можем. На этапе предобработки удалим эти данные."
   ]
  },
  {
   "cell_type": "markdown",
   "id": "5ac7636c",
   "metadata": {},
   "source": [
    "В данных имеются замеры с температурой ниже плавления стали (1350°С)"
   ]
  },
  {
   "cell_type": "code",
   "execution_count": null,
   "id": "bfeeff11",
   "metadata": {},
   "outputs": [],
   "source": [
    "temp['Температура'].plot(figsize=(16,6))\n",
    "plt.title('Динамика замеров температуры')\n",
    "plt.xlabel('Замер')\n",
    "plt.ylabel('Температура');"
   ]
  },
  {
   "cell_type": "markdown",
   "id": "3f2eeff7",
   "metadata": {},
   "source": [
    "На графике хорошо видны выбросы с нулевой температурой замера(партии начиная с 2500), а также несколько замеров со слишком низкой для плавления стали температурой - возможно это как-то связано с простоем стали перед замером, когда сталь уже остыла или с браком датчика температуры, в любом случае, эти аномалии будут мешать в дальнейшей работе."
   ]
  },
  {
   "cell_type": "markdown",
   "id": "6fb880c4",
   "metadata": {},
   "source": [
    "Рассмотрим данные об объеме добавления проволочных материалов, таблица data_wire_.csv"
   ]
  },
  {
   "cell_type": "code",
   "execution_count": null,
   "id": "7bdd387b",
   "metadata": {},
   "outputs": [],
   "source": [
    "display(wire.sample(10))\n",
    "display(wire.info())\n",
    "display(wire.describe())\n",
    "wire.duplicated().sum()"
   ]
  },
  {
   "cell_type": "markdown",
   "id": "71410780",
   "metadata": {},
   "source": [
    "В таблице 3081 запись об объеме добавления 9 видов проволочных материалов, имеется большое количество пропусков ввиду анализа химического состава и выбора конкретных материалов для улучшения качества стали, пропуски заменим нулями."
   ]
  },
  {
   "cell_type": "markdown",
   "id": "b58ff03a",
   "metadata": {},
   "source": [
    "Рассмотрим данные о времени добавления проволочных материалов, таблица `data_wire_time.csv`"
   ]
  },
  {
   "cell_type": "code",
   "execution_count": null,
   "id": "ba44a7f6",
   "metadata": {},
   "outputs": [],
   "source": [
    "display(wire_time.sample(10))\n",
    "display(wire_time.info())\n",
    "display(wire_time.describe())\n",
    "wire_time.duplicated().sum()"
   ]
  },
  {
   "cell_type": "markdown",
   "id": "54c2e818",
   "metadata": {},
   "source": [
    "В таблице 3081 запись о времени добавления 9 видов проволочных материалов, имеется большое количество пропусков ввиду анализа химического состава и выбора конкретных материалов для улучшения качества стали, равно как и для сыпучих материалов точное время добавления проволоки для нас не представляет ценности"
   ]
  },
  {
   "cell_type": "markdown",
   "id": "b41fb4ef",
   "metadata": {},
   "source": [
    "### Вывод: \n",
    "Проведён исследовательский анализ предоставленных данных:\n",
    "- `data_arc.csv` — данные об электродах\n",
    "- `data_bulk.csv` — данные о подаче сыпучих материалов (объём)\n",
    "- `data_bulk_time.csv` — данные о подаче сыпучих материалов (время)\n",
    "- `data_gas.csv` — данные о продувке сплава газом\n",
    "- `data_temp.csv` — результаты измерения температуры\n",
    "- `data_wire.csv` — данные о проволочных материалах (объём)\n",
    "- `data_wire_time.csv` — данные о проволочных материалах (время)\n",
    "\n",
    "Изучены данные о времени и мощности нагрева электродами, об объеме и времени добавления дополнительных материалов для улучшения качества стали, о продувке газом и результатах измерения температур. В таблицах данные о нескольких итерациях для одной партиии, что обусловлено процессом получения необходимого химического состава стали и температуры её плавления, имеются пропуски и некорректные данные.\n",
    "\n",
    "Для дальнейшей работы необходимо провести предварительную обработку данных:\n",
    "\n",
    "- `data_arc.csv` — удалить партию 2116 с некорректным значением реактивной мощности, вычислить полную мощность и использовать её в качестве обучающего признака.\n",
    "- `data_gas.csv` — вероятно, количество поданного газа может влиять на температуру.\n",
    "- `data_temp.csv` — удалить партии начиная с 2500 за неимением целевого признака, удалить замеры со значением ниже температуры плавления стали(1350°С).\n",
    "- `data_bulk.csv` — вероятно, количество поданного материала может влиять на температуру.\n",
    "- `data_bulk_time.csv` — не представляет ценности для обучения модели.\n",
    "- `data_wire.csv` вероятно, количество поданного материала может влиять на температуру.\n",
    "- `data_wire_time.csv` — не представляет ценности для обучения модели.\n",
    "\n",
    "В данных об объемах присадок и продувке газом:\n",
    "- заполнить пропуски нулями;\n",
    "- сделать столбец 'key' индексом - потому что все данные будут объединяться по номеру партии.\n",
    "\n",
    "Так же необходимо преобразовать названия признаков в соответствии с правилами стиля."
   ]
  },
  {
   "cell_type": "markdown",
   "id": "93ccfa5a",
   "metadata": {},
   "source": [
    "## Предобработка данных"
   ]
  },
  {
   "cell_type": "markdown",
   "id": "f969f8cd",
   "metadata": {},
   "source": [
    "`arc - данные об электродах`"
   ]
  },
  {
   "cell_type": "markdown",
   "id": "72827ab2",
   "metadata": {},
   "source": [
    "Переименуем названия признаков"
   ]
  },
  {
   "cell_type": "code",
   "execution_count": null,
   "id": "6b2af7de",
   "metadata": {},
   "outputs": [],
   "source": [
    "arc = arc.rename(columns = {\n",
    "    'Начало нагрева дугой':'start_arc_heating', \n",
    "    'Конец нагрева дугой' : 'end_arc_heating', \n",
    "    'Активная мощность' : 'active_power',\n",
    "    'Реактивная мощность' : 'reactive_power'}) "
   ]
  },
  {
   "cell_type": "markdown",
   "id": "10d15d0e",
   "metadata": {},
   "source": [
    "Удаляем из набора данных партию с аномальной реактивной мощностью и партии без целевого признака."
   ]
  },
  {
   "cell_type": "code",
   "execution_count": null,
   "id": "5140b0ce",
   "metadata": {},
   "outputs": [],
   "source": [
    "arc = arc[(arc['reactive_power'] >0) & (arc['key']<2500)]\n",
    "arc.info()"
   ]
  },
  {
   "cell_type": "markdown",
   "id": "93da43f0",
   "metadata": {},
   "source": [
    "Посчитаем значения полной мощности."
   ]
  },
  {
   "cell_type": "code",
   "execution_count": null,
   "id": "af287c1d",
   "metadata": {},
   "outputs": [],
   "source": [
    "arc['full_power'] = (arc['active_power']**2 + arc['reactive_power']**2).apply(np.sqrt)"
   ]
  },
  {
   "cell_type": "markdown",
   "id": "d3ea5d52",
   "metadata": {},
   "source": [
    "Посмотрим на распределения признаков, создадим функцию, чтобы в дальнейшем исследовать распределения и других признаков"
   ]
  },
  {
   "cell_type": "code",
   "execution_count": null,
   "id": "be95b67c",
   "metadata": {},
   "outputs": [],
   "source": [
    "def plot(df,col, title):\n",
    "    \n",
    "    sns.set_style('whitegrid')\n",
    "    ax = plt.subplots(figsize = (16,6))\n",
    "    \n",
    "    q_1 = list(df[col].quantile([0.25]))[0]\n",
    "    q_3 = list(df[col].quantile([0.75]))[0]\n",
    "    \n",
    "    chart = sns.histplot(data=df[col]).set_xlim(0, q_3 + 2.5*(q_3 - q_1))\n",
    "    plt.title(title)\n",
    "    plt.show()\n",
    "    \n",
    "    chart_2 = sns.boxplot(data=df, y=col)\n",
    "    plt.title(title)\n",
    "    \n",
    "    display(df[col].describe());"
   ]
  },
  {
   "cell_type": "code",
   "execution_count": null,
   "id": "5adfc19d",
   "metadata": {},
   "outputs": [],
   "source": [
    " plot(arc,'active_power', 'Распределение значений активной мощности')"
   ]
  },
  {
   "cell_type": "markdown",
   "id": "b8c5c1d9",
   "metadata": {},
   "source": [
    "Распределение значений активной мощности смещено вправо. Взглянем на реактивную мощность."
   ]
  },
  {
   "cell_type": "code",
   "execution_count": null,
   "id": "21710a83",
   "metadata": {},
   "outputs": [],
   "source": [
    "plot(arc,'reactive_power', 'Распределение значений реактивной мощности')"
   ]
  },
  {
   "cell_type": "markdown",
   "id": "6a4c3c08",
   "metadata": {},
   "source": [
    "Распределение значений активной мощности смещено вправо, то есть, у нас наблюдались скачки в мощности. Посмотрим на полную мощность."
   ]
  },
  {
   "cell_type": "code",
   "execution_count": null,
   "id": "8eb922d9",
   "metadata": {},
   "outputs": [],
   "source": [
    "plot(arc,'full_power', 'Распределение значений полной мощности')\n"
   ]
  },
  {
   "cell_type": "markdown",
   "id": "71a16a3a",
   "metadata": {},
   "source": [
    "Распределение полной мощности ожидаемо повторяет распределение активной и реактивной мощностей."
   ]
  },
  {
   "cell_type": "markdown",
   "id": "4702d31c",
   "metadata": {},
   "source": [
    "Целесообразно изучить суммарное время нагрева за каждую партию"
   ]
  },
  {
   "cell_type": "code",
   "execution_count": null,
   "id": "ab1ce4be",
   "metadata": {},
   "outputs": [],
   "source": [
    "arc[['start_arc_heating', 'end_arc_heating']] = arc[['start_arc_heating', \n",
    "                                                                'end_arc_heating']]\n",
    "\n",
    "arc['batch_heating_time'] = (arc['end_arc_heating'] - \n",
    "                               arc['start_arc_heating']).dt.total_seconds()\n",
    "\n",
    "arc"
   ]
  },
  {
   "cell_type": "code",
   "execution_count": null,
   "id": "624daf14",
   "metadata": {},
   "outputs": [],
   "source": [
    "arc_time = arc.pivot_table(index='key', values='batch_heating_time',aggfunc='sum')\n",
    "arc_time"
   ]
  },
  {
   "cell_type": "markdown",
   "id": "d8d60f56",
   "metadata": {},
   "source": [
    "Посчитаем сколько раз каждая партия подвергалась нагреву и сведём эти данные в таблицу по партиям."
   ]
  },
  {
   "cell_type": "code",
   "execution_count": null,
   "id": "de69f968",
   "metadata": {},
   "outputs": [],
   "source": [
    "arc_count_iter = arc.pivot_table(index='key', values='start_arc_heating',aggfunc='count')\n",
    "arc_count_iter_time = arc_count_iter.join(arc_time)\n",
    "arc_count_iter_time.columns = ['count_iter','batch_heating_time']\n",
    "arc_count_iter_time"
   ]
  },
  {
   "cell_type": "code",
   "execution_count": null,
   "id": "96549663",
   "metadata": {},
   "outputs": [],
   "source": [
    "plot(arc_count_iter_time,'count_iter', 'Распределение количества нагревов в партии')"
   ]
  },
  {
   "cell_type": "markdown",
   "id": "6784053f",
   "metadata": {},
   "source": [
    "Распределение похоже на нормальное, немного смещено вправо - среднее превышает медиану. Большая часть значений лежит в области 3-6 итераций нагрева."
   ]
  },
  {
   "cell_type": "code",
   "execution_count": null,
   "id": "f14b6dcc",
   "metadata": {},
   "outputs": [],
   "source": [
    "plot(arc_count_iter_time,'batch_heating_time', 'Распределение общего времени нагрева партии')"
   ]
  },
  {
   "cell_type": "markdown",
   "id": "4819aeca",
   "metadata": {},
   "source": [
    "Распределение общего времени нагрева партии похоже на нормальное - медиана и средняя почти совпадают, в среднем нагрев происходил около 13 минут.\n",
    "\n",
    "Исходя из того, что общее время нагрева и количество итераций нагрева могут служить признаками для обучения, добавим еще один - полную среднюю мощность за партию и далее проверим, как эти признаки связаны между собой."
   ]
  },
  {
   "cell_type": "code",
   "execution_count": null,
   "id": "466ad535",
   "metadata": {},
   "outputs": [],
   "source": [
    "arc_count_iter_time = arc_count_iter_time.join(arc.pivot_table(index='key',values='full_power',aggfunc='mean'))\n",
    "arc_count_iter_time"
   ]
  },
  {
   "cell_type": "markdown",
   "id": "0bba31ed",
   "metadata": {},
   "source": [
    "Посмотрим на корреляцию созданных признаков."
   ]
  },
  {
   "cell_type": "code",
   "execution_count": null,
   "id": "f621fd2d",
   "metadata": {},
   "outputs": [],
   "source": [
    "arc_count_iter_time.corr()"
   ]
  },
  {
   "cell_type": "markdown",
   "id": "42e78a76",
   "metadata": {},
   "source": [
    "Очевидно, что время нагрева и активная мощность заметно коррелируют, к тому же время нагрева и количество итераций также достаточно сильно коррелируют, поэтому отбросим признак со временем нагрева."
   ]
  },
  {
   "cell_type": "code",
   "execution_count": null,
   "id": "ee362f6a",
   "metadata": {},
   "outputs": [],
   "source": [
    "arc_count_iter_time = arc_count_iter_time.drop('batch_heating_time', axis=1)\n",
    "arc_count_iter_time"
   ]
  },
  {
   "cell_type": "markdown",
   "id": "695620e5",
   "metadata": {},
   "source": [
    "`temp - результаты измерения температуры`"
   ]
  },
  {
   "cell_type": "markdown",
   "id": "51c77870",
   "metadata": {},
   "source": [
    "Переименуем названия признаков."
   ]
  },
  {
   "cell_type": "code",
   "execution_count": null,
   "id": "7247452c",
   "metadata": {},
   "outputs": [],
   "source": [
    "temp = temp.rename(columns = {\n",
    "    'Время замера':'time_check', \n",
    "    'Температура' : 'temperature'}) "
   ]
  },
  {
   "cell_type": "markdown",
   "id": "627bf488",
   "metadata": {},
   "source": [
    "Исключим аномально низкие значения температуры и партии до 2500 где доступно только первое измерение -  эти данные, мы не сможем использовать при обучении модели."
   ]
  },
  {
   "cell_type": "code",
   "execution_count": null,
   "id": "5b2bd858",
   "metadata": {},
   "outputs": [],
   "source": [
    "temp = temp[(temp['temperature'] > 1349) & (temp['key'] <= 2499)]\n",
    "temp.info()"
   ]
  },
  {
   "cell_type": "markdown",
   "id": "ac6e6593",
   "metadata": {},
   "source": [
    "Выделим первую и последнюю измеренную температуру в партии."
   ]
  },
  {
   "cell_type": "code",
   "execution_count": null,
   "id": "350562e7",
   "metadata": {},
   "outputs": [],
   "source": [
    "temps = temp.pivot_table(index='key', values='temperature', aggfunc=['first','last'])\n",
    "temps.columns = ['first_temp', 'last_temp']\n",
    "temps.info()"
   ]
  },
  {
   "cell_type": "markdown",
   "id": "f0205668",
   "metadata": {},
   "source": [
    "Посчитаем длительность между первым и последним замером температуры в секундах."
   ]
  },
  {
   "cell_type": "code",
   "execution_count": null,
   "id": "2f328d6c",
   "metadata": {},
   "outputs": [],
   "source": [
    "temp_time = temp.pivot_table(index='key', values='time_check', aggfunc=['first','last','count'])\n",
    "temp_time.columns = ['time_first_temp', 'time_last_temp', 'count_check']\n",
    "temp_time[['time_first_temp', 'time_last_temp']] = temp_time[['time_first_temp', \n",
    "                                                                'time_last_temp']]\n",
    "\n",
    "temp_time['interval'] = (temp_time['time_last_temp'] - \n",
    "                               temp_time['time_first_temp']).dt.total_seconds()\n",
    "\n",
    "temp_time"
   ]
  },
  {
   "cell_type": "markdown",
   "id": "f4e922a2",
   "metadata": {},
   "source": [
    "Посмотрим на распределение времени между первым и последним замерами."
   ]
  },
  {
   "cell_type": "code",
   "execution_count": null,
   "id": "20564f6b",
   "metadata": {},
   "outputs": [],
   "source": [
    "plot(temp_time,'interval', 'Распределение времени между первым и последним замерами')"
   ]
  },
  {
   "cell_type": "markdown",
   "id": "1baea6ca",
   "metadata": {},
   "source": [
    "Распределение смещено вправо, средний интервал почти на четыре минуты длиннее медианного. "
   ]
  },
  {
   "cell_type": "markdown",
   "id": "192ca077",
   "metadata": {},
   "source": [
    "`data_bulk.csv` — данные о подаче сыпучих материалов (объём)\n",
    "\n",
    "`data_wire.csv` — данные о проволочных материалах (объём)\n",
    "\n",
    "`data_gas.csv` — данные о продувке сплава газом"
   ]
  },
  {
   "cell_type": "markdown",
   "id": "de376766",
   "metadata": {},
   "source": [
    "Переименуем названия признаков."
   ]
  },
  {
   "cell_type": "code",
   "execution_count": null,
   "id": "a888f6f4",
   "metadata": {},
   "outputs": [],
   "source": [
    "bulk = bulk.rename(columns = {\n",
    "    'Bulk 1' : 'bulk_1', 'Bulk 2' : 'bulk_2',\n",
    "    'Bulk 3' : 'bulk_3', 'Bulk 4' : 'bulk_4',\n",
    "    'Bulk 5' : 'bulk_5', 'Bulk 6' : 'bulk_6',\n",
    "    'Bulk 7' : 'bulk_7', 'Bulk 8' : 'bulk_8',\n",
    "    'Bulk 9' : 'bulk_9', 'Bulk 10' : 'bulk_10',\n",
    "    'Bulk 11' : 'bulk_11', 'Bulk 12' : 'bulk_12',\n",
    "    'Bulk 13' : 'bulk_13', 'Bulk 14' : 'bulk_14',\n",
    "    'Bulk 15' : 'bulk_15'})"
   ]
  },
  {
   "cell_type": "code",
   "execution_count": null,
   "id": "f5b92128",
   "metadata": {},
   "outputs": [],
   "source": [
    "wire = wire.rename(columns = {\n",
    "    'Wire 1' : 'wire_1', 'Wire 2' : 'wire_2',\n",
    "    'Wire 3' : 'wire_3', 'Wire 4' : 'wire_4',\n",
    "    'Wire 5' : 'wire_5', 'Wire 6' : 'wire_6',\n",
    "    'Wire 7' : 'wire_7', 'Wire 8' : 'wire_8',\n",
    "    'Wire 9' : 'wire_9'})\n"
   ]
  },
  {
   "cell_type": "code",
   "execution_count": null,
   "id": "d59613a4",
   "metadata": {},
   "outputs": [],
   "source": [
    "gas = gas.rename(columns = {\n",
    "    'Газ 1' : 'gas_1'})"
   ]
  },
  {
   "cell_type": "markdown",
   "id": "78547f5c",
   "metadata": {},
   "source": [
    "На этапе исследовательского анализа, мы убедились, что в данных о дополнительных материалах нет отрицательных значений. Данные о проволоке и сыпучих материалах имеют много признаков, проверять каждый мы не будем. Посмотрим на распределение данных о продувке газом."
   ]
  },
  {
   "cell_type": "code",
   "execution_count": null,
   "id": "04654133",
   "metadata": {},
   "outputs": [],
   "source": [
    "plot(gas,'gas_1', 'Распределение объема газа')"
   ]
  },
  {
   "cell_type": "markdown",
   "id": "3379d234",
   "metadata": {},
   "source": [
    "В целом можно сказать, что распределение похоже на нормальное, есть моменты, когда газа поступало относительно много. \n",
    "Заполним пропуски в признаках нулями и сделаем столбец 'key' индексом."
   ]
  },
  {
   "cell_type": "code",
   "execution_count": null,
   "id": "5d663e6f",
   "metadata": {},
   "outputs": [],
   "source": [
    "def fill_and_index(df):\n",
    "    \n",
    "    df = df.fillna(0).set_index('key')\n",
    "    return df"
   ]
  },
  {
   "cell_type": "code",
   "execution_count": null,
   "id": "e8b931a0",
   "metadata": {},
   "outputs": [],
   "source": [
    "gas, bulk, wire = fill_and_index(gas), fill_and_index(bulk), fill_and_index(wire)"
   ]
  },
  {
   "cell_type": "markdown",
   "id": "231584c9",
   "metadata": {},
   "source": [
    "**Объединим признаки в одну таблицу**"
   ]
  },
  {
   "cell_type": "markdown",
   "id": "6e4d8da7",
   "metadata": {},
   "source": [
    "- temps - температура первого и последнего (целевой признак) замеров\n",
    "- temp_time - время между первым и последним замером\n",
    "- arc_count_iter_time - средняя на партию полная мощность и количество нагревов\n",
    "- gas, wire, bulk - данные о присадках и продуве газом"
   ]
  },
  {
   "cell_type": "code",
   "execution_count": null,
   "id": "8b448fa4",
   "metadata": {},
   "outputs": [],
   "source": [
    "data = temps.join([temp_time[['interval']], arc_count_iter_time, gas, wire, bulk])\n",
    "data"
   ]
  },
  {
   "cell_type": "code",
   "execution_count": null,
   "id": "9b98e66a",
   "metadata": {},
   "outputs": [],
   "source": [
    "data.info()"
   ]
  },
  {
   "cell_type": "code",
   "execution_count": null,
   "id": "e1c5ae12",
   "metadata": {},
   "outputs": [],
   "source": [
    "data[data.isna().any(axis=1)]"
   ]
  },
  {
   "cell_type": "markdown",
   "id": "9827442e",
   "metadata": {},
   "source": [
    "После объединения таблиц получились пропуски. Вероятно, это связано с тем, что во вспомогательных данных отсутствовали партии, которые были в данных об измерении температуры.\n",
    "\n",
    "Удалим две строки с пропусками в полной мощности, остальные пропуски заполним нулями."
   ]
  },
  {
   "cell_type": "code",
   "execution_count": null,
   "id": "8c707f95",
   "metadata": {},
   "outputs": [],
   "source": [
    "data.dropna(subset=['full_power'],inplace=True)"
   ]
  },
  {
   "cell_type": "code",
   "execution_count": null,
   "id": "4bd917c3",
   "metadata": {},
   "outputs": [],
   "source": [
    "data = data.fillna(0)\n",
    "data.info()"
   ]
  },
  {
   "cell_type": "markdown",
   "id": "e6b19128",
   "metadata": {},
   "source": [
    "Построим тепловую карту корреляции признаков"
   ]
  },
  {
   "cell_type": "code",
   "execution_count": null,
   "id": "c7ec8b32",
   "metadata": {},
   "outputs": [],
   "source": [
    "data_corr = data.corr()"
   ]
  },
  {
   "cell_type": "code",
   "execution_count": null,
   "id": "282d9c71",
   "metadata": {},
   "outputs": [],
   "source": [
    "plt.figure(figsize=(20,15))\n",
    "sns.heatmap(data_corr, annot=True, fmt='.2g', vmin=-1, vmax=1, center= 0, cmap= 'coolwarm',\n",
    "        xticklabels=data_corr.columns,\n",
    "        yticklabels=data_corr.columns)"
   ]
  },
  {
   "cell_type": "markdown",
   "id": "a2364d90",
   "metadata": {},
   "source": [
    "Все что имеет коэффициентт корреляции 0,9 и более исключим:wire_8, bulk_9  и заоодно wire_5 - ни на что не влияет."
   ]
  },
  {
   "cell_type": "code",
   "execution_count": null,
   "id": "87d61815",
   "metadata": {},
   "outputs": [],
   "source": [
    "data.drop(['wire_8', 'bulk_9', 'wire_5'], axis='columns', inplace=True) \n",
    "data"
   ]
  },
  {
   "cell_type": "markdown",
   "id": "0e036c9e",
   "metadata": {},
   "source": [
    "### Вывод:\n",
    "\n",
    "Проведена предварительная обработка данных:\n",
    "\n",
    "- Преобразованы названия признаков в соответствии с правилами стиля.\n",
    "- Удалены некорректные данные в признаках  вычислена полная мощность и добавлена качестве обучающего признака.\n",
    "- В данных об объемах присадок и продувке газом пропуски заполнены нулями.\n",
    "- Произведено объединение обучающих признаков в одну таблицу с признаками. \n",
    "- Построена тепловая карта корреляции признаков и удалены признаки с коэффициентом корреляции 0.7 и выше.\n",
    "\n",
    "Данные подготовлены для дальнейшего разбиения на выборки для построения и обучения моделей."
   ]
  },
  {
   "cell_type": "markdown",
   "id": "75ef596b",
   "metadata": {},
   "source": [
    "**План работы:**\n",
    "1. Исследовательский анализ полученных данных. Корректировка задачи.\n",
    "2. Предобработка данных для создания признаков модели.\n",
    "3. Создание, обучение, тестирование модели.\n",
    "4. Выводы."
   ]
  },
  {
   "cell_type": "markdown",
   "id": "4bd2c7a5",
   "metadata": {},
   "source": [
    "**Вопросы:**\n",
    "- На каком этапе необходимо предсказать температуру расплавленной стали? - ответ получен на консультации - необходимо предсказать последнюю замеренную температуру.\n",
    "- Есть ли какие либо дополнительные, не выданные  нам данные, которые помогли бы улучшить качество модели?\n",
    "- На консультации обсуждалась возможность суммировать количество всех присадок по партиям, я не стала этого делать ввиду того что температурра плавления разных присадок может быть разная,соответственно, каждая присадка может влиять на итоговое повышение температуры. Верный ли такой вывод?\n",
    "- При некоторых размышлениях, как признак мощности была выбрана полная мощность, ведь именно она характеризует количество потребляемой энегрии\n",
    "- Как мне кажется, хорошим признаком мог бы являться химический состав сплава с температурой плавления для каждой присадки, точнее его отклонение от требуемого, так как именно от него зависит, будут ли добавлять присадки, сколько и каких, будут ли нагревать сплав повторно, сколько раз и как долго будет длиться нагрев. Есть у нас такие данные?"
   ]
  },
  {
   "cell_type": "markdown",
   "id": "31cd0609",
   "metadata": {},
   "source": [
    "## Обучение моделей"
   ]
  },
  {
   "cell_type": "markdown",
   "id": "dd5d3c3b",
   "metadata": {},
   "source": [
    "Подготовим данные. \n",
    "\n",
    "Выделим признаки и целевой признак.\n",
    "\n"
   ]
  },
  {
   "cell_type": "code",
   "execution_count": null,
   "id": "741cec71",
   "metadata": {},
   "outputs": [],
   "source": [
    "target = data['last_temp']\n",
    "features = data.drop('last_temp',axis=1)"
   ]
  },
  {
   "cell_type": "markdown",
   "id": "61803bdf",
   "metadata": {},
   "source": [
    "Разделение выборок."
   ]
  },
  {
   "cell_type": "code",
   "execution_count": null,
   "id": "1984c5c7",
   "metadata": {},
   "outputs": [],
   "source": [
    "X_train, X_test, y_train, y_test = train_test_split(features, target, test_size=0.25, random_state=12345)\n",
    "X_train_valid, X_valid, y_train_valid, y_valid = train_test_split(X_train, y_train, test_size=0.25, random_state=12345)\n",
    "\n",
    "print('Valid shapes:')\n",
    "print(X_train_valid.shape, X_valid.shape, y_train_valid.shape, y_valid.shape)\n",
    "print('Train/test shapes:')\n",
    "print(X_train.shape, X_test.shape, y_train.shape, y_test.shape)"
   ]
  },
  {
   "cell_type": "markdown",
   "id": "3d4d5fb0",
   "metadata": {},
   "source": [
    "Перед обучением моделей узнаем, какую точность дает константная модель. Константная модель выбирается так, чтобы значение метрики MAE было предельно низким. Нужно найти такое значение **a**, при котором достигается минимум: $$ MAE=1/N\\displaystyle\\sum_{i=1}^{N} |y_i - a| $$\n",
    "Минимум получается, когда **a** равно медиане целевого признака. Возьмем медианную последнюю температуру обучающей выборки и предскажем ей целевой признак тестовой выборки."
   ]
  },
  {
   "cell_type": "code",
   "execution_count": null,
   "id": "cc55bbb1",
   "metadata": {},
   "outputs": [],
   "source": [
    "dummy_mae = mae(y_test, [np.median(y_train) for i in y_test])\n",
    "print(f'Точность константной модели {dummy_mae:.2f}')"
   ]
  },
  {
   "cell_type": "markdown",
   "id": "b660c3b4",
   "metadata": {},
   "source": [
    "Посмотрим на стандартное отклонение целевого признака."
   ]
  },
  {
   "cell_type": "code",
   "execution_count": null,
   "id": "fb6c5c47",
   "metadata": {},
   "outputs": [],
   "source": [
    "data['last_temp'].std()"
   ]
  },
  {
   "cell_type": "markdown",
   "id": "b74c00de",
   "metadata": {},
   "source": [
    "Ошибка константной модели ниже стандартного отклонения."
   ]
  },
  {
   "cell_type": "markdown",
   "id": "0dd7c475",
   "metadata": {},
   "source": [
    "Создадим функцию обучения моделей и вывода метрики MAE."
   ]
  },
  {
   "cell_type": "code",
   "execution_count": null,
   "id": "cd4c48a0",
   "metadata": {},
   "outputs": [],
   "source": [
    "def model_result(model, X_train, y_train, X_test, y_test):\n",
    "        \n",
    "    model.fit(X_train, y_train)  \n",
    "      \n",
    "    y_pred = model.predict(X_test)  \n",
    "\n",
    "    return mae(y_test, y_pred)"
   ]
  },
  {
   "cell_type": "markdown",
   "id": "8b2ba1a3",
   "metadata": {},
   "source": [
    "Cначала обучим модель через алгоритм линейной регрессии."
   ]
  },
  {
   "cell_type": "code",
   "execution_count": null,
   "id": "d93d59de",
   "metadata": {},
   "outputs": [],
   "source": [
    "model_linear = LinearRegression()\n",
    "model_linear.fit(X_train, y_train)\n",
    "mae_linear = mae(y_test, model_linear.predict(X_test))\n",
    "mae_linear"
   ]
  },
  {
   "cell_type": "markdown",
   "id": "12ef76a6",
   "metadata": {},
   "source": [
    "Модель показала более высокую точность, по сравнению с константной моделью. Ошибка при этом в 2 раза меньше стандартного отклонения.\n",
    "\n",
    "Посмотрим на результат обучения гребневой модели."
   ]
  },
  {
   "cell_type": "code",
   "execution_count": null,
   "id": "ec8f4f30",
   "metadata": {},
   "outputs": [],
   "source": [
    "result_ridge=[]\n",
    "for i in np.arange(0.1, 1.5, 0.25):\n",
    "    model_ridge = Ridge(random_state=12345, alpha=i)\n",
    "    result_ridge.append(model_result(model_ridge, X_train_valid, y_train_valid, X_valid, y_valid))\n",
    "result_ridge"
   ]
  },
  {
   "cell_type": "code",
   "execution_count": null,
   "id": "a80dab48",
   "metadata": {},
   "outputs": [],
   "source": [
    "pd.DataFrame(data=result_ridge,\n",
    "             index=np.arange(0.1, 1.5, 0.25),\n",
    "             columns=['score'])"
   ]
  },
  {
   "cell_type": "code",
   "execution_count": null,
   "id": "76269ad8",
   "metadata": {},
   "outputs": [],
   "source": [
    "model_ridge = Ridge(random_state=12345, alpha=1.35)\n",
    "model_ridge.fit(X_train, y_train)\n",
    "mae_ridge = mae(y_test, model_ridge.predict(X_test))\n",
    "mae_ridge"
   ]
  },
  {
   "cell_type": "markdown",
   "id": "1e94045d",
   "metadata": {},
   "source": [
    "Результат гребневой регрессии совсем немного лучше линейной, при этом с увеличением значения alpha незначительно улучшается метрика"
   ]
  },
  {
   "cell_type": "markdown",
   "id": "3549c44b",
   "metadata": {},
   "source": [
    "Обучим случайный лес."
   ]
  },
  {
   "cell_type": "code",
   "execution_count": null,
   "id": "cffb4dc8",
   "metadata": {
    "scrolled": true
   },
   "outputs": [],
   "source": [
    "result_forest=[]\n",
    "for i in range(1, 101, 5):\n",
    "    model_forest = RandomForestRegressor(random_state=12345, n_estimators=i, max_depth = 11, n_jobs=-1, max_features = \"sqrt\")\n",
    "    result_forest.append(model_result(model_forest, X_train_valid, y_train_valid, X_valid, y_valid))\n",
    "result_forest"
   ]
  },
  {
   "cell_type": "code",
   "execution_count": null,
   "id": "38b2f15e",
   "metadata": {
    "scrolled": true
   },
   "outputs": [],
   "source": [
    "pd.DataFrame(data=result_forest,\n",
    "             index=range(1, 101, 5),\n",
    "             columns=['score'])"
   ]
  },
  {
   "cell_type": "code",
   "execution_count": null,
   "id": "5dcdbc51",
   "metadata": {},
   "outputs": [],
   "source": [
    "model = RandomForestRegressor(random_state=12345, n_estimators=86, max_depth = 11, n_jobs=-1, max_features = \"sqrt\")\n",
    "model.fit(X_train, y_train)\n",
    "mae_rf = mae(y_test, model.predict(X_test))\n",
    "mae_rf"
   ]
  },
  {
   "cell_type": "markdown",
   "id": "b0c70d31",
   "metadata": {},
   "source": [
    "Случайный лес показывает немногим лучший результат чем гребневая и линейная регрессии, но до требуемого менее 6.8 не дотягивает."
   ]
  },
  {
   "cell_type": "markdown",
   "id": "c4877e5b",
   "metadata": {},
   "source": [
    "Попробуем градиентную модель CatBoost."
   ]
  },
  {
   "cell_type": "code",
   "execution_count": null,
   "id": "df17af35",
   "metadata": {},
   "outputs": [],
   "source": [
    "model_cb = CatBoostRegressor(loss_function = 'MAE', verbose=100, random_state=12345)\n",
    "model_cb.fit(X_train, y_train)\n",
    "mae_cb = mae(y_test, model_cb.predict(X_test))\n",
    "mae_cb"
   ]
  },
  {
   "cell_type": "markdown",
   "id": "0d979c83",
   "metadata": {},
   "source": [
    "CatBoost по умолчанию выдал точность 6.01. По опыту коллег известно, что настройка CatBoost редко позволяет существенно увеличить качество. Поэтому оставим модель на настройках по умолчанию."
   ]
  },
  {
   "cell_type": "markdown",
   "id": "b7dc0d61",
   "metadata": {},
   "source": [
    "Взглянем на важность признаков."
   ]
  },
  {
   "cell_type": "code",
   "execution_count": null,
   "id": "ec4950ac",
   "metadata": {
    "scrolled": true
   },
   "outputs": [],
   "source": [
    "importances = pd.DataFrame({'feature':X_train.columns,'importance':np.round(model_cb.feature_importances_,3)})\n",
    "importances = importances.sort_values('importance',ascending=False).set_index('feature')\n",
    "print(importances)\n",
    "importances.plot.bar();"
   ]
  },
  {
   "cell_type": "markdown",
   "id": "eea136dd",
   "metadata": {},
   "source": [
    "Как видно из графика выше наибольше влияние на конечную температуру оказывают первая измеренная температура, полная мощность и добавление проволочного материала 1. Наименьшее влияние оказывают сыпучие материалы 13, 8, 2 и проволочные материалы 7 и 9."
   ]
  },
  {
   "cell_type": "markdown",
   "id": "eccc3290",
   "metadata": {},
   "source": [
    "Сравним качество моделей."
   ]
  },
  {
   "cell_type": "code",
   "execution_count": null,
   "id": "22f07eff",
   "metadata": {},
   "outputs": [],
   "source": [
    "overall = pd.DataFrame(data=[mae_linear, mae_ridge, mae_rf, mae_cb, dummy_mae],\n",
    "                       columns=['MAE на тестовой выборке'],\n",
    "                      index=['Линейная_регрессия','Гребневая регрессия','Случайный_лес', 'CatBoost', 'Константная модель'])\n",
    "overall.sort_values('MAE на тестовой выборке')"
   ]
  },
  {
   "cell_type": "markdown",
   "id": "8ae73f20",
   "metadata": {},
   "source": [
    "Отобразим на графике точность предсказаний лучшей модели."
   ]
  },
  {
   "cell_type": "code",
   "execution_count": null,
   "id": "8c8cf0f4",
   "metadata": {},
   "outputs": [],
   "source": [
    "plt.figure(figsize=(15, 5))\n",
    "\n",
    "plt.plot(y_test, 'o', label='True')\n",
    "plt.plot(y_test.index, model_cb.predict(X_test), 'o', label='Predict')\n",
    "\n",
    "plt.title('Test prediction')\n",
    "plt.legend()\n",
    "plt.show()"
   ]
  },
  {
   "cell_type": "markdown",
   "id": "d78409d8",
   "metadata": {},
   "source": [
    "### Вывод:\n",
    "На этапе обучения моделей было произведено разбение на выборки: `train`, `test`, `valid`.\n",
    "\n",
    "Обучены модели :\n",
    "- Линейная регрессия\n",
    "- Гребневая регрессия\n",
    "- Случайный лес\n",
    "- Градиентный бустинг\n",
    "\n",
    "Лучшее качество показала модель градиентного бустинга, MAE 6.01. При этом наибольше влияние на конечную температуру оказывают:\n",
    " - первая измеренная температура\n",
    " - полная мощность\n",
    " - добавление проволочного материала 1.\n",
    " \n",
    "Добавление остальных легирующих материалов незначительно либо совсем не оказывают влияния на конечную температуру.\n",
    "\n",
    "Точность предсказаний наглядно отображена на графике."
   ]
  },
  {
   "cell_type": "markdown",
   "id": "cdb9d9ae",
   "metadata": {},
   "source": [
    "## Общий вывод:\n",
    "В рамках работы над задачей было сделано следующее:\n",
    "- Проведён исследовательский анализ предоставленных данных. Изучены данные о времени и мощности нагрева электродами, об объеме и времени добавления дополнительных материалов для улучшения качества стали, о продувке газом и результатах измерения температур. Данные о времени добавления легирующих материалов сочтены не существенными и исключены из дальнейшего рассмотрения.\n",
    "\n",
    "- Проведена предварительная обработка данных, удалены аномалии(большая часть данных целевого признака отсутствовала), исправлены некорректные данные, произведён отбор обучающих признаков и создание дополнительных признаков, итоговый набор признаков объедиен в общую таблицу и  откорректирован при помощи тепловой карты, отброшены признаки с корреляцией выше 0.9.\n",
    "\n",
    "- Созданы и обучены четыре модели:\n",
    "    - Линейная регрессия\n",
    "    - Гребневая регрессия\n",
    "    - Случайный лес\n",
    "    - Градиентный бустинг\n",
    "\n",
    "Все обученные модели разумны - показали качество выше, чем у константной.\n",
    "\n",
    "Путём сравнения результатов точности, модель Градиентный бустинг была определена как лучшая с MAE = 6.01\n",
    "\n",
    "Как видно из графика, модель предсказывет температуру довольно близко к факту, хотя есть и некоторые расхождения. Есть значения факта с высокой температурой или наоборот низкой, а предсказания показывают средний результат.\n",
    "\n",
    "В среднем модель ошибается на 6.01 градусов (меньше 0,4% от средней температуры)\n",
    "\n",
    "Данная модель может быть использована для предсказания конечной температуры сплава после всех манипуляций с ним с погрешностью до 6 градусов цельсия. \n",
    "Модель можно использовать для поиска оптимальных конфигураций начального нагрева и мощности нагрева сплава для уменьшения использования электроэнергии.\n",
    "    "
   ]
  },
  {
   "cell_type": "markdown",
   "id": "d97934bf",
   "metadata": {},
   "source": [
    "## Итоговый отчёт"
   ]
  },
  {
   "cell_type": "markdown",
   "id": "ebb5b12f",
   "metadata": {},
   "source": [
    "1. В ходе решения поставленной задачи выполнено следующее:\n",
    " - Проведен исследовательский анализ данных:\n",
    "    - рассмотрено на распределение исходных данных\n",
    "    - проанализирован порядок событий в производственном процессе\n",
    "    - исключены партии, которые не имеют целевого признака\n",
    "    - исключены лишние наборы данных \n",
    "    - оставлены только те события, которые находятся в промежутке между первым и последним замерами\n",
    "    \n",
    "- Подобраны и созданы дополнительные признаки для обучения модели:\n",
    "    - сгенерирован ряд признаков\n",
    "    - признаки проверены на мультиколлинеарность, исключены лишние\n",
    "    \n",
    "    \n",
    "- Построить модель, которая предскажет температуру стали:\n",
    "    - сформированы обучающая, валидационная и тестовая выборки\n",
    "    - выбраны несколько моделей:\n",
    "        - Линейная регрессия\n",
    "        - Гребневая регрессия\n",
    "        - Случайный лес\n",
    "        - Градиентный бустинг\n",
    "    - проверена эффективность моделей на валидационной выборке с помощью показателя эффективности MAE\n",
    "    - эффективность лучшей модели проверена на тестовой выборке\n",
    "    \n",
    "2. Дополнительно было проведено масштабирование признаков, однако модели показали лучший результат без масштабирования, поэтому принято решение опустить этот пункт.\n",
    "\n",
    "3. Ключевыми шагами в решении задачи хочется выделить детальную подготовку данных, создание новых важных признаков, исключение лишних признаков и применение градиентной модели.\n",
    "\n",
    "4. Итоговой моделью стала модель с наилучшим результатом точночти предсказаний - CatBoost  c погрешностью в 6°C. Точность модели можно улучшить имея больше данных, например, эталонный химический состав итогового сплава и/или зная некоторые процессы \"внутренней кухни\" обусловленные человеческими факторами.\n",
    "    "
   ]
  },
  {
   "cell_type": "code",
   "execution_count": null,
   "id": "a0573af6",
   "metadata": {},
   "outputs": [],
   "source": []
  }
 ],
 "metadata": {
  "ExecuteTimeLog": [
   {
    "duration": 2507,
    "start_time": "2022-07-29T01:06:48.292Z"
   },
   {
    "duration": 170,
    "start_time": "2022-07-29T01:07:14.374Z"
   },
   {
    "duration": 1494,
    "start_time": "2022-08-01T15:34:56.161Z"
   },
   {
    "duration": 406,
    "start_time": "2022-08-01T15:34:57.657Z"
   },
   {
    "duration": 127,
    "start_time": "2022-08-01T15:34:58.064Z"
   },
   {
    "duration": 54,
    "start_time": "2022-08-01T15:34:58.193Z"
   },
   {
    "duration": 10,
    "start_time": "2022-08-01T15:34:58.249Z"
   },
   {
    "duration": 9,
    "start_time": "2022-08-01T15:34:58.260Z"
   },
   {
    "duration": 110,
    "start_time": "2022-08-01T15:34:58.271Z"
   },
   {
    "duration": 60,
    "start_time": "2022-08-01T15:34:58.383Z"
   },
   {
    "duration": 31,
    "start_time": "2022-08-01T15:34:58.444Z"
   },
   {
    "duration": 65,
    "start_time": "2022-08-01T15:34:58.478Z"
   },
   {
    "duration": 12,
    "start_time": "2022-08-01T15:34:58.544Z"
   },
   {
    "duration": 262,
    "start_time": "2022-08-01T15:34:58.557Z"
   },
   {
    "duration": 9,
    "start_time": "2022-08-01T15:34:58.821Z"
   },
   {
    "duration": 10,
    "start_time": "2022-08-01T15:34:58.831Z"
   },
   {
    "duration": 13,
    "start_time": "2022-08-01T15:34:58.843Z"
   },
   {
    "duration": 17,
    "start_time": "2022-08-01T15:34:58.859Z"
   },
   {
    "duration": 11,
    "start_time": "2022-08-01T15:34:58.878Z"
   },
   {
    "duration": 7,
    "start_time": "2022-08-01T15:34:58.891Z"
   },
   {
    "duration": 243,
    "start_time": "2022-08-01T15:34:58.900Z"
   },
   {
    "duration": 263,
    "start_time": "2022-08-01T15:34:59.144Z"
   },
   {
    "duration": 140,
    "start_time": "2022-08-01T15:34:59.408Z"
   },
   {
    "duration": 31,
    "start_time": "2022-08-01T15:34:59.550Z"
   },
   {
    "duration": 3,
    "start_time": "2022-08-01T15:34:59.583Z"
   },
   {
    "duration": 12,
    "start_time": "2022-08-01T15:34:59.587Z"
   },
   {
    "duration": 4,
    "start_time": "2022-08-01T15:34:59.601Z"
   },
   {
    "duration": 36,
    "start_time": "2022-08-01T15:34:59.607Z"
   },
   {
    "duration": 415,
    "start_time": "2022-08-01T15:34:59.644Z"
   },
   {
    "duration": 418,
    "start_time": "2022-08-01T15:35:00.063Z"
   },
   {
    "duration": 402,
    "start_time": "2022-08-01T15:35:00.482Z"
   },
   {
    "duration": 19,
    "start_time": "2022-08-01T15:35:00.886Z"
   },
   {
    "duration": 33,
    "start_time": "2022-08-01T15:35:00.907Z"
   },
   {
    "duration": 16,
    "start_time": "2022-08-01T15:35:00.942Z"
   },
   {
    "duration": 440,
    "start_time": "2022-08-01T15:35:00.959Z"
   },
   {
    "duration": 406,
    "start_time": "2022-08-01T15:35:01.401Z"
   },
   {
    "duration": 16,
    "start_time": "2022-08-01T15:35:01.809Z"
   },
   {
    "duration": 8,
    "start_time": "2022-08-01T15:35:01.837Z"
   },
   {
    "duration": 21,
    "start_time": "2022-08-01T15:35:01.847Z"
   },
   {
    "duration": 5,
    "start_time": "2022-08-01T15:35:01.869Z"
   },
   {
    "duration": 21,
    "start_time": "2022-08-01T15:35:01.875Z"
   },
   {
    "duration": 20,
    "start_time": "2022-08-01T15:35:01.898Z"
   },
   {
    "duration": 42,
    "start_time": "2022-08-01T15:35:01.920Z"
   },
   {
    "duration": 428,
    "start_time": "2022-08-01T15:35:01.964Z"
   },
   {
    "duration": 3,
    "start_time": "2022-08-01T15:35:02.394Z"
   },
   {
    "duration": 11,
    "start_time": "2022-08-01T15:35:02.399Z"
   },
   {
    "duration": 6,
    "start_time": "2022-08-01T15:35:02.411Z"
   },
   {
    "duration": 373,
    "start_time": "2022-08-01T15:35:02.419Z"
   },
   {
    "duration": 3,
    "start_time": "2022-08-01T15:35:02.793Z"
   },
   {
    "duration": 9,
    "start_time": "2022-08-01T15:35:02.797Z"
   },
   {
    "duration": 49,
    "start_time": "2022-08-01T15:35:02.807Z"
   },
   {
    "duration": 12,
    "start_time": "2022-08-01T15:35:02.858Z"
   },
   {
    "duration": 139,
    "start_time": "2022-08-01T15:35:02.872Z"
   },
   {
    "duration": 5,
    "start_time": "2022-08-01T15:35:03.013Z"
   },
   {
    "duration": 25,
    "start_time": "2022-08-01T15:35:03.019Z"
   },
   {
    "duration": 8,
    "start_time": "2022-08-01T15:35:03.046Z"
   },
   {
    "duration": 4600,
    "start_time": "2022-08-01T15:35:03.055Z"
   },
   {
    "duration": 34,
    "start_time": "2022-08-01T15:35:07.656Z"
   },
   {
    "duration": 1330,
    "start_time": "2022-08-01T15:38:57.469Z"
   },
   {
    "duration": 203,
    "start_time": "2022-08-01T15:38:58.801Z"
   },
   {
    "duration": 144,
    "start_time": "2022-08-01T15:38:59.007Z"
   },
   {
    "duration": 45,
    "start_time": "2022-08-01T15:38:59.153Z"
   },
   {
    "duration": 9,
    "start_time": "2022-08-01T15:38:59.201Z"
   },
   {
    "duration": 13,
    "start_time": "2022-08-01T15:38:59.237Z"
   },
   {
    "duration": 95,
    "start_time": "2022-08-01T15:38:59.251Z"
   },
   {
    "duration": 40,
    "start_time": "2022-08-01T15:38:59.348Z"
   },
   {
    "duration": 61,
    "start_time": "2022-08-01T15:38:59.389Z"
   },
   {
    "duration": 31,
    "start_time": "2022-08-01T15:38:59.451Z"
   },
   {
    "duration": 11,
    "start_time": "2022-08-01T15:38:59.483Z"
   },
   {
    "duration": 259,
    "start_time": "2022-08-01T15:38:59.496Z"
   },
   {
    "duration": 9,
    "start_time": "2022-08-01T15:38:59.757Z"
   },
   {
    "duration": 9,
    "start_time": "2022-08-01T15:38:59.768Z"
   },
   {
    "duration": 9,
    "start_time": "2022-08-01T15:38:59.778Z"
   },
   {
    "duration": 10,
    "start_time": "2022-08-01T15:38:59.789Z"
   },
   {
    "duration": 10,
    "start_time": "2022-08-01T15:38:59.800Z"
   },
   {
    "duration": 5,
    "start_time": "2022-08-01T15:38:59.811Z"
   },
   {
    "duration": 199,
    "start_time": "2022-08-01T15:38:59.818Z"
   },
   {
    "duration": 278,
    "start_time": "2022-08-01T15:39:00.019Z"
   },
   {
    "duration": 151,
    "start_time": "2022-08-01T15:39:00.299Z"
   },
   {
    "duration": 32,
    "start_time": "2022-08-01T15:39:00.451Z"
   },
   {
    "duration": 3,
    "start_time": "2022-08-01T15:39:00.485Z"
   },
   {
    "duration": 27,
    "start_time": "2022-08-01T15:39:00.489Z"
   },
   {
    "duration": 22,
    "start_time": "2022-08-01T15:39:00.517Z"
   },
   {
    "duration": 6,
    "start_time": "2022-08-01T15:39:00.541Z"
   },
   {
    "duration": 427,
    "start_time": "2022-08-01T15:39:00.549Z"
   },
   {
    "duration": 407,
    "start_time": "2022-08-01T15:39:00.978Z"
   },
   {
    "duration": 408,
    "start_time": "2022-08-01T15:39:01.387Z"
   },
   {
    "duration": 18,
    "start_time": "2022-08-01T15:39:01.796Z"
   },
   {
    "duration": 30,
    "start_time": "2022-08-01T15:39:01.816Z"
   },
   {
    "duration": 16,
    "start_time": "2022-08-01T15:39:01.847Z"
   },
   {
    "duration": 443,
    "start_time": "2022-08-01T15:39:01.864Z"
   },
   {
    "duration": 377,
    "start_time": "2022-08-01T15:39:02.308Z"
   },
   {
    "duration": 17,
    "start_time": "2022-08-01T15:39:02.686Z"
   },
   {
    "duration": 7,
    "start_time": "2022-08-01T15:39:02.705Z"
   },
   {
    "duration": 25,
    "start_time": "2022-08-01T15:39:02.714Z"
   },
   {
    "duration": 8,
    "start_time": "2022-08-01T15:39:02.741Z"
   },
   {
    "duration": 13,
    "start_time": "2022-08-01T15:39:02.750Z"
   },
   {
    "duration": 21,
    "start_time": "2022-08-01T15:39:02.764Z"
   },
   {
    "duration": 48,
    "start_time": "2022-08-01T15:39:02.790Z"
   },
   {
    "duration": 443,
    "start_time": "2022-08-01T15:39:02.840Z"
   },
   {
    "duration": 4,
    "start_time": "2022-08-01T15:39:03.285Z"
   },
   {
    "duration": 7,
    "start_time": "2022-08-01T15:39:03.290Z"
   },
   {
    "duration": 5,
    "start_time": "2022-08-01T15:39:03.298Z"
   },
   {
    "duration": 387,
    "start_time": "2022-08-01T15:39:03.305Z"
   },
   {
    "duration": 3,
    "start_time": "2022-08-01T15:39:03.694Z"
   },
   {
    "duration": 9,
    "start_time": "2022-08-01T15:39:03.699Z"
   },
   {
    "duration": 45,
    "start_time": "2022-08-01T15:39:03.709Z"
   },
   {
    "duration": 10,
    "start_time": "2022-08-01T15:39:03.755Z"
   },
   {
    "duration": 133,
    "start_time": "2022-08-01T15:39:03.767Z"
   },
   {
    "duration": 5,
    "start_time": "2022-08-01T15:39:03.902Z"
   },
   {
    "duration": 19,
    "start_time": "2022-08-01T15:39:03.908Z"
   },
   {
    "duration": 8,
    "start_time": "2022-08-01T15:39:03.936Z"
   },
   {
    "duration": 4542,
    "start_time": "2022-08-01T15:39:03.946Z"
   },
   {
    "duration": 48,
    "start_time": "2022-08-01T15:39:08.489Z"
   },
   {
    "duration": 182,
    "start_time": "2022-08-01T16:14:57.832Z"
   },
   {
    "duration": 4,
    "start_time": "2022-08-01T16:24:28.541Z"
   },
   {
    "duration": 116,
    "start_time": "2022-08-01T18:14:37.580Z"
   },
   {
    "duration": 6,
    "start_time": "2022-08-01T18:14:44.357Z"
   },
   {
    "duration": 11,
    "start_time": "2022-08-01T18:14:47.165Z"
   },
   {
    "duration": 48,
    "start_time": "2022-08-02T19:58:51.369Z"
   },
   {
    "duration": 1728,
    "start_time": "2022-08-02T19:59:01.343Z"
   },
   {
    "duration": 415,
    "start_time": "2022-08-02T19:59:03.073Z"
   },
   {
    "duration": 132,
    "start_time": "2022-08-02T19:59:03.489Z"
   },
   {
    "duration": 41,
    "start_time": "2022-08-02T19:59:03.623Z"
   },
   {
    "duration": 10,
    "start_time": "2022-08-02T19:59:03.665Z"
   },
   {
    "duration": 8,
    "start_time": "2022-08-02T19:59:03.676Z"
   },
   {
    "duration": 89,
    "start_time": "2022-08-02T19:59:03.685Z"
   },
   {
    "duration": 51,
    "start_time": "2022-08-02T19:59:03.776Z"
   },
   {
    "duration": 29,
    "start_time": "2022-08-02T19:59:03.828Z"
   },
   {
    "duration": 63,
    "start_time": "2022-08-02T19:59:03.860Z"
   },
   {
    "duration": 11,
    "start_time": "2022-08-02T19:59:03.925Z"
   },
   {
    "duration": 441,
    "start_time": "2022-08-02T19:59:03.938Z"
   },
   {
    "duration": 11,
    "start_time": "2022-08-02T19:59:04.381Z"
   },
   {
    "duration": 8,
    "start_time": "2022-08-02T19:59:04.394Z"
   },
   {
    "duration": 13,
    "start_time": "2022-08-02T19:59:04.404Z"
   },
   {
    "duration": 8,
    "start_time": "2022-08-02T19:59:04.418Z"
   },
   {
    "duration": 8,
    "start_time": "2022-08-02T19:59:04.428Z"
   },
   {
    "duration": 4,
    "start_time": "2022-08-02T19:59:04.438Z"
   },
   {
    "duration": 405,
    "start_time": "2022-08-02T19:59:04.443Z"
   },
   {
    "duration": 497,
    "start_time": "2022-08-02T19:59:04.850Z"
   },
   {
    "duration": 63,
    "start_time": "2022-08-02T19:59:05.349Z"
   },
   {
    "duration": 34,
    "start_time": "2022-08-02T19:59:05.414Z"
   },
   {
    "duration": 3,
    "start_time": "2022-08-02T19:59:05.450Z"
   },
   {
    "duration": 13,
    "start_time": "2022-08-02T19:59:05.455Z"
   },
   {
    "duration": 4,
    "start_time": "2022-08-02T19:59:05.469Z"
   },
   {
    "duration": 6,
    "start_time": "2022-08-02T19:59:05.474Z"
   },
   {
    "duration": 543,
    "start_time": "2022-08-02T19:59:05.511Z"
   },
   {
    "duration": 532,
    "start_time": "2022-08-02T19:59:06.058Z"
   },
   {
    "duration": 510,
    "start_time": "2022-08-02T19:59:06.591Z"
   },
   {
    "duration": 22,
    "start_time": "2022-08-02T19:59:07.103Z"
   },
   {
    "duration": 12,
    "start_time": "2022-08-02T19:59:07.126Z"
   },
   {
    "duration": 13,
    "start_time": "2022-08-02T19:59:07.140Z"
   },
   {
    "duration": 565,
    "start_time": "2022-08-02T19:59:07.154Z"
   },
   {
    "duration": 494,
    "start_time": "2022-08-02T19:59:07.721Z"
   },
   {
    "duration": 15,
    "start_time": "2022-08-02T19:59:08.216Z"
   },
   {
    "duration": 7,
    "start_time": "2022-08-02T19:59:08.233Z"
   },
   {
    "duration": 11,
    "start_time": "2022-08-02T19:59:08.241Z"
   },
   {
    "duration": 5,
    "start_time": "2022-08-02T19:59:08.253Z"
   },
   {
    "duration": 13,
    "start_time": "2022-08-02T19:59:08.260Z"
   },
   {
    "duration": 43,
    "start_time": "2022-08-02T19:59:08.275Z"
   },
   {
    "duration": 26,
    "start_time": "2022-08-02T19:59:08.320Z"
   },
   {
    "duration": 573,
    "start_time": "2022-08-02T19:59:08.347Z"
   },
   {
    "duration": 3,
    "start_time": "2022-08-02T19:59:08.922Z"
   },
   {
    "duration": 6,
    "start_time": "2022-08-02T19:59:08.927Z"
   },
   {
    "duration": 5,
    "start_time": "2022-08-02T19:59:08.934Z"
   },
   {
    "duration": 597,
    "start_time": "2022-08-02T19:59:08.940Z"
   },
   {
    "duration": 3,
    "start_time": "2022-08-02T19:59:09.539Z"
   },
   {
    "duration": 8,
    "start_time": "2022-08-02T19:59:09.543Z"
   },
   {
    "duration": 31,
    "start_time": "2022-08-02T19:59:09.552Z"
   },
   {
    "duration": 33,
    "start_time": "2022-08-02T19:59:09.585Z"
   },
   {
    "duration": 24,
    "start_time": "2022-08-02T19:59:09.620Z"
   },
   {
    "duration": 4,
    "start_time": "2022-08-02T19:59:09.646Z"
   },
   {
    "duration": 11,
    "start_time": "2022-08-02T19:59:09.651Z"
   },
   {
    "duration": 9,
    "start_time": "2022-08-02T19:59:09.664Z"
   },
   {
    "duration": 4361,
    "start_time": "2022-08-02T19:59:09.675Z"
   },
   {
    "duration": 31,
    "start_time": "2022-08-02T19:59:14.038Z"
   },
   {
    "duration": 3,
    "start_time": "2022-08-02T19:59:14.071Z"
   },
   {
    "duration": 5,
    "start_time": "2022-08-02T19:59:14.110Z"
   },
   {
    "duration": 10,
    "start_time": "2022-08-02T19:59:14.116Z"
   },
   {
    "duration": 33,
    "start_time": "2022-08-02T19:59:14.128Z"
   },
   {
    "duration": 90,
    "start_time": "2022-08-02T20:07:17.907Z"
   },
   {
    "duration": 218,
    "start_time": "2022-08-02T20:07:39.536Z"
   },
   {
    "duration": 4,
    "start_time": "2022-08-02T20:08:24.967Z"
   },
   {
    "duration": 3,
    "start_time": "2022-08-02T20:10:44.960Z"
   },
   {
    "duration": 124,
    "start_time": "2022-08-02T20:12:53.271Z"
   },
   {
    "duration": 4,
    "start_time": "2022-08-02T20:20:25.890Z"
   },
   {
    "duration": 8,
    "start_time": "2022-08-02T20:20:28.284Z"
   },
   {
    "duration": 30,
    "start_time": "2022-08-02T20:22:08.949Z"
   },
   {
    "duration": 5,
    "start_time": "2022-08-02T20:22:19.037Z"
   },
   {
    "duration": 3,
    "start_time": "2022-08-02T20:22:59.384Z"
   },
   {
    "duration": 190,
    "start_time": "2022-08-02T20:23:03.633Z"
   },
   {
    "duration": 3,
    "start_time": "2022-08-02T20:24:15.158Z"
   },
   {
    "duration": 3,
    "start_time": "2022-08-02T20:25:10.298Z"
   },
   {
    "duration": 42,
    "start_time": "2022-08-02T20:25:17.370Z"
   },
   {
    "duration": 86,
    "start_time": "2022-08-02T20:27:08.125Z"
   },
   {
    "duration": 71,
    "start_time": "2022-08-02T20:30:57.941Z"
   },
   {
    "duration": 187,
    "start_time": "2022-08-02T20:31:00.231Z"
   },
   {
    "duration": 21,
    "start_time": "2022-08-02T20:31:24.290Z"
   },
   {
    "duration": 206,
    "start_time": "2022-08-02T20:32:49.308Z"
   },
   {
    "duration": 51,
    "start_time": "2022-08-02T20:34:11.833Z"
   },
   {
    "duration": 8,
    "start_time": "2022-08-02T20:39:07.280Z"
   },
   {
    "duration": 2322,
    "start_time": "2022-08-02T20:40:52.345Z"
   },
   {
    "duration": 8,
    "start_time": "2022-08-02T20:42:04.145Z"
   },
   {
    "duration": 178,
    "start_time": "2022-08-02T20:49:11.187Z"
   },
   {
    "duration": 167,
    "start_time": "2022-08-02T20:49:59.175Z"
   },
   {
    "duration": 188,
    "start_time": "2022-08-02T20:50:09.897Z"
   },
   {
    "duration": 215,
    "start_time": "2022-08-02T20:50:17.229Z"
   },
   {
    "duration": 192,
    "start_time": "2022-08-02T20:50:22.826Z"
   },
   {
    "duration": 228,
    "start_time": "2022-08-02T20:50:33.085Z"
   },
   {
    "duration": 189,
    "start_time": "2022-08-02T20:50:39.962Z"
   },
   {
    "duration": 166,
    "start_time": "2022-08-02T20:50:47.998Z"
   },
   {
    "duration": 177,
    "start_time": "2022-08-02T20:50:53.491Z"
   },
   {
    "duration": 176,
    "start_time": "2022-08-02T20:51:10.050Z"
   },
   {
    "duration": 179,
    "start_time": "2022-08-02T20:51:14.634Z"
   },
   {
    "duration": 181,
    "start_time": "2022-08-02T20:51:25.670Z"
   },
   {
    "duration": 167,
    "start_time": "2022-08-02T20:51:36.544Z"
   },
   {
    "duration": 185,
    "start_time": "2022-08-02T20:51:43.059Z"
   },
   {
    "duration": 178,
    "start_time": "2022-08-02T20:51:48.948Z"
   },
   {
    "duration": 184,
    "start_time": "2022-08-02T20:52:04.957Z"
   },
   {
    "duration": 178,
    "start_time": "2022-08-02T20:52:15.325Z"
   },
   {
    "duration": 178,
    "start_time": "2022-08-02T20:52:20.167Z"
   },
   {
    "duration": 177,
    "start_time": "2022-08-02T20:52:25.081Z"
   },
   {
    "duration": 185,
    "start_time": "2022-08-02T20:52:29.879Z"
   },
   {
    "duration": 15,
    "start_time": "2022-08-02T20:56:33.579Z"
   },
   {
    "duration": 1267,
    "start_time": "2022-08-02T20:56:49.644Z"
   },
   {
    "duration": 173,
    "start_time": "2022-08-02T20:56:50.912Z"
   },
   {
    "duration": 119,
    "start_time": "2022-08-02T20:56:51.086Z"
   },
   {
    "duration": 40,
    "start_time": "2022-08-02T20:56:51.212Z"
   },
   {
    "duration": 59,
    "start_time": "2022-08-02T20:56:51.254Z"
   },
   {
    "duration": 9,
    "start_time": "2022-08-02T20:56:51.314Z"
   },
   {
    "duration": 116,
    "start_time": "2022-08-02T20:56:51.325Z"
   },
   {
    "duration": 36,
    "start_time": "2022-08-02T20:56:51.443Z"
   },
   {
    "duration": 43,
    "start_time": "2022-08-02T20:56:51.481Z"
   },
   {
    "duration": 26,
    "start_time": "2022-08-02T20:56:51.526Z"
   },
   {
    "duration": 10,
    "start_time": "2022-08-02T20:56:51.553Z"
   },
   {
    "duration": 243,
    "start_time": "2022-08-02T20:56:51.564Z"
   },
   {
    "duration": 8,
    "start_time": "2022-08-02T20:56:51.808Z"
   },
   {
    "duration": 9,
    "start_time": "2022-08-02T20:56:51.818Z"
   },
   {
    "duration": 9,
    "start_time": "2022-08-02T20:56:51.829Z"
   },
   {
    "duration": 8,
    "start_time": "2022-08-02T20:56:51.840Z"
   },
   {
    "duration": 9,
    "start_time": "2022-08-02T20:56:51.850Z"
   },
   {
    "duration": 4,
    "start_time": "2022-08-02T20:56:51.861Z"
   },
   {
    "duration": 209,
    "start_time": "2022-08-02T20:56:51.866Z"
   },
   {
    "duration": 243,
    "start_time": "2022-08-02T20:56:52.077Z"
   },
   {
    "duration": 123,
    "start_time": "2022-08-02T20:56:52.322Z"
   },
   {
    "duration": 31,
    "start_time": "2022-08-02T20:56:52.447Z"
   },
   {
    "duration": 4,
    "start_time": "2022-08-02T20:56:52.480Z"
   },
   {
    "duration": 37,
    "start_time": "2022-08-02T20:56:52.485Z"
   },
   {
    "duration": 5,
    "start_time": "2022-08-02T20:56:52.524Z"
   },
   {
    "duration": 11,
    "start_time": "2022-08-02T20:56:52.531Z"
   },
   {
    "duration": 431,
    "start_time": "2022-08-02T20:56:52.544Z"
   },
   {
    "duration": 358,
    "start_time": "2022-08-02T20:56:52.978Z"
   },
   {
    "duration": 348,
    "start_time": "2022-08-02T20:56:53.338Z"
   },
   {
    "duration": 29,
    "start_time": "2022-08-02T20:56:53.687Z"
   },
   {
    "duration": 12,
    "start_time": "2022-08-02T20:56:53.717Z"
   },
   {
    "duration": 12,
    "start_time": "2022-08-02T20:56:53.731Z"
   },
   {
    "duration": 411,
    "start_time": "2022-08-02T20:56:53.745Z"
   },
   {
    "duration": 342,
    "start_time": "2022-08-02T20:56:54.158Z"
   },
   {
    "duration": 24,
    "start_time": "2022-08-02T20:56:54.501Z"
   },
   {
    "duration": 7,
    "start_time": "2022-08-02T20:56:54.527Z"
   },
   {
    "duration": 9,
    "start_time": "2022-08-02T20:56:54.535Z"
   },
   {
    "duration": 3,
    "start_time": "2022-08-02T20:56:54.545Z"
   },
   {
    "duration": 12,
    "start_time": "2022-08-02T20:56:54.549Z"
   },
   {
    "duration": 17,
    "start_time": "2022-08-02T20:56:54.563Z"
   },
   {
    "duration": 53,
    "start_time": "2022-08-02T20:56:54.582Z"
   },
   {
    "duration": 404,
    "start_time": "2022-08-02T20:56:54.637Z"
   },
   {
    "duration": 4,
    "start_time": "2022-08-02T20:56:55.042Z"
   },
   {
    "duration": 16,
    "start_time": "2022-08-02T20:56:55.048Z"
   },
   {
    "duration": 12,
    "start_time": "2022-08-02T20:56:55.065Z"
   },
   {
    "duration": 344,
    "start_time": "2022-08-02T20:56:55.078Z"
   },
   {
    "duration": 3,
    "start_time": "2022-08-02T20:56:55.424Z"
   },
   {
    "duration": 8,
    "start_time": "2022-08-02T20:56:55.429Z"
   },
   {
    "duration": 34,
    "start_time": "2022-08-02T20:56:55.438Z"
   },
   {
    "duration": 10,
    "start_time": "2022-08-02T20:56:55.474Z"
   },
   {
    "duration": 128,
    "start_time": "2022-08-02T20:56:55.485Z"
   },
   {
    "duration": 5,
    "start_time": "2022-08-02T20:56:55.614Z"
   },
   {
    "duration": 15,
    "start_time": "2022-08-02T20:56:55.620Z"
   },
   {
    "duration": 8,
    "start_time": "2022-08-02T20:56:55.637Z"
   },
   {
    "duration": 3823,
    "start_time": "2022-08-02T20:56:55.646Z"
   },
   {
    "duration": 41,
    "start_time": "2022-08-02T20:56:59.471Z"
   },
   {
    "duration": 3,
    "start_time": "2022-08-02T20:56:59.513Z"
   },
   {
    "duration": 8,
    "start_time": "2022-08-02T20:56:59.517Z"
   },
   {
    "duration": 125,
    "start_time": "2022-08-02T20:56:59.527Z"
   },
   {
    "duration": 0,
    "start_time": "2022-08-02T20:56:59.653Z"
   },
   {
    "duration": 0,
    "start_time": "2022-08-02T20:56:59.654Z"
   },
   {
    "duration": 0,
    "start_time": "2022-08-02T20:56:59.656Z"
   },
   {
    "duration": 0,
    "start_time": "2022-08-02T20:56:59.657Z"
   },
   {
    "duration": 0,
    "start_time": "2022-08-02T20:56:59.657Z"
   },
   {
    "duration": 0,
    "start_time": "2022-08-02T20:56:59.659Z"
   },
   {
    "duration": 0,
    "start_time": "2022-08-02T20:56:59.659Z"
   },
   {
    "duration": 0,
    "start_time": "2022-08-02T20:56:59.661Z"
   },
   {
    "duration": 29,
    "start_time": "2022-08-02T20:58:09.222Z"
   },
   {
    "duration": 4,
    "start_time": "2022-08-02T20:58:13.811Z"
   },
   {
    "duration": 3,
    "start_time": "2022-08-02T20:58:15.180Z"
   },
   {
    "duration": 223,
    "start_time": "2022-08-02T20:58:16.789Z"
   },
   {
    "duration": 156,
    "start_time": "2022-08-02T20:58:19.260Z"
   },
   {
    "duration": 7,
    "start_time": "2022-08-02T20:58:20.232Z"
   },
   {
    "duration": 2266,
    "start_time": "2022-08-02T20:58:22.547Z"
   },
   {
    "duration": 6,
    "start_time": "2022-08-02T20:58:24.815Z"
   },
   {
    "duration": 199,
    "start_time": "2022-08-02T20:58:24.822Z"
   },
   {
    "duration": 179,
    "start_time": "2022-08-02T20:59:14.886Z"
   },
   {
    "duration": 185,
    "start_time": "2022-08-02T20:59:24.659Z"
   },
   {
    "duration": 186,
    "start_time": "2022-08-02T20:59:35.648Z"
   },
   {
    "duration": 198,
    "start_time": "2022-08-02T20:59:47.195Z"
   },
   {
    "duration": 205,
    "start_time": "2022-08-02T20:59:55.124Z"
   },
   {
    "duration": 198,
    "start_time": "2022-08-02T21:00:01.476Z"
   },
   {
    "duration": 2373,
    "start_time": "2022-08-02T21:00:43.922Z"
   },
   {
    "duration": 8,
    "start_time": "2022-08-02T21:00:56.945Z"
   },
   {
    "duration": 253,
    "start_time": "2022-08-02T21:01:35.732Z"
   },
   {
    "duration": 268,
    "start_time": "2022-08-02T21:01:53.224Z"
   },
   {
    "duration": 257,
    "start_time": "2022-08-02T21:02:00.883Z"
   },
   {
    "duration": 197,
    "start_time": "2022-08-02T21:02:10.445Z"
   },
   {
    "duration": 266,
    "start_time": "2022-08-02T21:02:19.227Z"
   },
   {
    "duration": 9,
    "start_time": "2022-08-02T21:04:53.660Z"
   },
   {
    "duration": 20,
    "start_time": "2022-08-02T21:05:52.242Z"
   },
   {
    "duration": 3503,
    "start_time": "2022-08-02T21:05:53.574Z"
   },
   {
    "duration": 10,
    "start_time": "2022-08-02T21:15:33.294Z"
   },
   {
    "duration": 10,
    "start_time": "2022-08-02T21:15:48.290Z"
   },
   {
    "duration": 92,
    "start_time": "2022-08-02T21:16:00.720Z"
   },
   {
    "duration": 3684,
    "start_time": "2022-08-02T21:16:29.619Z"
   },
   {
    "duration": 277,
    "start_time": "2022-08-02T21:22:55.634Z"
   },
   {
    "duration": 3653,
    "start_time": "2022-08-02T21:26:37.195Z"
   },
   {
    "duration": 342,
    "start_time": "2022-08-02T21:27:08.038Z"
   },
   {
    "duration": 299,
    "start_time": "2022-08-02T21:37:16.036Z"
   },
   {
    "duration": 259,
    "start_time": "2022-08-02T21:37:22.762Z"
   },
   {
    "duration": 275,
    "start_time": "2022-08-02T21:38:31.075Z"
   },
   {
    "duration": 257,
    "start_time": "2022-08-02T21:38:38.860Z"
   },
   {
    "duration": 3389,
    "start_time": "2022-08-02T21:40:29.030Z"
   },
   {
    "duration": 11,
    "start_time": "2022-08-02T21:41:48.255Z"
   },
   {
    "duration": 276,
    "start_time": "2022-08-02T21:41:59.373Z"
   },
   {
    "duration": 258,
    "start_time": "2022-08-02T21:42:11.026Z"
   },
   {
    "duration": 196,
    "start_time": "2022-08-02T21:42:36.708Z"
   },
   {
    "duration": 22,
    "start_time": "2022-08-02T21:46:17.502Z"
   },
   {
    "duration": 179,
    "start_time": "2022-08-02T21:47:27.190Z"
   },
   {
    "duration": 13,
    "start_time": "2022-08-02T21:52:04.859Z"
   },
   {
    "duration": 185,
    "start_time": "2022-08-02T21:52:16.925Z"
   },
   {
    "duration": 11,
    "start_time": "2022-08-02T21:52:31.669Z"
   },
   {
    "duration": 12,
    "start_time": "2022-08-02T21:52:37.425Z"
   },
   {
    "duration": 9,
    "start_time": "2022-08-02T21:52:51.152Z"
   },
   {
    "duration": 8,
    "start_time": "2022-08-02T21:53:07.364Z"
   },
   {
    "duration": 191,
    "start_time": "2022-08-02T21:55:14.732Z"
   },
   {
    "duration": 175,
    "start_time": "2022-08-02T21:56:22.869Z"
   },
   {
    "duration": 9,
    "start_time": "2022-08-02T22:12:05.996Z"
   },
   {
    "duration": 25,
    "start_time": "2022-08-02T22:12:28.288Z"
   },
   {
    "duration": 14,
    "start_time": "2022-08-02T22:15:05.201Z"
   },
   {
    "duration": 157,
    "start_time": "2022-08-02T22:15:12.555Z"
   },
   {
    "duration": 1356,
    "start_time": "2022-08-02T23:01:48.580Z"
   },
   {
    "duration": 174,
    "start_time": "2022-08-02T23:01:49.938Z"
   },
   {
    "duration": 135,
    "start_time": "2022-08-02T23:01:50.114Z"
   },
   {
    "duration": 39,
    "start_time": "2022-08-02T23:01:50.251Z"
   },
   {
    "duration": 20,
    "start_time": "2022-08-02T23:01:50.291Z"
   },
   {
    "duration": 9,
    "start_time": "2022-08-02T23:01:50.312Z"
   },
   {
    "duration": 93,
    "start_time": "2022-08-02T23:01:50.322Z"
   },
   {
    "duration": 34,
    "start_time": "2022-08-02T23:01:50.417Z"
   },
   {
    "duration": 26,
    "start_time": "2022-08-02T23:01:50.453Z"
   },
   {
    "duration": 57,
    "start_time": "2022-08-02T23:01:50.482Z"
   },
   {
    "duration": 11,
    "start_time": "2022-08-02T23:01:50.541Z"
   },
   {
    "duration": 233,
    "start_time": "2022-08-02T23:01:50.553Z"
   },
   {
    "duration": 9,
    "start_time": "2022-08-02T23:01:50.788Z"
   },
   {
    "duration": 25,
    "start_time": "2022-08-02T23:01:50.798Z"
   },
   {
    "duration": 20,
    "start_time": "2022-08-02T23:01:50.824Z"
   },
   {
    "duration": 9,
    "start_time": "2022-08-02T23:01:50.845Z"
   },
   {
    "duration": 16,
    "start_time": "2022-08-02T23:01:50.856Z"
   },
   {
    "duration": 6,
    "start_time": "2022-08-02T23:01:50.874Z"
   },
   {
    "duration": 178,
    "start_time": "2022-08-02T23:01:50.882Z"
   },
   {
    "duration": 250,
    "start_time": "2022-08-02T23:01:51.061Z"
   },
   {
    "duration": 127,
    "start_time": "2022-08-02T23:01:51.313Z"
   },
   {
    "duration": 32,
    "start_time": "2022-08-02T23:01:51.441Z"
   },
   {
    "duration": 4,
    "start_time": "2022-08-02T23:01:51.475Z"
   },
   {
    "duration": 38,
    "start_time": "2022-08-02T23:01:51.481Z"
   },
   {
    "duration": 8,
    "start_time": "2022-08-02T23:01:51.521Z"
   },
   {
    "duration": 6,
    "start_time": "2022-08-02T23:01:51.531Z"
   },
   {
    "duration": 393,
    "start_time": "2022-08-02T23:01:51.539Z"
   },
   {
    "duration": 364,
    "start_time": "2022-08-02T23:01:51.936Z"
   },
   {
    "duration": 400,
    "start_time": "2022-08-02T23:01:52.311Z"
   },
   {
    "duration": 16,
    "start_time": "2022-08-02T23:01:52.713Z"
   },
   {
    "duration": 15,
    "start_time": "2022-08-02T23:01:52.732Z"
   },
   {
    "duration": 19,
    "start_time": "2022-08-02T23:01:52.749Z"
   },
   {
    "duration": 405,
    "start_time": "2022-08-02T23:01:52.770Z"
   },
   {
    "duration": 357,
    "start_time": "2022-08-02T23:01:53.176Z"
   },
   {
    "duration": 15,
    "start_time": "2022-08-02T23:01:53.535Z"
   },
   {
    "duration": 8,
    "start_time": "2022-08-02T23:01:53.551Z"
   },
   {
    "duration": 8,
    "start_time": "2022-08-02T23:01:53.560Z"
   },
   {
    "duration": 4,
    "start_time": "2022-08-02T23:01:53.570Z"
   },
   {
    "duration": 43,
    "start_time": "2022-08-02T23:01:53.576Z"
   },
   {
    "duration": 19,
    "start_time": "2022-08-02T23:01:53.620Z"
   },
   {
    "duration": 28,
    "start_time": "2022-08-02T23:01:53.641Z"
   },
   {
    "duration": 403,
    "start_time": "2022-08-02T23:01:53.671Z"
   },
   {
    "duration": 4,
    "start_time": "2022-08-02T23:01:54.075Z"
   },
   {
    "duration": 9,
    "start_time": "2022-08-02T23:01:54.081Z"
   },
   {
    "duration": 9,
    "start_time": "2022-08-02T23:01:54.092Z"
   },
   {
    "duration": 353,
    "start_time": "2022-08-02T23:01:54.102Z"
   },
   {
    "duration": 3,
    "start_time": "2022-08-02T23:01:54.457Z"
   },
   {
    "duration": 11,
    "start_time": "2022-08-02T23:01:54.461Z"
   },
   {
    "duration": 51,
    "start_time": "2022-08-02T23:01:54.474Z"
   },
   {
    "duration": 11,
    "start_time": "2022-08-02T23:01:54.527Z"
   },
   {
    "duration": 114,
    "start_time": "2022-08-02T23:01:54.539Z"
   },
   {
    "duration": 5,
    "start_time": "2022-08-02T23:01:54.654Z"
   },
   {
    "duration": 14,
    "start_time": "2022-08-02T23:01:54.661Z"
   },
   {
    "duration": 9,
    "start_time": "2022-08-02T23:01:54.677Z"
   },
   {
    "duration": 3885,
    "start_time": "2022-08-02T23:01:54.687Z"
   },
   {
    "duration": 45,
    "start_time": "2022-08-02T23:01:58.573Z"
   },
   {
    "duration": 4,
    "start_time": "2022-08-02T23:01:58.620Z"
   },
   {
    "duration": 10,
    "start_time": "2022-08-02T23:01:58.626Z"
   },
   {
    "duration": 35,
    "start_time": "2022-08-02T23:01:58.638Z"
   },
   {
    "duration": 4,
    "start_time": "2022-08-02T23:01:58.675Z"
   },
   {
    "duration": 31,
    "start_time": "2022-08-02T23:01:58.680Z"
   },
   {
    "duration": 204,
    "start_time": "2022-08-02T23:01:58.712Z"
   },
   {
    "duration": 295,
    "start_time": "2022-08-02T23:01:58.917Z"
   },
   {
    "duration": 99,
    "start_time": "2022-08-02T23:01:59.213Z"
   },
   {
    "duration": 297,
    "start_time": "2022-08-02T23:01:59.314Z"
   },
   {
    "duration": 0,
    "start_time": "2022-08-02T23:01:59.613Z"
   },
   {
    "duration": 0,
    "start_time": "2022-08-02T23:01:59.614Z"
   },
   {
    "duration": 0,
    "start_time": "2022-08-02T23:01:59.615Z"
   },
   {
    "duration": 0,
    "start_time": "2022-08-02T23:01:59.616Z"
   },
   {
    "duration": 0,
    "start_time": "2022-08-02T23:01:59.617Z"
   },
   {
    "duration": 0,
    "start_time": "2022-08-02T23:01:59.618Z"
   },
   {
    "duration": 0,
    "start_time": "2022-08-02T23:01:59.619Z"
   },
   {
    "duration": 0,
    "start_time": "2022-08-02T23:01:59.620Z"
   },
   {
    "duration": 10,
    "start_time": "2022-08-02T23:04:53.866Z"
   },
   {
    "duration": 2449,
    "start_time": "2022-08-02T23:04:56.933Z"
   },
   {
    "duration": 7,
    "start_time": "2022-08-02T23:04:59.383Z"
   },
   {
    "duration": 279,
    "start_time": "2022-08-02T23:04:59.391Z"
   },
   {
    "duration": 55,
    "start_time": "2022-08-02T23:05:00.429Z"
   },
   {
    "duration": 3625,
    "start_time": "2022-08-02T23:05:00.676Z"
   },
   {
    "duration": 263,
    "start_time": "2022-08-02T23:05:10.859Z"
   },
   {
    "duration": 336,
    "start_time": "2022-08-02T23:05:24.237Z"
   },
   {
    "duration": 9,
    "start_time": "2022-08-02T23:05:30.639Z"
   },
   {
    "duration": 180,
    "start_time": "2022-08-02T23:05:37.023Z"
   },
   {
    "duration": 2146,
    "start_time": "2022-08-03T09:07:06.089Z"
   },
   {
    "duration": 195,
    "start_time": "2022-08-03T09:07:08.237Z"
   },
   {
    "duration": 188,
    "start_time": "2022-08-03T09:07:08.840Z"
   },
   {
    "duration": 46,
    "start_time": "2022-08-03T09:07:09.142Z"
   },
   {
    "duration": 10,
    "start_time": "2022-08-03T09:07:09.501Z"
   },
   {
    "duration": 10,
    "start_time": "2022-08-03T09:07:09.705Z"
   },
   {
    "duration": 76,
    "start_time": "2022-08-03T09:07:10.538Z"
   },
   {
    "duration": 39,
    "start_time": "2022-08-03T09:07:21.848Z"
   },
   {
    "duration": 34,
    "start_time": "2022-08-03T09:07:23.694Z"
   },
   {
    "duration": 45,
    "start_time": "2022-08-03T09:07:24.445Z"
   },
   {
    "duration": 18,
    "start_time": "2022-08-03T09:07:24.952Z"
   },
   {
    "duration": 213,
    "start_time": "2022-08-03T09:07:25.317Z"
   },
   {
    "duration": 8,
    "start_time": "2022-08-03T09:07:25.703Z"
   },
   {
    "duration": 9,
    "start_time": "2022-08-03T09:07:25.890Z"
   },
   {
    "duration": 8,
    "start_time": "2022-08-03T09:07:26.106Z"
   },
   {
    "duration": 8,
    "start_time": "2022-08-03T09:07:26.284Z"
   },
   {
    "duration": 9,
    "start_time": "2022-08-03T09:07:26.486Z"
   },
   {
    "duration": 3,
    "start_time": "2022-08-03T09:07:26.942Z"
   },
   {
    "duration": 238,
    "start_time": "2022-08-03T09:07:27.396Z"
   },
   {
    "duration": 252,
    "start_time": "2022-08-03T09:07:28.660Z"
   },
   {
    "duration": 134,
    "start_time": "2022-08-03T09:07:29.341Z"
   },
   {
    "duration": 40,
    "start_time": "2022-08-03T09:07:30.286Z"
   },
   {
    "duration": 4,
    "start_time": "2022-08-03T09:07:32.813Z"
   },
   {
    "duration": 16,
    "start_time": "2022-08-03T09:07:33.187Z"
   },
   {
    "duration": 7,
    "start_time": "2022-08-03T09:07:33.564Z"
   },
   {
    "duration": 4,
    "start_time": "2022-08-03T09:07:34.405Z"
   },
   {
    "duration": 430,
    "start_time": "2022-08-03T09:07:34.873Z"
   },
   {
    "duration": 416,
    "start_time": "2022-08-03T09:07:36.216Z"
   },
   {
    "duration": 503,
    "start_time": "2022-08-03T09:07:37.044Z"
   },
   {
    "duration": 30,
    "start_time": "2022-08-03T09:07:37.748Z"
   },
   {
    "duration": 20,
    "start_time": "2022-08-03T09:07:38.000Z"
   },
   {
    "duration": 22,
    "start_time": "2022-08-03T09:07:38.586Z"
   },
   {
    "duration": 458,
    "start_time": "2022-08-03T09:07:39.145Z"
   },
   {
    "duration": 395,
    "start_time": "2022-08-03T09:07:39.898Z"
   },
   {
    "duration": 20,
    "start_time": "2022-08-03T09:07:40.296Z"
   },
   {
    "duration": 12,
    "start_time": "2022-08-03T09:07:40.848Z"
   },
   {
    "duration": 13,
    "start_time": "2022-08-03T09:07:41.499Z"
   },
   {
    "duration": 3,
    "start_time": "2022-08-03T09:07:42.439Z"
   },
   {
    "duration": 12,
    "start_time": "2022-08-03T09:07:42.840Z"
   },
   {
    "duration": 25,
    "start_time": "2022-08-03T09:07:43.151Z"
   },
   {
    "duration": 32,
    "start_time": "2022-08-03T09:07:43.560Z"
   },
   {
    "duration": 448,
    "start_time": "2022-08-03T09:07:43.941Z"
   },
   {
    "duration": 6,
    "start_time": "2022-08-03T09:07:44.644Z"
   },
   {
    "duration": 5,
    "start_time": "2022-08-03T09:07:44.805Z"
   },
   {
    "duration": 4,
    "start_time": "2022-08-03T09:07:45.241Z"
   },
   {
    "duration": 400,
    "start_time": "2022-08-03T09:07:45.572Z"
   },
   {
    "duration": 4,
    "start_time": "2022-08-03T09:07:45.974Z"
   },
   {
    "duration": 8,
    "start_time": "2022-08-03T09:07:46.166Z"
   },
   {
    "duration": 38,
    "start_time": "2022-08-03T09:07:46.958Z"
   },
   {
    "duration": 12,
    "start_time": "2022-08-03T09:07:47.179Z"
   },
   {
    "duration": 151,
    "start_time": "2022-08-03T09:07:47.335Z"
   },
   {
    "duration": 7,
    "start_time": "2022-08-03T09:07:47.807Z"
   },
   {
    "duration": 14,
    "start_time": "2022-08-03T09:07:48.013Z"
   },
   {
    "duration": 8,
    "start_time": "2022-08-03T09:07:49.372Z"
   },
   {
    "duration": 4433,
    "start_time": "2022-08-03T09:07:50.038Z"
   },
   {
    "duration": 33,
    "start_time": "2022-08-03T09:07:54.473Z"
   },
   {
    "duration": 4,
    "start_time": "2022-08-03T09:08:45.589Z"
   },
   {
    "duration": 9,
    "start_time": "2022-08-03T09:08:46.849Z"
   },
   {
    "duration": 36,
    "start_time": "2022-08-03T09:10:39.253Z"
   },
   {
    "duration": 6,
    "start_time": "2022-08-03T09:10:42.459Z"
   },
   {
    "duration": 3,
    "start_time": "2022-08-03T09:10:47.211Z"
   },
   {
    "duration": 157,
    "start_time": "2022-08-03T09:10:48.797Z"
   },
   {
    "duration": 42,
    "start_time": "2022-08-03T09:11:15.435Z"
   },
   {
    "duration": 9,
    "start_time": "2022-08-03T09:11:16.808Z"
   },
   {
    "duration": 12,
    "start_time": "2022-08-03T09:11:22.385Z"
   },
   {
    "duration": 2355,
    "start_time": "2022-08-03T09:11:27.865Z"
   },
   {
    "duration": 7,
    "start_time": "2022-08-03T09:11:33.692Z"
   },
   {
    "duration": 254,
    "start_time": "2022-08-03T09:11:34.878Z"
   },
   {
    "duration": 4851,
    "start_time": "2022-08-03T09:11:38.238Z"
   },
   {
    "duration": 313,
    "start_time": "2022-08-03T09:11:43.090Z"
   },
   {
    "duration": 9,
    "start_time": "2022-08-03T09:13:13.571Z"
   },
   {
    "duration": 268,
    "start_time": "2022-08-03T09:13:16.246Z"
   }
  ],
  "kernelspec": {
   "display_name": "Python 3 (ipykernel)",
   "language": "python",
   "name": "python3"
  },
  "language_info": {
   "codemirror_mode": {
    "name": "ipython",
    "version": 3
   },
   "file_extension": ".py",
   "mimetype": "text/x-python",
   "name": "python",
   "nbconvert_exporter": "python",
   "pygments_lexer": "ipython3",
   "version": "3.9.7"
  },
  "toc": {
   "base_numbering": 1,
   "nav_menu": {
    "height": "273px",
    "width": "256px"
   },
   "number_sections": true,
   "sideBar": true,
   "skip_h1_title": true,
   "title_cell": "Table of Contents",
   "title_sidebar": "Contents",
   "toc_cell": false,
   "toc_position": {
    "height": "calc(100% - 180px)",
    "left": "10px",
    "top": "150px",
    "width": "366px"
   },
   "toc_section_display": true,
   "toc_window_display": true
  }
 },
 "nbformat": 4,
 "nbformat_minor": 5
}
