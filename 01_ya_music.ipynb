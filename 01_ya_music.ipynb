{
 "cells": [
  {
   "cell_type": "markdown",
   "metadata": {
    "id": "E0vqbgi9ay0H"
   },
   "source": [
    "# Яндекс.Музыка"
   ]
  },
  {
   "cell_type": "markdown",
   "metadata": {
    "id": "VUC88oWjTJw2"
   },
   "source": [
    "Сравнение Москвы и Петербурга окружено мифами. Например:\n",
    " * Москва — мегаполис, подчинённый жёсткому ритму рабочей недели;\n",
    " * Петербург — культурная столица, со своими вкусами.\n",
    "\n",
    "На данных Яндекс.Музыки вы сравните поведение пользователей двух столиц.\n",
    "\n",
    "**Цель исследования** — проверьте три гипотезы:\n",
    "1. Активность пользователей зависит от дня недели. Причём в Москве и Петербурге это проявляется по-разному.\n",
    "2. В понедельник утром в Москве преобладают одни жанры, а в Петербурге — другие. Так же и вечером пятницы преобладают разные жанры — в зависимости от города. \n",
    "3. Москва и Петербург предпочитают разные жанры музыки. В Москве чаще слушают поп-музыку, в Петербурге — русский рэп.\n",
    "\n",
    "**Ход исследования**\n",
    "\n",
    "Данные о поведении пользователей вы получите из файла `yandex_music_project.csv`. О качестве данных ничего не известно. Поэтому перед проверкой гипотез понадобится обзор данных. \n",
    "\n",
    "Вы проверите данные на ошибки и оцените их влияние на исследование. Затем, на этапе предобработки вы поищете возможность исправить самые критичные ошибки данных.\n",
    " \n",
    "Таким образом, исследование пройдёт в три этапа:\n",
    " 1. Обзор данных.\n",
    " 2. Предобработка данных.\n",
    " 3. Проверка гипотез.\n",
    "\n"
   ]
  },
  {
   "cell_type": "markdown",
   "metadata": {
    "id": "Ml1hmfXC_Zcs"
   },
   "source": [
    "## Обзор данных\n",
    "\n",
    "Составим первое представление о данных Яндекс.Музыки.\n",
    "\n",
    "\n"
   ]
  },
  {
   "cell_type": "code",
   "execution_count": null,
   "metadata": {
    "id": "AXN7PHPN_Zcs"
   },
   "outputs": [],
   "source": [
    "import pandas as pd"
   ]
  },
  {
   "cell_type": "code",
   "execution_count": null,
   "metadata": {
    "id": "fFVu7vqh_Zct"
   },
   "outputs": [],
   "source": [
    "df = pd.read_csv('/datasets/yandex_music_project.csv')"
   ]
  },
  {
   "cell_type": "markdown",
   "metadata": {
    "id": "rDoOMd3uTqnZ"
   },
   "source": [
    "Посмотрим на первые десять записей таблицы:"
   ]
  },
  {
   "cell_type": "code",
   "execution_count": null,
   "metadata": {
    "id": "oWTVX3gW_Zct"
   },
   "outputs": [],
   "source": [
    "df.head(10)"
   ]
  },
  {
   "cell_type": "markdown",
   "metadata": {
    "id": "EO73Kwic_Zct"
   },
   "source": [
    "Посмотрим общую информацию о таблице:"
   ]
  },
  {
   "cell_type": "code",
   "execution_count": null,
   "metadata": {
    "id": "DSf2kIb-_Zct"
   },
   "outputs": [],
   "source": [
    "df.info() "
   ]
  },
  {
   "cell_type": "markdown",
   "metadata": {
    "id": "TaQ2Iwbr_Zct"
   },
   "source": [
    "Итак, в таблице семь столбцов. Тип данных во всех столбцах — `object`.\n",
    "\n",
    "Согласно документации к данным:\n",
    "* `userID` — идентификатор пользователя;\n",
    "* `Track` — название трека;  \n",
    "* `artist` — имя исполнителя;\n",
    "* `genre` — название жанра;\n",
    "* `City` — город пользователя;\n",
    "* `time` — время начала прослушивания;\n",
    "* `Day` — день недели.\n",
    "\n",
    "В названиях колонок видны три нарушения стиля:\n",
    "1. Строчные буквы сочетаются с прописными.\n",
    "2. Встречаются пробелы.\n",
    "3. Количество значений в столбцах различается. Значит, в данных есть пропущенные значения. Присутствует \"верблюжий\" регистр, его мы заменим на \"змеиный\"\n",
    "\n",
    "\n",
    "\n"
   ]
  },
  {
   "cell_type": "markdown",
   "metadata": {
    "id": "MCB6-dXG_Zct"
   },
   "source": [
    "**Выводы**\n",
    "\n",
    "В каждой строке таблицы — данные о прослушанном треке. Часть колонок описывает саму композицию: название, исполнителя и жанр. Остальные данные рассказывают о пользователе: из какого он города, когда он слушал музыку. \n",
    "\n",
    "Предварительно можно утверждать, что, данных достаточно для проверки гипотез. Но встречаются пропуски в данных, а в названиях колонок — расхождения с хорошим стилем.\n",
    "\n",
    "Чтобы двигаться дальше, нужно устранить проблемы в данных."
   ]
  },
  {
   "cell_type": "markdown",
   "metadata": {
    "id": "SjYF6Ub9_Zct"
   },
   "source": [
    "## Предобработка данных\n",
    "Исправим стиль в заголовках столбцов, исключим пропуски. Затем проверим данные на дубликаты."
   ]
  },
  {
   "cell_type": "markdown",
   "metadata": {
    "id": "dIaKXr29_Zct"
   },
   "source": [
    "### Стиль заголовков"
   ]
  },
  {
   "cell_type": "code",
   "execution_count": null,
   "metadata": {
    "id": "oKOTdF_Q_Zct"
   },
   "outputs": [],
   "source": [
    "df.columns "
   ]
  },
  {
   "cell_type": "markdown",
   "metadata": {
    "id": "zj5534cv_Zct"
   },
   "source": [
    "Приведем названия в соответствие с хорошим стилем:\n",
    "* несколько слов в названии запишем в «змеином_регистре»,\n",
    "* все символы сделаем строчными,\n",
    "* устраним пробелы.\n",
    "\n",
    "Для этого переименуем колонки так:\n",
    "* `'  userID'` → `'user_id'`;\n",
    "* `'Track'` → `'track'`;\n",
    "* `'  City  '` → `'city'`;\n",
    "* `'Day'` → `'day'`."
   ]
  },
  {
   "cell_type": "code",
   "execution_count": null,
   "metadata": {
    "id": "ISlFqs5y_Zct"
   },
   "outputs": [],
   "source": [
    "df = df.rename(columns = {\n",
    "    '  userID':'user_id', \n",
    "    'Track' : 'track', \n",
    "    '  City  ' : 'city',\n",
    "    'Day' : 'day'}) "
   ]
  },
  {
   "cell_type": "markdown",
   "metadata": {
    "id": "1dqbh00J_Zct"
   },
   "source": [
    "Проверьте результат. Для этого ещё раз выведите на экран названия столбцов:"
   ]
  },
  {
   "cell_type": "code",
   "execution_count": null,
   "metadata": {
    "id": "d4NOAmTW_Zct"
   },
   "outputs": [],
   "source": [
    "df.columns "
   ]
  },
  {
   "cell_type": "markdown",
   "metadata": {
    "id": "5ISfbcfY_Zct"
   },
   "source": [
    "### Пропуски значений\n",
    "Сначала посчитаем, сколько в таблице пропущенных значений. "
   ]
  },
  {
   "cell_type": "code",
   "execution_count": null,
   "metadata": {
    "id": "RskX29qr_Zct"
   },
   "outputs": [],
   "source": [
    "df.isna().sum() "
   ]
  },
  {
   "cell_type": "markdown",
   "metadata": {
    "id": "qubhgnlO_Zct"
   },
   "source": [
    "Не все пропущенные значения влияют на исследование. Так в `track` и `artist` пропуски не важны для нашей работы. Достаточно заменить их явными обозначениями.\n",
    "\n",
    "Но пропуски в `genre` могут помешать сравнению музыкальных вкусов в Москве и Санкт-Петербурге. На практике было бы правильно установить причину пропусков и восстановить данные. Такой возможности нет в учебном проекте. Придётся:\n",
    "* заполнить и эти пропуски явными обозначениями,\n",
    "* оценить, насколько они повредят расчётам. "
   ]
  },
  {
   "cell_type": "markdown",
   "metadata": {
    "id": "fSv2laPA_Zct"
   },
   "source": [
    "Заменим пропущенные значения в столбцах `track`, `artist` и `genre` на строку `'unknown'`. Для этого создадим список `columns_to_replace`, переберем его элементы циклом `for` и для каждого столбца выполним замену пропущенных значений:"
   ]
  },
  {
   "cell_type": "code",
   "execution_count": null,
   "metadata": {
    "id": "KplB5qWs_Zct"
   },
   "outputs": [],
   "source": [
    "columns_to_replace = ['track', 'artist', 'genre']\n",
    "for index in columns_to_replace:\n",
    "    df[index] = df[index].fillna('unknown')\n",
    "    \n",
    "    # перебор названий столбцов в цикле и замена пропущенных значений на 'unknown'"
   ]
  },
  {
   "cell_type": "markdown",
   "metadata": {
    "id": "Ilsm-MZo_Zct"
   },
   "source": [
    "Убедимся, что в таблице не осталось пропусков."
   ]
  },
  {
   "cell_type": "code",
   "execution_count": null,
   "metadata": {
    "id": "Tq4nYRX4_Zct"
   },
   "outputs": [],
   "source": [
    "df.isna().sum() "
   ]
  },
  {
   "cell_type": "markdown",
   "metadata": {
    "id": "BWKRtBJ3_Zct"
   },
   "source": [
    "### Дубликаты\n",
    "Посчитаем явные дубликаты в таблице"
   ]
  },
  {
   "cell_type": "code",
   "execution_count": null,
   "metadata": {
    "id": "36eES_S0_Zct"
   },
   "outputs": [],
   "source": [
    "df.duplicated().sum() "
   ]
  },
  {
   "cell_type": "markdown",
   "metadata": {
    "id": "Ot25h6XR_Zct"
   },
   "source": [
    "Удалим явные дубликаты"
   ]
  },
  {
   "cell_type": "code",
   "execution_count": null,
   "metadata": {
    "id": "exFHq6tt_Zct"
   },
   "outputs": [],
   "source": [
    "df = df.drop_duplicates().reset_index(drop=True)\n"
   ]
  },
  {
   "cell_type": "code",
   "execution_count": null,
   "metadata": {
    "id": "-8PuNWQ0_Zct"
   },
   "outputs": [],
   "source": [
    "df.duplicated().sum() "
   ]
  },
  {
   "cell_type": "markdown",
   "metadata": {
    "id": "QlFBsxAr_Zct"
   },
   "source": [
    "Теперь избавимся от неявных дубликатов в колонке `genre`. Например, название одного и того же жанра может быть записано немного по-разному. Такие ошибки тоже повлияют на результат исследования."
   ]
  },
  {
   "cell_type": "markdown",
   "metadata": {
    "id": "eSjWwsOh_Zct"
   },
   "source": [
    "Выведем на экран список уникальных названий жанров, отсортированный в алфавитном порядке. \n"
   ]
  },
  {
   "cell_type": "code",
   "execution_count": null,
   "metadata": {
    "id": "JIUcqzZN_Zct"
   },
   "outputs": [],
   "source": [
    "df['genre'].sort_values().unique() "
   ]
  },
  {
   "cell_type": "markdown",
   "metadata": {
    "id": "qej-Qmuo_Zct"
   },
   "source": [
    "Видим следующие неявные дубликаты:\n",
    "* *hip*,\n",
    "* *hop*,\n",
    "* *hip-hop*.\n",
    "\n",
    "Чтобы очистить от них таблицу, напишите функцию `replace_wrong_genres()` с двумя параметрами: \n",
    "* `wrong_genres` — список дубликатов,\n",
    "* `correct_genre` — строка с правильным значением.\n"
   ]
  },
  {
   "cell_type": "code",
   "execution_count": null,
   "metadata": {
    "id": "ErNDkmns_Zct"
   },
   "outputs": [],
   "source": [
    "wrong_genres = ['hip', 'hop', 'hip-hop']\n",
    "correct_genre = 'hiphop'\n",
    "def replace_wrong_genres(wrong_genres, correct_genre):\n",
    "    df['genre'] = df['genre'].replace(wrong_genres, correct_genre)\n",
    "\n"
   ]
  },
  {
   "cell_type": "code",
   "execution_count": null,
   "metadata": {
    "id": "YN5i2hpmSo09"
   },
   "outputs": [],
   "source": [
    "replace_wrong_genres(wrong_genres, correct_genre) # Устранение неявных дубликатов"
   ]
  },
  {
   "cell_type": "code",
   "execution_count": null,
   "metadata": {
    "id": "wvixALnFG15m"
   },
   "outputs": [],
   "source": [
    "df['genre'].sort_values().unique()# Проверка на неявные дубликаты"
   ]
  },
  {
   "cell_type": "markdown",
   "metadata": {
    "id": "jz6a9-7HQUDd"
   },
   "source": [
    "**Выводы**\n",
    "\n",
    "Предобработка обнаружила три проблемы в данных:\n",
    "\n",
    "- нарушения в стиле заголовков,\n",
    "- пропущенные значения,\n",
    "- дубликаты — явные и неявные.\n",
    "\n",
    "Исправлены заголовки, чтобы упростить работу с таблицей. Без дубликатов исследование станет более точным.\n",
    "\n",
    "Пропущенные значения заменены на `'unknown'`. Ещё предстоит увидеть, не повредят ли исследованию пропуски в колонке `genre`.\n",
    "\n",
    "Теперь можно перейти к проверке гипотез. "
   ]
  },
  {
   "cell_type": "markdown",
   "metadata": {
    "id": "WttZHXH0SqKk"
   },
   "source": [
    "## Проверка гипотез"
   ]
  },
  {
   "cell_type": "markdown",
   "metadata": {
    "id": "Im936VVi_Zcu"
   },
   "source": [
    "### Сравнение поведения пользователей двух столиц"
   ]
  },
  {
   "cell_type": "markdown",
   "metadata": {
    "id": "nwt_MuaL_Zcu"
   },
   "source": [
    "Первая гипотеза утверждает, что пользователи по-разному слушают музыку в Москве и Санкт-Петербурге. Проверим это предположение по данным о трёх днях недели — понедельнике, среде и пятнице. Для этого:\n",
    "\n",
    "* Разделим пользователей Москвы и Санкт-Петербурга\n",
    "* Сравним, сколько треков послушала каждая группа пользователей в понедельник, среду и пятницу.\n"
   ]
  },
  {
   "cell_type": "code",
   "execution_count": null,
   "metadata": {
    "id": "0_Qs96oh_Zcu"
   },
   "outputs": [],
   "source": [
    "city_grouping = df.groupby('city')['time'].count()\n",
    "city_grouping\n",
    "\n",
    "# Подсчёт прослушиваний в каждом городе"
   ]
  },
  {
   "cell_type": "markdown",
   "metadata": {
    "id": "dzli3w8o_Zcu"
   },
   "source": [
    "В Москве прослушиваний больше, чем в Петербурге. Из этого не следует, что московские пользователи чаще слушают музыку. Просто самих пользователей в Москве больше.\n",
    "\n",
    "Теперь сгруппируем данные по дню недели и подсчитаем прослушивания в понедельник, среду и пятницу. "
   ]
  },
  {
   "cell_type": "code",
   "execution_count": null,
   "metadata": {
    "id": "uZMKjiJz_Zcu"
   },
   "outputs": [],
   "source": [
    "day_grouping = df.groupby('day')['time'].count()\n",
    "day_grouping\n",
    "# Подсчёт прослушиваний в каждый из трёх дней"
   ]
  },
  {
   "cell_type": "markdown",
   "metadata": {
    "id": "cC2tNrlL_Zcu"
   },
   "source": [
    "В среднем пользователи из двух городов менее активны по средам. Но картина может измениться, если рассмотреть каждый город в отдельности."
   ]
  },
  {
   "cell_type": "markdown",
   "metadata": {
    "id": "POzs8bGa_Zcu"
   },
   "source": [
    "\n",
    "\n",
    "Создайдим функцию `number_tracks()`, которая посчитает прослушивания для заданного дня и города. \n"
   ]
  },
  {
   "cell_type": "code",
   "execution_count": null,
   "metadata": {
    "id": "Nz3GdQB1_Zcu"
   },
   "outputs": [],
   "source": [
    "def number_tracks(day, city):\n",
    "    track_list = df[(df['day'] == day) & (df['city'] ==city)]\n",
    "    track_list_count = track_list['user_id'].count()\n",
    "    return track_list_count                \n",
    "\n",
    "# <создание функции number_tracks()>\n",
    "# Объявляется функция с двумя параметрами: day, city.\n",
    "# В переменной track_list сохраняются те строки таблицы df, для которых \n",
    "# значение в столбце 'day' равно параметру day и одновременно значение\n",
    "# в столбце 'city' равно параметру city (используйте последовательную фильтрацию\n",
    "# с помощью логической индексации).\n",
    "# В переменной track_list_count сохраняется число значений столбца 'user_id',\n",
    "# рассчитанное методом count() для таблицы track_list.\n",
    "# Функция возвращает число - значение track_list_count.\n",
    "\n",
    "# Функция для подсчёта прослушиваний для конкретного города и дня.\n",
    "# С помощью последовательной фильтрации с логической индексацией она \n",
    "# сначала получит из исходной таблицы строки с нужным днём,\n",
    "# затем из результата отфильтрует строки с нужным городом,\n",
    "# методом count() посчитает количество значений в колонке user_id. \n",
    "# Это количество функция вернёт в качестве результата"
   ]
  },
  {
   "cell_type": "code",
   "execution_count": null,
   "metadata": {
    "id": "rJcRATNQ_Zcu",
    "scrolled": true
   },
   "outputs": [],
   "source": [
    "number_tracks('Monday', 'Moscow') # количество прослушиваний в Москве по понедельникам"
   ]
  },
  {
   "cell_type": "code",
   "execution_count": null,
   "metadata": {
    "id": "hq_ncZ5T_Zcu"
   },
   "outputs": [],
   "source": [
    "number_tracks('Monday', 'Saint-Petersburg')# количество прослушиваний в Санкт-Петербурге по понедельникам"
   ]
  },
  {
   "cell_type": "code",
   "execution_count": null,
   "metadata": {
    "id": "_NTy2VPU_Zcu"
   },
   "outputs": [],
   "source": [
    "number_tracks('Wednesday', 'Moscow')# количество прослушиваний в Москве по средам"
   ]
  },
  {
   "cell_type": "code",
   "execution_count": null,
   "metadata": {
    "id": "j2y3TAwo_Zcu",
    "scrolled": true
   },
   "outputs": [],
   "source": [
    "number_tracks('Wednesday', 'Saint-Petersburg') # количество прослушиваний в Санкт-Петербурге по средам"
   ]
  },
  {
   "cell_type": "code",
   "execution_count": null,
   "metadata": {
    "id": "vYDw5u_K_Zcu"
   },
   "outputs": [],
   "source": [
    "number_tracks('Friday', 'Moscow')# количество прослушиваний в Москве по пятницам"
   ]
  },
  {
   "cell_type": "code",
   "execution_count": null,
   "metadata": {
    "id": "8_yzFtW3_Zcu"
   },
   "outputs": [],
   "source": [
    "number_tracks('Friday', 'Saint-Petersburg')# количество прослушиваний в Санкт-Петербурге по пятницам"
   ]
  },
  {
   "cell_type": "markdown",
   "metadata": {
    "id": "7QXffbO-_Zcu"
   },
   "source": [
    "Создадим c помощью конструктора `pd.DataFrame` таблицу, где\n",
    "* названия колонок — `['city', 'monday', 'wednesday', 'friday']`;\n",
    "* данные — результаты, которые вы получили с помощью `number_tracks`."
   ]
  },
  {
   "cell_type": "code",
   "execution_count": null,
   "metadata": {
    "id": "APAcLpOr_Zcu"
   },
   "outputs": [],
   "source": [
    "data = [\n",
    "    [\n",
    "        'Moscow',\n",
    "        number_tracks('Monday', 'Moscow'),\n",
    "        number_tracks('Wednesday', 'Moscow'),\n",
    "        number_tracks('Friday', 'Moscow')\n",
    "    ],\n",
    "    [\n",
    "        'Saint-Petersburg',\n",
    "        number_tracks('Monday', 'Saint-Petersburg'),\n",
    "        number_tracks('Wednesday', 'Saint-Petersburg'),\n",
    "        number_tracks('Friday', 'Saint-Petersburg')\n",
    "    ]\n",
    "]\n",
    "\n",
    "results_table = pd.DataFrame(data=data, columns=['city', 'monday', 'wednesday', 'friday']) # Таблица с результатамиresults_table = pd.DataFrame(data=[['Moscow',15740, 5614, , 7003, 15945, 5895]] , columns=['city', 'monday', 'wednesday', 'friday']) # Таблица с результатами\n",
    "results_table"
   ]
  },
  {
   "cell_type": "markdown",
   "metadata": {
    "id": "-EgPIHYu_Zcu"
   },
   "source": [
    "**Выводы**\n",
    "\n",
    "Данные показывают разницу поведения пользователей:\n",
    "\n",
    "- В Москве пик прослушиваний приходится на понедельник и пятницу, а в среду заметен спад.\n",
    "- В Петербурге, наоборот, больше слушают музыку по средам. Активность в понедельник и пятницу здесь почти в равной мере уступает среде.\n",
    "\n",
    "Значит, данные говорят в пользу первой гипотезы."
   ]
  },
  {
   "cell_type": "markdown",
   "metadata": {
    "id": "atZAxtq4_Zcu"
   },
   "source": [
    "### Музыка в начале и в конце недели"
   ]
  },
  {
   "cell_type": "markdown",
   "metadata": {
    "id": "eXrQqXFH_Zcu"
   },
   "source": [
    "Согласно второй гипотезе, утром в понедельник в Москве преобладают одни жанры, а в Петербурге — другие. Так же и вечером пятницы преобладают разные жанры — в зависимости от города."
   ]
  },
  {
   "cell_type": "markdown",
   "metadata": {
    "id": "S8UcW6Hw_Zcu"
   },
   "source": [
    "Сохраним таблицы с данными в две переменные:\n",
    "* по Москве — в `moscow_general`;\n",
    "* по Санкт-Петербургу — в `spb_general`."
   ]
  },
  {
   "cell_type": "code",
   "execution_count": null,
   "metadata": {
    "id": "qeaFfM_P_Zcu"
   },
   "outputs": [],
   "source": [
    "moscow_general = df[(df['city'] == 'Moscow')]\n",
    "moscow_general\n",
    "\n"
   ]
  },
  {
   "cell_type": "code",
   "execution_count": null,
   "metadata": {
    "id": "ORaVRKto_Zcu"
   },
   "outputs": [],
   "source": [
    "spb_general = df[(df['city'] == 'Saint-Petersburg')]\n",
    "spb_general\n"
   ]
  },
  {
   "cell_type": "markdown",
   "metadata": {
    "id": "MEJV-CX2_Zcu"
   },
   "source": [
    "Создадим функцию `genre_weekday()` с четырьмя параметрами:\n",
    "* таблица (датафрейм) с данными,\n",
    "* день недели,\n",
    "* начальная временная метка в формате 'hh:mm', \n",
    "* последняя временная метка в формате 'hh:mm'.\n",
    "\n",
    "Функция возвращает информацию о топ-10 жанров тех треков, которые прослушивали в указанный день, в промежутке между двумя отметками времени."
   ]
  },
  {
   "cell_type": "code",
   "execution_count": null,
   "metadata": {
    "id": "laJT9BYl_Zcu"
   },
   "outputs": [],
   "source": [
    "def genre_weekday(table, day, time1, time2):\n",
    "    genre_df = table[(table['day'] == day) & (table['time'] > time1) & (table['time'] < time2)]\n",
    "    genre_df_count = genre_df.groupby('genre')['time'].count()\n",
    "    genre_df_sorted = genre_df_count.sort_values(ascending=False)\n",
    "    return genre_df_sorted.head(10)\n",
    "\n"
   ]
  },
  {
   "cell_type": "markdown",
   "metadata": {
    "id": "la2s2_PF_Zcu"
   },
   "source": [
    "Cравним результаты функции `genre_weekday()` для Москвы и Санкт-Петербурга в понедельник утром (с 7:00 до 11:00) и в пятницу вечером (с 17:00 до 23:00):"
   ]
  },
  {
   "cell_type": "code",
   "execution_count": null,
   "metadata": {
    "id": "yz7itPUQ_Zcu"
   },
   "outputs": [],
   "source": [
    "genre_weekday(moscow_general, 'Monday', '07:00:00', '11:00:00')\n"
   ]
  },
  {
   "cell_type": "code",
   "execution_count": null,
   "metadata": {
    "id": "kwUcHPdy_Zcu"
   },
   "outputs": [],
   "source": [
    "genre_weekday(spb_general, 'Monday', '07:00:00', '11:00:00')\n"
   ]
  },
  {
   "cell_type": "code",
   "execution_count": null,
   "metadata": {
    "id": "EzXVRE1o_Zcu"
   },
   "outputs": [],
   "source": [
    "genre_weekday(moscow_general, 'Friday', '17:00:00', '23:00:00')\n"
   ]
  },
  {
   "cell_type": "code",
   "execution_count": null,
   "metadata": {
    "id": "JZaEKu5v_Zcu"
   },
   "outputs": [],
   "source": [
    "genre_weekday(spb_general, 'Friday', '17:00:00', '23:00:00')\n"
   ]
  },
  {
   "cell_type": "markdown",
   "metadata": {
    "id": "wrCe4MNX_Zcu"
   },
   "source": [
    "**Выводы**\n",
    "\n",
    "Если сравнить топ-10 жанров в понедельник утром, можно сделать такие выводы:\n",
    "\n",
    "1. В Москве и Петербурге слушают похожую музыку. Единственное отличие — в московский рейтинг вошёл жанр “world”, а в петербургский — джаз и классика.\n",
    "\n",
    "2. В Москве пропущенных значений оказалось так много, что значение `'unknown'` заняло десятое место среди самых популярных жанров. Значит, пропущенные значения занимают существенную долю в данных и угрожают достоверности исследования.\n",
    "\n",
    "Вечер пятницы не меняет эту картину. Некоторые жанры поднимаются немного выше, другие спускаются, но в целом топ-10 остаётся тем же самым.\n",
    "\n",
    "Таким образом, вторая гипотеза подтвердилась лишь частично:\n",
    "* Пользователи слушают похожую музыку в начале недели и в конце.\n",
    "* Разница между Москвой и Петербургом не слишком выражена. В Москве чаще слушают русскую популярную музыку, в Петербурге — джаз.\n",
    "\n",
    "Однако пропуски в данных ставят под сомнение этот результат. В Москве их так много, что рейтинг топ-10 мог бы выглядеть иначе, если бы не утерянные  данные о жанрах."
   ]
  },
  {
   "cell_type": "markdown",
   "metadata": {
    "id": "JolODAqr_Zcu"
   },
   "source": [
    "### Жанровые предпочтения в Москве и Петербурге\n",
    "\n",
    "Гипотеза: Петербург — столица рэпа, музыку этого жанра там слушают чаще, чем в Москве.  А Москва — город контрастов, в котором, тем не менее, преобладает поп-музыка."
   ]
  },
  {
   "cell_type": "markdown",
   "metadata": {
    "id": "DlegSvaT_Zcu"
   },
   "source": [
    "Сгруппируем таблицу `moscow_general` по жанру и посчитаем прослушивания треков каждого жанра методом `count()`. Затем отсортируем результат в порядке убывания и сохраним его в таблице `moscow_genres`."
   ]
  },
  {
   "cell_type": "code",
   "execution_count": null,
   "metadata": {
    "id": "r19lIPke_Zcu"
   },
   "outputs": [],
   "source": [
    "group_moscow_general = moscow_general.groupby('genre')['time'].count()\n",
    "moscow_genres = group_moscow_general.sort_values(ascending=False)\n"
   ]
  },
  {
   "cell_type": "code",
   "execution_count": null,
   "metadata": {
    "id": "WhCSooF8_Zcv"
   },
   "outputs": [],
   "source": [
    "moscow_genres.head(10)"
   ]
  },
  {
   "cell_type": "markdown",
   "metadata": {
    "id": "cnPG2vnN_Zcv"
   },
   "source": [
    "Теперь повторим то же и для Петербурга.\n",
    "\n"
   ]
  },
  {
   "cell_type": "code",
   "execution_count": null,
   "metadata": {
    "id": "gluLIpE7_Zcv"
   },
   "outputs": [],
   "source": [
    "group_spb_general = spb_general.groupby('genre')['time'].count()\n",
    "spb_genres = group_spb_general.sort_values(ascending=False)\n",
    "# одной строкой: группировка таблицы spb_general по столбцу 'genre', \n",
    "# подсчёт числа значений 'genre' в этой группировке методом count(), \n",
    "# сортировка получившегося Series в порядке убывания и сохранение в spb_genres"
   ]
  },
  {
   "cell_type": "markdown",
   "metadata": {
    "id": "5Doha_ODgyQ8"
   },
   "source": [
    "Выведите на экран первые десять строк `spb_genres`:"
   ]
  },
  {
   "cell_type": "code",
   "execution_count": null,
   "metadata": {
    "id": "uaGJHjVU_Zcv"
   },
   "outputs": [],
   "source": [
    "spb_genres.head(10)"
   ]
  },
  {
   "cell_type": "markdown",
   "metadata": {
    "id": "RY51YJYu_Zcv"
   },
   "source": [
    "**Выводы**"
   ]
  },
  {
   "cell_type": "markdown",
   "metadata": {
    "id": "nVhnJEm__Zcv"
   },
   "source": [
    "Гипотеза частично подтвердилась:\n",
    "* Поп-музыка — самый популярный жанр в Москве, как и предполагала гипотеза. Более того, в топ-10 жанров встречается близкий жанр — русская популярная музыка.\n",
    "* Вопреки ожиданиям, рэп одинаково популярен в Москве и Петербурге. \n"
   ]
  },
  {
   "cell_type": "markdown",
   "metadata": {
    "id": "ykKQ0N65_Zcv"
   },
   "source": [
    "## Итоги исследования"
   ]
  },
  {
   "cell_type": "markdown",
   "metadata": {
    "id": "tjUwbHb3_Zcv"
   },
   "source": [
    "Вы проверили три гипотезы и установили:\n",
    "\n",
    "1. День недели по-разному влияет на активность пользователей в Москве и Петербурге. \n",
    "\n",
    "Первая гипотеза полностью подтвердилась.\n",
    "\n",
    "2. Музыкальные предпочтения не сильно меняются в течение недели — будь то Москва или Петербург. Небольшие различия заметны в начале недели, по понедельникам:\n",
    "* в Москве слушают музыку жанра “world”,\n",
    "* в Петербурге — джаз и классику.\n",
    "\n",
    "Таким образом, вторая гипотеза подтвердилась лишь отчасти. Этот результат мог оказаться иным, если бы не пропуски в данных.\n",
    "\n",
    "3. Во вкусах пользователей Москвы и Петербурга больше общего чем различий. Вопреки ожиданиям, предпочтения жанров в Петербурге напоминают московские.\n",
    "\n",
    "Третья гипотеза не подтвердилась. Если различия в предпочтениях и существуют, на основной массе пользователей они незаметны.\n",
    "\n",
    "**На практике исследования содержат проверки статистических гипотез.**\n",
    "Из данных одного сервиса не всегда можно сделать вывод о всех жителях города.\n",
    "Проверки статистических гипотез покажут, насколько они достоверны, исходя из имеющихся данных. \n",
    "С методами проверок гипотез вы ещё познакомитесь в следующих темах."
   ]
  }
 ],
 "metadata": {
  "ExecuteTimeLog": [
   {
    "duration": 357,
    "start_time": "2021-12-22T15:25:30.773Z"
   },
   {
    "duration": 862,
    "start_time": "2021-12-22T15:25:48.121Z"
   },
   {
    "duration": 246,
    "start_time": "2021-12-22T16:45:53.780Z"
   },
   {
    "duration": 238,
    "start_time": "2021-12-22T16:47:05.880Z"
   },
   {
    "duration": 656,
    "start_time": "2022-01-31T13:21:47.110Z"
   },
   {
    "duration": 593,
    "start_time": "2022-01-31T13:22:04.462Z"
   },
   {
    "duration": 367,
    "start_time": "2022-01-31T13:22:13.420Z"
   },
   {
    "duration": 580,
    "start_time": "2022-01-31T13:22:16.634Z"
   },
   {
    "duration": 112,
    "start_time": "2022-01-31T13:22:19.355Z"
   },
   {
    "duration": 7,
    "start_time": "2022-01-31T13:22:25.056Z"
   },
   {
    "duration": 2,
    "start_time": "2022-01-31T13:34:23.360Z"
   },
   {
    "duration": 3,
    "start_time": "2022-01-31T13:36:02.554Z"
   },
   {
    "duration": 280,
    "start_time": "2022-01-31T13:40:08.571Z"
   },
   {
    "duration": 318,
    "start_time": "2022-01-31T13:40:46.631Z"
   },
   {
    "duration": 3,
    "start_time": "2022-01-31T13:41:17.054Z"
   },
   {
    "duration": 20,
    "start_time": "2022-01-31T13:44:40.118Z"
   },
   {
    "duration": 102,
    "start_time": "2022-01-31T13:51:21.639Z"
   },
   {
    "duration": 103,
    "start_time": "2022-01-31T13:51:37.707Z"
   },
   {
    "duration": 109,
    "start_time": "2022-01-31T13:52:29.223Z"
   },
   {
    "duration": 211,
    "start_time": "2022-01-31T13:54:11.961Z"
   },
   {
    "duration": 21,
    "start_time": "2022-01-31T13:54:59.278Z"
   },
   {
    "duration": 20,
    "start_time": "2022-01-31T13:58:58.460Z"
   },
   {
    "duration": 3,
    "start_time": "2022-01-31T13:59:22.450Z"
   },
   {
    "duration": 22,
    "start_time": "2022-01-31T14:00:01.758Z"
   },
   {
    "duration": 104,
    "start_time": "2022-01-31T14:00:17.862Z"
   },
   {
    "duration": 3,
    "start_time": "2022-01-31T14:01:00.062Z"
   },
   {
    "duration": 20,
    "start_time": "2022-01-31T14:01:06.905Z"
   },
   {
    "duration": 359,
    "start_time": "2022-01-31T14:04:22.751Z"
   },
   {
    "duration": 326,
    "start_time": "2022-01-31T14:06:29.584Z"
   },
   {
    "duration": 339,
    "start_time": "2022-01-31T14:08:08.733Z"
   },
   {
    "duration": 21,
    "start_time": "2022-01-31T14:08:32.732Z"
   },
   {
    "duration": 57,
    "start_time": "2022-01-31T14:10:38.578Z"
   },
   {
    "duration": 59,
    "start_time": "2022-01-31T14:11:11.124Z"
   },
   {
    "duration": 50,
    "start_time": "2022-01-31T14:11:29.328Z"
   },
   {
    "duration": 497,
    "start_time": "2022-01-31T14:12:25.436Z"
   },
   {
    "duration": 455,
    "start_time": "2022-01-31T14:16:06.838Z"
   },
   {
    "duration": 882,
    "start_time": "2022-01-31T14:16:47.146Z"
   },
   {
    "duration": 146,
    "start_time": "2022-01-31T14:17:27.364Z"
   },
   {
    "duration": 349,
    "start_time": "2022-01-31T14:17:48.685Z"
   },
   {
    "duration": 14,
    "start_time": "2022-01-31T14:19:16.278Z"
   },
   {
    "duration": 21,
    "start_time": "2022-01-31T14:19:23.241Z"
   },
   {
    "duration": 127,
    "start_time": "2022-01-31T14:21:13.914Z"
   },
   {
    "duration": 7,
    "start_time": "2022-01-31T14:21:42.658Z"
   },
   {
    "duration": 324,
    "start_time": "2022-01-31T14:25:03.390Z"
   },
   {
    "duration": 326,
    "start_time": "2022-01-31T14:26:12.191Z"
   },
   {
    "duration": 356,
    "start_time": "2022-01-31T14:30:19.820Z"
   },
   {
    "duration": 443,
    "start_time": "2022-01-31T14:32:12.185Z"
   },
   {
    "duration": 368,
    "start_time": "2022-01-31T14:32:33.982Z"
   },
   {
    "duration": 328,
    "start_time": "2022-01-31T14:34:14.408Z"
   },
   {
    "duration": 3405,
    "start_time": "2022-01-31T14:36:21.405Z"
   },
   {
    "duration": 352,
    "start_time": "2022-01-31T14:36:54.065Z"
   },
   {
    "duration": 7,
    "start_time": "2022-01-31T14:37:27.408Z"
   },
   {
    "duration": 2,
    "start_time": "2022-01-31T14:37:34.580Z"
   },
   {
    "duration": 3,
    "start_time": "2022-01-31T14:37:36.998Z"
   },
   {
    "duration": 7,
    "start_time": "2022-01-31T14:37:47.049Z"
   },
   {
    "duration": 121,
    "start_time": "2022-01-31T14:41:56.757Z"
   },
   {
    "duration": 353,
    "start_time": "2022-01-31T14:42:31.801Z"
   },
   {
    "duration": 338,
    "start_time": "2022-01-31T14:48:00.360Z"
   },
   {
    "duration": 6,
    "start_time": "2022-01-31T14:49:45.156Z"
   },
   {
    "duration": 7,
    "start_time": "2022-01-31T14:49:55.028Z"
   },
   {
    "duration": 7,
    "start_time": "2022-01-31T14:49:59.554Z"
   },
   {
    "duration": 6,
    "start_time": "2022-01-31T14:50:59.131Z"
   },
   {
    "duration": 6,
    "start_time": "2022-01-31T14:51:05.212Z"
   },
   {
    "duration": 362,
    "start_time": "2022-01-31T14:54:28.963Z"
   },
   {
    "duration": 119,
    "start_time": "2022-01-31T14:59:58.244Z"
   },
   {
    "duration": 104,
    "start_time": "2022-01-31T15:00:09.631Z"
   },
   {
    "duration": 3,
    "start_time": "2022-01-31T15:06:05.721Z"
   },
   {
    "duration": 773,
    "start_time": "2022-01-31T15:07:12.448Z"
   },
   {
    "duration": 3,
    "start_time": "2022-01-31T15:07:31.543Z"
   },
   {
    "duration": 808,
    "start_time": "2022-01-31T15:07:38.321Z"
   },
   {
    "duration": 3,
    "start_time": "2022-01-31T15:08:19.041Z"
   },
   {
    "duration": 12,
    "start_time": "2022-01-31T15:08:23.469Z"
   },
   {
    "duration": 6,
    "start_time": "2022-01-31T15:09:06.265Z"
   },
   {
    "duration": 3,
    "start_time": "2022-01-31T15:22:02.388Z"
   },
   {
    "duration": 2,
    "start_time": "2022-01-31T15:31:41.697Z"
   },
   {
    "duration": 7,
    "start_time": "2022-01-31T15:32:00.992Z"
   },
   {
    "duration": 10,
    "start_time": "2022-01-31T15:33:08.803Z"
   },
   {
    "duration": 277,
    "start_time": "2022-01-31T15:33:51.051Z"
   },
   {
    "duration": 10,
    "start_time": "2022-01-31T15:34:08.331Z"
   },
   {
    "duration": 8,
    "start_time": "2022-01-31T15:43:08.665Z"
   },
   {
    "duration": 8,
    "start_time": "2022-01-31T15:43:45.347Z"
   },
   {
    "duration": 8,
    "start_time": "2022-01-31T15:43:48.900Z"
   },
   {
    "duration": 342,
    "start_time": "2022-01-31T15:44:12.624Z"
   },
   {
    "duration": 327,
    "start_time": "2022-01-31T15:46:03.033Z"
   },
   {
    "duration": 7,
    "start_time": "2022-01-31T15:47:23.561Z"
   },
   {
    "duration": 8,
    "start_time": "2022-01-31T15:48:00.684Z"
   },
   {
    "duration": 8,
    "start_time": "2022-01-31T15:48:04.962Z"
   },
   {
    "duration": 9,
    "start_time": "2022-01-31T15:48:21.316Z"
   },
   {
    "duration": 113,
    "start_time": "2022-01-31T16:04:25.931Z"
   },
   {
    "duration": 108,
    "start_time": "2022-01-31T16:08:58.565Z"
   },
   {
    "duration": 133,
    "start_time": "2022-01-31T16:09:45.013Z"
   },
   {
    "duration": 3,
    "start_time": "2022-01-31T16:10:08.182Z"
   },
   {
    "duration": 4,
    "start_time": "2022-01-31T16:10:57.887Z"
   },
   {
    "duration": 3,
    "start_time": "2022-01-31T16:23:05.524Z"
   },
   {
    "duration": 5,
    "start_time": "2022-01-31T16:24:31.465Z"
   },
   {
    "duration": 5,
    "start_time": "2022-01-31T16:35:03.514Z"
   },
   {
    "duration": 3,
    "start_time": "2022-01-31T16:35:09.318Z"
   },
   {
    "duration": 333,
    "start_time": "2022-01-31T16:38:01.720Z"
   },
   {
    "duration": 709,
    "start_time": "2022-01-31T16:42:13.040Z"
   },
   {
    "duration": 4,
    "start_time": "2022-01-31T16:44:24.791Z"
   },
   {
    "duration": 15,
    "start_time": "2022-01-31T16:44:35.931Z"
   },
   {
    "duration": 12,
    "start_time": "2022-01-31T16:46:14.667Z"
   },
   {
    "duration": 352,
    "start_time": "2022-01-31T16:57:23.008Z"
   },
   {
    "duration": 322,
    "start_time": "2022-01-31T17:00:13.275Z"
   },
   {
    "duration": 14,
    "start_time": "2022-01-31T17:00:26.513Z"
   },
   {
    "duration": 3,
    "start_time": "2022-01-31T17:05:45.835Z"
   },
   {
    "duration": 15,
    "start_time": "2022-01-31T17:05:52.876Z"
   },
   {
    "duration": 15,
    "start_time": "2022-01-31T17:06:05.770Z"
   },
   {
    "duration": 14,
    "start_time": "2022-01-31T17:06:10.378Z"
   },
   {
    "duration": 117,
    "start_time": "2022-01-31T17:06:10.953Z"
   },
   {
    "duration": 15,
    "start_time": "2022-01-31T17:06:11.575Z"
   },
   {
    "duration": 13,
    "start_time": "2022-01-31T17:06:36.360Z"
   },
   {
    "duration": 16,
    "start_time": "2022-01-31T17:06:39.574Z"
   },
   {
    "duration": 109,
    "start_time": "2022-01-31T17:06:42.416Z"
   },
   {
    "duration": 13,
    "start_time": "2022-01-31T17:06:49.044Z"
   },
   {
    "duration": 359,
    "start_time": "2022-01-31T17:06:54.120Z"
   },
   {
    "duration": 370,
    "start_time": "2022-01-31T17:08:17.167Z"
   },
   {
    "duration": 320,
    "start_time": "2022-01-31T17:11:03.478Z"
   },
   {
    "duration": 341,
    "start_time": "2022-01-31T17:16:27.892Z"
   },
   {
    "duration": 107,
    "start_time": "2022-01-31T17:18:39.663Z"
   },
   {
    "duration": 5,
    "start_time": "2022-01-31T17:23:42.181Z"
   },
   {
    "duration": 8,
    "start_time": "2022-01-31T17:23:46.896Z"
   },
   {
    "duration": 44,
    "start_time": "2022-01-31T17:28:17.462Z"
   },
   {
    "duration": 40,
    "start_time": "2022-01-31T17:28:39.227Z"
   },
   {
    "duration": 6,
    "start_time": "2022-01-31T17:28:56.767Z"
   },
   {
    "duration": 47,
    "start_time": "2022-01-31T17:29:52.796Z"
   },
   {
    "duration": 6,
    "start_time": "2022-01-31T17:30:00.067Z"
   },
   {
    "duration": 6,
    "start_time": "2022-01-31T17:30:16.451Z"
   },
   {
    "duration": 78,
    "start_time": "2022-01-31T17:30:21.697Z"
   },
   {
    "duration": 9,
    "start_time": "2022-01-31T17:30:28.934Z"
   },
   {
    "duration": 59,
    "start_time": "2022-01-31T17:30:59.950Z"
   },
   {
    "duration": 61,
    "start_time": "2022-01-31T17:31:53.082Z"
   },
   {
    "duration": 141,
    "start_time": "2022-01-31T17:41:48.988Z"
   },
   {
    "duration": 1203,
    "start_time": "2022-01-31T17:46:42.756Z"
   },
   {
    "duration": 123,
    "start_time": "2022-01-31T17:46:55.448Z"
   },
   {
    "duration": 328,
    "start_time": "2022-01-31T17:47:06.265Z"
   },
   {
    "duration": 19,
    "start_time": "2022-01-31T17:47:21.493Z"
   },
   {
    "duration": 16,
    "start_time": "2022-01-31T17:48:39.336Z"
   },
   {
    "duration": 4,
    "start_time": "2022-01-31T18:10:41.444Z"
   },
   {
    "duration": 3,
    "start_time": "2022-01-31T18:11:27.671Z"
   },
   {
    "duration": 619,
    "start_time": "2022-01-31T18:23:42.368Z"
   },
   {
    "duration": 592,
    "start_time": "2022-01-31T18:24:28.109Z"
   },
   {
    "duration": 552,
    "start_time": "2022-01-31T18:25:35.003Z"
   },
   {
    "duration": 642,
    "start_time": "2022-01-31T18:25:48.900Z"
   },
   {
    "duration": 556,
    "start_time": "2022-01-31T18:28:04.419Z"
   },
   {
    "duration": 11,
    "start_time": "2022-01-31T18:28:53.464Z"
   },
   {
    "duration": 10,
    "start_time": "2022-01-31T18:30:10.960Z"
   },
   {
    "duration": 16,
    "start_time": "2022-01-31T18:30:29.873Z"
   },
   {
    "duration": 13,
    "start_time": "2022-01-31T18:32:33.122Z"
   },
   {
    "duration": 13,
    "start_time": "2022-01-31T18:32:39.244Z"
   },
   {
    "duration": 18,
    "start_time": "2022-01-31T18:36:18.555Z"
   },
   {
    "duration": 11,
    "start_time": "2022-01-31T18:36:22.091Z"
   },
   {
    "duration": 16,
    "start_time": "2022-01-31T18:36:23.149Z"
   },
   {
    "duration": 16,
    "start_time": "2022-01-31T18:36:25.079Z"
   },
   {
    "duration": 12,
    "start_time": "2022-01-31T18:37:46.176Z"
   },
   {
    "duration": 12,
    "start_time": "2022-01-31T18:45:20.543Z"
   },
   {
    "duration": 5,
    "start_time": "2022-01-31T18:45:45.156Z"
   },
   {
    "duration": 6,
    "start_time": "2022-01-31T18:47:25.712Z"
   },
   {
    "duration": 5,
    "start_time": "2022-01-31T18:47:27.835Z"
   },
   {
    "duration": 4,
    "start_time": "2022-01-31T18:49:50.783Z"
   },
   {
    "duration": 409,
    "start_time": "2022-02-10T15:23:14.077Z"
   },
   {
    "duration": 593,
    "start_time": "2022-02-10T15:31:01.691Z"
   },
   {
    "duration": 128,
    "start_time": "2022-02-10T15:31:03.703Z"
   },
   {
    "duration": 15,
    "start_time": "2022-02-10T15:31:05.796Z"
   },
   {
    "duration": 22,
    "start_time": "2022-02-10T15:31:07.891Z"
   },
   {
    "duration": 4,
    "start_time": "2022-02-10T15:31:15.888Z"
   },
   {
    "duration": 18,
    "start_time": "2022-02-10T15:31:29.177Z"
   },
   {
    "duration": 4,
    "start_time": "2022-02-10T15:31:32.000Z"
   },
   {
    "duration": 20,
    "start_time": "2022-02-10T15:31:36.119Z"
   },
   {
    "duration": 16,
    "start_time": "2022-02-10T15:31:41.495Z"
   },
   {
    "duration": 20,
    "start_time": "2022-02-10T15:31:44.820Z"
   },
   {
    "duration": 51,
    "start_time": "2022-02-10T15:31:48.888Z"
   },
   {
    "duration": 60,
    "start_time": "2022-02-10T15:31:51.384Z"
   },
   {
    "duration": 38,
    "start_time": "2022-02-10T15:34:09.903Z"
   },
   {
    "duration": 35,
    "start_time": "2022-02-10T15:38:21.504Z"
   },
   {
    "duration": 2,
    "start_time": "2022-02-10T15:51:40.090Z"
   },
   {
    "duration": 117,
    "start_time": "2022-02-10T15:51:40.666Z"
   },
   {
    "duration": 9,
    "start_time": "2022-02-10T15:51:41.281Z"
   },
   {
    "duration": 22,
    "start_time": "2022-02-10T15:51:41.849Z"
   },
   {
    "duration": 4,
    "start_time": "2022-02-10T15:51:43.190Z"
   },
   {
    "duration": 14,
    "start_time": "2022-02-10T15:51:43.763Z"
   },
   {
    "duration": 4,
    "start_time": "2022-02-10T15:51:44.362Z"
   },
   {
    "duration": 20,
    "start_time": "2022-02-10T15:51:44.812Z"
   },
   {
    "duration": 14,
    "start_time": "2022-02-10T15:51:45.520Z"
   },
   {
    "duration": 21,
    "start_time": "2022-02-10T15:51:46.124Z"
   },
   {
    "duration": 50,
    "start_time": "2022-02-10T15:51:46.753Z"
   },
   {
    "duration": 54,
    "start_time": "2022-02-10T15:51:48.104Z"
   },
   {
    "duration": 69,
    "start_time": "2022-02-10T15:51:49.226Z"
   },
   {
    "duration": 37,
    "start_time": "2022-02-10T15:51:50.117Z"
   },
   {
    "duration": 3,
    "start_time": "2022-02-10T15:51:51.219Z"
   },
   {
    "duration": 7,
    "start_time": "2022-02-10T15:51:51.868Z"
   },
   {
    "duration": 35,
    "start_time": "2022-02-10T15:51:52.609Z"
   },
   {
    "duration": 9,
    "start_time": "2022-02-10T15:51:54.250Z"
   },
   {
    "duration": 10,
    "start_time": "2022-02-10T15:51:55.603Z"
   },
   {
    "duration": 3,
    "start_time": "2022-02-10T15:51:56.757Z"
   },
   {
    "duration": 16,
    "start_time": "2022-02-10T15:52:00.123Z"
   },
   {
    "duration": 12,
    "start_time": "2022-02-10T15:52:00.571Z"
   },
   {
    "duration": 14,
    "start_time": "2022-02-10T15:52:00.842Z"
   },
   {
    "duration": 13,
    "start_time": "2022-02-10T15:52:02.339Z"
   },
   {
    "duration": 15,
    "start_time": "2022-02-10T15:52:02.551Z"
   },
   {
    "duration": 15,
    "start_time": "2022-02-10T15:52:02.941Z"
   },
   {
    "duration": 60,
    "start_time": "2022-02-10T15:52:04.304Z"
   },
   {
    "duration": 20,
    "start_time": "2022-02-10T15:52:31.359Z"
   },
   {
    "duration": 17,
    "start_time": "2022-02-10T15:52:31.729Z"
   },
   {
    "duration": 3,
    "start_time": "2022-02-10T15:52:32.308Z"
   },
   {
    "duration": 15,
    "start_time": "2022-02-10T15:52:33.662Z"
   },
   {
    "duration": 11,
    "start_time": "2022-02-10T15:52:33.901Z"
   },
   {
    "duration": 16,
    "start_time": "2022-02-10T15:52:34.326Z"
   },
   {
    "duration": 11,
    "start_time": "2022-02-10T15:52:34.545Z"
   },
   {
    "duration": 16,
    "start_time": "2022-02-10T15:52:42.748Z"
   },
   {
    "duration": 11,
    "start_time": "2022-02-10T15:52:43.532Z"
   },
   {
    "duration": 17,
    "start_time": "2022-02-10T15:52:44.014Z"
   },
   {
    "duration": 11,
    "start_time": "2022-02-10T15:52:44.629Z"
   },
   {
    "duration": 8,
    "start_time": "2022-02-10T15:52:48.754Z"
   },
   {
    "duration": 4,
    "start_time": "2022-02-10T15:52:51.591Z"
   },
   {
    "duration": 6,
    "start_time": "2022-02-10T15:52:52.858Z"
   },
   {
    "duration": 4,
    "start_time": "2022-02-10T15:52:55.085Z"
   }
  ],
  "colab": {
   "collapsed_sections": [
    "E0vqbgi9ay0H",
    "VUC88oWjTJw2"
   ],
   "name": "yandex_music_project_2021.2.ipynb",
   "provenance": []
  },
  "kernelspec": {
   "display_name": "Python 3 (ipykernel)",
   "language": "python",
   "name": "python3"
  },
  "language_info": {
   "codemirror_mode": {
    "name": "ipython",
    "version": 3
   },
   "file_extension": ".py",
   "mimetype": "text/x-python",
   "name": "python",
   "nbconvert_exporter": "python",
   "pygments_lexer": "ipython3",
   "version": "3.9.7"
  },
  "toc": {
   "base_numbering": 1,
   "nav_menu": {},
   "number_sections": true,
   "sideBar": true,
   "skip_h1_title": true,
   "title_cell": "Table of Contents",
   "title_sidebar": "Contents",
   "toc_cell": false,
   "toc_position": {
    "height": "calc(100% - 180px)",
    "left": "10px",
    "top": "150px",
    "width": "280px"
   },
   "toc_section_display": true,
   "toc_window_display": true
  }
 },
 "nbformat": 4,
 "nbformat_minor": 1
}
