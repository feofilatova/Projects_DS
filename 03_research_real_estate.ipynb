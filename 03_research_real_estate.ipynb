{
 "cells": [
  {
   "cell_type": "markdown",
   "id": "7f882a83",
   "metadata": {},
   "source": [
    "# Исследовательский анализ данных, проектная работа \n",
    "# Исследование объявлений о продаже квартир"
   ]
  },
  {
   "cell_type": "markdown",
   "id": "92ae0e19",
   "metadata": {},
   "source": [
    "В нашем распоряжении данные сервиса Яндекс.Недвижимость — архив объявлений о продаже квартир в Санкт-Петербурге и соседних населённых пунктов за несколько лет. Нужно научиться определять рыночную стоимость объектов недвижимости. Наша задача — установить параметры. Это позволит построить автоматизированную систему: она отследит аномалии и мошенническую деятельность.\n",
    "\n",
    "По каждой квартире на продажу доступны два вида данных. Первые вписаны пользователем, вторые — получены автоматически на основе картографических данных. Например, расстояние до центра, аэропорта, ближайшего парка и водоёма."
   ]
  },
  {
   "cell_type": "markdown",
   "id": "5e48969a",
   "metadata": {},
   "source": [
    "### Шаг 1. Откроем файл с данными и изучим общую информацию."
   ]
  },
  {
   "cell_type": "code",
   "execution_count": null,
   "id": "33746054",
   "metadata": {},
   "outputs": [],
   "source": [
    "import pandas as pd"
   ]
  },
  {
   "cell_type": "code",
   "execution_count": null,
   "id": "ed2090c0",
   "metadata": {},
   "outputs": [],
   "source": [
    "data = pd.read_csv('/datasets/real_estate_data.csv', sep='\\t')"
   ]
  },
  {
   "cell_type": "code",
   "execution_count": null,
   "id": "9769deff",
   "metadata": {},
   "outputs": [],
   "source": [
    "data.info()"
   ]
  },
  {
   "cell_type": "markdown",
   "id": "db8d0d20",
   "metadata": {},
   "source": [
    "В таблице 22 столбца :\n",
    "\n",
    "* airports_nearest — расстояние до ближайшего аэропорта в метрах (м)\n",
    "* balcony — число балконов\n",
    "* ceiling_height — высота потолков (м)\n",
    "* cityCenters_nearest — расстояние до центра города (м)\n",
    "* days_exposition — сколько дней было размещено объявление (от публикации до снятия)\n",
    "* first_day_exposition — дата публикации\n",
    "* floor — этаж\n",
    "* floors_total — всего этажей в доме\n",
    "* is_apartment — апартаменты (булев тип) - нежилые помещения, не относящиеся к жилому фонду, но имеющие необходимые условия для проживания\n",
    "* kitchen_area — площадь кухни в квадратных метрах (м²)\n",
    "* last_price — цена на момент снятия с публикации\n",
    "* living_area — жилая площадь в квадратных метрах(м²)\n",
    "* locality_name — название населённого пункта\n",
    "* open_plan — свободная планировка (булев тип)\n",
    "* parks_around3000 — число парков в радиусе 3 км\n",
    "* parks_nearest — расстояние до ближайшего парка (м)\n",
    "* ponds_around3000 — число водоёмов в радиусе 3 км\n",
    "* ponds_nearest — расстояние до ближайшего водоёма (м)\n",
    "* rooms — число комнат\n",
    "* studio — квартира-студия (булев тип)\n",
    "* total_area — площадь квартиры в квадратных метрах (м²)\n",
    "* total_images — число фотографий квартиры в объявлении"
   ]
  },
  {
   "cell_type": "code",
   "execution_count": null,
   "id": "3e9bc076",
   "metadata": {},
   "outputs": [],
   "source": [
    "data.head(20)"
   ]
  },
  {
   "cell_type": "code",
   "execution_count": null,
   "id": "f869cefa",
   "metadata": {},
   "outputs": [],
   "source": [
    "data.describe()"
   ]
  },
  {
   "cell_type": "markdown",
   "id": "2182584d",
   "metadata": {},
   "source": [
    "### Вывод"
   ]
  },
  {
   "cell_type": "markdown",
   "id": "d0d57a79",
   "metadata": {},
   "source": [
    "При знакомстве с данными обнаружили много пропущенных значений,высота потолков в 1 и 100 метров выглядят нереалистичными."
   ]
  },
  {
   "cell_type": "markdown",
   "id": "fa43ff3c",
   "metadata": {},
   "source": [
    "### Шаг 2. Предобработка данных"
   ]
  },
  {
   "cell_type": "markdown",
   "id": "33cd4601",
   "metadata": {},
   "source": [
    "Для удобной работы с данными заменим тип данных у цены и общей площади на целочисленный."
   ]
  },
  {
   "cell_type": "code",
   "execution_count": null,
   "id": "8311417f",
   "metadata": {},
   "outputs": [],
   "source": [
    "data['last_price'] = data['last_price'].astype('int')\n",
    "data['total_area'] = data['total_area'].astype('int')\n",
    "data['first_day_exposition'] = pd.to_datetime(data['first_day_exposition'], format = '%Y-%m-%d')"
   ]
  },
  {
   "cell_type": "markdown",
   "id": "0cdc389f",
   "metadata": {},
   "source": [
    "Отсутствие числа балконов говорит нам, что их вовсе нет, заменим пропуски на нули и поменяем тип дпнных на целочисленный."
   ]
  },
  {
   "cell_type": "code",
   "execution_count": null,
   "id": "f1ce8063",
   "metadata": {},
   "outputs": [],
   "source": [
    "data['balcony'] = data['balcony'].fillna(0).astype('int')"
   ]
  },
  {
   "cell_type": "markdown",
   "id": "122ebfc6",
   "metadata": {},
   "source": [
    "Пропуски в апартаментах означают, что это не апартаменты, заменим их на False и поменяем тип дпнных на булевой."
   ]
  },
  {
   "cell_type": "code",
   "execution_count": null,
   "id": "b540e08e",
   "metadata": {},
   "outputs": [],
   "source": [
    "data['is_apartment'] = data['is_apartment'].fillna(False).astype('bool')"
   ]
  },
  {
   "cell_type": "markdown",
   "id": "f3754ba0",
   "metadata": {},
   "source": [
    "Избавимся от аномальных данных."
   ]
  },
  {
   "cell_type": "code",
   "execution_count": null,
   "id": "c1b07592",
   "metadata": {},
   "outputs": [],
   "source": [
    "data = data.query('ceiling_height != [1.2, 1.75, 1, 100]')"
   ]
  },
  {
   "cell_type": "markdown",
   "id": "1f575fd6",
   "metadata": {},
   "source": [
    "Заполним пропуски в высоте потолков медианными значениями. Предполагаю, что в пропусках нет выдающихся значений и поэтому не уточняется."
   ]
  },
  {
   "cell_type": "code",
   "execution_count": null,
   "id": "b98fa424",
   "metadata": {},
   "outputs": [],
   "source": [
    "data['ceiling_height'] = data['ceiling_height'].fillna(data['ceiling_height'].median())"
   ]
  },
  {
   "cell_type": "markdown",
   "id": "ef692519",
   "metadata": {},
   "source": [
    "Удалим строки с пропусками в столбцах с общим количеством этажей и с названием населенного пункта. Потеряем 134 строки, несущественно для выборки. Предполагаем, что пропуски возникли в результате невнимательности при заполнении."
   ]
  },
  {
   "cell_type": "code",
   "execution_count": null,
   "id": "a6834725",
   "metadata": {},
   "outputs": [],
   "source": [
    "data.dropna(subset=['floors_total'], inplace = True)\n",
    "data.dropna(subset=['locality_name'], inplace = True)"
   ]
  },
  {
   "cell_type": "markdown",
   "id": "511daa47",
   "metadata": {},
   "source": [
    "Столбец с общим количеством этажей приведем к целочисленному типу"
   ]
  },
  {
   "cell_type": "code",
   "execution_count": null,
   "id": "269cae8e",
   "metadata": {},
   "outputs": [],
   "source": [
    "data['floors_total'] = data['floors_total'].astype(int)"
   ]
  },
  {
   "cell_type": "code",
   "execution_count": null,
   "id": "bd4ad25a",
   "metadata": {},
   "outputs": [],
   "source": [
    "data['living_area'].corr(data['rooms'])"
   ]
  },
  {
   "cell_type": "markdown",
   "id": "24ae34b8",
   "metadata": {},
   "source": [
    "Наблюдается корреляция между числом комнат и жилой площадью. Создадим сводную таблицу с медианными значениями жилой площади в зависимости от числа комнат."
   ]
  },
  {
   "cell_type": "code",
   "execution_count": null,
   "id": "3d38dcc0",
   "metadata": {},
   "outputs": [],
   "source": [
    "rooms_pivot = data.pivot_table(index='rooms', values='living_area', aggfunc=['median'])\n",
    "rooms_pivot.columns = ['median']\n",
    "rooms_pivot"
   ]
  },
  {
   "cell_type": "markdown",
   "id": "4a0bf0f6",
   "metadata": {},
   "source": [
    "Заменим пропуски в столбце с жилой площадью на значения из сводной таблицы. Предполагем, что клиенты не стали уточнять эту информацию."
   ]
  },
  {
   "cell_type": "code",
   "execution_count": null,
   "id": "3ecc1eb0",
   "metadata": {},
   "outputs": [],
   "source": [
    "def living_area(df, rooms_pivot):\n",
    "    for a, b in rooms_pivot['median'].items(): \n",
    "        df.loc[(df.loc[:, 'rooms']== a) &(df.loc[:, 'living_area'].isnull()), 'living_area' ] = b\n",
    "living_area(data, rooms_pivot)        \n",
    "data['living_area'] = data['living_area'].astype(int)"
   ]
  },
  {
   "cell_type": "markdown",
   "id": "d699caa4",
   "metadata": {},
   "source": [
    "Посчитаем значение для каждого пропущенного значения в площади кухни."
   ]
  },
  {
   "cell_type": "code",
   "execution_count": null,
   "id": "a5ed897a",
   "metadata": {},
   "outputs": [],
   "source": [
    "data['kitchen_area'] = data['kitchen_area'].fillna(data['total_area'] - data['living_area'])"
   ]
  },
  {
   "cell_type": "markdown",
   "id": "a4242eff",
   "metadata": {},
   "source": [
    "В столбце с названием населенных пунктов, есть двоякое написание \"поселка\" через \"е\" и через \"ё\", исправим."
   ]
  },
  {
   "cell_type": "code",
   "execution_count": null,
   "id": "357514cd",
   "metadata": {},
   "outputs": [],
   "source": [
    "data['locality_name'] = data['locality_name'].replace('посёлок', 'поселок', regex=True)\n",
    "data['locality_name'].unique()"
   ]
  },
  {
   "cell_type": "markdown",
   "id": "7629d503",
   "metadata": {},
   "source": [
    "Посмотрим, что у нас получилось."
   ]
  },
  {
   "cell_type": "code",
   "execution_count": null,
   "id": "94d73f5a",
   "metadata": {},
   "outputs": [],
   "source": [
    "data.info()"
   ]
  },
  {
   "cell_type": "markdown",
   "id": "ca5fe9dd",
   "metadata": {},
   "source": [
    "Для столбцов airports_nearest, cityCenters_nearest, parks_around3000, parks_nearest, ponds_around3000, ponds_nearest, days_exposition нет подходящих значений или корреляций для заполнения, поэтому эти пропуски оставляем. Наличие пропусков в days_exposition скорее всего значит, что объявления всё ещё размещены."
   ]
  },
  {
   "cell_type": "markdown",
   "id": "ed2473f3",
   "metadata": {},
   "source": [
    "### Шаг 3. Посчитаем и добавим в таблицу, новые данные."
   ]
  },
  {
   "cell_type": "markdown",
   "id": "dccd0fb8",
   "metadata": {},
   "source": [
    "Посчитаем и добавим цену за квадратный метр."
   ]
  },
  {
   "cell_type": "code",
   "execution_count": null,
   "id": "21e30fe8",
   "metadata": {},
   "outputs": [],
   "source": [
    "data['price_per_meter'] = (data['last_price'] / data['total_area']).astype(int)"
   ]
  },
  {
   "cell_type": "markdown",
   "id": "f43436ac",
   "metadata": {},
   "source": [
    "Добавим столбцы с днем недели, месяцем и годом размещения объявления."
   ]
  },
  {
   "cell_type": "code",
   "execution_count": null,
   "id": "e0bde19f",
   "metadata": {},
   "outputs": [],
   "source": [
    "data['weekday'] = data['first_day_exposition'].dt.weekday\n",
    "data['month'] = data['first_day_exposition'].dt.month\n",
    "data['year'] = data['first_day_exposition'].dt.year"
   ]
  },
  {
   "cell_type": "markdown",
   "id": "945773a0",
   "metadata": {},
   "source": [
    "Добавим колонки отношения жилой площади к общей, и площади кухни к общей."
   ]
  },
  {
   "cell_type": "code",
   "execution_count": null,
   "id": "88aa4fa0",
   "metadata": {},
   "outputs": [],
   "source": [
    "data['living_area_and_total'] = data['living_area'] / data['total_area']\n",
    "data['kitchen_area_and_total'] = data['kitchen_area'] / data['total_area']"
   ]
  },
  {
   "cell_type": "markdown",
   "id": "f243c5d0",
   "metadata": {},
   "source": [
    "Сгруппируем этажи и добавим колонку, где указано, на каком этаже расположена квартира относительно всего здания."
   ]
  },
  {
   "cell_type": "code",
   "execution_count": null,
   "id": "4261c868",
   "metadata": {},
   "outputs": [],
   "source": [
    "def floor_type(df):\n",
    "    floor = df['floor']\n",
    "    total_floors = df['floors_total']\n",
    "    if floor == 1:\n",
    "        return 'первый'\n",
    "    elif floor == total_floors:\n",
    "        return 'последний'\n",
    "    elif 1 < floor < total_floors:\n",
    "        return 'другой'\n",
    "\n",
    "data['floor_type'] = data.apply(floor_type, axis = 1)"
   ]
  },
  {
   "cell_type": "markdown",
   "id": "09341e27",
   "metadata": {},
   "source": [
    "### Шаг 4. Проведем исследовательский анализ данных."
   ]
  },
  {
   "cell_type": "markdown",
   "id": "b1f01b12",
   "metadata": {},
   "source": [
    "Изучим  площадь, цены, число комнат, высоту потолков квартир. Пострим гистограммы для каждого параметра."
   ]
  },
  {
   "cell_type": "code",
   "execution_count": null,
   "id": "cd327a42",
   "metadata": {},
   "outputs": [],
   "source": [
    "data['total_area'].hist(bins=60, range=(0, 300), figsize=(8, 6))\n",
    "\n",
    "data['total_area'].describe()"
   ]
  },
  {
   "cell_type": "code",
   "execution_count": null,
   "id": "b58e7b97",
   "metadata": {},
   "outputs": [],
   "source": [
    "data.boxplot('total_area')"
   ]
  },
  {
   "cell_type": "markdown",
   "id": "7179003c",
   "metadata": {},
   "source": [
    "Совсем маленьких квартир почти нет. Есть выбросы свыше 550, возможно, значения и правдивые, но не отображают положение рынка. Очистим от выбросов и создадим новый датафрейм."
   ]
  },
  {
   "cell_type": "code",
   "execution_count": null,
   "id": "12be037c",
   "metadata": {},
   "outputs": [],
   "source": [
    "new_data = data.query('total_area < 550')\n",
    "new_data.boxplot('total_area')"
   ]
  },
  {
   "cell_type": "code",
   "execution_count": null,
   "id": "95c1ebc7",
   "metadata": {},
   "outputs": [],
   "source": [
    "(new_data['last_price'] / 1000000).hist(bins=60, range=(0, 30), figsize=(8, 6))\n",
    "new_data['last_price'].describe()"
   ]
  },
  {
   "cell_type": "markdown",
   "id": "16c80507",
   "metadata": {},
   "source": [
    "В основном стоимость квартир колеблется в районе 4 миллионов."
   ]
  },
  {
   "cell_type": "code",
   "execution_count": null,
   "id": "6f1bfff4",
   "metadata": {},
   "outputs": [],
   "source": [
    "new_data['rooms'].hist(bins=10, range=(0, 10), figsize=(8, 6))\n",
    "new_data['rooms'].describe()"
   ]
  },
  {
   "cell_type": "markdown",
   "id": "fb589e31",
   "metadata": {},
   "source": [
    "Основная часть в обьявлениях это однокомнатные и двукомнатные квартиры."
   ]
  },
  {
   "cell_type": "code",
   "execution_count": null,
   "id": "3588e6ce",
   "metadata": {},
   "outputs": [],
   "source": [
    "new_data['ceiling_height'].hist(bins=6, range=(2, 5), figsize=(8, 6))\n",
    "new_data['ceiling_height'].describe()"
   ]
  },
  {
   "cell_type": "markdown",
   "id": "c1fdc0a2",
   "metadata": {},
   "source": [
    "У большинства квартир потолки высотой в районе 2.65 метров, но есть и намного больше."
   ]
  },
  {
   "cell_type": "code",
   "execution_count": null,
   "id": "6eb06547",
   "metadata": {},
   "outputs": [],
   "source": [
    "import matplotlib.pyplot as plt\n",
    "\n",
    "new_data.boxplot('days_exposition')\n",
    "plt.ylim(1,1600)\n",
    "new_data['days_exposition'].describe()"
   ]
  },
  {
   "cell_type": "code",
   "execution_count": null,
   "id": "2d548a04",
   "metadata": {},
   "outputs": [],
   "source": [
    "new_data.plot(y='days_exposition', kind='hist', bins=400, grid=True, figsize=(16, 9))\n",
    "new_data.plot(y='days_exposition', kind='hist', bins=200, grid=True, range=(0, 100), figsize=(8, 6))"
   ]
  },
  {
   "cell_type": "markdown",
   "id": "a7e0bbbb",
   "metadata": {},
   "source": [
    "Половина квартир продается за 3 месяца, четверть продаж за полтора месяца. У нас длинный хвост на диаграмме, поэтому среднее значение в полгода скорее можно считать долгими продажами.\n",
    "\n",
    "Есть выбросы на 7, 30, 45, 60 и 90 дней, эти данные можно удалить, они не повлияют на анализ."
   ]
  },
  {
   "cell_type": "code",
   "execution_count": null,
   "id": "471c008a",
   "metadata": {},
   "outputs": [],
   "source": [
    "new_data = new_data.query('days_exposition not in (7,30,60,45.00000000000001, 90.00000000000001)')\n",
    "new_data = new_data.query('days_exposition < 730')\n",
    "new_data['days_exposition'].describe()"
   ]
  },
  {
   "cell_type": "code",
   "execution_count": null,
   "id": "3e5f7282",
   "metadata": {},
   "outputs": [],
   "source": [
    "new_data.plot(y='days_exposition', kind='hist', bins=400, grid=True, figsize=(16, 9))\n",
    "new_data.plot(y='days_exposition', kind='hist', bins=200, grid=True, range=(0, 100), figsize=(8, 6))"
   ]
  },
  {
   "cell_type": "code",
   "execution_count": null,
   "id": "c4f22985",
   "metadata": {},
   "outputs": [],
   "source": [
    "new_data['price_per_meter'].corr(new_data['total_area'])"
   ]
  },
  {
   "cell_type": "code",
   "execution_count": null,
   "id": "baa09fef",
   "metadata": {},
   "outputs": [],
   "source": [
    "def plot_constrctor(index):\n",
    "    (new_data.pivot_table(index=index, values='price_per_meter',\n",
    "                             aggfunc=['median']).plot(grid=True))"
   ]
  },
  {
   "cell_type": "code",
   "execution_count": null,
   "id": "859a178f",
   "metadata": {},
   "outputs": [],
   "source": [
    "new_data.plot(kind = 'scatter', y = 'price_per_meter', x = 'total_area', alpha = 0.04)"
   ]
  },
  {
   "cell_type": "markdown",
   "id": "e69155c9",
   "metadata": {},
   "source": [
    "Прямой зависимости между общей площадью и ценой за метр не наблюдается."
   ]
  },
  {
   "cell_type": "code",
   "execution_count": null,
   "id": "a681f1c9",
   "metadata": {},
   "outputs": [],
   "source": [
    "new_data['price_per_meter'].corr(new_data['rooms'])"
   ]
  },
  {
   "cell_type": "code",
   "execution_count": null,
   "id": "e6c67200",
   "metadata": {},
   "outputs": [],
   "source": [
    "plot_constrctor(new_data['rooms'])"
   ]
  },
  {
   "cell_type": "markdown",
   "id": "216c62ac",
   "metadata": {},
   "source": [
    "Прямой корреляции не неблюдется, но по графику видно что, квадратный метр дешевле в трехкомнатных квартирах.\n",
    "\n"
   ]
  },
  {
   "cell_type": "code",
   "execution_count": null,
   "id": "7219c5ef",
   "metadata": {},
   "outputs": [],
   "source": [
    "plot_constrctor(new_data['floor_type'])"
   ]
  },
  {
   "cell_type": "markdown",
   "id": "44b4e05b",
   "metadata": {},
   "source": [
    "Квартиры на первом этаже явно самые дешевые."
   ]
  },
  {
   "cell_type": "code",
   "execution_count": null,
   "id": "a088c928",
   "metadata": {},
   "outputs": [],
   "source": [
    "new_data.plot(kind = 'hist', y = 'price_per_meter', x = 'cityCenters_nearest')"
   ]
  },
  {
   "cell_type": "markdown",
   "id": "d6654242",
   "metadata": {},
   "source": [
    "В центре квартиры намного дороже."
   ]
  },
  {
   "cell_type": "code",
   "execution_count": null,
   "id": "9960be62",
   "metadata": {},
   "outputs": [],
   "source": [
    "new_data['price_per_meter'].corr(new_data['weekday'])"
   ]
  },
  {
   "cell_type": "code",
   "execution_count": null,
   "id": "51746a27",
   "metadata": {},
   "outputs": [],
   "source": [
    "plot_constrctor(new_data['weekday'])"
   ]
  },
  {
   "cell_type": "markdown",
   "id": "919c182a",
   "metadata": {},
   "source": [
    "К воскресенью цены снижаются, а в среду наоборот растут."
   ]
  },
  {
   "cell_type": "code",
   "execution_count": null,
   "id": "02c06919",
   "metadata": {},
   "outputs": [],
   "source": [
    "new_data['price_per_meter'].corr(new_data['month'])"
   ]
  },
  {
   "cell_type": "code",
   "execution_count": null,
   "id": "e0037e07",
   "metadata": {},
   "outputs": [],
   "source": [
    "plot_constrctor(new_data['month'])"
   ]
  },
  {
   "cell_type": "markdown",
   "id": "4f3fc58e",
   "metadata": {},
   "source": [
    "В июне и декабре самые низкие цены. Январь и август самые выгодные месяцы для продажи квартиры."
   ]
  },
  {
   "cell_type": "code",
   "execution_count": null,
   "id": "64d25b82",
   "metadata": {},
   "outputs": [],
   "source": [
    "new_data['price_per_meter'].corr(new_data['year'])"
   ]
  },
  {
   "cell_type": "code",
   "execution_count": null,
   "id": "d3996af7",
   "metadata": {},
   "outputs": [],
   "source": [
    "plot_constrctor(new_data['year'])"
   ]
  },
  {
   "cell_type": "code",
   "execution_count": null,
   "id": "7eff40d1",
   "metadata": {},
   "outputs": [],
   "source": [
    "new_data['year'].value_counts()"
   ]
  },
  {
   "cell_type": "markdown",
   "id": "c5250ce2",
   "metadata": {},
   "source": [
    "За 2014 год объявлений совсем мало, выборка не валидна."
   ]
  },
  {
   "cell_type": "markdown",
   "id": "a38e6a61",
   "metadata": {},
   "source": [
    "Сделаем таблицу из 10 самых популярных населенных пунктов. "
   ]
  },
  {
   "cell_type": "code",
   "execution_count": null,
   "id": "0f1c2b3e",
   "metadata": {},
   "outputs": [],
   "source": [
    "new_data_ten = new_data.pivot_table(index='locality_name', values='price_per_meter', aggfunc=['mean', 'count'])\n",
    "new_data_ten.columns = ['mean', 'count']\n",
    "new_data_ten = new_data_ten.sort_values('count', ascending=False).head(10)\n",
    "new_data_ten"
   ]
  },
  {
   "cell_type": "markdown",
   "id": "e22fb9b1",
   "metadata": {},
   "source": [
    "Самый дорогой Санкт-Петербург, а самый дешевый из выбранных Выборг."
   ]
  },
  {
   "cell_type": "markdown",
   "id": "9e49445f",
   "metadata": {},
   "source": [
    "Сделаем таблицу по Санкт-Петербургу, расстояние до центра округлим до километров."
   ]
  },
  {
   "cell_type": "code",
   "execution_count": null,
   "id": "d62d6c19",
   "metadata": {},
   "outputs": [],
   "source": [
    "new_data_spb = new_data.query('locality_name == \"Санкт-Петербург\"').dropna()\n",
    "new_data_spb['to_center_in_km'] = (new_data_spb['cityCenters_nearest']/ 1000).astype(int)\n",
    "new_data_spb_pivot = new_data_spb.pivot_table(index='to_center_in_km', values='price_per_meter')   \n",
    "new_data_spb_pivot.plot(grid=True, figsize=(8, 6), title='Зависимость цены от расстояния до центра')\n",
    "new_data_spb_pivot"
   ]
  },
  {
   "cell_type": "markdown",
   "id": "93bbba4c",
   "metadata": {},
   "source": [
    "На расстоянии в 3км от центра есть сильная просадка в цене. Дальше следует подъем в цене, и на расстоянии в 8 км. от центра, цены падают еще сильнее, будем считать это центром."
   ]
  },
  {
   "cell_type": "code",
   "execution_count": null,
   "id": "ec3a9969",
   "metadata": {},
   "outputs": [],
   "source": [
    "center_spb = new_data_spb.query('to_center_in_km < 8')\n",
    "center_spb"
   ]
  },
  {
   "cell_type": "code",
   "execution_count": null,
   "id": "547857e6",
   "metadata": {},
   "outputs": [],
   "source": [
    "new_data['total_area'].hist(bins=60, range=(0, 300), figsize=(8, 6))\n",
    "center_spb['total_area'].hist(bins=60, range=(0, 300), figsize=(8, 6))"
   ]
  },
  {
   "cell_type": "markdown",
   "id": "554be690",
   "metadata": {},
   "source": [
    "Распределение площади в центре очень схоже с распределением по остальной выборке."
   ]
  },
  {
   "cell_type": "code",
   "execution_count": null,
   "id": "c5838035",
   "metadata": {},
   "outputs": [],
   "source": [
    "(new_data['last_price'] / 1000000).hist(bins=60, range=(0, 30), figsize=(8, 6))\n",
    "(center_spb['last_price'] / 1000000).hist(bins=60, range=(0, 30), figsize=(8, 6))"
   ]
  },
  {
   "cell_type": "markdown",
   "id": "4ef323d8",
   "metadata": {},
   "source": [
    "В центре смещение к более дорогим квартирам."
   ]
  },
  {
   "cell_type": "code",
   "execution_count": null,
   "id": "ea382094",
   "metadata": {},
   "outputs": [],
   "source": [
    "new_data['rooms'].hist(bins=10, range=(0, 10), figsize=(8, 6))\n",
    "center_spb['rooms'].hist(bins=10, range=(0, 10), figsize=(8, 6))"
   ]
  },
  {
   "cell_type": "markdown",
   "id": "a0ee3ea2",
   "metadata": {},
   "source": [
    "В центре больше многокомнатных квартир."
   ]
  },
  {
   "cell_type": "code",
   "execution_count": null,
   "id": "3d7eb5a7",
   "metadata": {},
   "outputs": [],
   "source": [
    "new_data['ceiling_height'].hist(bins=6, range=(2, 5), figsize=(8, 6))\n",
    "center_spb['ceiling_height'].hist(bins=6, range=(2, 5), figsize=(8, 6))"
   ]
  },
  {
   "cell_type": "markdown",
   "id": "8d1c69d7",
   "metadata": {},
   "source": [
    "В центре потолки выше, чем на окраинах."
   ]
  },
  {
   "cell_type": "code",
   "execution_count": null,
   "id": "4e533522",
   "metadata": {},
   "outputs": [],
   "source": [
    "def plot_constructor_center(index):\n",
    "    (center_spb.pivot_table(index=index, values='price_per_meter',\n",
    "                             aggfunc=['median']).plot(grid=True))"
   ]
  },
  {
   "cell_type": "code",
   "execution_count": null,
   "id": "ed07451a",
   "metadata": {},
   "outputs": [],
   "source": [
    "plot_constructor_center(new_data['rooms'])"
   ]
  },
  {
   "cell_type": "markdown",
   "id": "f129122d",
   "metadata": {},
   "source": [
    "В центре однокомнатные квартиры стоят существенно дороже, чем в остальной части Питера."
   ]
  },
  {
   "cell_type": "code",
   "execution_count": null,
   "id": "dde15ce0",
   "metadata": {},
   "outputs": [],
   "source": [
    "plot_constructor_center(new_data['floor_type'])"
   ]
  },
  {
   "cell_type": "markdown",
   "id": "0c7a61ba",
   "metadata": {},
   "source": [
    "Картина не отличается от остального города, самые дешевые квартиры на первом этаже."
   ]
  },
  {
   "cell_type": "code",
   "execution_count": null,
   "id": "c73c4b4b",
   "metadata": {},
   "outputs": [],
   "source": [
    "center_pivot = center_spb.pivot_table(index='to_center_in_km', values='price_per_meter')   \n",
    "center_pivot.plot(grid=True, figsize=(8, 6), title='Зависимость цены от расстояния до центра')"
   ]
  },
  {
   "cell_type": "markdown",
   "id": "7f2bd494",
   "metadata": {},
   "source": [
    "Цены снижаются по мере удаления от центара."
   ]
  },
  {
   "cell_type": "code",
   "execution_count": null,
   "id": "a115891a",
   "metadata": {},
   "outputs": [],
   "source": [
    "plot_constructor_center(new_data['year'])"
   ]
  },
  {
   "cell_type": "code",
   "execution_count": null,
   "id": "af1b75c6",
   "metadata": {},
   "outputs": [],
   "source": [
    "plot_constructor_center(new_data['month'])"
   ]
  },
  {
   "cell_type": "markdown",
   "id": "12d51dad",
   "metadata": {},
   "source": [
    "В центре картина по месяцам сильно отличается от остального города, май самый выгодный месяц для покупки квартиры в центре."
   ]
  },
  {
   "cell_type": "code",
   "execution_count": null,
   "id": "79cc3b88",
   "metadata": {},
   "outputs": [],
   "source": [
    "plot_constructor_center(new_data['weekday'])"
   ]
  },
  {
   "cell_type": "markdown",
   "id": "533d4862",
   "metadata": {},
   "source": [
    "Так же как и в остальной части города в воскресенье самые выгодные цены."
   ]
  },
  {
   "cell_type": "markdown",
   "id": "a24b4718",
   "metadata": {},
   "source": [
    "### Шаг 5. Общий вывод."
   ]
  },
  {
   "cell_type": "markdown",
   "id": "d8999444",
   "metadata": {},
   "source": [
    "**<font color=\"maroon\">Факторы влияющие на цену квартир:</font>** "
   ]
  },
  {
   "cell_type": "markdown",
   "id": "6e5770fd",
   "metadata": {},
   "source": [
    "* Больше половины квартир продается по цене до 5 млн. рублей.\n",
    "* На цену м² существенное влияние оказывает общая площадь квартиры, в квартирах до 100 м² корреляция составляет 0.24, в квартирах большей площадью влияние увеличивается до 0.39.\n",
    "* м² в трехкомнатных квартирах на 6.73% цены дешевле чем в остальной выборке.\n",
    "* Этаж тоже оказывает влияние на стоимость квартиры. Самые дешевые квартиры на первом этаже, затем идут квартиры на последнем этаже, а квартиры между ними оказались самыми дорогими. В среднем квартиры на первом этаже дешевле на 13.95% чем цены в общем на рынке.\n",
    "* Удаленность квартиры от центра существенно влияет на ее стоимость, и является одним из основных факторов влияющих на конечную цену, корреляция составляет -0.31.\n",
    "* Также наблюдается сезонность, весной - летом цены дешевле, чем осенью - зимой. И в конце недели цены ниже чем среди недели."
   ]
  },
  {
   "cell_type": "markdown",
   "id": "c13aec60",
   "metadata": {},
   "source": [
    "**<font color=\"maroon\">Типичные параметры продающихся квартир:</font>** "
   ]
  },
  {
   "cell_type": "markdown",
   "id": "3c13a851",
   "metadata": {},
   "source": [
    "* В основном продаются квартиры площадью 40 - 69 м².\n",
    "* Типичная цена продажи 3.4 - 6.79 млн. рублей.\n",
    "* Комнаты от 1 до 3.\n",
    "* Высота потолков 2.6 - 2.7 м.\n",
    "* Время продажи составляет от 43 до 229 дней."
   ]
  },
  {
   "cell_type": "markdown",
   "id": "43a992af",
   "metadata": {},
   "source": [
    "**<font color=\"maroon\">Для центра параметры отличаются:</font>** "
   ]
  },
  {
   "cell_type": "markdown",
   "id": "60ea52bd",
   "metadata": {},
   "source": [
    "Центральная часть города, судя по графику цен, имеет радиус примерно 8 км.\n",
    "\n",
    "* В центре площадь квартир больше и в основном составляет 55 - 106 м².\n",
    "* Цена от 6.45 до 14.5 млн. рублей.\n",
    "* Количество комнат в центре тоже более, здесь однокомнатных практически нет, и продаются в основном двух и трех комнатные.\n",
    "* Потолки 2.65 - 3.2 м.\n",
    "* Время продажи 61 - 299 дней."
   ]
  },
  {
   "cell_type": "code",
   "execution_count": null,
   "id": "8e65e72c",
   "metadata": {},
   "outputs": [],
   "source": []
  }
 ],
 "metadata": {
  "ExecuteTimeLog": [
   {
    "duration": 525,
    "start_time": "2022-03-04T12:11:52.357Z"
   },
   {
    "duration": 1576,
    "start_time": "2022-03-04T12:11:52.884Z"
   },
   {
    "duration": 469,
    "start_time": "2022-03-04T12:11:53.994Z"
   },
   {
    "duration": 466,
    "start_time": "2022-03-04T12:11:53.997Z"
   },
   {
    "duration": 396,
    "start_time": "2022-03-04T12:11:54.068Z"
   },
   {
    "duration": 391,
    "start_time": "2022-03-04T12:11:54.074Z"
   },
   {
    "duration": 390,
    "start_time": "2022-03-04T12:11:54.076Z"
   },
   {
    "duration": 388,
    "start_time": "2022-03-04T12:11:54.079Z"
   },
   {
    "duration": 386,
    "start_time": "2022-03-04T12:11:54.082Z"
   },
   {
    "duration": 384,
    "start_time": "2022-03-04T12:11:54.085Z"
   },
   {
    "duration": 317,
    "start_time": "2022-03-04T12:11:54.153Z"
   },
   {
    "duration": 310,
    "start_time": "2022-03-04T12:11:54.161Z"
   },
   {
    "duration": 307,
    "start_time": "2022-03-04T12:11:54.164Z"
   },
   {
    "duration": 306,
    "start_time": "2022-03-04T12:11:54.167Z"
   },
   {
    "duration": 304,
    "start_time": "2022-03-04T12:11:54.169Z"
   },
   {
    "duration": 228,
    "start_time": "2022-03-04T12:11:54.246Z"
   },
   {
    "duration": 226,
    "start_time": "2022-03-04T12:11:54.249Z"
   },
   {
    "duration": 220,
    "start_time": "2022-03-04T12:11:54.256Z"
   },
   {
    "duration": 219,
    "start_time": "2022-03-04T12:11:54.258Z"
   },
   {
    "duration": 217,
    "start_time": "2022-03-04T12:11:54.261Z"
   },
   {
    "duration": 216,
    "start_time": "2022-03-04T12:11:54.263Z"
   },
   {
    "duration": 214,
    "start_time": "2022-03-04T12:11:54.266Z"
   },
   {
    "duration": 157,
    "start_time": "2022-03-04T12:11:54.323Z"
   },
   {
    "duration": 152,
    "start_time": "2022-03-04T12:11:54.329Z"
   },
   {
    "duration": 147,
    "start_time": "2022-03-04T12:11:54.335Z"
   },
   {
    "duration": 146,
    "start_time": "2022-03-04T12:11:54.337Z"
   },
   {
    "duration": 144,
    "start_time": "2022-03-04T12:11:54.340Z"
   },
   {
    "duration": 142,
    "start_time": "2022-03-04T12:11:54.342Z"
   },
   {
    "duration": 73,
    "start_time": "2022-03-04T12:11:54.412Z"
   },
   {
    "duration": 72,
    "start_time": "2022-03-04T12:11:54.414Z"
   },
   {
    "duration": 67,
    "start_time": "2022-03-04T12:11:54.420Z"
   },
   {
    "duration": 65,
    "start_time": "2022-03-04T12:11:54.423Z"
   },
   {
    "duration": 63,
    "start_time": "2022-03-04T12:11:54.425Z"
   },
   {
    "duration": 61,
    "start_time": "2022-03-04T12:11:54.428Z"
   },
   {
    "duration": 630,
    "start_time": "2022-03-04T21:40:19.276Z"
   },
   {
    "duration": 2776,
    "start_time": "2022-03-04T21:40:19.908Z"
   },
   {
    "duration": 5,
    "start_time": "2022-03-04T21:40:22.683Z"
   },
   {
    "duration": 1,
    "start_time": "2022-03-04T21:40:22.688Z"
   },
   {
    "duration": -4,
    "start_time": "2022-03-04T21:40:22.694Z"
   },
   {
    "duration": -10,
    "start_time": "2022-03-04T21:40:22.701Z"
   },
   {
    "duration": -17,
    "start_time": "2022-03-04T21:40:22.708Z"
   },
   {
    "duration": -22,
    "start_time": "2022-03-04T21:40:22.714Z"
   },
   {
    "duration": -29,
    "start_time": "2022-03-04T21:40:22.722Z"
   },
   {
    "duration": -37,
    "start_time": "2022-03-04T21:40:22.731Z"
   },
   {
    "duration": -44,
    "start_time": "2022-03-04T21:40:22.740Z"
   },
   {
    "duration": -51,
    "start_time": "2022-03-04T21:40:22.747Z"
   },
   {
    "duration": -56,
    "start_time": "2022-03-04T21:40:22.753Z"
   },
   {
    "duration": -60,
    "start_time": "2022-03-04T21:40:22.758Z"
   },
   {
    "duration": -67,
    "start_time": "2022-03-04T21:40:22.766Z"
   },
   {
    "duration": -81,
    "start_time": "2022-03-04T21:40:22.782Z"
   },
   {
    "duration": -86,
    "start_time": "2022-03-04T21:40:22.788Z"
   },
   {
    "duration": -91,
    "start_time": "2022-03-04T21:40:22.794Z"
   },
   {
    "duration": -97,
    "start_time": "2022-03-04T21:40:22.801Z"
   },
   {
    "duration": -101,
    "start_time": "2022-03-04T21:40:22.806Z"
   },
   {
    "duration": -108,
    "start_time": "2022-03-04T21:40:22.814Z"
   },
   {
    "duration": -112,
    "start_time": "2022-03-04T21:40:22.819Z"
   },
   {
    "duration": -117,
    "start_time": "2022-03-04T21:40:22.825Z"
   },
   {
    "duration": -125,
    "start_time": "2022-03-04T21:40:22.835Z"
   },
   {
    "duration": -132,
    "start_time": "2022-03-04T21:40:22.843Z"
   },
   {
    "duration": -138,
    "start_time": "2022-03-04T21:40:22.850Z"
   },
   {
    "duration": -147,
    "start_time": "2022-03-04T21:40:22.860Z"
   },
   {
    "duration": -159,
    "start_time": "2022-03-04T21:40:22.873Z"
   },
   {
    "duration": -174,
    "start_time": "2022-03-04T21:40:22.889Z"
   },
   {
    "duration": -203,
    "start_time": "2022-03-04T21:40:22.919Z"
   },
   {
    "duration": -215,
    "start_time": "2022-03-04T21:40:22.932Z"
   },
   {
    "duration": -224,
    "start_time": "2022-03-04T21:40:22.942Z"
   },
   {
    "duration": -229,
    "start_time": "2022-03-04T21:40:22.949Z"
   },
   {
    "duration": -236,
    "start_time": "2022-03-04T21:40:22.956Z"
   },
   {
    "duration": -246,
    "start_time": "2022-03-04T21:40:22.967Z"
   },
   {
    "duration": -253,
    "start_time": "2022-03-04T21:40:22.975Z"
   },
   {
    "duration": -261,
    "start_time": "2022-03-04T21:40:22.984Z"
   },
   {
    "duration": -212,
    "start_time": "2022-03-04T21:40:22.989Z"
   },
   {
    "duration": -218,
    "start_time": "2022-03-04T21:40:22.996Z"
   },
   {
    "duration": -222,
    "start_time": "2022-03-04T21:40:23.001Z"
   },
   {
    "duration": -227,
    "start_time": "2022-03-04T21:40:23.007Z"
   },
   {
    "duration": -230,
    "start_time": "2022-03-04T21:40:23.012Z"
   },
   {
    "duration": -247,
    "start_time": "2022-03-04T21:40:23.030Z"
   },
   {
    "duration": -251,
    "start_time": "2022-03-04T21:40:23.035Z"
   },
   {
    "duration": -255,
    "start_time": "2022-03-04T21:40:23.040Z"
   },
   {
    "duration": -258,
    "start_time": "2022-03-04T21:40:23.044Z"
   },
   {
    "duration": -262,
    "start_time": "2022-03-04T21:40:23.049Z"
   },
   {
    "duration": -264,
    "start_time": "2022-03-04T21:40:23.053Z"
   },
   {
    "duration": -268,
    "start_time": "2022-03-04T21:40:23.057Z"
   },
   {
    "duration": -271,
    "start_time": "2022-03-04T21:40:23.062Z"
   },
   {
    "duration": -275,
    "start_time": "2022-03-04T21:40:23.067Z"
   },
   {
    "duration": -278,
    "start_time": "2022-03-04T21:40:23.071Z"
   },
   {
    "duration": -281,
    "start_time": "2022-03-04T21:40:23.075Z"
   },
   {
    "duration": -284,
    "start_time": "2022-03-04T21:40:23.079Z"
   },
   {
    "duration": -288,
    "start_time": "2022-03-04T21:40:23.084Z"
   },
   {
    "duration": -291,
    "start_time": "2022-03-04T21:40:23.088Z"
   },
   {
    "duration": -295,
    "start_time": "2022-03-04T21:40:23.093Z"
   },
   {
    "duration": -303,
    "start_time": "2022-03-04T21:40:23.103Z"
   },
   {
    "duration": -307,
    "start_time": "2022-03-04T21:40:23.108Z"
   },
   {
    "duration": 1912,
    "start_time": "2022-03-04T21:41:34.223Z"
   },
   {
    "duration": 344,
    "start_time": "2022-03-05T08:11:43.691Z"
   },
   {
    "duration": 546,
    "start_time": "2022-03-05T08:11:52.748Z"
   },
   {
    "duration": 75,
    "start_time": "2022-03-05T08:11:54.078Z"
   },
   {
    "duration": 10,
    "start_time": "2022-03-05T08:11:55.961Z"
   },
   {
    "duration": 37,
    "start_time": "2022-03-05T08:12:05.444Z"
   },
   {
    "duration": 58,
    "start_time": "2022-03-05T08:12:05.967Z"
   },
   {
    "duration": 11,
    "start_time": "2022-03-05T08:12:11.022Z"
   },
   {
    "duration": 4,
    "start_time": "2022-03-05T08:12:12.337Z"
   },
   {
    "duration": 6,
    "start_time": "2022-03-05T08:12:13.312Z"
   },
   {
    "duration": 16,
    "start_time": "2022-03-05T08:12:14.426Z"
   },
   {
    "duration": 4,
    "start_time": "2022-03-05T08:12:16.101Z"
   },
   {
    "duration": 5,
    "start_time": "2022-03-05T08:12:17.432Z"
   },
   {
    "duration": 418,
    "start_time": "2022-03-05T08:30:38.372Z"
   },
   {
    "duration": 5,
    "start_time": "2022-03-05T08:30:49.465Z"
   },
   {
    "duration": 5,
    "start_time": "2022-03-05T08:31:04.243Z"
   },
   {
    "duration": 6,
    "start_time": "2022-03-05T08:31:12.587Z"
   },
   {
    "duration": 4,
    "start_time": "2022-03-05T08:31:53.605Z"
   },
   {
    "duration": 4,
    "start_time": "2022-03-05T08:32:32.808Z"
   },
   {
    "duration": 4,
    "start_time": "2022-03-05T08:32:46.649Z"
   },
   {
    "duration": 6,
    "start_time": "2022-03-05T08:32:59.421Z"
   },
   {
    "duration": 6,
    "start_time": "2022-03-05T08:39:14.120Z"
   },
   {
    "duration": 5,
    "start_time": "2022-03-05T08:39:50.493Z"
   },
   {
    "duration": 5,
    "start_time": "2022-03-05T08:41:52.934Z"
   },
   {
    "duration": 2,
    "start_time": "2022-03-05T08:42:11.398Z"
   },
   {
    "duration": 61,
    "start_time": "2022-03-05T08:42:11.983Z"
   },
   {
    "duration": 10,
    "start_time": "2022-03-05T08:42:13.355Z"
   },
   {
    "duration": 26,
    "start_time": "2022-03-05T08:42:15.495Z"
   },
   {
    "duration": 60,
    "start_time": "2022-03-05T08:42:16.303Z"
   },
   {
    "duration": 10,
    "start_time": "2022-03-05T08:42:23.158Z"
   },
   {
    "duration": 4,
    "start_time": "2022-03-05T08:42:25.125Z"
   },
   {
    "duration": 5,
    "start_time": "2022-03-05T08:42:26.773Z"
   },
   {
    "duration": 9,
    "start_time": "2022-03-05T08:42:28.021Z"
   },
   {
    "duration": 5,
    "start_time": "2022-03-05T08:42:30.395Z"
   },
   {
    "duration": 5,
    "start_time": "2022-03-05T08:42:33.833Z"
   },
   {
    "duration": 5,
    "start_time": "2022-03-05T08:46:25.211Z"
   },
   {
    "duration": 4,
    "start_time": "2022-03-05T08:46:31.783Z"
   },
   {
    "duration": 5,
    "start_time": "2022-03-05T08:49:10.643Z"
   },
   {
    "duration": 6,
    "start_time": "2022-03-05T08:51:47.872Z"
   },
   {
    "duration": 4,
    "start_time": "2022-03-05T08:52:08.566Z"
   },
   {
    "duration": 12,
    "start_time": "2022-03-05T08:54:17.954Z"
   },
   {
    "duration": 4,
    "start_time": "2022-03-05T08:54:19.737Z"
   },
   {
    "duration": 5,
    "start_time": "2022-03-05T08:54:22.326Z"
   },
   {
    "duration": 14,
    "start_time": "2022-03-05T08:54:25.266Z"
   },
   {
    "duration": 37,
    "start_time": "2022-03-05T08:54:31.511Z"
   },
   {
    "duration": 4,
    "start_time": "2022-03-05T08:54:34.218Z"
   },
   {
    "duration": 4,
    "start_time": "2022-03-05T08:54:36.689Z"
   },
   {
    "duration": 108,
    "start_time": "2022-03-05T09:01:20.966Z"
   },
   {
    "duration": 4,
    "start_time": "2022-03-05T09:03:29.397Z"
   },
   {
    "duration": 15,
    "start_time": "2022-03-05T09:03:30.779Z"
   },
   {
    "duration": 9,
    "start_time": "2022-03-05T09:03:32.564Z"
   },
   {
    "duration": 4,
    "start_time": "2022-03-05T09:03:34.976Z"
   },
   {
    "duration": 11,
    "start_time": "2022-03-05T09:03:36.292Z"
   },
   {
    "duration": 5,
    "start_time": "2022-03-05T09:03:38.262Z"
   },
   {
    "duration": 423,
    "start_time": "2022-03-05T09:03:40.166Z"
   },
   {
    "duration": 424,
    "start_time": "2022-03-05T09:03:42.675Z"
   },
   {
    "duration": 245,
    "start_time": "2022-03-05T09:04:25.417Z"
   },
   {
    "duration": 114,
    "start_time": "2022-03-05T09:04:27.141Z"
   },
   {
    "duration": 325,
    "start_time": "2022-03-05T09:06:21.834Z"
   },
   {
    "duration": 118,
    "start_time": "2022-03-05T09:06:29.083Z"
   },
   {
    "duration": 237,
    "start_time": "2022-03-05T09:06:38.149Z"
   },
   {
    "duration": 191,
    "start_time": "2022-03-05T09:06:58.693Z"
   },
   {
    "duration": 93,
    "start_time": "2022-03-05T09:09:19.559Z"
   },
   {
    "duration": 5,
    "start_time": "2022-03-05T09:12:04.864Z"
   },
   {
    "duration": 5,
    "start_time": "2022-03-05T09:14:27.854Z"
   },
   {
    "duration": 4,
    "start_time": "2022-03-05T09:14:42.941Z"
   },
   {
    "duration": 4,
    "start_time": "2022-03-05T09:14:58.593Z"
   },
   {
    "duration": 4,
    "start_time": "2022-03-05T09:15:27.909Z"
   },
   {
    "duration": 6,
    "start_time": "2022-03-05T09:17:22.095Z"
   },
   {
    "duration": 334,
    "start_time": "2022-03-06T08:54:50.731Z"
   },
   {
    "duration": 94,
    "start_time": "2022-03-06T08:56:04.250Z"
   },
   {
    "duration": 567,
    "start_time": "2022-03-06T08:58:00.506Z"
   },
   {
    "duration": 63,
    "start_time": "2022-03-06T08:58:01.396Z"
   },
   {
    "duration": 11,
    "start_time": "2022-03-06T08:58:02.145Z"
   },
   {
    "duration": 30,
    "start_time": "2022-03-06T08:58:04.260Z"
   },
   {
    "duration": 61,
    "start_time": "2022-03-06T08:58:04.292Z"
   },
   {
    "duration": 11,
    "start_time": "2022-03-06T08:58:06.926Z"
   },
   {
    "duration": 5,
    "start_time": "2022-03-06T08:58:08.517Z"
   },
   {
    "duration": 5,
    "start_time": "2022-03-06T08:58:09.521Z"
   },
   {
    "duration": 13,
    "start_time": "2022-03-06T08:58:10.514Z"
   },
   {
    "duration": 4,
    "start_time": "2022-03-06T08:58:12.030Z"
   },
   {
    "duration": 12,
    "start_time": "2022-03-06T08:58:17.339Z"
   },
   {
    "duration": 4,
    "start_time": "2022-03-06T08:58:27.512Z"
   },
   {
    "duration": 4,
    "start_time": "2022-03-06T08:58:28.993Z"
   },
   {
    "duration": 14,
    "start_time": "2022-03-06T08:58:31.393Z"
   },
   {
    "duration": 35,
    "start_time": "2022-03-06T08:58:33.970Z"
   },
   {
    "duration": 4,
    "start_time": "2022-03-06T08:58:42.146Z"
   },
   {
    "duration": 15,
    "start_time": "2022-03-06T08:58:44.814Z"
   },
   {
    "duration": 9,
    "start_time": "2022-03-06T08:58:57.225Z"
   },
   {
    "duration": 4,
    "start_time": "2022-03-06T08:59:02.970Z"
   },
   {
    "duration": 12,
    "start_time": "2022-03-06T08:59:08.652Z"
   },
   {
    "duration": 5,
    "start_time": "2022-03-06T08:59:11.438Z"
   },
   {
    "duration": 427,
    "start_time": "2022-03-06T08:59:13.922Z"
   },
   {
    "duration": 364,
    "start_time": "2022-03-06T08:59:19.784Z"
   },
   {
    "duration": 113,
    "start_time": "2022-03-06T08:59:21.393Z"
   },
   {
    "duration": 14,
    "start_time": "2022-03-06T09:09:33.962Z"
   },
   {
    "duration": 14,
    "start_time": "2022-03-06T09:09:56.267Z"
   },
   {
    "duration": 299,
    "start_time": "2022-03-06T09:17:25.727Z"
   },
   {
    "duration": 14,
    "start_time": "2022-03-06T09:17:55.913Z"
   },
   {
    "duration": 38,
    "start_time": "2022-03-06T09:17:57.588Z"
   },
   {
    "duration": 4,
    "start_time": "2022-03-06T09:17:59.692Z"
   },
   {
    "duration": 15,
    "start_time": "2022-03-06T09:18:00.972Z"
   },
   {
    "duration": 11,
    "start_time": "2022-03-06T09:18:02.726Z"
   },
   {
    "duration": 4,
    "start_time": "2022-03-06T09:18:05.936Z"
   },
   {
    "duration": 11,
    "start_time": "2022-03-06T09:18:10.898Z"
   },
   {
    "duration": 5,
    "start_time": "2022-03-06T09:18:13.902Z"
   },
   {
    "duration": 538,
    "start_time": "2022-03-06T09:18:16.363Z"
   },
   {
    "duration": 271,
    "start_time": "2022-03-06T09:18:20.954Z"
   },
   {
    "duration": 119,
    "start_time": "2022-03-06T09:18:34.656Z"
   },
   {
    "duration": 120,
    "start_time": "2022-03-06T09:18:40.959Z"
   },
   {
    "duration": 254,
    "start_time": "2022-03-06T09:18:48.334Z"
   },
   {
    "duration": 218,
    "start_time": "2022-03-06T09:18:53.224Z"
   },
   {
    "duration": 183,
    "start_time": "2022-03-06T09:18:57.656Z"
   },
   {
    "duration": 130,
    "start_time": "2022-03-06T09:20:20.478Z"
   },
   {
    "duration": 1462,
    "start_time": "2022-03-06T09:20:21.021Z"
   },
   {
    "duration": 22,
    "start_time": "2022-03-06T09:20:26.966Z"
   },
   {
    "duration": 1528,
    "start_time": "2022-03-06T09:20:27.580Z"
   },
   {
    "duration": 4,
    "start_time": "2022-03-06T09:20:29.110Z"
   },
   {
    "duration": 2,
    "start_time": "2022-03-06T09:20:29.824Z"
   },
   {
    "duration": 395,
    "start_time": "2022-03-06T09:20:37.925Z"
   },
   {
    "duration": 5,
    "start_time": "2022-03-06T09:21:18.735Z"
   },
   {
    "duration": 165,
    "start_time": "2022-03-06T09:21:21.284Z"
   },
   {
    "duration": 692,
    "start_time": "2022-03-06T09:35:03.989Z"
   },
   {
    "duration": 387,
    "start_time": "2022-03-06T09:35:20.421Z"
   },
   {
    "duration": 165,
    "start_time": "2022-03-06T09:37:46.200Z"
   },
   {
    "duration": 260,
    "start_time": "2022-03-06T09:37:57.494Z"
   },
   {
    "duration": 170,
    "start_time": "2022-03-06T09:39:48.541Z"
   },
   {
    "duration": 198,
    "start_time": "2022-03-06T09:41:32.537Z"
   },
   {
    "duration": 172,
    "start_time": "2022-03-06T09:42:03.036Z"
   },
   {
    "duration": 580,
    "start_time": "2022-03-06T09:51:01.621Z"
   },
   {
    "duration": 64,
    "start_time": "2022-03-06T09:51:02.988Z"
   },
   {
    "duration": 10,
    "start_time": "2022-03-06T09:51:04.473Z"
   },
   {
    "duration": 33,
    "start_time": "2022-03-06T09:51:07.270Z"
   },
   {
    "duration": 61,
    "start_time": "2022-03-06T09:51:07.770Z"
   },
   {
    "duration": 11,
    "start_time": "2022-03-06T09:51:11.071Z"
   },
   {
    "duration": 5,
    "start_time": "2022-03-06T09:51:12.805Z"
   },
   {
    "duration": 5,
    "start_time": "2022-03-06T09:51:14.282Z"
   },
   {
    "duration": 12,
    "start_time": "2022-03-06T09:51:15.474Z"
   },
   {
    "duration": 7,
    "start_time": "2022-03-06T09:51:17.303Z"
   },
   {
    "duration": 12,
    "start_time": "2022-03-06T09:51:19.723Z"
   },
   {
    "duration": 4,
    "start_time": "2022-03-06T09:51:21.497Z"
   },
   {
    "duration": 5,
    "start_time": "2022-03-06T09:51:22.095Z"
   },
   {
    "duration": 13,
    "start_time": "2022-03-06T09:51:23.929Z"
   },
   {
    "duration": 37,
    "start_time": "2022-03-06T09:51:25.310Z"
   },
   {
    "duration": 5,
    "start_time": "2022-03-06T09:51:27.852Z"
   },
   {
    "duration": 16,
    "start_time": "2022-03-06T09:51:29.296Z"
   },
   {
    "duration": 10,
    "start_time": "2022-03-06T09:51:31.177Z"
   },
   {
    "duration": 5,
    "start_time": "2022-03-06T09:51:34.322Z"
   },
   {
    "duration": 11,
    "start_time": "2022-03-06T09:51:36.378Z"
   },
   {
    "duration": 5,
    "start_time": "2022-03-06T09:51:39.022Z"
   },
   {
    "duration": 447,
    "start_time": "2022-03-06T09:51:41.283Z"
   },
   {
    "duration": 342,
    "start_time": "2022-03-06T09:51:43.941Z"
   },
   {
    "duration": 131,
    "start_time": "2022-03-06T09:51:45.300Z"
   },
   {
    "duration": 115,
    "start_time": "2022-03-06T09:51:50.238Z"
   },
   {
    "duration": 242,
    "start_time": "2022-03-06T09:51:53.162Z"
   },
   {
    "duration": 196,
    "start_time": "2022-03-06T09:51:57.600Z"
   },
   {
    "duration": 187,
    "start_time": "2022-03-06T09:52:05.131Z"
   },
   {
    "duration": 126,
    "start_time": "2022-03-06T09:52:09.556Z"
   },
   {
    "duration": 1519,
    "start_time": "2022-03-06T09:52:10.173Z"
   },
   {
    "duration": 18,
    "start_time": "2022-03-06T09:52:17.159Z"
   },
   {
    "duration": 1672,
    "start_time": "2022-03-06T09:52:17.819Z"
   },
   {
    "duration": 4,
    "start_time": "2022-03-06T09:52:20.095Z"
   },
   {
    "duration": 3,
    "start_time": "2022-03-06T09:52:20.954Z"
   },
   {
    "duration": 456,
    "start_time": "2022-03-06T09:52:22.557Z"
   },
   {
    "duration": 5,
    "start_time": "2022-03-06T09:52:25.320Z"
   },
   {
    "duration": 373,
    "start_time": "2022-03-06T10:01:19.897Z"
   },
   {
    "duration": 3,
    "start_time": "2022-03-06T10:01:33.605Z"
   },
   {
    "duration": 284,
    "start_time": "2022-03-06T10:01:36.501Z"
   },
   {
    "duration": 557,
    "start_time": "2022-03-06T10:01:46.048Z"
   },
   {
    "duration": 65,
    "start_time": "2022-03-06T10:01:46.607Z"
   },
   {
    "duration": 11,
    "start_time": "2022-03-06T10:01:46.675Z"
   },
   {
    "duration": 40,
    "start_time": "2022-03-06T10:01:46.687Z"
   },
   {
    "duration": 75,
    "start_time": "2022-03-06T10:01:46.729Z"
   },
   {
    "duration": 12,
    "start_time": "2022-03-06T10:01:46.806Z"
   },
   {
    "duration": 4,
    "start_time": "2022-03-06T10:01:46.820Z"
   },
   {
    "duration": 5,
    "start_time": "2022-03-06T10:01:46.828Z"
   },
   {
    "duration": 10,
    "start_time": "2022-03-06T10:01:46.835Z"
   },
   {
    "duration": 5,
    "start_time": "2022-03-06T10:01:46.847Z"
   },
   {
    "duration": 22,
    "start_time": "2022-03-06T10:01:46.853Z"
   },
   {
    "duration": 28,
    "start_time": "2022-03-06T10:01:46.876Z"
   },
   {
    "duration": 6,
    "start_time": "2022-03-06T10:01:46.906Z"
   },
   {
    "duration": 15,
    "start_time": "2022-03-06T10:01:46.913Z"
   },
   {
    "duration": 37,
    "start_time": "2022-03-06T10:01:46.930Z"
   },
   {
    "duration": 32,
    "start_time": "2022-03-06T10:01:46.969Z"
   },
   {
    "duration": 15,
    "start_time": "2022-03-06T10:01:47.003Z"
   },
   {
    "duration": 10,
    "start_time": "2022-03-06T10:01:47.020Z"
   },
   {
    "duration": 4,
    "start_time": "2022-03-06T10:01:47.032Z"
   },
   {
    "duration": 14,
    "start_time": "2022-03-06T10:01:47.037Z"
   },
   {
    "duration": 5,
    "start_time": "2022-03-06T10:01:47.052Z"
   },
   {
    "duration": 456,
    "start_time": "2022-03-06T10:01:47.058Z"
   },
   {
    "duration": 369,
    "start_time": "2022-03-06T10:01:47.515Z"
   },
   {
    "duration": 122,
    "start_time": "2022-03-06T10:01:47.885Z"
   },
   {
    "duration": 122,
    "start_time": "2022-03-06T10:01:48.009Z"
   },
   {
    "duration": 278,
    "start_time": "2022-03-06T10:01:48.134Z"
   },
   {
    "duration": 201,
    "start_time": "2022-03-06T10:01:48.414Z"
   },
   {
    "duration": 191,
    "start_time": "2022-03-06T10:01:48.617Z"
   },
   {
    "duration": 137,
    "start_time": "2022-03-06T10:01:48.809Z"
   },
   {
    "duration": 1497,
    "start_time": "2022-03-06T10:01:48.948Z"
   },
   {
    "duration": 17,
    "start_time": "2022-03-06T10:01:50.447Z"
   },
   {
    "duration": 1554,
    "start_time": "2022-03-06T10:01:50.465Z"
   },
   {
    "duration": 5,
    "start_time": "2022-03-06T10:01:52.020Z"
   },
   {
    "duration": 2,
    "start_time": "2022-03-06T10:01:52.027Z"
   },
   {
    "duration": 483,
    "start_time": "2022-03-06T10:01:52.030Z"
   },
   {
    "duration": 4,
    "start_time": "2022-03-06T10:01:52.515Z"
   },
   {
    "duration": 185,
    "start_time": "2022-03-06T10:01:52.520Z"
   },
   {
    "duration": 162,
    "start_time": "2022-03-06T10:01:52.706Z"
   },
   {
    "duration": 191,
    "start_time": "2022-03-06T10:01:52.870Z"
   },
   {
    "duration": 4,
    "start_time": "2022-03-06T10:01:53.063Z"
   },
   {
    "duration": 162,
    "start_time": "2022-03-06T10:01:53.069Z"
   },
   {
    "duration": 4,
    "start_time": "2022-03-06T10:01:53.233Z"
   },
   {
    "duration": 174,
    "start_time": "2022-03-06T10:01:53.238Z"
   },
   {
    "duration": 4,
    "start_time": "2022-03-06T10:01:53.413Z"
   },
   {
    "duration": 179,
    "start_time": "2022-03-06T10:01:53.418Z"
   },
   {
    "duration": 5,
    "start_time": "2022-03-06T10:01:53.599Z"
   },
   {
    "duration": 19,
    "start_time": "2022-03-06T10:01:53.605Z"
   },
   {
    "duration": 215,
    "start_time": "2022-03-06T10:01:53.626Z"
   },
   {
    "duration": 113,
    "start_time": "2022-03-06T10:01:53.843Z"
   },
   {
    "duration": 344,
    "start_time": "2022-03-06T10:01:53.957Z"
   },
   {
    "duration": 355,
    "start_time": "2022-03-06T10:01:54.303Z"
   },
   {
    "duration": 207,
    "start_time": "2022-03-06T10:01:54.660Z"
   },
   {
    "duration": 196,
    "start_time": "2022-03-06T10:01:54.869Z"
   },
   {
    "duration": 3,
    "start_time": "2022-03-06T10:01:55.067Z"
   },
   {
    "duration": 174,
    "start_time": "2022-03-06T10:01:55.072Z"
   },
   {
    "duration": 151,
    "start_time": "2022-03-06T10:01:55.247Z"
   },
   {
    "duration": 208,
    "start_time": "2022-03-06T10:01:55.402Z"
   },
   {
    "duration": 163,
    "start_time": "2022-03-06T10:01:55.611Z"
   },
   {
    "duration": 176,
    "start_time": "2022-03-06T10:01:55.775Z"
   },
   {
    "duration": 244,
    "start_time": "2022-03-06T10:01:55.952Z"
   },
   {
    "duration": 94,
    "start_time": "2022-03-06T10:10:50.538Z"
   }
  ],
  "kernelspec": {
   "display_name": "Python 3 (ipykernel)",
   "language": "python",
   "name": "python3"
  },
  "language_info": {
   "codemirror_mode": {
    "name": "ipython",
    "version": 3
   },
   "file_extension": ".py",
   "mimetype": "text/x-python",
   "name": "python",
   "nbconvert_exporter": "python",
   "pygments_lexer": "ipython3",
   "version": "3.9.7"
  },
  "toc": {
   "base_numbering": 1,
   "nav_menu": {},
   "number_sections": true,
   "sideBar": true,
   "skip_h1_title": true,
   "title_cell": "Table of Contents",
   "title_sidebar": "Contents",
   "toc_cell": false,
   "toc_position": {},
   "toc_section_display": true,
   "toc_window_display": false
  }
 },
 "nbformat": 4,
 "nbformat_minor": 5
}
