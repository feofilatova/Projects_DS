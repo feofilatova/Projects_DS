{
 "cells": [
  {
   "cell_type": "markdown",
   "metadata": {},
   "source": [
    "# Определение возраста покупателей"
   ]
  },
  {
   "cell_type": "markdown",
   "metadata": {},
   "source": [
    "## Описание проекта\n",
    "\n",
    "\n",
    "Сетевой супермаркет «Хлеб-Соль» внедряет систему компьютерного зрения для обработки фотографий покупателей. Фотофиксация в прикассовой зоне поможет определять возраст клиентов, чтобы:\n",
    "\n",
    "* анализировать покупки и предлагать товары, которые могут заинтересовать покупателей этой возрастной группы;\n",
    "* контролировать добросовестность кассиров при продаже алкоголя.\n",
    "Необходимо построить модель, которая по фотографии определит приблизительный возраст человека. В вашем распоряжении набор фотографий людей с указанием возраста.\n",
    "\n",
    "Данные взяты с сайта ChaLearn Looking at People. Они находятся в папке /datasets/faces/.\n",
    "В нашем распоряжении одна папка со всеми изображениями (/final_files) и csv-файл labels.csv с двумя колонками: file_name и real_age."
   ]
  },
  {
   "cell_type": "markdown",
   "metadata": {},
   "source": [
    "## Исследовательский анализ данных"
   ]
  },
  {
   "cell_type": "markdown",
   "metadata": {},
   "source": [
    "Импортируем необходимые библиотеки и загрузим данные."
   ]
  },
  {
   "cell_type": "code",
   "execution_count": null,
   "metadata": {},
   "outputs": [],
   "source": [
    "from tensorflow.keras.preprocessing.image import ImageDataGenerator\n",
    "import numpy as np\n",
    "import seaborn as sns\n",
    "import matplotlib.pyplot as plt\n",
    "import pandas as pd\n",
    "\n",
    "import warnings\n",
    "warnings.filterwarnings('ignore')"
   ]
  },
  {
   "cell_type": "code",
   "execution_count": null,
   "metadata": {},
   "outputs": [],
   "source": [
    "labels = pd.read_csv('/datasets/faces/labels.csv')\n",
    "train_datagen = ImageDataGenerator(rescale=1./255)\n",
    "train_gen_flow = train_datagen.flow_from_dataframe(\n",
    "        dataframe=labels,\n",
    "        directory='/datasets/faces/final_files/',\n",
    "        x_col='file_name',\n",
    "        y_col='real_age',\n",
    "        target_size=(224, 224),\n",
    "        batch_size=32,\n",
    "        class_mode='raw',\n",
    "        seed=12345)"
   ]
  },
  {
   "cell_type": "markdown",
   "metadata": {},
   "source": [
    "Подробно рассмотрим данные."
   ]
  },
  {
   "cell_type": "code",
   "execution_count": null,
   "metadata": {},
   "outputs": [],
   "source": [
    "labels.info()"
   ]
  },
  {
   "cell_type": "code",
   "execution_count": null,
   "metadata": {},
   "outputs": [],
   "source": [
    "labels\n"
   ]
  },
  {
   "cell_type": "code",
   "execution_count": null,
   "metadata": {},
   "outputs": [],
   "source": [
    "labels.shape"
   ]
  },
  {
   "cell_type": "code",
   "execution_count": null,
   "metadata": {},
   "outputs": [],
   "source": [
    "labels['real_age'].describe()"
   ]
  },
  {
   "cell_type": "code",
   "execution_count": null,
   "metadata": {},
   "outputs": [],
   "source": [
    "labels[labels.duplicated()]"
   ]
  },
  {
   "cell_type": "markdown",
   "metadata": {},
   "source": [
    "Посмотрим, как выглядят изображения в нашем наборе данных."
   ]
  },
  {
   "cell_type": "code",
   "execution_count": null,
   "metadata": {},
   "outputs": [],
   "source": [
    "x,y = train_gen_flow.next()\n",
    "for i in range(0,15):\n",
    "    image = x[i]\n",
    "    plt.imshow(image)\n",
    "    plt.title(f'Возраст - {y[i]}')\n",
    "    plt.show()"
   ]
  },
  {
   "cell_type": "code",
   "execution_count": null,
   "metadata": {},
   "outputs": [],
   "source": [
    "sns_plot = sns.distplot(labels['real_age'])\n",
    "fig = sns_plot.get_figure();"
   ]
  },
  {
   "cell_type": "markdown",
   "metadata": {},
   "source": [
    "#### Вывод:\n",
    "Данные содержат два столбца: \n",
    "* фотографии людей различных возрастов \n",
    "* их реальный возраст\n",
    "\n",
    "Всего в таблице 7591 запись, пропуски и дублликаты отсутствуют. Средний возраст почти совпадает с медианным - разница в 2 года.\n",
    "\n",
    "Распределение немного смещено вправо, присутсвуют выбросы - к таким значениям относятся люди в возрасте за 70 лет, также видно, что очень много младенцев.\n",
    "\n",
    "Подавляющее большинство фотографий в наборе данных - портрет крупным планом, но встречаются и в полный рост, где человек катается на качели или стоит боком. Некоторые изображения повернуты, поэтому при обучении модели будем применять аугментации - отражения по горизонтали. Есть черно-белые фото, фото без лица вообще, фото несоответствующее возрасту, фото с большим количеством шума, такие данные могут отрицательно сказаться на качестве обучения модели. Есть фото разных размеров, однако привыгрузке все они конвертируются к (224, 224)."
   ]
  },
  {
   "cell_type": "markdown",
   "metadata": {},
   "source": [
    "## Обучение модели"
   ]
  },
  {
   "cell_type": "markdown",
   "metadata": {},
   "source": [
    "\n",
    "(Код в этом разделе запускается в отдельном GPU-тренажёре, поэтому оформлен не как ячейка с кодом, а как код в текстовой ячейке)"
   ]
  },
  {
   "cell_type": "markdown",
   "metadata": {},
   "source": [
    "def load_train(path):\n",
    "    labels = pd.read_csv(path + 'labels.csv')\n",
    "    train_datagen = ImageDataGenerator(validation_split=0.25, rescale=1 / 255, horizontal_flip=True)\n",
    "    train_gen_flow = train_datagen.flow_from_dataframe(\n",
    "        dataframe=labels,\n",
    "        directory=path + 'final_files/',\n",
    "        x_col='file_name',\n",
    "        y_col='real_age',\n",
    "        target_size=(224, 224),\n",
    "        batch_size=32,\n",
    "        class_mode='raw',\n",
    "        subset = 'training',\n",
    "        seed=12345\n",
    "        )\n",
    "\n",
    "    return train_gen_flow\n",
    " \n",
    "def load_test(path):\n",
    "    labels = pd.read_csv(path + 'labels.csv')\n",
    "    validation_datagen = ImageDataGenerator(validation_split=0.25, rescale=1/255)\n",
    "    test_gen_flow = validation_datagen.flow_from_dataframe(\n",
    "        dataframe = labels,\n",
    "        directory=path +'final_files/',\n",
    "        x_col=\"file_name\",\n",
    "        y_col=\"real_age\", \n",
    "        class_mode=\"raw\", \n",
    "        target_size=(224,224), \n",
    "        batch_size=32,\n",
    "        subset = \"validation\",\n",
    "        seed=12345,\n",
    "        )\n",
    "\n",
    "    return test_gen_flow\n",
    "  \n",
    "\n",
    " \n",
    "def create_model(input_shape):\n",
    "    backbone = ResNet50(input_shape=input_shape, weights='imagenet', include_top=False)\n",
    "    model = Sequential()\n",
    "    model.add(backbone)\n",
    "    model.add(Dropout(0.2))\n",
    "    model.add(GlobalAveragePooling2D())\n",
    "    model.add(Dense(1, activation='relu'))\n",
    "    optimizer = Adam(lr=0.0003)\n",
    "    model.compile(optimizer=optimizer, loss='mae', metrics=['mae'])\n",
    "\n",
    "    return model\n",
    " \n",
    "def train_model(model, train_data, test_data, batch_size=None, epochs=20,\n",
    "                steps_per_epoch=None, validation_steps=None):\n",
    "  \n",
    "    model.fit(train_data, validation_data=test_data, batch_size=batch_size, \n",
    "              epochs=epochs, steps_per_epoch=steps_per_epoch, \n",
    "              validation_steps=validation_steps, verbose=2)\n",
    "\n",
    "    return model"
   ]
  },
  {
   "cell_type": "markdown",
   "metadata": {},
   "source": [
    "Train for 178 steps, validate for 60 steps\n",
    "Epoch 1/20\n",
    "2022-07-19 09:49:44.775656: I tensorflow/stream_executor/platform/default/dso_loader.cc:44] Successfully opened dynamic library libcublas.so.10\n",
    "2022-07-19 09:49:45.093719: I tensorflow/stream_executor/platform/default/dso_loader.cc:44] Successfully opened dynamic library libcudnn.so.7\n",
    "178/178 - 46s - loss: 11.1126 - mae: 11.1090 - val_loss: 16.9492 - val_mae: 16.9339\n",
    "Epoch 2/20\n",
    "178/178 - 38s - loss: 7.8144 - mae: 7.8148 - val_loss: 12.9293 - val_mae: 12.8796\n",
    "Epoch 3/20\n",
    "178/178 - 37s - loss: 6.5944 - mae: 6.5949 - val_loss: 14.7028 - val_mae: 14.6696\n",
    "Epoch 4/20\n",
    "178/178 - 37s - loss: 5.8665 - mae: 5.8667 - val_loss: 11.5766 - val_mae: 11.5183\n",
    "Epoch 5/20\n",
    "178/178 - 37s - loss: 5.3508 - mae: 5.3513 - val_loss: 7.4037 - val_mae: 7.3727\n",
    "Epoch 6/20\n",
    "178/178 - 37s - loss: 4.8245 - mae: 4.8248 - val_loss: 7.2007 - val_mae: 7.2247\n",
    "Epoch 7/20\n",
    "178/178 - 37s - loss: 4.4056 - mae: 4.4060 - val_loss: 7.5200 - val_mae: 7.5071\n",
    "Epoch 8/20\n",
    "Epoch 9/20\n",
    "178/178 - 37s - loss: 4.0030 - mae: 4.0032 - val_loss: 7.2441 - val_mae: 7.2657\n",
    "Epoch 10/20\n",
    "178/178 - 37s - loss: 3.8519 - mae: 3.8521 - val_loss: 6.6965 - val_mae: 6.6879\n",
    "178/178 - 37s - loss: 3.4495 - mae: 3.4496 - val_loss: 7.0280 - val_mae: 7.0523\n",
    "Epoch 11/20\n",
    "178/178 - 38s - loss: 3.3416 - mae: 3.3416 - val_loss: 7.8697 - val_mae: 7.8617\n",
    "Epoch 12/20\n",
    "178/178 - 37s - loss: 3.1959 - mae: 3.1961 - val_loss: 7.0813 - val_mae: 7.0992\n",
    "Epoch 13/20\n",
    "178/178 - 37s - loss: 2.9781 - mae: 2.9784 - val_loss: 6.4977 - val_mae: 6.5272\n",
    "Epoch 14/20\n",
    "178/178 - 37s - loss: 2.8346 - mae: 2.8347 - val_loss: 6.6604 - val_mae: 6.6585\n",
    "Epoch 15/20\n",
    "178/178 - 37s - loss: 2.7656 - mae: 2.7659 - val_loss: 7.0988 - val_mae: 7.1203\n",
    "Epoch 16/20\n",
    "178/178 - 37s - loss: 2.5620 - mae: 2.5622 - val_loss: 6.9002 - val_mae: 6.8813\n",
    "Epoch 17/20\n",
    "178/178 - 38s - loss: 2.5624 - mae: 2.5625 - val_loss: 6.2109 - val_mae: 6.2341\n",
    "Epoch 18/20\n",
    "178/178 - 37s - loss: 2.4270 - mae: 2.4268 - val_loss: 6.4669 - val_mae: 6.5021\n",
    "Epoch 19/20\n",
    "178/178 - 37s - loss: 2.4142 - mae: 2.4145 - val_loss: 6.2687 - val_mae: 6.2876\n",
    "Epoch 20/20\n",
    "178/178 - 37s - loss: 2.2845 - mae: 2.2844 - val_loss: 6.5072 - val_mae: 6.5113\n",
    "WARNING:tensorflow:sample_weight modes were coerced from\n",
    "  ...\n",
    "    to  \n",
    "  ['...']\n",
    "60/60 - 9s - loss: 6.5072 - mae: 6.5113\n",
    "Test MAE: 6.5113\n",
    "```"
   ]
  },
  {
   "cell_type": "markdown",
   "metadata": {},
   "source": [
    "## Анализ обученной модели"
   ]
  },
  {
   "cell_type": "markdown",
   "metadata": {},
   "source": [
    "### Вывод:\n",
    "Значение MAE ниже 8 достигнуто - 6.5113(с 20 эпохами), была создана нейронная сеть на основе архитектуры ResNet50, модель обучена на 75% данных и проверена на остальных. \n",
    "\n",
    "Результаты свидетельствуют,что модель с такой погрешностью не сможет помочь в определении возраста покупателя для продажи алкоголя. А вот с задачей \"Анализировать покупки и предлагать товары, которые могут заинтересовать покупателей этой возрастной группы\" модель вполне может справиться.\n",
    "\n",
    "Дальнейшая тонкая настройка нейронной сети может дать лучшие результаты, также увеличение количества данных с их бОльшей корректностью могло бы улучшить результат."
   ]
  },
  {
   "cell_type": "raw",
   "metadata": {},
   "source": [
    "Небольшое замечание:\n",
    "\n",
    "На 13 эпохе было получено МАЕ 6.5272, далее пошло возрастание и убывание в последующих эпохах, уменьшили количество эпох до 13, но результат вышел 7.2445, более того, при повторном запуске на двадцати эпохах колебания МАЕ начались с 10 эпохи и в итоге МАЕ вышло 6.5064.\n",
    "\n",
    "Возможно, это может быть связано с элементами случайности внутри самих алгоритмов, можно использовать раннюю остановку (задать условие остановки обучения при падении метрики, начиная с определенного нами значения) и сохранить модель на последней успешной эпохе обучения."
   ]
  },
  {
   "cell_type": "code",
   "execution_count": null,
   "metadata": {},
   "outputs": [],
   "source": []
  }
 ],
 "metadata": {
  "ExecuteTimeLog": [
   {
    "duration": 47073,
    "start_time": "2022-07-17T14:25:37.856Z"
   },
   {
    "duration": 91651,
    "start_time": "2022-07-17T14:26:24.931Z"
   },
   {
    "duration": 12,
    "start_time": "2022-07-17T14:27:56.584Z"
   },
   {
    "duration": 15,
    "start_time": "2022-07-17T14:27:56.598Z"
   },
   {
    "duration": 4,
    "start_time": "2022-07-17T14:27:56.614Z"
   },
   {
    "duration": 10,
    "start_time": "2022-07-17T14:27:56.619Z"
   },
   {
    "duration": 8,
    "start_time": "2022-07-17T14:27:56.631Z"
   },
   {
    "duration": 2399,
    "start_time": "2022-07-17T14:27:56.641Z"
   },
   {
    "duration": 240,
    "start_time": "2022-07-17T14:27:59.041Z"
   },
   {
    "duration": 47066,
    "start_time": "2022-07-17T19:55:42.990Z"
   },
   {
    "duration": 97745,
    "start_time": "2022-07-17T19:56:30.058Z"
   },
   {
    "duration": 15,
    "start_time": "2022-07-17T19:58:07.806Z"
   },
   {
    "duration": 27,
    "start_time": "2022-07-17T19:58:07.823Z"
   },
   {
    "duration": 4,
    "start_time": "2022-07-17T19:58:07.852Z"
   },
   {
    "duration": 9,
    "start_time": "2022-07-17T19:58:07.860Z"
   },
   {
    "duration": 15,
    "start_time": "2022-07-17T19:58:07.872Z"
   },
   {
    "duration": 2581,
    "start_time": "2022-07-17T19:58:07.889Z"
   },
   {
    "duration": 253,
    "start_time": "2022-07-17T19:58:10.472Z"
   },
   {
    "duration": 114486,
    "start_time": "2022-07-17T20:43:53.671Z"
   },
   {
    "duration": 83082,
    "start_time": "2022-07-17T20:45:48.159Z"
   },
   {
    "duration": 12,
    "start_time": "2022-07-17T20:47:11.243Z"
   },
   {
    "duration": 23,
    "start_time": "2022-07-17T20:47:11.258Z"
   },
   {
    "duration": 11,
    "start_time": "2022-07-17T20:47:11.283Z"
   },
   {
    "duration": 16,
    "start_time": "2022-07-17T20:47:11.296Z"
   },
   {
    "duration": 21,
    "start_time": "2022-07-17T20:47:11.314Z"
   },
   {
    "duration": 2273,
    "start_time": "2022-07-17T20:47:11.337Z"
   },
   {
    "duration": 220,
    "start_time": "2022-07-17T20:47:13.612Z"
   },
   {
    "duration": 47732,
    "start_time": "2022-07-17T22:49:47.212Z"
   },
   {
    "duration": 60949,
    "start_time": "2022-07-19T10:43:08.285Z"
   },
   {
    "duration": 82124,
    "start_time": "2022-07-19T10:44:09.236Z"
   },
   {
    "duration": 13,
    "start_time": "2022-07-19T10:45:31.362Z"
   },
   {
    "duration": 10,
    "start_time": "2022-07-19T10:52:12.502Z"
   },
   {
    "duration": 4,
    "start_time": "2022-07-19T10:52:15.642Z"
   },
   {
    "duration": 11,
    "start_time": "2022-07-19T10:52:19.701Z"
   },
   {
    "duration": 12,
    "start_time": "2022-07-19T10:52:20.319Z"
   },
   {
    "duration": 3144,
    "start_time": "2022-07-19T10:52:21.521Z"
   },
   {
    "duration": 3146,
    "start_time": "2022-07-19T10:52:37.471Z"
   },
   {
    "duration": 4061,
    "start_time": "2022-07-19T10:52:53.769Z"
   },
   {
    "duration": 4324,
    "start_time": "2022-07-19T10:53:12.214Z"
   },
   {
    "duration": 4048,
    "start_time": "2022-07-19T10:53:38.301Z"
   },
   {
    "duration": 4008,
    "start_time": "2022-07-19T10:53:56.460Z"
   },
   {
    "duration": 4370,
    "start_time": "2022-07-19T10:54:34.852Z"
   },
   {
    "duration": 263197,
    "start_time": "2022-07-20T09:07:43.049Z"
   },
   {
    "duration": 84224,
    "start_time": "2022-07-20T09:12:06.248Z"
   },
   {
    "duration": 13,
    "start_time": "2022-07-20T09:13:30.474Z"
   },
   {
    "duration": 43,
    "start_time": "2022-07-20T09:13:30.489Z"
   },
   {
    "duration": 21,
    "start_time": "2022-07-20T09:13:30.534Z"
   },
   {
    "duration": 24,
    "start_time": "2022-07-20T09:13:30.557Z"
   },
   {
    "duration": 22,
    "start_time": "2022-07-20T09:13:30.583Z"
   },
   {
    "duration": 4043,
    "start_time": "2022-07-20T09:13:30.607Z"
   },
   {
    "duration": 279,
    "start_time": "2022-07-20T09:13:34.652Z"
   }
  ],
  "kernelspec": {
   "display_name": "Python 3 (ipykernel)",
   "language": "python",
   "name": "python3"
  },
  "language_info": {
   "codemirror_mode": {
    "name": "ipython",
    "version": 3
   },
   "file_extension": ".py",
   "mimetype": "text/x-python",
   "name": "python",
   "nbconvert_exporter": "python",
   "pygments_lexer": "ipython3",
   "version": "3.9.7"
  },
  "toc": {
   "base_numbering": 1,
   "nav_menu": {},
   "number_sections": true,
   "sideBar": true,
   "skip_h1_title": true,
   "title_cell": "Table of Contents",
   "title_sidebar": "Contents",
   "toc_cell": false,
   "toc_position": {},
   "toc_section_display": true,
   "toc_window_display": true
  }
 },
 "nbformat": 4,
 "nbformat_minor": 2
}
