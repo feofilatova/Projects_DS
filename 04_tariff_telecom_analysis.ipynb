{
 "cells": [
  {
   "cell_type": "markdown",
   "metadata": {},
   "source": [
    "# Статистический анализ данных, проектная работа. \n",
    "# Определение перспективного тарифа для телеком-компании"
   ]
  },
  {
   "cell_type": "markdown",
   "metadata": {},
   "source": [
    "## Описание проекта\n",
    "В нашем распоряжении данные 500 пользователей «Мегалайна»(федерального оператора сотовой связи): кто они, откуда, каким тарифом пользуются, сколько звонков и сообщений каждый отправил за 2018 год. Клиентам предлагают два тарифных плана: «Смарт» и «Ультра».\n",
    "Чтобы скорректировать рекламный бюджет, коммерческий департамент хочет понять, какой тариф приносит больше денег.\n",
    "Нам предстоит сделать предварительный анализ тарифов на небольшой выборке клиентов. Нужно проанализировать поведение клиентов и сделать вывод — какой тариф лучше.\n",
    "\n",
    "Описание тарифов\n",
    "\n",
    "Тариф «Смарт»:\n",
    "\n",
    "Ежемесячная плата: 550 рублей.\n",
    "Включено 500 минут разговора, 50 сообщений и 15 Гб интернет-трафика.\n",
    "Стоимость услуг сверх тарифного пакета:\n",
    "Минута разговора: 3 рубля.\n",
    "Сообщение: 3 рубля.\n",
    "1 Гб интернет-трафика: 200 рублей.\n",
    "\n",
    "Тариф «Ультра»:\n",
    "\n",
    "Ежемесячная плата: 1950 рублей.\n",
    "Включено 3000 минут разговора, 1000 сообщений и 30 Гб интернет-трафика.\n",
    "Стоимость услуг сверх тарифного пакета:\n",
    "Минута разговора: 1 рубль.\n",
    "Сообщение: 1 рубль.\n",
    "1 Гб интернет-трафика: 150 рублей.\n",
    "\n",
    "«Мегалайн» всегда округляет секунды до минут, а мегабайты — до гигабайт. Каждый звонок округляется отдельно: даже если он длился всего 1 секунду, будет засчитан как 1 минута.\n",
    "Для веб-трафика отдельные сессии не считаются. Вместо этого общая сумма за месяц округляется в бо́льшую сторону. Если абонент использует 1025 мегабайт в этом месяце, с него возьмут плату за 2 гигабайта."
   ]
  },
  {
   "cell_type": "markdown",
   "metadata": {},
   "source": [
    "## Шаг 1 . Откроем файлы с данными и изучим общую информацию."
   ]
  },
  {
   "cell_type": "code",
   "execution_count": 1,
   "metadata": {},
   "outputs": [],
   "source": [
    "import pandas as pd\n",
    "import matplotlib.pyplot as plt\n",
    "import numpy as np\n",
    "from datetime import datetime\n",
    "from scipy import stats as st\n",
    "import math\n",
    "\n",
    "users = pd.read_csv('/datasets/users.csv')\n",
    "calls = pd.read_csv('/datasets/calls.csv')\n",
    "messages = pd.read_csv('/datasets/messages.csv')\n",
    "internet = pd.read_csv('/datasets/internet.csv', index_col=[0])\n",
    "tariffs = pd.read_csv('/datasets/tariffs.csv')"
   ]
  },
  {
   "cell_type": "code",
   "execution_count": 2,
   "metadata": {},
   "outputs": [
    {
     "data": {
      "text/html": [
       "<div>\n",
       "<style scoped>\n",
       "    .dataframe tbody tr th:only-of-type {\n",
       "        vertical-align: middle;\n",
       "    }\n",
       "\n",
       "    .dataframe tbody tr th {\n",
       "        vertical-align: top;\n",
       "    }\n",
       "\n",
       "    .dataframe thead th {\n",
       "        text-align: right;\n",
       "    }\n",
       "</style>\n",
       "<table border=\"1\" class=\"dataframe\">\n",
       "  <thead>\n",
       "    <tr style=\"text-align: right;\">\n",
       "      <th></th>\n",
       "      <th>user_id</th>\n",
       "      <th>age</th>\n",
       "      <th>churn_date</th>\n",
       "      <th>city</th>\n",
       "      <th>first_name</th>\n",
       "      <th>last_name</th>\n",
       "      <th>reg_date</th>\n",
       "      <th>tariff</th>\n",
       "    </tr>\n",
       "  </thead>\n",
       "  <tbody>\n",
       "    <tr>\n",
       "      <th>0</th>\n",
       "      <td>1000</td>\n",
       "      <td>52</td>\n",
       "      <td>NaN</td>\n",
       "      <td>Краснодар</td>\n",
       "      <td>Рафаил</td>\n",
       "      <td>Верещагин</td>\n",
       "      <td>2018-05-25</td>\n",
       "      <td>ultra</td>\n",
       "    </tr>\n",
       "    <tr>\n",
       "      <th>1</th>\n",
       "      <td>1001</td>\n",
       "      <td>41</td>\n",
       "      <td>NaN</td>\n",
       "      <td>Москва</td>\n",
       "      <td>Иван</td>\n",
       "      <td>Ежов</td>\n",
       "      <td>2018-11-01</td>\n",
       "      <td>smart</td>\n",
       "    </tr>\n",
       "    <tr>\n",
       "      <th>2</th>\n",
       "      <td>1002</td>\n",
       "      <td>59</td>\n",
       "      <td>NaN</td>\n",
       "      <td>Стерлитамак</td>\n",
       "      <td>Евгений</td>\n",
       "      <td>Абрамович</td>\n",
       "      <td>2018-06-17</td>\n",
       "      <td>smart</td>\n",
       "    </tr>\n",
       "    <tr>\n",
       "      <th>3</th>\n",
       "      <td>1003</td>\n",
       "      <td>23</td>\n",
       "      <td>NaN</td>\n",
       "      <td>Москва</td>\n",
       "      <td>Белла</td>\n",
       "      <td>Белякова</td>\n",
       "      <td>2018-08-17</td>\n",
       "      <td>ultra</td>\n",
       "    </tr>\n",
       "    <tr>\n",
       "      <th>4</th>\n",
       "      <td>1004</td>\n",
       "      <td>68</td>\n",
       "      <td>NaN</td>\n",
       "      <td>Новокузнецк</td>\n",
       "      <td>Татьяна</td>\n",
       "      <td>Авдеенко</td>\n",
       "      <td>2018-05-14</td>\n",
       "      <td>ultra</td>\n",
       "    </tr>\n",
       "    <tr>\n",
       "      <th>...</th>\n",
       "      <td>...</td>\n",
       "      <td>...</td>\n",
       "      <td>...</td>\n",
       "      <td>...</td>\n",
       "      <td>...</td>\n",
       "      <td>...</td>\n",
       "      <td>...</td>\n",
       "      <td>...</td>\n",
       "    </tr>\n",
       "    <tr>\n",
       "      <th>495</th>\n",
       "      <td>1495</td>\n",
       "      <td>65</td>\n",
       "      <td>NaN</td>\n",
       "      <td>Иркутск</td>\n",
       "      <td>Авксентий</td>\n",
       "      <td>Фокин</td>\n",
       "      <td>2018-08-28</td>\n",
       "      <td>ultra</td>\n",
       "    </tr>\n",
       "    <tr>\n",
       "      <th>496</th>\n",
       "      <td>1496</td>\n",
       "      <td>36</td>\n",
       "      <td>NaN</td>\n",
       "      <td>Вологда</td>\n",
       "      <td>Трифон</td>\n",
       "      <td>Блохин</td>\n",
       "      <td>2018-01-27</td>\n",
       "      <td>smart</td>\n",
       "    </tr>\n",
       "    <tr>\n",
       "      <th>497</th>\n",
       "      <td>1497</td>\n",
       "      <td>32</td>\n",
       "      <td>NaN</td>\n",
       "      <td>Челябинск</td>\n",
       "      <td>Каролина</td>\n",
       "      <td>Агеева</td>\n",
       "      <td>2018-10-09</td>\n",
       "      <td>smart</td>\n",
       "    </tr>\n",
       "    <tr>\n",
       "      <th>498</th>\n",
       "      <td>1498</td>\n",
       "      <td>68</td>\n",
       "      <td>2018-10-25</td>\n",
       "      <td>Владикавказ</td>\n",
       "      <td>Всеволод</td>\n",
       "      <td>Акимчин</td>\n",
       "      <td>2018-07-19</td>\n",
       "      <td>smart</td>\n",
       "    </tr>\n",
       "    <tr>\n",
       "      <th>499</th>\n",
       "      <td>1499</td>\n",
       "      <td>35</td>\n",
       "      <td>NaN</td>\n",
       "      <td>Пермь</td>\n",
       "      <td>Гектор</td>\n",
       "      <td>Корнилов</td>\n",
       "      <td>2018-09-27</td>\n",
       "      <td>smart</td>\n",
       "    </tr>\n",
       "  </tbody>\n",
       "</table>\n",
       "<p>500 rows × 8 columns</p>\n",
       "</div>"
      ],
      "text/plain": [
       "     user_id  age  churn_date         city first_name  last_name    reg_date  \\\n",
       "0       1000   52         NaN    Краснодар     Рафаил  Верещагин  2018-05-25   \n",
       "1       1001   41         NaN       Москва       Иван       Ежов  2018-11-01   \n",
       "2       1002   59         NaN  Стерлитамак    Евгений  Абрамович  2018-06-17   \n",
       "3       1003   23         NaN       Москва      Белла   Белякова  2018-08-17   \n",
       "4       1004   68         NaN  Новокузнецк    Татьяна   Авдеенко  2018-05-14   \n",
       "..       ...  ...         ...          ...        ...        ...         ...   \n",
       "495     1495   65         NaN      Иркутск  Авксентий      Фокин  2018-08-28   \n",
       "496     1496   36         NaN      Вологда     Трифон     Блохин  2018-01-27   \n",
       "497     1497   32         NaN    Челябинск   Каролина     Агеева  2018-10-09   \n",
       "498     1498   68  2018-10-25  Владикавказ   Всеволод    Акимчин  2018-07-19   \n",
       "499     1499   35         NaN        Пермь     Гектор   Корнилов  2018-09-27   \n",
       "\n",
       "    tariff  \n",
       "0    ultra  \n",
       "1    smart  \n",
       "2    smart  \n",
       "3    ultra  \n",
       "4    ultra  \n",
       "..     ...  \n",
       "495  ultra  \n",
       "496  smart  \n",
       "497  smart  \n",
       "498  smart  \n",
       "499  smart  \n",
       "\n",
       "[500 rows x 8 columns]"
      ]
     },
     "execution_count": 2,
     "metadata": {},
     "output_type": "execute_result"
    }
   ],
   "source": [
    "users"
   ]
  },
  {
   "cell_type": "code",
   "execution_count": 3,
   "metadata": {},
   "outputs": [
    {
     "name": "stdout",
     "output_type": "stream",
     "text": [
      "<class 'pandas.core.frame.DataFrame'>\n",
      "RangeIndex: 500 entries, 0 to 499\n",
      "Data columns (total 8 columns):\n",
      " #   Column      Non-Null Count  Dtype \n",
      "---  ------      --------------  ----- \n",
      " 0   user_id     500 non-null    int64 \n",
      " 1   age         500 non-null    int64 \n",
      " 2   churn_date  38 non-null     object\n",
      " 3   city        500 non-null    object\n",
      " 4   first_name  500 non-null    object\n",
      " 5   last_name   500 non-null    object\n",
      " 6   reg_date    500 non-null    object\n",
      " 7   tariff      500 non-null    object\n",
      "dtypes: int64(2), object(6)\n",
      "memory usage: 31.4+ KB\n"
     ]
    }
   ],
   "source": [
    "users.info()"
   ]
  },
  {
   "cell_type": "markdown",
   "metadata": {},
   "source": [
    "В таблице представлена информация о пользователях, 8 колонок, 500 строк:\n",
    "* user_id — уникальный идентификатор пользователя\n",
    "* first_name — имя пользователя\n",
    "* last_name — фамилия пользователя\n",
    "* age — возраст пользователя (годы)\n",
    "* reg_date — дата подключения тарифа (день, месяц, год)\n",
    "* churn_date — дата прекращения пользования тарифом (если значение пропущено, то тариф ещё действовал на момент выгрузки данных)\n",
    "* city — город проживания пользователя\n",
    "* tariff — название тарифного плана\n",
    "\n",
    "Имеются пропуски в столбце churn_date, они значат, что пользователи всё еще пользуются тарифом, нужно изменитть тип даннных."
   ]
  },
  {
   "cell_type": "code",
   "execution_count": 4,
   "metadata": {},
   "outputs": [
    {
     "data": {
      "text/html": [
       "<div>\n",
       "<style scoped>\n",
       "    .dataframe tbody tr th:only-of-type {\n",
       "        vertical-align: middle;\n",
       "    }\n",
       "\n",
       "    .dataframe tbody tr th {\n",
       "        vertical-align: top;\n",
       "    }\n",
       "\n",
       "    .dataframe thead th {\n",
       "        text-align: right;\n",
       "    }\n",
       "</style>\n",
       "<table border=\"1\" class=\"dataframe\">\n",
       "  <thead>\n",
       "    <tr style=\"text-align: right;\">\n",
       "      <th></th>\n",
       "      <th>id</th>\n",
       "      <th>call_date</th>\n",
       "      <th>duration</th>\n",
       "      <th>user_id</th>\n",
       "    </tr>\n",
       "  </thead>\n",
       "  <tbody>\n",
       "    <tr>\n",
       "      <th>0</th>\n",
       "      <td>1000_0</td>\n",
       "      <td>2018-07-25</td>\n",
       "      <td>0.00</td>\n",
       "      <td>1000</td>\n",
       "    </tr>\n",
       "    <tr>\n",
       "      <th>1</th>\n",
       "      <td>1000_1</td>\n",
       "      <td>2018-08-17</td>\n",
       "      <td>0.00</td>\n",
       "      <td>1000</td>\n",
       "    </tr>\n",
       "    <tr>\n",
       "      <th>2</th>\n",
       "      <td>1000_2</td>\n",
       "      <td>2018-06-11</td>\n",
       "      <td>2.85</td>\n",
       "      <td>1000</td>\n",
       "    </tr>\n",
       "    <tr>\n",
       "      <th>3</th>\n",
       "      <td>1000_3</td>\n",
       "      <td>2018-09-21</td>\n",
       "      <td>13.80</td>\n",
       "      <td>1000</td>\n",
       "    </tr>\n",
       "    <tr>\n",
       "      <th>4</th>\n",
       "      <td>1000_4</td>\n",
       "      <td>2018-12-15</td>\n",
       "      <td>5.18</td>\n",
       "      <td>1000</td>\n",
       "    </tr>\n",
       "    <tr>\n",
       "      <th>...</th>\n",
       "      <td>...</td>\n",
       "      <td>...</td>\n",
       "      <td>...</td>\n",
       "      <td>...</td>\n",
       "    </tr>\n",
       "    <tr>\n",
       "      <th>202602</th>\n",
       "      <td>1499_215</td>\n",
       "      <td>2018-12-26</td>\n",
       "      <td>0.76</td>\n",
       "      <td>1499</td>\n",
       "    </tr>\n",
       "    <tr>\n",
       "      <th>202603</th>\n",
       "      <td>1499_216</td>\n",
       "      <td>2018-10-18</td>\n",
       "      <td>18.83</td>\n",
       "      <td>1499</td>\n",
       "    </tr>\n",
       "    <tr>\n",
       "      <th>202604</th>\n",
       "      <td>1499_217</td>\n",
       "      <td>2018-11-10</td>\n",
       "      <td>10.81</td>\n",
       "      <td>1499</td>\n",
       "    </tr>\n",
       "    <tr>\n",
       "      <th>202605</th>\n",
       "      <td>1499_218</td>\n",
       "      <td>2018-10-06</td>\n",
       "      <td>4.27</td>\n",
       "      <td>1499</td>\n",
       "    </tr>\n",
       "    <tr>\n",
       "      <th>202606</th>\n",
       "      <td>1499_219</td>\n",
       "      <td>2018-12-14</td>\n",
       "      <td>19.62</td>\n",
       "      <td>1499</td>\n",
       "    </tr>\n",
       "  </tbody>\n",
       "</table>\n",
       "<p>202607 rows × 4 columns</p>\n",
       "</div>"
      ],
      "text/plain": [
       "              id   call_date  duration  user_id\n",
       "0         1000_0  2018-07-25      0.00     1000\n",
       "1         1000_1  2018-08-17      0.00     1000\n",
       "2         1000_2  2018-06-11      2.85     1000\n",
       "3         1000_3  2018-09-21     13.80     1000\n",
       "4         1000_4  2018-12-15      5.18     1000\n",
       "...          ...         ...       ...      ...\n",
       "202602  1499_215  2018-12-26      0.76     1499\n",
       "202603  1499_216  2018-10-18     18.83     1499\n",
       "202604  1499_217  2018-11-10     10.81     1499\n",
       "202605  1499_218  2018-10-06      4.27     1499\n",
       "202606  1499_219  2018-12-14     19.62     1499\n",
       "\n",
       "[202607 rows x 4 columns]"
      ]
     },
     "execution_count": 4,
     "metadata": {},
     "output_type": "execute_result"
    }
   ],
   "source": [
    "calls"
   ]
  },
  {
   "cell_type": "code",
   "execution_count": 5,
   "metadata": {},
   "outputs": [
    {
     "name": "stdout",
     "output_type": "stream",
     "text": [
      "<class 'pandas.core.frame.DataFrame'>\n",
      "RangeIndex: 202607 entries, 0 to 202606\n",
      "Data columns (total 4 columns):\n",
      " #   Column     Non-Null Count   Dtype  \n",
      "---  ------     --------------   -----  \n",
      " 0   id         202607 non-null  object \n",
      " 1   call_date  202607 non-null  object \n",
      " 2   duration   202607 non-null  float64\n",
      " 3   user_id    202607 non-null  int64  \n",
      "dtypes: float64(1), int64(1), object(2)\n",
      "memory usage: 6.2+ MB\n"
     ]
    }
   ],
   "source": [
    "calls.info()"
   ]
  },
  {
   "cell_type": "markdown",
   "metadata": {},
   "source": [
    "В таблице представлена информация о звонках, 202607 строки, 4 колонки:\n",
    "* id — уникальный номер звонка\n",
    "* call_date — дата звонка\n",
    "* duration — длительность звонка в минутах\n",
    "* user_id — идентификатор пользователя, сделавшего звонок\n",
    "\n",
    "Пропусков нет, но нужно изменить тип данных.\n"
   ]
  },
  {
   "cell_type": "code",
   "execution_count": 6,
   "metadata": {},
   "outputs": [
    {
     "data": {
      "text/html": [
       "<div>\n",
       "<style scoped>\n",
       "    .dataframe tbody tr th:only-of-type {\n",
       "        vertical-align: middle;\n",
       "    }\n",
       "\n",
       "    .dataframe tbody tr th {\n",
       "        vertical-align: top;\n",
       "    }\n",
       "\n",
       "    .dataframe thead th {\n",
       "        text-align: right;\n",
       "    }\n",
       "</style>\n",
       "<table border=\"1\" class=\"dataframe\">\n",
       "  <thead>\n",
       "    <tr style=\"text-align: right;\">\n",
       "      <th></th>\n",
       "      <th>id</th>\n",
       "      <th>message_date</th>\n",
       "      <th>user_id</th>\n",
       "    </tr>\n",
       "  </thead>\n",
       "  <tbody>\n",
       "    <tr>\n",
       "      <th>0</th>\n",
       "      <td>1000_0</td>\n",
       "      <td>2018-06-27</td>\n",
       "      <td>1000</td>\n",
       "    </tr>\n",
       "    <tr>\n",
       "      <th>1</th>\n",
       "      <td>1000_1</td>\n",
       "      <td>2018-10-08</td>\n",
       "      <td>1000</td>\n",
       "    </tr>\n",
       "    <tr>\n",
       "      <th>2</th>\n",
       "      <td>1000_2</td>\n",
       "      <td>2018-08-04</td>\n",
       "      <td>1000</td>\n",
       "    </tr>\n",
       "    <tr>\n",
       "      <th>3</th>\n",
       "      <td>1000_3</td>\n",
       "      <td>2018-06-16</td>\n",
       "      <td>1000</td>\n",
       "    </tr>\n",
       "    <tr>\n",
       "      <th>4</th>\n",
       "      <td>1000_4</td>\n",
       "      <td>2018-12-05</td>\n",
       "      <td>1000</td>\n",
       "    </tr>\n",
       "    <tr>\n",
       "      <th>...</th>\n",
       "      <td>...</td>\n",
       "      <td>...</td>\n",
       "      <td>...</td>\n",
       "    </tr>\n",
       "    <tr>\n",
       "      <th>123031</th>\n",
       "      <td>1499_179</td>\n",
       "      <td>2018-12-12</td>\n",
       "      <td>1499</td>\n",
       "    </tr>\n",
       "    <tr>\n",
       "      <th>123032</th>\n",
       "      <td>1499_180</td>\n",
       "      <td>2018-09-28</td>\n",
       "      <td>1499</td>\n",
       "    </tr>\n",
       "    <tr>\n",
       "      <th>123033</th>\n",
       "      <td>1499_181</td>\n",
       "      <td>2018-09-27</td>\n",
       "      <td>1499</td>\n",
       "    </tr>\n",
       "    <tr>\n",
       "      <th>123034</th>\n",
       "      <td>1499_182</td>\n",
       "      <td>2018-11-15</td>\n",
       "      <td>1499</td>\n",
       "    </tr>\n",
       "    <tr>\n",
       "      <th>123035</th>\n",
       "      <td>1499_183</td>\n",
       "      <td>2018-11-16</td>\n",
       "      <td>1499</td>\n",
       "    </tr>\n",
       "  </tbody>\n",
       "</table>\n",
       "<p>123036 rows × 3 columns</p>\n",
       "</div>"
      ],
      "text/plain": [
       "              id message_date  user_id\n",
       "0         1000_0   2018-06-27     1000\n",
       "1         1000_1   2018-10-08     1000\n",
       "2         1000_2   2018-08-04     1000\n",
       "3         1000_3   2018-06-16     1000\n",
       "4         1000_4   2018-12-05     1000\n",
       "...          ...          ...      ...\n",
       "123031  1499_179   2018-12-12     1499\n",
       "123032  1499_180   2018-09-28     1499\n",
       "123033  1499_181   2018-09-27     1499\n",
       "123034  1499_182   2018-11-15     1499\n",
       "123035  1499_183   2018-11-16     1499\n",
       "\n",
       "[123036 rows x 3 columns]"
      ]
     },
     "execution_count": 6,
     "metadata": {},
     "output_type": "execute_result"
    }
   ],
   "source": [
    "messages"
   ]
  },
  {
   "cell_type": "code",
   "execution_count": 7,
   "metadata": {},
   "outputs": [
    {
     "name": "stdout",
     "output_type": "stream",
     "text": [
      "<class 'pandas.core.frame.DataFrame'>\n",
      "RangeIndex: 123036 entries, 0 to 123035\n",
      "Data columns (total 3 columns):\n",
      " #   Column        Non-Null Count   Dtype \n",
      "---  ------        --------------   ----- \n",
      " 0   id            123036 non-null  object\n",
      " 1   message_date  123036 non-null  object\n",
      " 2   user_id       123036 non-null  int64 \n",
      "dtypes: int64(1), object(2)\n",
      "memory usage: 2.8+ MB\n"
     ]
    }
   ],
   "source": [
    "messages.info()"
   ]
  },
  {
   "cell_type": "markdown",
   "metadata": {},
   "source": [
    "В таблице представлена информация о сообщениях, 123036 строк и 3 колонки:\n",
    "* id — уникальный номер сообщения\n",
    "* message_date — дата сообщения\n",
    "* user_id — идентификатор пользователя, отправившего сообщение\n",
    "\n",
    "Пропусков нет, но нужно изменить тип данных. "
   ]
  },
  {
   "cell_type": "code",
   "execution_count": 8,
   "metadata": {},
   "outputs": [
    {
     "data": {
      "text/html": [
       "<div>\n",
       "<style scoped>\n",
       "    .dataframe tbody tr th:only-of-type {\n",
       "        vertical-align: middle;\n",
       "    }\n",
       "\n",
       "    .dataframe tbody tr th {\n",
       "        vertical-align: top;\n",
       "    }\n",
       "\n",
       "    .dataframe thead th {\n",
       "        text-align: right;\n",
       "    }\n",
       "</style>\n",
       "<table border=\"1\" class=\"dataframe\">\n",
       "  <thead>\n",
       "    <tr style=\"text-align: right;\">\n",
       "      <th></th>\n",
       "      <th>id</th>\n",
       "      <th>mb_used</th>\n",
       "      <th>session_date</th>\n",
       "      <th>user_id</th>\n",
       "    </tr>\n",
       "  </thead>\n",
       "  <tbody>\n",
       "    <tr>\n",
       "      <th>0</th>\n",
       "      <td>1000_0</td>\n",
       "      <td>112.95</td>\n",
       "      <td>2018-11-25</td>\n",
       "      <td>1000</td>\n",
       "    </tr>\n",
       "    <tr>\n",
       "      <th>1</th>\n",
       "      <td>1000_1</td>\n",
       "      <td>1052.81</td>\n",
       "      <td>2018-09-07</td>\n",
       "      <td>1000</td>\n",
       "    </tr>\n",
       "    <tr>\n",
       "      <th>2</th>\n",
       "      <td>1000_2</td>\n",
       "      <td>1197.26</td>\n",
       "      <td>2018-06-25</td>\n",
       "      <td>1000</td>\n",
       "    </tr>\n",
       "    <tr>\n",
       "      <th>3</th>\n",
       "      <td>1000_3</td>\n",
       "      <td>550.27</td>\n",
       "      <td>2018-08-22</td>\n",
       "      <td>1000</td>\n",
       "    </tr>\n",
       "    <tr>\n",
       "      <th>4</th>\n",
       "      <td>1000_4</td>\n",
       "      <td>302.56</td>\n",
       "      <td>2018-09-24</td>\n",
       "      <td>1000</td>\n",
       "    </tr>\n",
       "    <tr>\n",
       "      <th>...</th>\n",
       "      <td>...</td>\n",
       "      <td>...</td>\n",
       "      <td>...</td>\n",
       "      <td>...</td>\n",
       "    </tr>\n",
       "    <tr>\n",
       "      <th>149391</th>\n",
       "      <td>1499_152</td>\n",
       "      <td>318.90</td>\n",
       "      <td>2018-10-03</td>\n",
       "      <td>1499</td>\n",
       "    </tr>\n",
       "    <tr>\n",
       "      <th>149392</th>\n",
       "      <td>1499_153</td>\n",
       "      <td>490.13</td>\n",
       "      <td>2018-12-14</td>\n",
       "      <td>1499</td>\n",
       "    </tr>\n",
       "    <tr>\n",
       "      <th>149393</th>\n",
       "      <td>1499_154</td>\n",
       "      <td>0.00</td>\n",
       "      <td>2018-10-27</td>\n",
       "      <td>1499</td>\n",
       "    </tr>\n",
       "    <tr>\n",
       "      <th>149394</th>\n",
       "      <td>1499_155</td>\n",
       "      <td>1246.32</td>\n",
       "      <td>2018-11-26</td>\n",
       "      <td>1499</td>\n",
       "    </tr>\n",
       "    <tr>\n",
       "      <th>149395</th>\n",
       "      <td>1499_156</td>\n",
       "      <td>544.37</td>\n",
       "      <td>2018-10-26</td>\n",
       "      <td>1499</td>\n",
       "    </tr>\n",
       "  </tbody>\n",
       "</table>\n",
       "<p>149396 rows × 4 columns</p>\n",
       "</div>"
      ],
      "text/plain": [
       "              id  mb_used session_date  user_id\n",
       "0         1000_0   112.95   2018-11-25     1000\n",
       "1         1000_1  1052.81   2018-09-07     1000\n",
       "2         1000_2  1197.26   2018-06-25     1000\n",
       "3         1000_3   550.27   2018-08-22     1000\n",
       "4         1000_4   302.56   2018-09-24     1000\n",
       "...          ...      ...          ...      ...\n",
       "149391  1499_152   318.90   2018-10-03     1499\n",
       "149392  1499_153   490.13   2018-12-14     1499\n",
       "149393  1499_154     0.00   2018-10-27     1499\n",
       "149394  1499_155  1246.32   2018-11-26     1499\n",
       "149395  1499_156   544.37   2018-10-26     1499\n",
       "\n",
       "[149396 rows x 4 columns]"
      ]
     },
     "execution_count": 8,
     "metadata": {},
     "output_type": "execute_result"
    }
   ],
   "source": [
    "internet"
   ]
  },
  {
   "cell_type": "code",
   "execution_count": 9,
   "metadata": {},
   "outputs": [
    {
     "name": "stdout",
     "output_type": "stream",
     "text": [
      "<class 'pandas.core.frame.DataFrame'>\n",
      "Int64Index: 149396 entries, 0 to 149395\n",
      "Data columns (total 4 columns):\n",
      " #   Column        Non-Null Count   Dtype  \n",
      "---  ------        --------------   -----  \n",
      " 0   id            149396 non-null  object \n",
      " 1   mb_used       149396 non-null  float64\n",
      " 2   session_date  149396 non-null  object \n",
      " 3   user_id       149396 non-null  int64  \n",
      "dtypes: float64(1), int64(1), object(2)\n",
      "memory usage: 5.7+ MB\n"
     ]
    }
   ],
   "source": [
    "internet.info()"
   ]
  },
  {
   "cell_type": "markdown",
   "metadata": {},
   "source": [
    "В таблице представлена информация об интернет-сессиях, 149396 строки, 4 колонки:\n",
    "* id — уникальный номер сессии\n",
    "* mb_used — объём потраченного за сессию интернет-трафика (в мегабайтах)\n",
    "* session_date — дата интернет-сессии\n",
    "* user_id — идентификатор пользователя\n",
    "\n",
    "Пропусков нет, но нужно изменить тип данных.\n",
    "\n",
    "\n"
   ]
  },
  {
   "cell_type": "code",
   "execution_count": 10,
   "metadata": {},
   "outputs": [
    {
     "data": {
      "text/html": [
       "<div>\n",
       "<style scoped>\n",
       "    .dataframe tbody tr th:only-of-type {\n",
       "        vertical-align: middle;\n",
       "    }\n",
       "\n",
       "    .dataframe tbody tr th {\n",
       "        vertical-align: top;\n",
       "    }\n",
       "\n",
       "    .dataframe thead th {\n",
       "        text-align: right;\n",
       "    }\n",
       "</style>\n",
       "<table border=\"1\" class=\"dataframe\">\n",
       "  <thead>\n",
       "    <tr style=\"text-align: right;\">\n",
       "      <th></th>\n",
       "      <th>messages_included</th>\n",
       "      <th>mb_per_month_included</th>\n",
       "      <th>minutes_included</th>\n",
       "      <th>rub_monthly_fee</th>\n",
       "      <th>rub_per_gb</th>\n",
       "      <th>rub_per_message</th>\n",
       "      <th>rub_per_minute</th>\n",
       "      <th>tariff_name</th>\n",
       "    </tr>\n",
       "  </thead>\n",
       "  <tbody>\n",
       "    <tr>\n",
       "      <th>0</th>\n",
       "      <td>50</td>\n",
       "      <td>15360</td>\n",
       "      <td>500</td>\n",
       "      <td>550</td>\n",
       "      <td>200</td>\n",
       "      <td>3</td>\n",
       "      <td>3</td>\n",
       "      <td>smart</td>\n",
       "    </tr>\n",
       "    <tr>\n",
       "      <th>1</th>\n",
       "      <td>1000</td>\n",
       "      <td>30720</td>\n",
       "      <td>3000</td>\n",
       "      <td>1950</td>\n",
       "      <td>150</td>\n",
       "      <td>1</td>\n",
       "      <td>1</td>\n",
       "      <td>ultra</td>\n",
       "    </tr>\n",
       "  </tbody>\n",
       "</table>\n",
       "</div>"
      ],
      "text/plain": [
       "   messages_included  mb_per_month_included  minutes_included  \\\n",
       "0                 50                  15360               500   \n",
       "1               1000                  30720              3000   \n",
       "\n",
       "   rub_monthly_fee  rub_per_gb  rub_per_message  rub_per_minute tariff_name  \n",
       "0              550         200                3               3       smart  \n",
       "1             1950         150                1               1       ultra  "
      ]
     },
     "execution_count": 10,
     "metadata": {},
     "output_type": "execute_result"
    }
   ],
   "source": [
    "tariffs"
   ]
  },
  {
   "cell_type": "code",
   "execution_count": 11,
   "metadata": {},
   "outputs": [
    {
     "name": "stdout",
     "output_type": "stream",
     "text": [
      "<class 'pandas.core.frame.DataFrame'>\n",
      "RangeIndex: 2 entries, 0 to 1\n",
      "Data columns (total 8 columns):\n",
      " #   Column                 Non-Null Count  Dtype \n",
      "---  ------                 --------------  ----- \n",
      " 0   messages_included      2 non-null      int64 \n",
      " 1   mb_per_month_included  2 non-null      int64 \n",
      " 2   minutes_included       2 non-null      int64 \n",
      " 3   rub_monthly_fee        2 non-null      int64 \n",
      " 4   rub_per_gb             2 non-null      int64 \n",
      " 5   rub_per_message        2 non-null      int64 \n",
      " 6   rub_per_minute         2 non-null      int64 \n",
      " 7   tariff_name            2 non-null      object\n",
      "dtypes: int64(7), object(1)\n",
      "memory usage: 256.0+ bytes\n"
     ]
    }
   ],
   "source": [
    "tariffs.info()"
   ]
  },
  {
   "cell_type": "markdown",
   "metadata": {},
   "source": [
    "В таблице представлена информация о тарифах, две строки, 8 колонок:\n",
    "* tariff_name — название тарифа\n",
    "* rub_monthly_fee — ежемесячная абонентская плата в рублях\n",
    "* minutes_included — количество минут разговора в месяц, включённых в абонентскую плату\n",
    "* messages_included — количество сообщений в месяц, включённых в абонентскую плату\n",
    "* mb_per_month_included — объём интернет-трафика, включённого в абонентскую плату (в мегабайтах)\n",
    "* rub_per_minute — стоимость минуты разговора сверх тарифного пакета (например, если в тарифе 100 минут разговора в месяц, то со 101 минуты будет взиматься плата)\n",
    "* rub_per_message — стоимость отправки сообщения сверх тарифного пакета\n",
    "* rub_per_gb — стоимость дополнительного гигабайта интернет-трафика сверх тарифного пакета (1 гигабайт = 1024 мегабайта)\n",
    "\n",
    "Пропусков нет, но нужно изменить тип данных.\n",
    "\n",
    "\n"
   ]
  },
  {
   "cell_type": "markdown",
   "metadata": {},
   "source": [
    "### Вывод: \n",
    "Отличный набор данных, нет потеряных данных и аномальных значений, нужно лишь проверить на дубликаты и заменить типы данных, где это необходимо."
   ]
  },
  {
   "cell_type": "markdown",
   "metadata": {},
   "source": [
    "## Шаг 2. Предобработка данных"
   ]
  },
  {
   "cell_type": "markdown",
   "metadata": {},
   "source": [
    "Удалим явные дубликаты во всех таблицах, заменим типы данных и произведем округления согласно политике «Мегалайн»"
   ]
  },
  {
   "cell_type": "code",
   "execution_count": 12,
   "metadata": {},
   "outputs": [
    {
     "data": {
      "text/plain": [
       "0"
      ]
     },
     "execution_count": 12,
     "metadata": {},
     "output_type": "execute_result"
    }
   ],
   "source": [
    "users.duplicated().sum()"
   ]
  },
  {
   "cell_type": "code",
   "execution_count": 13,
   "metadata": {},
   "outputs": [
    {
     "data": {
      "text/plain": [
       "0"
      ]
     },
     "execution_count": 13,
     "metadata": {},
     "output_type": "execute_result"
    }
   ],
   "source": [
    "calls.duplicated().sum()"
   ]
  },
  {
   "cell_type": "code",
   "execution_count": 14,
   "metadata": {},
   "outputs": [
    {
     "data": {
      "text/plain": [
       "0"
      ]
     },
     "execution_count": 14,
     "metadata": {},
     "output_type": "execute_result"
    }
   ],
   "source": [
    "messages.duplicated().sum()"
   ]
  },
  {
   "cell_type": "code",
   "execution_count": 15,
   "metadata": {},
   "outputs": [
    {
     "data": {
      "text/plain": [
       "0"
      ]
     },
     "execution_count": 15,
     "metadata": {},
     "output_type": "execute_result"
    }
   ],
   "source": [
    "internet.duplicated().sum()"
   ]
  },
  {
   "cell_type": "markdown",
   "metadata": {},
   "source": [
    "А дубликатов и нет"
   ]
  },
  {
   "cell_type": "code",
   "execution_count": 16,
   "metadata": {},
   "outputs": [
    {
     "data": {
      "text/plain": [
       "smart    351\n",
       "ultra    149\n",
       "Name: tariff, dtype: int64"
      ]
     },
     "execution_count": 16,
     "metadata": {},
     "output_type": "execute_result"
    }
   ],
   "source": [
    "users['tariff'].value_counts()"
   ]
  },
  {
   "cell_type": "markdown",
   "metadata": {},
   "source": [
    "Неявных дубликатов в названиях тарифов тоже нет, пользователей с тарифом ultra более, чем вдвое меньше, чем пользователей с тарифом smart"
   ]
  },
  {
   "cell_type": "markdown",
   "metadata": {},
   "source": [
    "Заменим типы данных и округлим длительность звонков и количество потребленного трафика в большую сторону"
   ]
  },
  {
   "cell_type": "code",
   "execution_count": 17,
   "metadata": {},
   "outputs": [],
   "source": [
    "users['reg_date'] = pd.to_datetime(users['reg_date'], format='%Y-%m-%d')\n",
    "users['churn_date'] = pd.to_datetime(users['churn_date'], format='%Y-%m-%d')\n",
    "\n",
    "calls['id'] = calls['id'].astype(int)\n",
    "calls['duration'] = calls['duration'].apply(np.ceil).astype(int)\n",
    "calls['user_id'] = calls['user_id'].astype(int)\n",
    "calls['call_date'] = pd.to_datetime(calls['call_date'], format='%Y-%m-%d')\n",
    "\n",
    "messages['id'] = messages['id'].astype(int)\n",
    "messages['user_id'] = messages['user_id'].astype(int)\n",
    "messages['message_date'] = pd.to_datetime(messages['message_date'], format='%Y-%m-%d')\n",
    "\n",
    "internet['id'] = internet['id'].astype(int)\n",
    "internet['user_id'] = internet['user_id'].astype(int)\n",
    "internet['mb_used'] = internet['mb_used'].apply(np.ceil).astype(int)\n",
    "internet['session_date'] = pd.to_datetime(internet['session_date'], format='%Y-%m-%d')\n"
   ]
  },
  {
   "cell_type": "markdown",
   "metadata": {},
   "source": [
    "### Вывод:"
   ]
  },
  {
   "cell_type": "markdown",
   "metadata": {},
   "source": [
    "Убедились, что нет дубликатов, заменили ошибочные типы данных на верные и округлили значения."
   ]
  },
  {
   "cell_type": "markdown",
   "metadata": {},
   "source": [
    "## Шаг 3. Подготовим данные, проведем необходимые рассчёты."
   ]
  },
  {
   "cell_type": "markdown",
   "metadata": {},
   "source": [
    "Изучим длительность звонков и количество интернет-траффика, посмотрим, как выглядят данные в диаграммах."
   ]
  },
  {
   "cell_type": "code",
   "execution_count": 18,
   "metadata": {},
   "outputs": [
    {
     "data": {
      "text/html": [
       "<div>\n",
       "<style scoped>\n",
       "    .dataframe tbody tr th:only-of-type {\n",
       "        vertical-align: middle;\n",
       "    }\n",
       "\n",
       "    .dataframe tbody tr th {\n",
       "        vertical-align: top;\n",
       "    }\n",
       "\n",
       "    .dataframe thead th {\n",
       "        text-align: right;\n",
       "    }\n",
       "</style>\n",
       "<table border=\"1\" class=\"dataframe\">\n",
       "  <thead>\n",
       "    <tr style=\"text-align: right;\">\n",
       "      <th></th>\n",
       "      <th>id</th>\n",
       "      <th>duration</th>\n",
       "      <th>user_id</th>\n",
       "    </tr>\n",
       "  </thead>\n",
       "  <tbody>\n",
       "    <tr>\n",
       "      <th>count</th>\n",
       "      <td>2.026070e+05</td>\n",
       "      <td>202607.000000</td>\n",
       "      <td>202607.000000</td>\n",
       "    </tr>\n",
       "    <tr>\n",
       "      <th>mean</th>\n",
       "      <td>1.212254e+06</td>\n",
       "      <td>7.158198</td>\n",
       "      <td>1253.940619</td>\n",
       "    </tr>\n",
       "    <tr>\n",
       "      <th>std</th>\n",
       "      <td>1.725756e+06</td>\n",
       "      <td>5.959173</td>\n",
       "      <td>144.722751</td>\n",
       "    </tr>\n",
       "    <tr>\n",
       "      <th>min</th>\n",
       "      <td>1.000000e+04</td>\n",
       "      <td>0.000000</td>\n",
       "      <td>1000.000000</td>\n",
       "    </tr>\n",
       "    <tr>\n",
       "      <th>25%</th>\n",
       "      <td>1.012286e+06</td>\n",
       "      <td>2.000000</td>\n",
       "      <td>1126.000000</td>\n",
       "    </tr>\n",
       "    <tr>\n",
       "      <th>50%</th>\n",
       "      <td>1.179376e+06</td>\n",
       "      <td>6.000000</td>\n",
       "      <td>1260.000000</td>\n",
       "    </tr>\n",
       "    <tr>\n",
       "      <th>75%</th>\n",
       "      <td>1.358126e+06</td>\n",
       "      <td>11.000000</td>\n",
       "      <td>1379.000000</td>\n",
       "    </tr>\n",
       "    <tr>\n",
       "      <th>max</th>\n",
       "      <td>1.458115e+07</td>\n",
       "      <td>38.000000</td>\n",
       "      <td>1499.000000</td>\n",
       "    </tr>\n",
       "  </tbody>\n",
       "</table>\n",
       "</div>"
      ],
      "text/plain": [
       "                 id       duration        user_id\n",
       "count  2.026070e+05  202607.000000  202607.000000\n",
       "mean   1.212254e+06       7.158198    1253.940619\n",
       "std    1.725756e+06       5.959173     144.722751\n",
       "min    1.000000e+04       0.000000    1000.000000\n",
       "25%    1.012286e+06       2.000000    1126.000000\n",
       "50%    1.179376e+06       6.000000    1260.000000\n",
       "75%    1.358126e+06      11.000000    1379.000000\n",
       "max    1.458115e+07      38.000000    1499.000000"
      ]
     },
     "execution_count": 18,
     "metadata": {},
     "output_type": "execute_result"
    }
   ],
   "source": [
    "calls.describe()"
   ]
  },
  {
   "cell_type": "code",
   "execution_count": 19,
   "metadata": {},
   "outputs": [
    {
     "data": {
      "text/plain": [
       "<AxesSubplot:ylabel='Frequency'>"
      ]
     },
     "execution_count": 19,
     "metadata": {},
     "output_type": "execute_result"
    },
    {
     "data": {
      "image/png": "[encoded data removed]",
      "text/plain": [
       "<Figure size 1152x576 with 1 Axes>"
      ]
     },
     "metadata": {
      "needs_background": "light"
     },
     "output_type": "display_data"
    }
   ],
   "source": [
    "calls['duration'].plot(kind='hist', bins = 38, figsize=(16, 8))"
   ]
  },
  {
   "cell_type": "markdown",
   "metadata": {},
   "source": [
    "Видим, что много звонков длятся 0 минут, похоже, что это пропущенные вызовы. Так как минуты не расходуются, то и абонент за эти звонки  не платит, можно их смело удалить, для анализа они нам не понадобятся."
   ]
  },
  {
   "cell_type": "code",
   "execution_count": 20,
   "metadata": {},
   "outputs": [],
   "source": [
    "calls = calls.query('duration != 0')"
   ]
  },
  {
   "cell_type": "code",
   "execution_count": 21,
   "metadata": {},
   "outputs": [
    {
     "data": {
      "text/html": [
       "<div>\n",
       "<style scoped>\n",
       "    .dataframe tbody tr th:only-of-type {\n",
       "        vertical-align: middle;\n",
       "    }\n",
       "\n",
       "    .dataframe tbody tr th {\n",
       "        vertical-align: top;\n",
       "    }\n",
       "\n",
       "    .dataframe thead th {\n",
       "        text-align: right;\n",
       "    }\n",
       "</style>\n",
       "<table border=\"1\" class=\"dataframe\">\n",
       "  <thead>\n",
       "    <tr style=\"text-align: right;\">\n",
       "      <th></th>\n",
       "      <th>id</th>\n",
       "      <th>mb_used</th>\n",
       "      <th>user_id</th>\n",
       "    </tr>\n",
       "  </thead>\n",
       "  <tbody>\n",
       "    <tr>\n",
       "      <th>count</th>\n",
       "      <td>1.493960e+05</td>\n",
       "      <td>149396.000000</td>\n",
       "      <td>149396.000000</td>\n",
       "    </tr>\n",
       "    <tr>\n",
       "      <th>mean</th>\n",
       "      <td>8.968475e+05</td>\n",
       "      <td>370.622098</td>\n",
       "      <td>1252.099842</td>\n",
       "    </tr>\n",
       "    <tr>\n",
       "      <th>std</th>\n",
       "      <td>5.419758e+05</td>\n",
       "      <td>278.387019</td>\n",
       "      <td>144.050823</td>\n",
       "    </tr>\n",
       "    <tr>\n",
       "      <th>min</th>\n",
       "      <td>1.000000e+04</td>\n",
       "      <td>0.000000</td>\n",
       "      <td>1000.000000</td>\n",
       "    </tr>\n",
       "    <tr>\n",
       "      <th>25%</th>\n",
       "      <td>1.389878e+05</td>\n",
       "      <td>139.000000</td>\n",
       "      <td>1130.000000</td>\n",
       "    </tr>\n",
       "    <tr>\n",
       "      <th>50%</th>\n",
       "      <td>1.145212e+06</td>\n",
       "      <td>349.000000</td>\n",
       "      <td>1251.000000</td>\n",
       "    </tr>\n",
       "    <tr>\n",
       "      <th>75%</th>\n",
       "      <td>1.321559e+06</td>\n",
       "      <td>560.000000</td>\n",
       "      <td>1380.000000</td>\n",
       "    </tr>\n",
       "    <tr>\n",
       "      <th>max</th>\n",
       "      <td>1.499156e+06</td>\n",
       "      <td>1725.000000</td>\n",
       "      <td>1499.000000</td>\n",
       "    </tr>\n",
       "  </tbody>\n",
       "</table>\n",
       "</div>"
      ],
      "text/plain": [
       "                 id        mb_used        user_id\n",
       "count  1.493960e+05  149396.000000  149396.000000\n",
       "mean   8.968475e+05     370.622098    1252.099842\n",
       "std    5.419758e+05     278.387019     144.050823\n",
       "min    1.000000e+04       0.000000    1000.000000\n",
       "25%    1.389878e+05     139.000000    1130.000000\n",
       "50%    1.145212e+06     349.000000    1251.000000\n",
       "75%    1.321559e+06     560.000000    1380.000000\n",
       "max    1.499156e+06    1725.000000    1499.000000"
      ]
     },
     "execution_count": 21,
     "metadata": {},
     "output_type": "execute_result"
    }
   ],
   "source": [
    "internet.describe()"
   ]
  },
  {
   "cell_type": "code",
   "execution_count": 22,
   "metadata": {},
   "outputs": [
    {
     "data": {
      "text/plain": [
       "<AxesSubplot:ylabel='Frequency'>"
      ]
     },
     "execution_count": 22,
     "metadata": {},
     "output_type": "execute_result"
    },
    {
     "data": {
      "image/png": "[encoded data removed]",
      "text/plain": [
       "<Figure size 1152x576 with 1 Axes>"
      ]
     },
     "metadata": {
      "needs_background": "light"
     },
     "output_type": "display_data"
    }
   ],
   "source": [
    "internet['mb_used'].plot(kind='hist', bins = 50, figsize=(16, 8))"
   ]
  },
  {
   "cell_type": "markdown",
   "metadata": {},
   "source": [
    "Здесь тоже видим много нулевых значений. Видимо, это факты установки соединения без расхода траффика, нет трафика - нет платы, эти данные также удалим."
   ]
  },
  {
   "cell_type": "code",
   "execution_count": 23,
   "metadata": {},
   "outputs": [],
   "source": [
    "internet = internet.query('mb_used != 0')"
   ]
  },
  {
   "cell_type": "markdown",
   "metadata": {},
   "source": [
    "Посчитаем количество израсходованных минут, смс, интернет трафика и выручки с каждого пользователя по месяцам"
   ]
  },
  {
   "cell_type": "markdown",
   "metadata": {},
   "source": [
    "Добавим колонку с месяцами"
   ]
  },
  {
   "cell_type": "code",
   "execution_count": 24,
   "metadata": {},
   "outputs": [],
   "source": [
    "def month(df, col): \n",
    "    df = df.assign(month=df[col].dt.month)\n",
    "    return df"
   ]
  },
  {
   "cell_type": "markdown",
   "metadata": {},
   "source": [
    "Посчитаем количество звонков и минут, создадим таблицу по пользователям, количеству звонков и израсходованных минут по месяцам."
   ]
  },
  {
   "cell_type": "code",
   "execution_count": 25,
   "metadata": {},
   "outputs": [],
   "source": [
    "calls = month(calls, 'call_date')"
   ]
  },
  {
   "cell_type": "code",
   "execution_count": 26,
   "metadata": {},
   "outputs": [
    {
     "data": {
      "text/html": [
       "<div>\n",
       "<style scoped>\n",
       "    .dataframe tbody tr th:only-of-type {\n",
       "        vertical-align: middle;\n",
       "    }\n",
       "\n",
       "    .dataframe tbody tr th {\n",
       "        vertical-align: top;\n",
       "    }\n",
       "\n",
       "    .dataframe thead th {\n",
       "        text-align: right;\n",
       "    }\n",
       "</style>\n",
       "<table border=\"1\" class=\"dataframe\">\n",
       "  <thead>\n",
       "    <tr style=\"text-align: right;\">\n",
       "      <th></th>\n",
       "      <th>user_id</th>\n",
       "      <th>month</th>\n",
       "      <th>calls_count</th>\n",
       "      <th>mins</th>\n",
       "    </tr>\n",
       "  </thead>\n",
       "  <tbody>\n",
       "    <tr>\n",
       "      <th>0</th>\n",
       "      <td>1000</td>\n",
       "      <td>5</td>\n",
       "      <td>17</td>\n",
       "      <td>159</td>\n",
       "    </tr>\n",
       "    <tr>\n",
       "      <th>1</th>\n",
       "      <td>1000</td>\n",
       "      <td>6</td>\n",
       "      <td>28</td>\n",
       "      <td>172</td>\n",
       "    </tr>\n",
       "    <tr>\n",
       "      <th>2</th>\n",
       "      <td>1000</td>\n",
       "      <td>7</td>\n",
       "      <td>41</td>\n",
       "      <td>340</td>\n",
       "    </tr>\n",
       "    <tr>\n",
       "      <th>3</th>\n",
       "      <td>1000</td>\n",
       "      <td>8</td>\n",
       "      <td>42</td>\n",
       "      <td>408</td>\n",
       "    </tr>\n",
       "    <tr>\n",
       "      <th>4</th>\n",
       "      <td>1000</td>\n",
       "      <td>9</td>\n",
       "      <td>46</td>\n",
       "      <td>466</td>\n",
       "    </tr>\n",
       "    <tr>\n",
       "      <th>...</th>\n",
       "      <td>...</td>\n",
       "      <td>...</td>\n",
       "      <td>...</td>\n",
       "      <td>...</td>\n",
       "    </tr>\n",
       "    <tr>\n",
       "      <th>3163</th>\n",
       "      <td>1498</td>\n",
       "      <td>10</td>\n",
       "      <td>30</td>\n",
       "      <td>247</td>\n",
       "    </tr>\n",
       "    <tr>\n",
       "      <th>3164</th>\n",
       "      <td>1499</td>\n",
       "      <td>9</td>\n",
       "      <td>8</td>\n",
       "      <td>70</td>\n",
       "    </tr>\n",
       "    <tr>\n",
       "      <th>3165</th>\n",
       "      <td>1499</td>\n",
       "      <td>10</td>\n",
       "      <td>44</td>\n",
       "      <td>449</td>\n",
       "    </tr>\n",
       "    <tr>\n",
       "      <th>3166</th>\n",
       "      <td>1499</td>\n",
       "      <td>11</td>\n",
       "      <td>62</td>\n",
       "      <td>612</td>\n",
       "    </tr>\n",
       "    <tr>\n",
       "      <th>3167</th>\n",
       "      <td>1499</td>\n",
       "      <td>12</td>\n",
       "      <td>56</td>\n",
       "      <td>492</td>\n",
       "    </tr>\n",
       "  </tbody>\n",
       "</table>\n",
       "<p>3168 rows × 4 columns</p>\n",
       "</div>"
      ],
      "text/plain": [
       "      user_id  month  calls_count  mins\n",
       "0        1000      5           17   159\n",
       "1        1000      6           28   172\n",
       "2        1000      7           41   340\n",
       "3        1000      8           42   408\n",
       "4        1000      9           46   466\n",
       "...       ...    ...          ...   ...\n",
       "3163     1498     10           30   247\n",
       "3164     1499      9            8    70\n",
       "3165     1499     10           44   449\n",
       "3166     1499     11           62   612\n",
       "3167     1499     12           56   492\n",
       "\n",
       "[3168 rows x 4 columns]"
      ]
     },
     "execution_count": 26,
     "metadata": {},
     "output_type": "execute_result"
    }
   ],
   "source": [
    "calls_pivot = calls.pivot_table(index=['user_id', 'month'],\n",
    "                                values='duration', aggfunc=(\"sum\",'count')).reset_index()\n",
    "\n",
    "calls_pivot.columns = ('user_id', 'month', 'calls_count', 'mins')\n",
    "calls_pivot"
   ]
  },
  {
   "cell_type": "markdown",
   "metadata": {},
   "source": [
    "Посчитаем количество отправленных смс, создадим таблицу по пользователям и количеству сообщений по месяцам"
   ]
  },
  {
   "cell_type": "code",
   "execution_count": 27,
   "metadata": {},
   "outputs": [],
   "source": [
    "messages = month(messages, 'message_date')"
   ]
  },
  {
   "cell_type": "code",
   "execution_count": 28,
   "metadata": {},
   "outputs": [
    {
     "data": {
      "text/html": [
       "<div>\n",
       "<style scoped>\n",
       "    .dataframe tbody tr th:only-of-type {\n",
       "        vertical-align: middle;\n",
       "    }\n",
       "\n",
       "    .dataframe tbody tr th {\n",
       "        vertical-align: top;\n",
       "    }\n",
       "\n",
       "    .dataframe thead th {\n",
       "        text-align: right;\n",
       "    }\n",
       "</style>\n",
       "<table border=\"1\" class=\"dataframe\">\n",
       "  <thead>\n",
       "    <tr style=\"text-align: right;\">\n",
       "      <th></th>\n",
       "      <th>user_id</th>\n",
       "      <th>month</th>\n",
       "      <th>messages_count</th>\n",
       "    </tr>\n",
       "  </thead>\n",
       "  <tbody>\n",
       "    <tr>\n",
       "      <th>0</th>\n",
       "      <td>1000</td>\n",
       "      <td>5</td>\n",
       "      <td>22</td>\n",
       "    </tr>\n",
       "    <tr>\n",
       "      <th>1</th>\n",
       "      <td>1000</td>\n",
       "      <td>6</td>\n",
       "      <td>60</td>\n",
       "    </tr>\n",
       "    <tr>\n",
       "      <th>2</th>\n",
       "      <td>1000</td>\n",
       "      <td>7</td>\n",
       "      <td>75</td>\n",
       "    </tr>\n",
       "    <tr>\n",
       "      <th>3</th>\n",
       "      <td>1000</td>\n",
       "      <td>8</td>\n",
       "      <td>81</td>\n",
       "    </tr>\n",
       "    <tr>\n",
       "      <th>4</th>\n",
       "      <td>1000</td>\n",
       "      <td>9</td>\n",
       "      <td>57</td>\n",
       "    </tr>\n",
       "    <tr>\n",
       "      <th>...</th>\n",
       "      <td>...</td>\n",
       "      <td>...</td>\n",
       "      <td>...</td>\n",
       "    </tr>\n",
       "    <tr>\n",
       "      <th>2712</th>\n",
       "      <td>1498</td>\n",
       "      <td>10</td>\n",
       "      <td>42</td>\n",
       "    </tr>\n",
       "    <tr>\n",
       "      <th>2713</th>\n",
       "      <td>1499</td>\n",
       "      <td>9</td>\n",
       "      <td>11</td>\n",
       "    </tr>\n",
       "    <tr>\n",
       "      <th>2714</th>\n",
       "      <td>1499</td>\n",
       "      <td>10</td>\n",
       "      <td>48</td>\n",
       "    </tr>\n",
       "    <tr>\n",
       "      <th>2715</th>\n",
       "      <td>1499</td>\n",
       "      <td>11</td>\n",
       "      <td>59</td>\n",
       "    </tr>\n",
       "    <tr>\n",
       "      <th>2716</th>\n",
       "      <td>1499</td>\n",
       "      <td>12</td>\n",
       "      <td>66</td>\n",
       "    </tr>\n",
       "  </tbody>\n",
       "</table>\n",
       "<p>2717 rows × 3 columns</p>\n",
       "</div>"
      ],
      "text/plain": [
       "      user_id  month  messages_count\n",
       "0        1000      5              22\n",
       "1        1000      6              60\n",
       "2        1000      7              75\n",
       "3        1000      8              81\n",
       "4        1000      9              57\n",
       "...       ...    ...             ...\n",
       "2712     1498     10              42\n",
       "2713     1499      9              11\n",
       "2714     1499     10              48\n",
       "2715     1499     11              59\n",
       "2716     1499     12              66\n",
       "\n",
       "[2717 rows x 3 columns]"
      ]
     },
     "execution_count": 28,
     "metadata": {},
     "output_type": "execute_result"
    }
   ],
   "source": [
    "messages_pivot = messages.pivot_table(index=['user_id','month'],\n",
    "                                      values='message_date', aggfunc=('count')).reset_index()\n",
    "\n",
    "messages_pivot.columns = ('user_id', 'month', 'messages_count')\n",
    "messages_pivot"
   ]
  },
  {
   "cell_type": "markdown",
   "metadata": {},
   "source": [
    "Посчитаем количество израсходованного трафика, создадим таблицу по пользователям и количеству израсходованных мегабайт по месяцам"
   ]
  },
  {
   "cell_type": "code",
   "execution_count": 29,
   "metadata": {},
   "outputs": [],
   "source": [
    "internet = month(internet, 'session_date')"
   ]
  },
  {
   "cell_type": "code",
   "execution_count": 30,
   "metadata": {},
   "outputs": [
    {
     "data": {
      "text/html": [
       "<div>\n",
       "<style scoped>\n",
       "    .dataframe tbody tr th:only-of-type {\n",
       "        vertical-align: middle;\n",
       "    }\n",
       "\n",
       "    .dataframe tbody tr th {\n",
       "        vertical-align: top;\n",
       "    }\n",
       "\n",
       "    .dataframe thead th {\n",
       "        text-align: right;\n",
       "    }\n",
       "</style>\n",
       "<table border=\"1\" class=\"dataframe\">\n",
       "  <thead>\n",
       "    <tr style=\"text-align: right;\">\n",
       "      <th></th>\n",
       "      <th>user_id</th>\n",
       "      <th>month</th>\n",
       "      <th>mb_used</th>\n",
       "    </tr>\n",
       "  </thead>\n",
       "  <tbody>\n",
       "    <tr>\n",
       "      <th>0</th>\n",
       "      <td>1000</td>\n",
       "      <td>5</td>\n",
       "      <td>2256</td>\n",
       "    </tr>\n",
       "    <tr>\n",
       "      <th>1</th>\n",
       "      <td>1000</td>\n",
       "      <td>6</td>\n",
       "      <td>23257</td>\n",
       "    </tr>\n",
       "    <tr>\n",
       "      <th>2</th>\n",
       "      <td>1000</td>\n",
       "      <td>7</td>\n",
       "      <td>14016</td>\n",
       "    </tr>\n",
       "    <tr>\n",
       "      <th>3</th>\n",
       "      <td>1000</td>\n",
       "      <td>8</td>\n",
       "      <td>14070</td>\n",
       "    </tr>\n",
       "    <tr>\n",
       "      <th>4</th>\n",
       "      <td>1000</td>\n",
       "      <td>9</td>\n",
       "      <td>14581</td>\n",
       "    </tr>\n",
       "  </tbody>\n",
       "</table>\n",
       "</div>"
      ],
      "text/plain": [
       "   user_id  month  mb_used\n",
       "0     1000      5     2256\n",
       "1     1000      6    23257\n",
       "2     1000      7    14016\n",
       "3     1000      8    14070\n",
       "4     1000      9    14581"
      ]
     },
     "execution_count": 30,
     "metadata": {},
     "output_type": "execute_result"
    }
   ],
   "source": [
    "internet_pivot = internet.pivot_table(index=['user_id','month'],\n",
    "                                      values='mb_used', aggfunc=('sum')).reset_index()\n",
    "\n",
    "internet_pivot.head()"
   ]
  },
  {
   "cell_type": "markdown",
   "metadata": {},
   "source": [
    "Посчитаем выручку."
   ]
  },
  {
   "cell_type": "code",
   "execution_count": 31,
   "metadata": {},
   "outputs": [],
   "source": [
    "tariffs.columns = ['messages_included', 'mb_per_month_included', 'minutes_included',\n",
    "       'rub_monthly_fee', 'rub_per_gb', 'rub_per_message', 'rub_per_minute',\n",
    "       'tariff']"
   ]
  },
  {
   "cell_type": "markdown",
   "metadata": {},
   "source": [
    "Объединим таблицы и посмотрим общую информацию."
   ]
  },
  {
   "cell_type": "code",
   "execution_count": 32,
   "metadata": {},
   "outputs": [
    {
     "name": "stdout",
     "output_type": "stream",
     "text": [
      "<class 'pandas.core.frame.DataFrame'>\n",
      "Int64Index: 3214 entries, 0 to 3213\n",
      "Data columns (total 20 columns):\n",
      " #   Column                 Non-Null Count  Dtype         \n",
      "---  ------                 --------------  -----         \n",
      " 0   user_id                3214 non-null   int64         \n",
      " 1   month                  3214 non-null   int64         \n",
      " 2   calls_count            3168 non-null   float64       \n",
      " 3   mins                   3168 non-null   float64       \n",
      " 4   messages_count         2717 non-null   float64       \n",
      " 5   mb_used                3201 non-null   float64       \n",
      " 6   age                    3214 non-null   int64         \n",
      " 7   churn_date             187 non-null    datetime64[ns]\n",
      " 8   city                   3214 non-null   object        \n",
      " 9   first_name             3214 non-null   object        \n",
      " 10  last_name              3214 non-null   object        \n",
      " 11  reg_date               3214 non-null   datetime64[ns]\n",
      " 12  tariff                 3214 non-null   object        \n",
      " 13  messages_included      3214 non-null   int64         \n",
      " 14  mb_per_month_included  3214 non-null   int64         \n",
      " 15  minutes_included       3214 non-null   int64         \n",
      " 16  rub_monthly_fee        3214 non-null   int64         \n",
      " 17  rub_per_gb             3214 non-null   int64         \n",
      " 18  rub_per_message        3214 non-null   int64         \n",
      " 19  rub_per_minute         3214 non-null   int64         \n",
      "dtypes: datetime64[ns](2), float64(4), int64(10), object(4)\n",
      "memory usage: 527.3+ KB\n"
     ]
    }
   ],
   "source": [
    "data_merge = calls_pivot.merge(messages_pivot, on=('user_id', 'month'), how='outer')\n",
    "data_merge = data_merge.merge(internet_pivot, on=('user_id', 'month'), how='outer')\n",
    "data_merge = data_merge.merge(users, on=('user_id'), how='left')\n",
    "data_merge = data_merge.merge(tariffs, on=('tariff'), how='left')\n",
    "data_merge.info()"
   ]
  },
  {
   "cell_type": "markdown",
   "metadata": {},
   "source": [
    "Получили пропуски, они появились, потому что не все абоненты пользовались всеми услугами каждый месяц. Заполним пропуски нулями и заменим тип данных. "
   ]
  },
  {
   "cell_type": "code",
   "execution_count": 33,
   "metadata": {},
   "outputs": [],
   "source": [
    "for col in ['calls_count', 'mins', 'messages_count','mb_used']:\n",
    "    data_merge[col] = data_merge[col].fillna(0).astype(int)"
   ]
  },
  {
   "cell_type": "markdown",
   "metadata": {},
   "source": [
    "Рассчитаем прибыль компании."
   ]
  },
  {
   "cell_type": "code",
   "execution_count": 34,
   "metadata": {},
   "outputs": [],
   "source": [
    "def profit_calculation(df):\n",
    "    df['profit'] = df['rub_monthly_fee']\n",
    "    if df['mins'] > df['minutes_included']:\n",
    "        df['profit'] += (df['mins'] - df['minutes_included']) * df['rub_per_minute']\n",
    "    if df['messages_count'] > df['messages_included']:\n",
    "        df['profit'] += (df['messages_count'] - df['messages_included']) * df['rub_per_message']\n",
    "    if df['mb_used'] > df['mb_per_month_included']:\n",
    "        df['profit'] += math.ceil((df['mb_used'] - df['mb_per_month_included']) / 1024) * (df['rub_per_gb'])    \n",
    "    return df"
   ]
  },
  {
   "cell_type": "code",
   "execution_count": 35,
   "metadata": {},
   "outputs": [
    {
     "data": {
      "text/html": [
       "<div>\n",
       "<style scoped>\n",
       "    .dataframe tbody tr th:only-of-type {\n",
       "        vertical-align: middle;\n",
       "    }\n",
       "\n",
       "    .dataframe tbody tr th {\n",
       "        vertical-align: top;\n",
       "    }\n",
       "\n",
       "    .dataframe thead th {\n",
       "        text-align: right;\n",
       "    }\n",
       "</style>\n",
       "<table border=\"1\" class=\"dataframe\">\n",
       "  <thead>\n",
       "    <tr style=\"text-align: right;\">\n",
       "      <th></th>\n",
       "      <th>user_id</th>\n",
       "      <th>month</th>\n",
       "      <th>calls_count</th>\n",
       "      <th>mins</th>\n",
       "      <th>messages_count</th>\n",
       "      <th>mb_used</th>\n",
       "      <th>age</th>\n",
       "      <th>churn_date</th>\n",
       "      <th>city</th>\n",
       "      <th>first_name</th>\n",
       "      <th>...</th>\n",
       "      <th>reg_date</th>\n",
       "      <th>tariff</th>\n",
       "      <th>messages_included</th>\n",
       "      <th>mb_per_month_included</th>\n",
       "      <th>minutes_included</th>\n",
       "      <th>rub_monthly_fee</th>\n",
       "      <th>rub_per_gb</th>\n",
       "      <th>rub_per_message</th>\n",
       "      <th>rub_per_minute</th>\n",
       "      <th>profit</th>\n",
       "    </tr>\n",
       "  </thead>\n",
       "  <tbody>\n",
       "    <tr>\n",
       "      <th>0</th>\n",
       "      <td>1000</td>\n",
       "      <td>5</td>\n",
       "      <td>17</td>\n",
       "      <td>159</td>\n",
       "      <td>22</td>\n",
       "      <td>2256</td>\n",
       "      <td>52</td>\n",
       "      <td>NaT</td>\n",
       "      <td>Краснодар</td>\n",
       "      <td>Рафаил</td>\n",
       "      <td>...</td>\n",
       "      <td>2018-05-25</td>\n",
       "      <td>ultra</td>\n",
       "      <td>1000</td>\n",
       "      <td>30720</td>\n",
       "      <td>3000</td>\n",
       "      <td>1950</td>\n",
       "      <td>150</td>\n",
       "      <td>1</td>\n",
       "      <td>1</td>\n",
       "      <td>1950</td>\n",
       "    </tr>\n",
       "    <tr>\n",
       "      <th>1</th>\n",
       "      <td>1000</td>\n",
       "      <td>6</td>\n",
       "      <td>28</td>\n",
       "      <td>172</td>\n",
       "      <td>60</td>\n",
       "      <td>23257</td>\n",
       "      <td>52</td>\n",
       "      <td>NaT</td>\n",
       "      <td>Краснодар</td>\n",
       "      <td>Рафаил</td>\n",
       "      <td>...</td>\n",
       "      <td>2018-05-25</td>\n",
       "      <td>ultra</td>\n",
       "      <td>1000</td>\n",
       "      <td>30720</td>\n",
       "      <td>3000</td>\n",
       "      <td>1950</td>\n",
       "      <td>150</td>\n",
       "      <td>1</td>\n",
       "      <td>1</td>\n",
       "      <td>1950</td>\n",
       "    </tr>\n",
       "    <tr>\n",
       "      <th>2</th>\n",
       "      <td>1000</td>\n",
       "      <td>7</td>\n",
       "      <td>41</td>\n",
       "      <td>340</td>\n",
       "      <td>75</td>\n",
       "      <td>14016</td>\n",
       "      <td>52</td>\n",
       "      <td>NaT</td>\n",
       "      <td>Краснодар</td>\n",
       "      <td>Рафаил</td>\n",
       "      <td>...</td>\n",
       "      <td>2018-05-25</td>\n",
       "      <td>ultra</td>\n",
       "      <td>1000</td>\n",
       "      <td>30720</td>\n",
       "      <td>3000</td>\n",
       "      <td>1950</td>\n",
       "      <td>150</td>\n",
       "      <td>1</td>\n",
       "      <td>1</td>\n",
       "      <td>1950</td>\n",
       "    </tr>\n",
       "    <tr>\n",
       "      <th>3</th>\n",
       "      <td>1000</td>\n",
       "      <td>8</td>\n",
       "      <td>42</td>\n",
       "      <td>408</td>\n",
       "      <td>81</td>\n",
       "      <td>14070</td>\n",
       "      <td>52</td>\n",
       "      <td>NaT</td>\n",
       "      <td>Краснодар</td>\n",
       "      <td>Рафаил</td>\n",
       "      <td>...</td>\n",
       "      <td>2018-05-25</td>\n",
       "      <td>ultra</td>\n",
       "      <td>1000</td>\n",
       "      <td>30720</td>\n",
       "      <td>3000</td>\n",
       "      <td>1950</td>\n",
       "      <td>150</td>\n",
       "      <td>1</td>\n",
       "      <td>1</td>\n",
       "      <td>1950</td>\n",
       "    </tr>\n",
       "    <tr>\n",
       "      <th>4</th>\n",
       "      <td>1000</td>\n",
       "      <td>9</td>\n",
       "      <td>46</td>\n",
       "      <td>466</td>\n",
       "      <td>57</td>\n",
       "      <td>14581</td>\n",
       "      <td>52</td>\n",
       "      <td>NaT</td>\n",
       "      <td>Краснодар</td>\n",
       "      <td>Рафаил</td>\n",
       "      <td>...</td>\n",
       "      <td>2018-05-25</td>\n",
       "      <td>ultra</td>\n",
       "      <td>1000</td>\n",
       "      <td>30720</td>\n",
       "      <td>3000</td>\n",
       "      <td>1950</td>\n",
       "      <td>150</td>\n",
       "      <td>1</td>\n",
       "      <td>1</td>\n",
       "      <td>1950</td>\n",
       "    </tr>\n",
       "    <tr>\n",
       "      <th>...</th>\n",
       "      <td>...</td>\n",
       "      <td>...</td>\n",
       "      <td>...</td>\n",
       "      <td>...</td>\n",
       "      <td>...</td>\n",
       "      <td>...</td>\n",
       "      <td>...</td>\n",
       "      <td>...</td>\n",
       "      <td>...</td>\n",
       "      <td>...</td>\n",
       "      <td>...</td>\n",
       "      <td>...</td>\n",
       "      <td>...</td>\n",
       "      <td>...</td>\n",
       "      <td>...</td>\n",
       "      <td>...</td>\n",
       "      <td>...</td>\n",
       "      <td>...</td>\n",
       "      <td>...</td>\n",
       "      <td>...</td>\n",
       "      <td>...</td>\n",
       "    </tr>\n",
       "    <tr>\n",
       "      <th>3209</th>\n",
       "      <td>1489</td>\n",
       "      <td>10</td>\n",
       "      <td>0</td>\n",
       "      <td>0</td>\n",
       "      <td>21</td>\n",
       "      <td>19588</td>\n",
       "      <td>35</td>\n",
       "      <td>NaT</td>\n",
       "      <td>Санкт-Петербург</td>\n",
       "      <td>Павел</td>\n",
       "      <td>...</td>\n",
       "      <td>2018-08-15</td>\n",
       "      <td>smart</td>\n",
       "      <td>50</td>\n",
       "      <td>15360</td>\n",
       "      <td>500</td>\n",
       "      <td>550</td>\n",
       "      <td>200</td>\n",
       "      <td>3</td>\n",
       "      <td>3</td>\n",
       "      <td>1550</td>\n",
       "    </tr>\n",
       "    <tr>\n",
       "      <th>3210</th>\n",
       "      <td>1489</td>\n",
       "      <td>11</td>\n",
       "      <td>0</td>\n",
       "      <td>0</td>\n",
       "      <td>20</td>\n",
       "      <td>17516</td>\n",
       "      <td>35</td>\n",
       "      <td>NaT</td>\n",
       "      <td>Санкт-Петербург</td>\n",
       "      <td>Павел</td>\n",
       "      <td>...</td>\n",
       "      <td>2018-08-15</td>\n",
       "      <td>smart</td>\n",
       "      <td>50</td>\n",
       "      <td>15360</td>\n",
       "      <td>500</td>\n",
       "      <td>550</td>\n",
       "      <td>200</td>\n",
       "      <td>3</td>\n",
       "      <td>3</td>\n",
       "      <td>1150</td>\n",
       "    </tr>\n",
       "    <tr>\n",
       "      <th>3211</th>\n",
       "      <td>1489</td>\n",
       "      <td>12</td>\n",
       "      <td>0</td>\n",
       "      <td>0</td>\n",
       "      <td>35</td>\n",
       "      <td>17341</td>\n",
       "      <td>35</td>\n",
       "      <td>NaT</td>\n",
       "      <td>Санкт-Петербург</td>\n",
       "      <td>Павел</td>\n",
       "      <td>...</td>\n",
       "      <td>2018-08-15</td>\n",
       "      <td>smart</td>\n",
       "      <td>50</td>\n",
       "      <td>15360</td>\n",
       "      <td>500</td>\n",
       "      <td>550</td>\n",
       "      <td>200</td>\n",
       "      <td>3</td>\n",
       "      <td>3</td>\n",
       "      <td>950</td>\n",
       "    </tr>\n",
       "    <tr>\n",
       "      <th>3212</th>\n",
       "      <td>1240</td>\n",
       "      <td>2</td>\n",
       "      <td>0</td>\n",
       "      <td>0</td>\n",
       "      <td>0</td>\n",
       "      <td>961</td>\n",
       "      <td>30</td>\n",
       "      <td>NaT</td>\n",
       "      <td>Воронеж</td>\n",
       "      <td>Зинаида</td>\n",
       "      <td>...</td>\n",
       "      <td>2018-02-27</td>\n",
       "      <td>ultra</td>\n",
       "      <td>1000</td>\n",
       "      <td>30720</td>\n",
       "      <td>3000</td>\n",
       "      <td>1950</td>\n",
       "      <td>150</td>\n",
       "      <td>1</td>\n",
       "      <td>1</td>\n",
       "      <td>1950</td>\n",
       "    </tr>\n",
       "    <tr>\n",
       "      <th>3213</th>\n",
       "      <td>1476</td>\n",
       "      <td>4</td>\n",
       "      <td>0</td>\n",
       "      <td>0</td>\n",
       "      <td>0</td>\n",
       "      <td>531</td>\n",
       "      <td>50</td>\n",
       "      <td>NaT</td>\n",
       "      <td>Москва</td>\n",
       "      <td>Валентина</td>\n",
       "      <td>...</td>\n",
       "      <td>2018-04-30</td>\n",
       "      <td>ultra</td>\n",
       "      <td>1000</td>\n",
       "      <td>30720</td>\n",
       "      <td>3000</td>\n",
       "      <td>1950</td>\n",
       "      <td>150</td>\n",
       "      <td>1</td>\n",
       "      <td>1</td>\n",
       "      <td>1950</td>\n",
       "    </tr>\n",
       "  </tbody>\n",
       "</table>\n",
       "<p>3214 rows × 21 columns</p>\n",
       "</div>"
      ],
      "text/plain": [
       "      user_id  month  calls_count  mins  messages_count  mb_used  age  \\\n",
       "0        1000      5           17   159              22     2256   52   \n",
       "1        1000      6           28   172              60    23257   52   \n",
       "2        1000      7           41   340              75    14016   52   \n",
       "3        1000      8           42   408              81    14070   52   \n",
       "4        1000      9           46   466              57    14581   52   \n",
       "...       ...    ...          ...   ...             ...      ...  ...   \n",
       "3209     1489     10            0     0              21    19588   35   \n",
       "3210     1489     11            0     0              20    17516   35   \n",
       "3211     1489     12            0     0              35    17341   35   \n",
       "3212     1240      2            0     0               0      961   30   \n",
       "3213     1476      4            0     0               0      531   50   \n",
       "\n",
       "     churn_date             city first_name  ...   reg_date tariff  \\\n",
       "0           NaT        Краснодар     Рафаил  ... 2018-05-25  ultra   \n",
       "1           NaT        Краснодар     Рафаил  ... 2018-05-25  ultra   \n",
       "2           NaT        Краснодар     Рафаил  ... 2018-05-25  ultra   \n",
       "3           NaT        Краснодар     Рафаил  ... 2018-05-25  ultra   \n",
       "4           NaT        Краснодар     Рафаил  ... 2018-05-25  ultra   \n",
       "...         ...              ...        ...  ...        ...    ...   \n",
       "3209        NaT  Санкт-Петербург      Павел  ... 2018-08-15  smart   \n",
       "3210        NaT  Санкт-Петербург      Павел  ... 2018-08-15  smart   \n",
       "3211        NaT  Санкт-Петербург      Павел  ... 2018-08-15  smart   \n",
       "3212        NaT          Воронеж    Зинаида  ... 2018-02-27  ultra   \n",
       "3213        NaT           Москва  Валентина  ... 2018-04-30  ultra   \n",
       "\n",
       "     messages_included  mb_per_month_included  minutes_included  \\\n",
       "0                 1000                  30720              3000   \n",
       "1                 1000                  30720              3000   \n",
       "2                 1000                  30720              3000   \n",
       "3                 1000                  30720              3000   \n",
       "4                 1000                  30720              3000   \n",
       "...                ...                    ...               ...   \n",
       "3209                50                  15360               500   \n",
       "3210                50                  15360               500   \n",
       "3211                50                  15360               500   \n",
       "3212              1000                  30720              3000   \n",
       "3213              1000                  30720              3000   \n",
       "\n",
       "      rub_monthly_fee  rub_per_gb  rub_per_message  rub_per_minute  profit  \n",
       "0                1950         150                1               1    1950  \n",
       "1                1950         150                1               1    1950  \n",
       "2                1950         150                1               1    1950  \n",
       "3                1950         150                1               1    1950  \n",
       "4                1950         150                1               1    1950  \n",
       "...               ...         ...              ...             ...     ...  \n",
       "3209              550         200                3               3    1550  \n",
       "3210              550         200                3               3    1150  \n",
       "3211              550         200                3               3     950  \n",
       "3212             1950         150                1               1    1950  \n",
       "3213             1950         150                1               1    1950  \n",
       "\n",
       "[3214 rows x 21 columns]"
      ]
     },
     "execution_count": 35,
     "metadata": {},
     "output_type": "execute_result"
    }
   ],
   "source": [
    "data_merge = data_merge.apply(profit_calculation, axis=1)\n",
    "data_merge['profit'] = data_merge['profit'].astype(int)\n",
    "data_merge"
   ]
  },
  {
   "cell_type": "markdown",
   "metadata": {},
   "source": [
    "Удалим колонки, которые нам не нужны."
   ]
  },
  {
   "cell_type": "code",
   "execution_count": 36,
   "metadata": {},
   "outputs": [
    {
     "data": {
      "text/plain": [
       "Index(['user_id', 'month', 'calls_count', 'mins', 'messages_count', 'mb_used',\n",
       "       'age', 'churn_date', 'city', 'reg_date', 'tariff', 'profit'],\n",
       "      dtype='object')"
      ]
     },
     "execution_count": 36,
     "metadata": {},
     "output_type": "execute_result"
    }
   ],
   "source": [
    "data_merge = data_merge.drop(['first_name', 'last_name', 'messages_included', 'mb_per_month_included','minutes_included', 'rub_monthly_fee', 'rub_per_gb', 'rub_per_message', 'rub_per_minute'], axis=1)\n",
    "data_merge.columns"
   ]
  },
  {
   "cell_type": "markdown",
   "metadata": {},
   "source": [
    "### Вывод: "
   ]
  },
  {
   "cell_type": "markdown",
   "metadata": {},
   "source": [
    "Посчитали количество израсходованных минут, смс, интернет трафика и выручки с каждого пользователя по месяцам, выручку и прибыль компании. Очистили данные от ненужных значений."
   ]
  },
  {
   "cell_type": "markdown",
   "metadata": {},
   "source": [
    "## Шаг 4 Проведём анализ данных"
   ]
  },
  {
   "cell_type": "markdown",
   "metadata": {},
   "source": [
    "Посчитаем среднее количество, дисперсию и стандартное отклонение для тарифов"
   ]
  },
  {
   "cell_type": "code",
   "execution_count": 37,
   "metadata": {},
   "outputs": [],
   "source": [
    "def func_pivot(value):\n",
    "    table = data_merge.pivot_table(index=('tariff'), values=value,\\\n",
    "                       aggfunc=('median','mean','var','std')).astype(int).reset_index()\n",
    "    return table"
   ]
  },
  {
   "cell_type": "code",
   "execution_count": 38,
   "metadata": {},
   "outputs": [
    {
     "data": {
      "text/html": [
       "<div>\n",
       "<style scoped>\n",
       "    .dataframe tbody tr th:only-of-type {\n",
       "        vertical-align: middle;\n",
       "    }\n",
       "\n",
       "    .dataframe tbody tr th {\n",
       "        vertical-align: top;\n",
       "    }\n",
       "\n",
       "    .dataframe thead th {\n",
       "        text-align: right;\n",
       "    }\n",
       "</style>\n",
       "<table border=\"1\" class=\"dataframe\">\n",
       "  <thead>\n",
       "    <tr style=\"text-align: right;\">\n",
       "      <th></th>\n",
       "      <th>tariff</th>\n",
       "      <th>mean</th>\n",
       "      <th>median</th>\n",
       "      <th>std</th>\n",
       "      <th>var</th>\n",
       "    </tr>\n",
       "  </thead>\n",
       "  <tbody>\n",
       "    <tr>\n",
       "      <th>0</th>\n",
       "      <td>smart</td>\n",
       "      <td>417</td>\n",
       "      <td>422</td>\n",
       "      <td>190</td>\n",
       "      <td>36219</td>\n",
       "    </tr>\n",
       "    <tr>\n",
       "      <th>1</th>\n",
       "      <td>ultra</td>\n",
       "      <td>526</td>\n",
       "      <td>518</td>\n",
       "      <td>317</td>\n",
       "      <td>100873</td>\n",
       "    </tr>\n",
       "  </tbody>\n",
       "</table>\n",
       "</div>"
      ],
      "text/plain": [
       "  tariff  mean  median  std     var\n",
       "0  smart   417     422  190   36219\n",
       "1  ultra   526     518  317  100873"
      ]
     },
     "execution_count": 38,
     "metadata": {},
     "output_type": "execute_result"
    }
   ],
   "source": [
    "mins_pivot = func_pivot('mins')\n",
    "mins_pivot"
   ]
  },
  {
   "cell_type": "code",
   "execution_count": 39,
   "metadata": {},
   "outputs": [
    {
     "data": {
      "text/html": [
       "<div>\n",
       "<style scoped>\n",
       "    .dataframe tbody tr th:only-of-type {\n",
       "        vertical-align: middle;\n",
       "    }\n",
       "\n",
       "    .dataframe tbody tr th {\n",
       "        vertical-align: top;\n",
       "    }\n",
       "\n",
       "    .dataframe thead th {\n",
       "        text-align: right;\n",
       "    }\n",
       "</style>\n",
       "<table border=\"1\" class=\"dataframe\">\n",
       "  <thead>\n",
       "    <tr style=\"text-align: right;\">\n",
       "      <th></th>\n",
       "      <th>tariff</th>\n",
       "      <th>mean</th>\n",
       "      <th>median</th>\n",
       "      <th>std</th>\n",
       "      <th>var</th>\n",
       "    </tr>\n",
       "  </thead>\n",
       "  <tbody>\n",
       "    <tr>\n",
       "      <th>0</th>\n",
       "      <td>smart</td>\n",
       "      <td>33</td>\n",
       "      <td>28</td>\n",
       "      <td>28</td>\n",
       "      <td>796</td>\n",
       "    </tr>\n",
       "    <tr>\n",
       "      <th>1</th>\n",
       "      <td>ultra</td>\n",
       "      <td>49</td>\n",
       "      <td>38</td>\n",
       "      <td>47</td>\n",
       "      <td>2285</td>\n",
       "    </tr>\n",
       "  </tbody>\n",
       "</table>\n",
       "</div>"
      ],
      "text/plain": [
       "  tariff  mean  median  std   var\n",
       "0  smart    33      28   28   796\n",
       "1  ultra    49      38   47  2285"
      ]
     },
     "execution_count": 39,
     "metadata": {},
     "output_type": "execute_result"
    }
   ],
   "source": [
    "messages_pivot = func_pivot('messages_count')\n",
    "messages_pivot"
   ]
  },
  {
   "cell_type": "code",
   "execution_count": 40,
   "metadata": {},
   "outputs": [
    {
     "data": {
      "text/html": [
       "<div>\n",
       "<style scoped>\n",
       "    .dataframe tbody tr th:only-of-type {\n",
       "        vertical-align: middle;\n",
       "    }\n",
       "\n",
       "    .dataframe tbody tr th {\n",
       "        vertical-align: top;\n",
       "    }\n",
       "\n",
       "    .dataframe thead th {\n",
       "        text-align: right;\n",
       "    }\n",
       "</style>\n",
       "<table border=\"1\" class=\"dataframe\">\n",
       "  <thead>\n",
       "    <tr style=\"text-align: right;\">\n",
       "      <th></th>\n",
       "      <th>tariff</th>\n",
       "      <th>mean</th>\n",
       "      <th>median</th>\n",
       "      <th>std</th>\n",
       "      <th>var</th>\n",
       "    </tr>\n",
       "  </thead>\n",
       "  <tbody>\n",
       "    <tr>\n",
       "      <th>0</th>\n",
       "      <td>smart</td>\n",
       "      <td>16229</td>\n",
       "      <td>16531</td>\n",
       "      <td>5877</td>\n",
       "      <td>34545911</td>\n",
       "    </tr>\n",
       "    <tr>\n",
       "      <th>1</th>\n",
       "      <td>ultra</td>\n",
       "      <td>19486</td>\n",
       "      <td>19324</td>\n",
       "      <td>10096</td>\n",
       "      <td>101935621</td>\n",
       "    </tr>\n",
       "  </tbody>\n",
       "</table>\n",
       "</div>"
      ],
      "text/plain": [
       "  tariff   mean  median    std        var\n",
       "0  smart  16229   16531   5877   34545911\n",
       "1  ultra  19486   19324  10096  101935621"
      ]
     },
     "execution_count": 40,
     "metadata": {},
     "output_type": "execute_result"
    }
   ],
   "source": [
    "internet_pivot = func_pivot('mb_used')\n",
    "internet_pivot"
   ]
  },
  {
   "cell_type": "markdown",
   "metadata": {},
   "source": [
    "Построим гистограммы"
   ]
  },
  {
   "cell_type": "code",
   "execution_count": 41,
   "metadata": {},
   "outputs": [
    {
     "data": {
      "text/plain": [
       "<matplotlib.legend.Legend at 0x7fbd00ee4130>"
      ]
     },
     "execution_count": 41,
     "metadata": {},
     "output_type": "execute_result"
    },
    {
     "data": {
      "image/png": "[encoded data removed]",
      "text/plain": [
       "<Figure size 1152x648 with 1 Axes>"
      ]
     },
     "metadata": {
      "needs_background": "light"
     },
     "output_type": "display_data"
    }
   ],
   "source": [
    "data_merge[(data_merge['tariff'] == 'smart')\n",
    "           & (data_merge['mins'] !=0)]['mins'].plot(kind='hist', bins=50, title='Минут в месяц', figsize=(16, 9))\n",
    "\n",
    "data_merge[(data_merge['tariff'] == 'ultra')\n",
    "           & (data_merge['mins'] !=0)]['mins'].plot(kind='hist', bins=50, alpha = 0.5)\n",
    "\n",
    "plt.axvline(x=500, color='r')\n",
    "plt.axvline(x=3000, color='g')\n",
    "plt.legend(['минуты включённые в \"Smart\"', 'минуты включённые в \"Ultra\"', \"Smart\", \"Ultra\"], loc=1)"
   ]
  },
  {
   "cell_type": "markdown",
   "metadata": {},
   "source": [
    "Наблюдаем нормальное распределение. Пользователи тарифа \"Smart\" часто выходят за пределы включенных в тариф минут. А пользователи тарифа \"Ultra\" даже не приближаются к пороговому значению."
   ]
  },
  {
   "cell_type": "code",
   "execution_count": 42,
   "metadata": {},
   "outputs": [
    {
     "data": {
      "text/plain": [
       "<matplotlib.legend.Legend at 0x7fbd01c23a00>"
      ]
     },
     "execution_count": 42,
     "metadata": {},
     "output_type": "execute_result"
    },
    {
     "data": {
      "image/png": "[encoded data removed]",
      "text/plain": [
       "<Figure size 1152x648 with 1 Axes>"
      ]
     },
     "metadata": {
      "needs_background": "light"
     },
     "output_type": "display_data"
    }
   ],
   "source": [
    "data_merge[(data_merge['tariff'] == 'smart')\n",
    "           & (data_merge['messages_count'] !=0)]['messages_count'].plot(\n",
    "    kind='hist', bins=20, title='Сообщений в месяц', figsize=(16, 9))\n",
    "\n",
    "data_merge[(data_merge['tariff'] == 'ultra')\n",
    "           & (data_merge['messages_count'] !=0)]['messages_count'].plot(\n",
    "    kind='hist', bins=20, alpha = 0.5)\n",
    "\n",
    "plt.axvline(x=50, color='r')\n",
    "plt.axvline(x=1000, color='g')\n",
    "plt.legend(['сообщения включенные в \"Smart\"', 'сообщения включенные в \"Ultra\"', \"Smart\", \"Ultra\"], loc=1)"
   ]
  },
  {
   "cell_type": "markdown",
   "metadata": {},
   "source": [
    " И в сообщениях пользователи тарифа \"Smart\" часто выходят за включенный в тариф лимит, а пользователи тарифа \"Ultra\" так же как и со звонками далеки от лимита."
   ]
  },
  {
   "cell_type": "code",
   "execution_count": 43,
   "metadata": {},
   "outputs": [
    {
     "data": {
      "text/plain": [
       "<matplotlib.legend.Legend at 0x7fbd01921970>"
      ]
     },
     "execution_count": 43,
     "metadata": {},
     "output_type": "execute_result"
    },
    {
     "data": {
      "image/png": "[encoded data removed]",
      "text/plain": [
       "<Figure size 1152x648 with 1 Axes>"
      ]
     },
     "metadata": {
      "needs_background": "light"
     },
     "output_type": "display_data"
    }
   ],
   "source": [
    "data_merge[(data_merge['tariff'] == 'smart')\n",
    "           &(data_merge['mb_used'] !=0)]['mb_used'].plot(kind='hist', bins=90, title='Мегабайт в месяц', figsize=(16, 9))\n",
    "\n",
    "data_merge[(data_merge['tariff'] == 'ultra')\n",
    "           &(data_merge['mb_used'] !=0)]['mb_used'].plot(kind='hist', bins=90, alpha = 0.5)\n",
    "\n",
    "plt.axvline(x=15360, color='r')\n",
    "plt.axvline(x=30720, color='g')\n",
    "plt.legend(['трафик включенный в \"Smart\"', 'трафик включенный в \"Ultra\"', \"Smart\", \"Ultra\"], loc=1)"
   ]
  },
  {
   "cell_type": "markdown",
   "metadata": {},
   "source": [
    "На графике распределение Гаусса. Интернетом абоненты пользуются гораздо активнее чем прочими услугами связи. В среднем пользователи тарифа \"Smart\" используют 16229 мб. данных в месяц, при лимите 15360 мб."
   ]
  },
  {
   "cell_type": "markdown",
   "metadata": {},
   "source": [
    "### Вывод: "
   ]
  },
  {
   "cell_type": "markdown",
   "metadata": {},
   "source": [
    "Пользователи тарифа \"Smart\" используют минуты смс и траффик сверхтарифа, а пользователи тарифа \"Ultra\" даже не доходят до порога лимита"
   ]
  },
  {
   "cell_type": "markdown",
   "metadata": {},
   "source": [
    "## Шаг 5. Проверим гипотезы"
   ]
  },
  {
   "cell_type": "markdown",
   "metadata": {},
   "source": [
    "### Cредняя выручка от пользователей тарифов \"Ultra\" и \"Smart\" различается"
   ]
  },
  {
   "cell_type": "markdown",
   "metadata": {},
   "source": [
    "* H₀: Средняя выручка от пользователей тарифов \"Ultra\" и \"Smart\" не различается\n",
    "* H₁: Средняя выручка от пользователей тарифов \"Ultra\" и \"Smart\" различается"
   ]
  },
  {
   "cell_type": "code",
   "execution_count": 44,
   "metadata": {},
   "outputs": [
    {
     "name": "stdout",
     "output_type": "stream",
     "text": [
      "p-значение: 2.9776448000521676e-158\n",
      "Отвергаем нулевую гипотезу\n"
     ]
    }
   ],
   "source": [
    "df_smart = data_merge[data_merge['tariff'] == 'smart']\n",
    "df_ultra = data_merge[data_merge['tariff'] == 'ultra']\n",
    "alpha = 0.05\n",
    "\n",
    "result = st.ttest_ind(df_smart['profit'], df_ultra['profit'])\n",
    "\n",
    "print('p-значение:', result.pvalue)\n",
    "\n",
    "if result.pvalue < alpha:\n",
    "    print('Отвергаем нулевую гипотезу')\n",
    "else:\n",
    "    print('Не получилось отвергнуть нулевую гипотезу')"
   ]
  },
  {
   "cell_type": "code",
   "execution_count": 50,
   "metadata": {},
   "outputs": [
    {
     "data": {
      "text/plain": [
       "1294.6393001345896"
      ]
     },
     "execution_count": 50,
     "metadata": {},
     "output_type": "execute_result"
    }
   ],
   "source": [
    "df_smart['profit'].mean()"
   ]
  },
  {
   "cell_type": "code",
   "execution_count": 51,
   "metadata": {},
   "outputs": [
    {
     "data": {
      "text/plain": [
       "2071.0659898477156"
      ]
     },
     "execution_count": 51,
     "metadata": {},
     "output_type": "execute_result"
    }
   ],
   "source": [
    "df_ultra['profit'].mean()"
   ]
  },
  {
   "cell_type": "markdown",
   "metadata": {},
   "source": [
    "Нулевая гипотеза не подтвердилась, а значит с большой вероятностью мы можем утверждать, что пользователи тарифов приносят разное количество денег компании."
   ]
  },
  {
   "cell_type": "markdown",
   "metadata": {},
   "source": [
    "### Cредняя выручка от пользователей из Москвы отличается от выручки от пользователей из других регионов"
   ]
  },
  {
   "cell_type": "markdown",
   "metadata": {},
   "source": [
    "* H₀: Средняя выручка от пользователей из Москвы не отличается от выручки от пользователей из других регионов\n",
    "* H₁: Средняя выручка от пользователей из Москвы отличается от выручки от пользователей из других регионов"
   ]
  },
  {
   "cell_type": "code",
   "execution_count": 46,
   "metadata": {},
   "outputs": [
    {
     "data": {
      "text/plain": [
       "3.4254083833916284e-05"
      ]
     },
     "execution_count": 46,
     "metadata": {},
     "output_type": "execute_result"
    }
   ],
   "source": [
    "df_moscow = data_merge[data_merge['city'] == 'Москва']\n",
    "df_another_city = data_merge[data_merge['city'] != 'Москва']\n",
    "\n",
    "abs(np.mean(df_moscow ['profit']) - np.mean(df_another_city['profit'])) / (np.var(df_another_city['profit']))"
   ]
  },
  {
   "cell_type": "markdown",
   "metadata": {},
   "source": [
    "Сравниваем дисперсии критерием фишера, разница незначительна"
   ]
  },
  {
   "cell_type": "code",
   "execution_count": 47,
   "metadata": {},
   "outputs": [
    {
     "name": "stdout",
     "output_type": "stream",
     "text": [
      "p-значение: 0.531666503831252\n",
      "Не получилось отвергнуть нулевую гипотезу\n"
     ]
    }
   ],
   "source": [
    "alpha = 0.05\n",
    "\n",
    "result = st.ttest_ind(df_moscow ['profit'], df_another_city['profit'])\n",
    "\n",
    "print('p-значение:', result.pvalue)\n",
    "\n",
    "if result.pvalue < alpha:\n",
    "    print('Отвергаем нулевую гипотезу')\n",
    "else:\n",
    "    print('Не получилось отвергнуть нулевую гипотезу')"
   ]
  },
  {
   "cell_type": "markdown",
   "metadata": {},
   "source": [
    "Нулевая гипотеза не отвергнута, большая вероятность того, что пользователи из Москвы тратят столько же сколько пользователи из других городов."
   ]
  },
  {
   "cell_type": "markdown",
   "metadata": {},
   "source": [
    "### Вывод: "
   ]
  },
  {
   "cell_type": "markdown",
   "metadata": {},
   "source": [
    "Cредняя выручка от пользователей тарифов \"Ultra\" и \"Smart\" действительно различается, а вот разницы между выручкой от Москвы и от регионов нет."
   ]
  },
  {
   "cell_type": "markdown",
   "metadata": {},
   "source": [
    "## Шаг 6. Общий вывод."
   ]
  },
  {
   "cell_type": "markdown",
   "metadata": {},
   "source": [
    "* Мы изучили наши таблицы, проверили их на наличие пустых значений, дубликатов и неправильных типов данных. Затем поменяли типы данных  так как многие были указаны неверно,и подготовили все таблицы для дальнейшего анализа.\n",
    "\n",
    "* Посчитали сколько минут разговора, сколько сообщений и какой объем интернет-трафика требуется пользователям каждого тарифа в месяц. Посчитали среднее количество, дисперсию и стандартное отклонение.\n",
    "\n",
    "* Проверили гипотезы. Убедились, что выручка тарифов Смарт и Ультра различается. Убедились, что выручка от клиентов из Москвы и других регионов не отличается.\n",
    "\n",
    "* Изучив данные, мы выявили, что клиенты тарифа Ультра расходуют больше интернет-трафика, делают больше звонков и отправляют больше сообщений, нежели клиенты тарифа Смарт и практически не превышают лимит своего пакета, чего не скажешь о клиентах тарифа Смарт. Но по годовой выручке, компания получает больше выручки по тарифу Смарт, так как пользователей данного тарифа более, чем в два раза больше чем Ультра. Если считать по каждому пользователю, то в среднем пользователь тарифа Ультра приносит больше выручки в год, чем пользователь Смарта.\n",
    "\n",
    "* Если считать по итоговой прибыли от тарифов Ультра и Смарт, то Смарт выгоден для компании аж на 700к рублей в год, но если считать ценность пользователя каждого тарифа, то пользователь тарифа Ультра приносит больше дохода, чем пользователь тарифа Смарт."
   ]
  },
  {
   "cell_type": "code",
   "execution_count": null,
   "metadata": {},
   "outputs": [],
   "source": []
  }
 ],
 "metadata": {
  "ExecuteTimeLog": [
   {
    "duration": 1323,
    "start_time": "2022-03-10T08:02:28.565Z"
   },
   {
    "duration": 1912,
    "start_time": "2022-03-10T13:38:56.150Z"
   },
   {
    "duration": 24,
    "start_time": "2022-03-10T13:38:58.064Z"
   },
   {
    "duration": 32,
    "start_time": "2022-03-10T13:38:59.319Z"
   },
   {
    "duration": 11,
    "start_time": "2022-03-10T13:39:59.645Z"
   },
   {
    "duration": 16,
    "start_time": "2022-03-10T13:49:25.039Z"
   },
   {
    "duration": 30,
    "start_time": "2022-03-10T13:49:43.953Z"
   },
   {
    "duration": 451,
    "start_time": "2022-03-10T13:51:14.971Z"
   },
   {
    "duration": 20,
    "start_time": "2022-03-10T13:51:22.614Z"
   },
   {
    "duration": 14,
    "start_time": "2022-03-10T14:24:10.432Z"
   },
   {
    "duration": 22,
    "start_time": "2022-03-10T14:24:18.935Z"
   },
   {
    "duration": 18,
    "start_time": "2022-03-10T14:31:47.778Z"
   },
   {
    "duration": 22,
    "start_time": "2022-03-10T14:31:57.495Z"
   },
   {
    "duration": 12,
    "start_time": "2022-03-10T14:36:34.908Z"
   },
   {
    "duration": 9,
    "start_time": "2022-03-10T14:36:44.249Z"
   },
   {
    "duration": 259,
    "start_time": "2022-03-10T20:31:07.680Z"
   },
   {
    "duration": 10,
    "start_time": "2022-03-10T20:31:47.678Z"
   },
   {
    "duration": 141,
    "start_time": "2022-03-10T20:31:48.369Z"
   },
   {
    "duration": 54,
    "start_time": "2022-03-10T20:31:49.199Z"
   },
   {
    "duration": 64,
    "start_time": "2022-03-10T20:31:49.925Z"
   },
   {
    "duration": 10,
    "start_time": "2022-03-10T20:34:33.580Z"
   },
   {
    "duration": 8,
    "start_time": "2022-03-10T20:34:50.766Z"
   },
   {
    "duration": 172,
    "start_time": "2022-03-10T20:46:42.271Z"
   },
   {
    "duration": 6,
    "start_time": "2022-03-10T20:50:16.366Z"
   },
   {
    "duration": 664,
    "start_time": "2022-03-10T21:04:27.742Z"
   },
   {
    "duration": 465,
    "start_time": "2022-03-10T21:04:35.575Z"
   },
   {
    "duration": 385,
    "start_time": "2022-03-10T21:05:11.913Z"
   },
   {
    "duration": 378,
    "start_time": "2022-03-10T21:06:14.412Z"
   },
   {
    "duration": 418,
    "start_time": "2022-03-10T21:06:25.987Z"
   },
   {
    "duration": 432,
    "start_time": "2022-03-10T21:06:38.884Z"
   },
   {
    "duration": 414,
    "start_time": "2022-03-10T21:06:50.065Z"
   },
   {
    "duration": 449,
    "start_time": "2022-03-10T21:07:08.658Z"
   },
   {
    "duration": 346,
    "start_time": "2022-03-10T21:12:21.266Z"
   },
   {
    "duration": 46,
    "start_time": "2022-03-10T21:14:57.006Z"
   },
   {
    "duration": 515,
    "start_time": "2022-03-10T21:15:04.058Z"
   },
   {
    "duration": 463,
    "start_time": "2022-03-10T21:16:27.243Z"
   },
   {
    "duration": 16,
    "start_time": "2022-03-10T21:21:32.626Z"
   },
   {
    "duration": 603,
    "start_time": "2022-03-10T21:23:15.682Z"
   },
   {
    "duration": 538,
    "start_time": "2022-03-10T21:23:33.182Z"
   },
   {
    "duration": 19,
    "start_time": "2022-03-10T21:23:33.778Z"
   },
   {
    "duration": 10,
    "start_time": "2022-03-10T21:23:34.294Z"
   },
   {
    "duration": 17,
    "start_time": "2022-03-10T21:23:35.260Z"
   },
   {
    "duration": 47,
    "start_time": "2022-03-10T21:23:35.687Z"
   },
   {
    "duration": 20,
    "start_time": "2022-03-10T21:23:36.644Z"
   },
   {
    "duration": 32,
    "start_time": "2022-03-10T21:23:37.115Z"
   },
   {
    "duration": 28,
    "start_time": "2022-03-10T21:23:38.131Z"
   },
   {
    "duration": 35,
    "start_time": "2022-03-10T21:23:38.660Z"
   },
   {
    "duration": 11,
    "start_time": "2022-03-10T21:23:39.793Z"
   },
   {
    "duration": 10,
    "start_time": "2022-03-10T21:23:40.322Z"
   },
   {
    "duration": 11,
    "start_time": "2022-03-10T21:23:43.975Z"
   },
   {
    "duration": 145,
    "start_time": "2022-03-10T21:23:44.812Z"
   },
   {
    "duration": 61,
    "start_time": "2022-03-10T21:23:45.406Z"
   },
   {
    "duration": 66,
    "start_time": "2022-03-10T21:23:45.942Z"
   },
   {
    "duration": 10,
    "start_time": "2022-03-10T21:23:47.268Z"
   },
   {
    "duration": 323,
    "start_time": "2022-03-10T21:23:48.982Z"
   },
   {
    "duration": 62,
    "start_time": "2022-03-10T21:23:53.560Z"
   },
   {
    "duration": 876,
    "start_time": "2022-03-10T21:23:55.814Z"
   },
   {
    "duration": 442,
    "start_time": "2022-03-10T21:24:22.476Z"
   },
   {
    "duration": 604,
    "start_time": "2022-03-10T21:24:34.830Z"
   },
   {
    "duration": 39,
    "start_time": "2022-03-10T21:25:17.392Z"
   },
   {
    "duration": 12,
    "start_time": "2022-03-10T21:25:22.916Z"
   },
   {
    "duration": 40,
    "start_time": "2022-03-10T21:25:23.820Z"
   },
   {
    "duration": 599,
    "start_time": "2022-03-10T21:26:26.270Z"
   },
   {
    "duration": 533,
    "start_time": "2022-03-10T21:26:39.264Z"
   },
   {
    "duration": 602,
    "start_time": "2022-03-10T21:27:48.621Z"
   },
   {
    "duration": 741,
    "start_time": "2022-03-10T21:27:57.719Z"
   },
   {
    "duration": 699,
    "start_time": "2022-03-10T21:28:27.822Z"
   },
   {
    "duration": 10,
    "start_time": "2022-03-10T21:33:12.087Z"
   },
   {
    "duration": 4,
    "start_time": "2022-03-10T21:39:29.745Z"
   },
   {
    "duration": 29,
    "start_time": "2022-03-10T21:40:24.914Z"
   },
   {
    "duration": 70,
    "start_time": "2022-03-10T21:40:53.311Z"
   },
   {
    "duration": 24,
    "start_time": "2022-03-10T21:48:22.848Z"
   },
   {
    "duration": 39,
    "start_time": "2022-03-10T21:48:36.357Z"
   },
   {
    "duration": 86,
    "start_time": "2022-03-10T21:51:08.837Z"
   },
   {
    "duration": 24,
    "start_time": "2022-03-10T21:51:42.459Z"
   },
   {
    "duration": 36,
    "start_time": "2022-03-10T21:51:53.039Z"
   },
   {
    "duration": 377,
    "start_time": "2022-03-11T19:05:37.933Z"
   },
   {
    "duration": 1966,
    "start_time": "2022-03-11T19:05:46.934Z"
   },
   {
    "duration": 30,
    "start_time": "2022-03-11T19:05:48.903Z"
   },
   {
    "duration": 14,
    "start_time": "2022-03-11T19:05:48.937Z"
   },
   {
    "duration": 53,
    "start_time": "2022-03-11T19:05:48.954Z"
   },
   {
    "duration": 28,
    "start_time": "2022-03-11T19:05:49.300Z"
   },
   {
    "duration": 14,
    "start_time": "2022-03-11T19:05:50.272Z"
   },
   {
    "duration": 20,
    "start_time": "2022-03-11T19:05:50.720Z"
   },
   {
    "duration": 18,
    "start_time": "2022-03-11T19:05:51.601Z"
   },
   {
    "duration": 23,
    "start_time": "2022-03-11T19:05:52.033Z"
   },
   {
    "duration": 12,
    "start_time": "2022-03-11T19:05:53.360Z"
   },
   {
    "duration": 10,
    "start_time": "2022-03-11T19:05:53.869Z"
   },
   {
    "duration": 10,
    "start_time": "2022-03-11T19:05:57.222Z"
   },
   {
    "duration": 135,
    "start_time": "2022-03-11T19:05:57.732Z"
   },
   {
    "duration": 59,
    "start_time": "2022-03-11T19:05:58.218Z"
   },
   {
    "duration": 69,
    "start_time": "2022-03-11T19:05:58.687Z"
   },
   {
    "duration": 9,
    "start_time": "2022-03-11T19:05:59.809Z"
   },
   {
    "duration": 176,
    "start_time": "2022-03-11T19:06:01.458Z"
   },
   {
    "duration": 47,
    "start_time": "2022-03-11T19:06:03.366Z"
   },
   {
    "duration": 581,
    "start_time": "2022-03-11T19:06:03.982Z"
   },
   {
    "duration": 18,
    "start_time": "2022-03-11T19:06:05.522Z"
   },
   {
    "duration": 42,
    "start_time": "2022-03-11T19:06:06.163Z"
   },
   {
    "duration": 585,
    "start_time": "2022-03-11T19:06:06.954Z"
   },
   {
    "duration": 11,
    "start_time": "2022-03-11T19:06:08.630Z"
   },
   {
    "duration": 4,
    "start_time": "2022-03-11T19:06:11.869Z"
   },
   {
    "duration": 33,
    "start_time": "2022-03-11T19:06:12.897Z"
   },
   {
    "duration": 72,
    "start_time": "2022-03-11T19:06:13.750Z"
   },
   {
    "duration": 24,
    "start_time": "2022-03-11T19:06:15.480Z"
   },
   {
    "duration": 38,
    "start_time": "2022-03-11T19:06:16.242Z"
   },
   {
    "duration": 24,
    "start_time": "2022-03-11T19:06:17.775Z"
   },
   {
    "duration": 36,
    "start_time": "2022-03-11T19:06:18.624Z"
   },
   {
    "duration": 5,
    "start_time": "2022-03-11T19:06:20.354Z"
   },
   {
    "duration": 45,
    "start_time": "2022-03-11T19:07:27.418Z"
   },
   {
    "duration": 101,
    "start_time": "2022-03-11T19:11:44.958Z"
   },
   {
    "duration": 9,
    "start_time": "2022-03-11T19:13:49.544Z"
   },
   {
    "duration": 6,
    "start_time": "2022-03-11T19:14:55.879Z"
   },
   {
    "duration": 4705,
    "start_time": "2022-03-11T19:15:24.785Z"
   },
   {
    "duration": 12,
    "start_time": "2022-03-11T19:15:37.509Z"
   },
   {
    "duration": 5,
    "start_time": "2022-03-11T19:15:39.560Z"
   },
   {
    "duration": 29,
    "start_time": "2022-03-11T19:15:40.965Z"
   },
   {
    "duration": 69,
    "start_time": "2022-03-11T19:15:41.982Z"
   },
   {
    "duration": 24,
    "start_time": "2022-03-11T19:15:43.750Z"
   },
   {
    "duration": 57,
    "start_time": "2022-03-11T19:15:45.873Z"
   },
   {
    "duration": 29,
    "start_time": "2022-03-11T19:15:47.585Z"
   },
   {
    "duration": 49,
    "start_time": "2022-03-11T19:15:48.200Z"
   },
   {
    "duration": 5,
    "start_time": "2022-03-11T19:15:49.571Z"
   },
   {
    "duration": 43,
    "start_time": "2022-03-11T19:15:52.047Z"
   },
   {
    "duration": 10,
    "start_time": "2022-03-11T19:15:54.412Z"
   },
   {
    "duration": 7,
    "start_time": "2022-03-11T19:15:55.947Z"
   },
   {
    "duration": 11,
    "start_time": "2022-03-11T19:18:05.966Z"
   },
   {
    "duration": 8,
    "start_time": "2022-03-11T19:21:07.063Z"
   },
   {
    "duration": 5,
    "start_time": "2022-03-11T21:16:15.811Z"
   },
   {
    "duration": 37,
    "start_time": "2022-03-11T21:16:33.910Z"
   },
   {
    "duration": 34,
    "start_time": "2022-03-11T21:17:35.727Z"
   },
   {
    "duration": 34,
    "start_time": "2022-03-11T21:17:48.127Z"
   },
   {
    "duration": 87,
    "start_time": "2022-03-11T21:20:24.415Z"
   },
   {
    "duration": 1814,
    "start_time": "2022-03-11T21:21:47.166Z"
   },
   {
    "duration": 593,
    "start_time": "2022-03-11T21:23:36.575Z"
   },
   {
    "duration": 27,
    "start_time": "2022-03-11T21:23:37.171Z"
   },
   {
    "duration": 12,
    "start_time": "2022-03-11T21:23:37.931Z"
   },
   {
    "duration": 17,
    "start_time": "2022-03-11T21:23:38.776Z"
   },
   {
    "duration": 33,
    "start_time": "2022-03-11T21:23:39.343Z"
   },
   {
    "duration": 14,
    "start_time": "2022-03-11T21:23:40.440Z"
   },
   {
    "duration": 20,
    "start_time": "2022-03-11T21:23:40.969Z"
   },
   {
    "duration": 23,
    "start_time": "2022-03-11T21:23:42.030Z"
   },
   {
    "duration": 27,
    "start_time": "2022-03-11T21:23:45.846Z"
   },
   {
    "duration": 12,
    "start_time": "2022-03-11T21:23:47.247Z"
   },
   {
    "duration": 10,
    "start_time": "2022-03-11T21:23:47.834Z"
   },
   {
    "duration": 11,
    "start_time": "2022-03-11T21:23:50.836Z"
   },
   {
    "duration": 120,
    "start_time": "2022-03-11T21:23:51.345Z"
   },
   {
    "duration": 58,
    "start_time": "2022-03-11T21:23:51.902Z"
   },
   {
    "duration": 64,
    "start_time": "2022-03-11T21:23:52.472Z"
   },
   {
    "duration": 8,
    "start_time": "2022-03-11T21:23:56.299Z"
   },
   {
    "duration": 171,
    "start_time": "2022-03-11T21:23:58.410Z"
   },
   {
    "duration": 44,
    "start_time": "2022-03-11T21:23:59.408Z"
   },
   {
    "duration": 696,
    "start_time": "2022-03-11T21:23:59.977Z"
   },
   {
    "duration": 13,
    "start_time": "2022-03-11T21:24:00.676Z"
   },
   {
    "duration": 39,
    "start_time": "2022-03-11T21:24:00.950Z"
   },
   {
    "duration": 804,
    "start_time": "2022-03-11T21:24:01.254Z"
   },
   {
    "duration": 22,
    "start_time": "2022-03-11T21:24:02.061Z"
   },
   {
    "duration": 4,
    "start_time": "2022-03-11T21:24:02.859Z"
   },
   {
    "duration": 29,
    "start_time": "2022-03-11T21:24:03.587Z"
   },
   {
    "duration": 68,
    "start_time": "2022-03-11T21:24:03.892Z"
   },
   {
    "duration": 24,
    "start_time": "2022-03-11T21:24:04.514Z"
   },
   {
    "duration": 37,
    "start_time": "2022-03-11T21:24:04.831Z"
   },
   {
    "duration": 24,
    "start_time": "2022-03-11T21:24:05.462Z"
   },
   {
    "duration": 37,
    "start_time": "2022-03-11T21:24:05.968Z"
   },
   {
    "duration": 4,
    "start_time": "2022-03-11T21:24:06.431Z"
   },
   {
    "duration": 48,
    "start_time": "2022-03-11T21:24:06.820Z"
   },
   {
    "duration": 9,
    "start_time": "2022-03-11T21:24:07.206Z"
   },
   {
    "duration": 6,
    "start_time": "2022-03-11T21:24:07.869Z"
   },
   {
    "duration": 4508,
    "start_time": "2022-03-11T21:24:08.131Z"
   },
   {
    "duration": 8,
    "start_time": "2022-03-11T21:24:12.642Z"
   },
   {
    "duration": 5,
    "start_time": "2022-03-11T21:24:16.516Z"
   },
   {
    "duration": 36,
    "start_time": "2022-03-11T21:24:17.431Z"
   },
   {
    "duration": 34,
    "start_time": "2022-03-11T21:24:18.195Z"
   },
   {
    "duration": 33,
    "start_time": "2022-03-11T21:24:18.671Z"
   },
   {
    "duration": 1963,
    "start_time": "2022-03-11T21:25:42.887Z"
   },
   {
    "duration": 1336,
    "start_time": "2022-03-11T21:26:16.225Z"
   },
   {
    "duration": 6,
    "start_time": "2022-03-11T21:28:56.112Z"
   },
   {
    "duration": 611,
    "start_time": "2022-03-11T21:29:09.369Z"
   },
   {
    "duration": 514,
    "start_time": "2022-03-11T21:32:15.884Z"
   },
   {
    "duration": 367,
    "start_time": "2022-03-11T21:32:33.670Z"
   },
   {
    "duration": 1335,
    "start_time": "2022-03-11T21:36:02.543Z"
   },
   {
    "duration": 1374,
    "start_time": "2022-03-11T21:37:18.658Z"
   },
   {
    "duration": 1854,
    "start_time": "2022-03-11T21:37:30.098Z"
   },
   {
    "duration": 1002,
    "start_time": "2022-03-11T21:38:05.778Z"
   },
   {
    "duration": 860,
    "start_time": "2022-03-11T21:38:22.264Z"
   },
   {
    "duration": 1205,
    "start_time": "2022-03-11T21:42:32.914Z"
   },
   {
    "duration": 12,
    "start_time": "2022-03-11T21:49:44.050Z"
   },
   {
    "duration": 13,
    "start_time": "2022-03-11T21:51:52.317Z"
   },
   {
    "duration": 7,
    "start_time": "2022-03-11T21:53:41.831Z"
   },
   {
    "duration": 90,
    "start_time": "2022-03-11T21:54:23.250Z"
   },
   {
    "duration": 102,
    "start_time": "2022-03-11T21:54:47.413Z"
   },
   {
    "duration": 88,
    "start_time": "2022-03-11T22:11:51.117Z"
   },
   {
    "duration": 2028,
    "start_time": "2022-03-11T22:29:06.381Z"
   },
   {
    "duration": 26,
    "start_time": "2022-03-11T22:29:08.412Z"
   },
   {
    "duration": 32,
    "start_time": "2022-03-11T22:29:08.442Z"
   },
   {
    "duration": 16,
    "start_time": "2022-03-11T22:29:08.477Z"
   },
   {
    "duration": 36,
    "start_time": "2022-03-11T22:29:08.495Z"
   },
   {
    "duration": 40,
    "start_time": "2022-03-11T22:29:08.533Z"
   },
   {
    "duration": 19,
    "start_time": "2022-03-11T22:29:08.576Z"
   },
   {
    "duration": 17,
    "start_time": "2022-03-11T22:29:08.600Z"
   },
   {
    "duration": 56,
    "start_time": "2022-03-11T22:29:08.620Z"
   },
   {
    "duration": 11,
    "start_time": "2022-03-11T22:29:08.679Z"
   },
   {
    "duration": 12,
    "start_time": "2022-03-11T22:29:08.693Z"
   },
   {
    "duration": 15,
    "start_time": "2022-03-11T22:29:08.708Z"
   },
   {
    "duration": 166,
    "start_time": "2022-03-11T22:29:08.725Z"
   },
   {
    "duration": 58,
    "start_time": "2022-03-11T22:29:08.893Z"
   },
   {
    "duration": 80,
    "start_time": "2022-03-11T22:29:08.953Z"
   },
   {
    "duration": 8,
    "start_time": "2022-03-11T22:29:09.036Z"
   },
   {
    "duration": 199,
    "start_time": "2022-03-11T22:29:09.047Z"
   },
   {
    "duration": 54,
    "start_time": "2022-03-11T22:29:09.248Z"
   },
   {
    "duration": 591,
    "start_time": "2022-03-11T22:29:09.305Z"
   },
   {
    "duration": 18,
    "start_time": "2022-03-11T22:29:09.898Z"
   },
   {
    "duration": 58,
    "start_time": "2022-03-11T22:29:09.919Z"
   },
   {
    "duration": 607,
    "start_time": "2022-03-11T22:29:09.979Z"
   },
   {
    "duration": 11,
    "start_time": "2022-03-11T22:29:10.591Z"
   },
   {
    "duration": 4,
    "start_time": "2022-03-11T22:29:10.606Z"
   },
   {
    "duration": 36,
    "start_time": "2022-03-11T22:29:10.612Z"
   },
   {
    "duration": 89,
    "start_time": "2022-03-11T22:29:10.650Z"
   },
   {
    "duration": 45,
    "start_time": "2022-03-11T22:29:10.741Z"
   },
   {
    "duration": 39,
    "start_time": "2022-03-11T22:29:10.788Z"
   },
   {
    "duration": 43,
    "start_time": "2022-03-11T22:29:10.830Z"
   },
   {
    "duration": 36,
    "start_time": "2022-03-11T22:29:10.876Z"
   },
   {
    "duration": 4,
    "start_time": "2022-03-11T22:29:10.915Z"
   },
   {
    "duration": 76,
    "start_time": "2022-03-11T22:29:10.922Z"
   },
   {
    "duration": 9,
    "start_time": "2022-03-11T22:29:11.000Z"
   },
   {
    "duration": 8,
    "start_time": "2022-03-11T22:29:11.012Z"
   },
   {
    "duration": 4572,
    "start_time": "2022-03-11T22:29:11.022Z"
   },
   {
    "duration": 9,
    "start_time": "2022-03-11T22:29:15.596Z"
   },
   {
    "duration": 4,
    "start_time": "2022-03-11T22:29:15.607Z"
   },
   {
    "duration": 65,
    "start_time": "2022-03-11T22:29:15.614Z"
   },
   {
    "duration": 33,
    "start_time": "2022-03-11T22:29:15.681Z"
   },
   {
    "duration": 66,
    "start_time": "2022-03-11T22:29:15.716Z"
   },
   {
    "duration": 960,
    "start_time": "2022-03-11T22:29:15.784Z"
   },
   {
    "duration": 834,
    "start_time": "2022-03-11T22:29:16.747Z"
   },
   {
    "duration": 1217,
    "start_time": "2022-03-11T22:29:17.584Z"
   },
   {
    "duration": 12,
    "start_time": "2022-03-11T22:29:18.803Z"
   },
   {
    "duration": 12,
    "start_time": "2022-03-11T22:29:18.817Z"
   },
   {
    "duration": 44,
    "start_time": "2022-03-11T22:29:18.832Z"
   },
   {
    "duration": 1780,
    "start_time": "2022-03-23T11:39:36.293Z"
   },
   {
    "duration": 18,
    "start_time": "2022-03-23T11:39:38.076Z"
   },
   {
    "duration": 17,
    "start_time": "2022-03-23T11:39:38.350Z"
   },
   {
    "duration": 13,
    "start_time": "2022-03-23T11:39:38.522Z"
   },
   {
    "duration": 30,
    "start_time": "2022-03-23T11:39:39.049Z"
   },
   {
    "duration": 13,
    "start_time": "2022-03-23T11:39:40.146Z"
   },
   {
    "duration": 20,
    "start_time": "2022-03-23T11:39:40.684Z"
   },
   {
    "duration": 13,
    "start_time": "2022-03-23T11:39:41.854Z"
   },
   {
    "duration": 22,
    "start_time": "2022-03-23T11:39:42.431Z"
   },
   {
    "duration": 9,
    "start_time": "2022-03-23T11:39:43.644Z"
   },
   {
    "duration": 15,
    "start_time": "2022-03-23T11:39:44.258Z"
   },
   {
    "duration": 8,
    "start_time": "2022-03-23T11:39:50.961Z"
   },
   {
    "duration": 123,
    "start_time": "2022-03-23T11:39:51.171Z"
   },
   {
    "duration": 53,
    "start_time": "2022-03-23T11:39:51.440Z"
   },
   {
    "duration": 51,
    "start_time": "2022-03-23T11:39:51.661Z"
   },
   {
    "duration": 6,
    "start_time": "2022-03-23T11:39:52.094Z"
   },
   {
    "duration": 136,
    "start_time": "2022-03-23T11:39:52.749Z"
   },
   {
    "duration": 49,
    "start_time": "2022-03-23T11:39:57.545Z"
   },
   {
    "duration": 250,
    "start_time": "2022-03-23T11:39:58.229Z"
   },
   {
    "duration": 12,
    "start_time": "2022-03-23T11:40:00.150Z"
   },
   {
    "duration": 34,
    "start_time": "2022-03-23T11:40:00.403Z"
   },
   {
    "duration": 224,
    "start_time": "2022-03-23T11:40:00.731Z"
   },
   {
    "duration": 9,
    "start_time": "2022-03-23T11:40:02.656Z"
   },
   {
    "duration": 3,
    "start_time": "2022-03-23T11:40:03.834Z"
   },
   {
    "duration": 33,
    "start_time": "2022-03-23T11:40:04.835Z"
   },
   {
    "duration": 48,
    "start_time": "2022-03-23T11:40:05.047Z"
   },
   {
    "duration": 16,
    "start_time": "2022-03-23T11:40:05.741Z"
   },
   {
    "duration": 29,
    "start_time": "2022-03-23T11:40:06.243Z"
   },
   {
    "duration": 22,
    "start_time": "2022-03-23T11:40:06.953Z"
   },
   {
    "duration": 34,
    "start_time": "2022-03-23T11:40:07.180Z"
   },
   {
    "duration": 4,
    "start_time": "2022-03-23T11:40:08.625Z"
   },
   {
    "duration": 45,
    "start_time": "2022-03-23T11:40:09.630Z"
   },
   {
    "duration": 8,
    "start_time": "2022-03-23T11:40:10.794Z"
   },
   {
    "duration": 6,
    "start_time": "2022-03-23T11:40:11.784Z"
   },
   {
    "duration": 134,
    "start_time": "2022-03-23T11:40:19.841Z"
   },
   {
    "duration": 387,
    "start_time": "2022-03-23T11:42:23.868Z"
   },
   {
    "duration": 4,
    "start_time": "2022-03-23T11:42:34.279Z"
   },
   {
    "duration": 2206,
    "start_time": "2022-03-23T11:42:36.321Z"
   },
   {
    "duration": 10,
    "start_time": "2022-03-23T11:44:28.128Z"
   },
   {
    "duration": 4,
    "start_time": "2022-03-23T11:44:40.428Z"
   },
   {
    "duration": 24,
    "start_time": "2022-03-23T11:44:45.663Z"
   },
   {
    "duration": 22,
    "start_time": "2022-03-23T11:44:51.951Z"
   },
   {
    "duration": 25,
    "start_time": "2022-03-23T11:44:55.600Z"
   },
   {
    "duration": 516,
    "start_time": "2022-03-23T11:45:21.257Z"
   },
   {
    "duration": 387,
    "start_time": "2022-03-23T11:45:42.823Z"
   },
   {
    "duration": 568,
    "start_time": "2022-03-23T11:46:04.000Z"
   },
   {
    "duration": 2715,
    "start_time": "2022-03-23T18:14:23.933Z"
   },
   {
    "duration": 33,
    "start_time": "2022-03-23T18:14:26.651Z"
   },
   {
    "duration": 16,
    "start_time": "2022-03-23T18:14:26.686Z"
   },
   {
    "duration": 28,
    "start_time": "2022-03-23T18:14:26.705Z"
   },
   {
    "duration": 55,
    "start_time": "2022-03-23T18:14:26.737Z"
   },
   {
    "duration": 25,
    "start_time": "2022-03-23T18:14:26.796Z"
   },
   {
    "duration": 28,
    "start_time": "2022-03-23T18:14:26.825Z"
   },
   {
    "duration": 26,
    "start_time": "2022-03-23T18:14:27.345Z"
   },
   {
    "duration": 30,
    "start_time": "2022-03-23T18:14:27.374Z"
   },
   {
    "duration": 13,
    "start_time": "2022-03-23T18:14:27.764Z"
   },
   {
    "duration": 19,
    "start_time": "2022-03-23T18:14:27.964Z"
   },
   {
    "duration": 8,
    "start_time": "2022-03-23T18:14:29.165Z"
   },
   {
    "duration": 199,
    "start_time": "2022-03-23T18:14:29.367Z"
   },
   {
    "duration": 70,
    "start_time": "2022-03-23T18:14:29.577Z"
   },
   {
    "duration": 76,
    "start_time": "2022-03-23T18:14:30.016Z"
   },
   {
    "duration": 8,
    "start_time": "2022-03-23T18:14:30.605Z"
   },
   {
    "duration": 193,
    "start_time": "2022-03-23T18:14:31.447Z"
   },
   {
    "duration": 40,
    "start_time": "2022-03-23T18:14:32.762Z"
   },
   {
    "duration": 494,
    "start_time": "2022-03-23T18:14:32.981Z"
   },
   {
    "duration": 18,
    "start_time": "2022-03-23T18:14:34.355Z"
   },
   {
    "duration": 39,
    "start_time": "2022-03-23T18:14:51.960Z"
   },
   {
    "duration": 365,
    "start_time": "2022-03-23T18:14:52.160Z"
   },
   {
    "duration": 11,
    "start_time": "2022-03-23T18:14:53.130Z"
   },
   {
    "duration": 4,
    "start_time": "2022-03-23T18:14:54.249Z"
   },
   {
    "duration": 31,
    "start_time": "2022-03-23T18:14:56.120Z"
   },
   {
    "duration": 66,
    "start_time": "2022-03-23T18:14:56.153Z"
   },
   {
    "duration": 21,
    "start_time": "2022-03-23T18:14:56.303Z"
   },
   {
    "duration": 37,
    "start_time": "2022-03-23T18:14:56.489Z"
   },
   {
    "duration": 23,
    "start_time": "2022-03-23T18:14:56.916Z"
   },
   {
    "duration": 32,
    "start_time": "2022-03-23T18:14:57.111Z"
   },
   {
    "duration": 6,
    "start_time": "2022-03-23T18:14:57.782Z"
   },
   {
    "duration": 45,
    "start_time": "2022-03-23T18:14:58.264Z"
   },
   {
    "duration": 9,
    "start_time": "2022-03-23T18:14:58.727Z"
   },
   {
    "duration": 6,
    "start_time": "2022-03-23T18:14:59.208Z"
   },
   {
    "duration": 4015,
    "start_time": "2022-03-23T18:14:59.671Z"
   },
   {
    "duration": 134,
    "start_time": "2022-03-23T18:33:38.210Z"
   },
   {
    "duration": 1936,
    "start_time": "2022-03-23T18:34:06.168Z"
   },
   {
    "duration": 27,
    "start_time": "2022-03-23T18:34:08.108Z"
   },
   {
    "duration": 16,
    "start_time": "2022-03-23T18:34:08.138Z"
   },
   {
    "duration": 39,
    "start_time": "2022-03-23T18:34:08.157Z"
   },
   {
    "duration": 36,
    "start_time": "2022-03-23T18:34:08.198Z"
   },
   {
    "duration": 14,
    "start_time": "2022-03-23T18:34:08.236Z"
   },
   {
    "duration": 28,
    "start_time": "2022-03-23T18:34:08.282Z"
   },
   {
    "duration": 18,
    "start_time": "2022-03-23T18:34:08.313Z"
   },
   {
    "duration": 58,
    "start_time": "2022-03-23T18:34:08.333Z"
   },
   {
    "duration": 12,
    "start_time": "2022-03-23T18:34:08.396Z"
   },
   {
    "duration": 15,
    "start_time": "2022-03-23T18:34:08.410Z"
   },
   {
    "duration": 10,
    "start_time": "2022-03-23T18:34:08.428Z"
   },
   {
    "duration": 181,
    "start_time": "2022-03-23T18:34:08.441Z"
   },
   {
    "duration": 82,
    "start_time": "2022-03-23T18:34:08.624Z"
   },
   {
    "duration": 83,
    "start_time": "2022-03-23T18:34:08.708Z"
   },
   {
    "duration": 7,
    "start_time": "2022-03-23T18:34:08.793Z"
   },
   {
    "duration": 193,
    "start_time": "2022-03-23T18:34:08.802Z"
   },
   {
    "duration": 41,
    "start_time": "2022-03-23T18:34:08.997Z"
   },
   {
    "duration": 414,
    "start_time": "2022-03-23T18:34:09.040Z"
   },
   {
    "duration": 26,
    "start_time": "2022-03-23T18:34:09.457Z"
   },
   {
    "duration": 37,
    "start_time": "2022-03-23T18:34:09.485Z"
   },
   {
    "duration": 385,
    "start_time": "2022-03-23T18:34:09.524Z"
   },
   {
    "duration": 11,
    "start_time": "2022-03-23T18:34:09.911Z"
   },
   {
    "duration": 5,
    "start_time": "2022-03-23T18:34:09.924Z"
   },
   {
    "duration": 62,
    "start_time": "2022-03-23T18:34:09.931Z"
   },
   {
    "duration": 70,
    "start_time": "2022-03-23T18:34:09.995Z"
   },
   {
    "duration": 22,
    "start_time": "2022-03-23T18:34:10.082Z"
   },
   {
    "duration": 38,
    "start_time": "2022-03-23T18:34:10.109Z"
   },
   {
    "duration": 42,
    "start_time": "2022-03-23T18:34:10.150Z"
   },
   {
    "duration": 33,
    "start_time": "2022-03-23T18:34:10.194Z"
   },
   {
    "duration": 4,
    "start_time": "2022-03-23T18:34:10.229Z"
   },
   {
    "duration": 73,
    "start_time": "2022-03-23T18:34:10.235Z"
   },
   {
    "duration": 7,
    "start_time": "2022-03-23T18:34:10.310Z"
   },
   {
    "duration": 10,
    "start_time": "2022-03-23T18:34:10.319Z"
   },
   {
    "duration": 3803,
    "start_time": "2022-03-23T18:34:10.331Z"
   },
   {
    "duration": 11,
    "start_time": "2022-03-23T18:34:14.137Z"
   },
   {
    "duration": 5,
    "start_time": "2022-03-23T18:34:14.150Z"
   },
   {
    "duration": 48,
    "start_time": "2022-03-23T18:34:14.157Z"
   },
   {
    "duration": 29,
    "start_time": "2022-03-23T18:34:14.207Z"
   },
   {
    "duration": 59,
    "start_time": "2022-03-23T18:34:14.238Z"
   },
   {
    "duration": 670,
    "start_time": "2022-03-23T18:34:14.299Z"
   },
   {
    "duration": 583,
    "start_time": "2022-03-23T18:34:14.972Z"
   },
   {
    "duration": 817,
    "start_time": "2022-03-23T18:34:15.558Z"
   },
   {
    "duration": 12,
    "start_time": "2022-03-23T18:34:16.377Z"
   },
   {
    "duration": 39,
    "start_time": "2022-03-23T18:34:16.391Z"
   },
   {
    "duration": 20,
    "start_time": "2022-03-23T18:34:16.432Z"
   },
   {
    "duration": 27,
    "start_time": "2022-03-23T18:34:16.455Z"
   },
   {
    "duration": 8,
    "start_time": "2022-03-23T18:35:22.389Z"
   },
   {
    "duration": 142,
    "start_time": "2022-03-23T18:35:45.147Z"
   },
   {
    "duration": 7,
    "start_time": "2022-03-23T18:36:06.959Z"
   },
   {
    "duration": 7,
    "start_time": "2022-03-23T18:36:41.566Z"
   }
  ],
  "kernelspec": {
   "display_name": "Python 3 (ipykernel)",
   "language": "python",
   "name": "python3"
  },
  "language_info": {
   "codemirror_mode": {
    "name": "ipython",
    "version": 3
   },
   "file_extension": ".py",
   "mimetype": "text/x-python",
   "name": "python",
   "nbconvert_exporter": "python",
   "pygments_lexer": "ipython3",
   "version": "3.9.7"
  },
  "toc": {
   "base_numbering": 1,
   "nav_menu": {
    "height": "214px",
    "width": "286px"
   },
   "number_sections": true,
   "sideBar": true,
   "skip_h1_title": true,
   "title_cell": "Table of Contents",
   "title_sidebar": "Contents",
   "toc_cell": false,
   "toc_position": {
    "height": "calc(100% - 180px)",
    "left": "10px",
    "top": "150px",
    "width": "165px"
   },
   "toc_section_display": true,
   "toc_window_display": true
  }
 },
 "nbformat": 4,
 "nbformat_minor": 2
}
