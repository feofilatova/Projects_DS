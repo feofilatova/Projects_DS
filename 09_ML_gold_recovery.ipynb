{
 "cells": [
  {
   "cell_type": "markdown",
   "id": "48b2a88a",
   "metadata": {},
   "source": [
    "# Предсказание коэффициента восстановления золота из золотосодержащей руды"
   ]
  },
  {
   "cell_type": "markdown",
   "id": "69d18aa8",
   "metadata": {},
   "source": [
    "## Описание проекта.\n",
    "\n",
    "Необходимо подготовить прототип модели машинного обучения для «Цифры». Компания разрабатывает решения для эффективной работы промышленных предприятий.\n",
    "\n",
    "Модель должна предсказать коэффициент восстановления золота из золотосодержащей руды. В нашем распоряжении данные с параметрами добычи и очистки.\n",
    "\n",
    "Модель поможет оптимизировать производство, чтобы не запускать предприятие с убыточными характеристиками.\n",
    "Нам нужно:\n",
    "* Подготовить данные\n",
    "* Провести исследовательский анализ данных\n",
    "* Построить и обучить модель\n",
    "\n",
    "Целевыми признаками для нас будут эффективность обогащения чернового концентрата - rougher.output.recovery\n",
    "и эффективность обогащения финального кнцентрата - final.output.recovery\n"
   ]
  },
  {
   "cell_type": "markdown",
   "id": "37fedef2",
   "metadata": {},
   "source": [
    "***Технологический процесс получения золота.***"
   ]
  },
  {
   "cell_type": "markdown",
   "id": "f5d03d60",
   "metadata": {},
   "source": [
    "<img src=\"https://pictures.s3.yandex.net/resources/viruchka_1576238830.jpg\" title=\"Технологический процесс получения золота.\"/>"
   ]
  },
  {
   "cell_type": "markdown",
   "id": "e2f2ec30",
   "metadata": {},
   "source": [
    "Смесь золотоносной руды подаётся во флотационную установку. После обогащения получается черновой концентрат и «отвальные хвосты», то есть остатки продукта с низкой концентрацией ценных металлов. На стабильность этого процесса влияет непостоянное и неоптимальное физико-химическое состояние флотационной пульпы (смеси твёрдых частиц и жидкости). Черновой концентрат проходит два этапа очистки. На выходе получается финальный концентрат и новые отвальные хвосты."
   ]
  },
  {
   "cell_type": "markdown",
   "id": "391ac2f8",
   "metadata": {},
   "source": [
    "## Шаг 1. Откроем файлы с данными, изучим общую информацию, сделаем предобработку данных."
   ]
  },
  {
   "cell_type": "code",
   "execution_count": null,
   "id": "7a55e02a",
   "metadata": {},
   "outputs": [],
   "source": [
    "import pandas as pd\n",
    "import numpy as np\n",
    "import matplotlib.pyplot as plt\n",
    "import seaborn as sns\n",
    "from sklearn.metrics import mean_absolute_error\n",
    "from sklearn.linear_model import LinearRegression\n",
    "from sklearn.tree import DecisionTreeRegressor\n",
    "from sklearn.ensemble import RandomForestRegressor\n",
    "from sklearn.model_selection import train_test_split, GridSearchCV, cross_val_score\n",
    "from sklearn.metrics import mean_squared_error\n",
    "from sklearn.metrics import make_scorer\n",
    "import warnings\n",
    "warnings.filterwarnings('ignore')"
   ]
  },
  {
   "cell_type": "markdown",
   "id": "60905e3a",
   "metadata": {},
   "source": [
    "Посмотрим на обучающую выборку."
   ]
  },
  {
   "cell_type": "code",
   "execution_count": null,
   "id": "87a9674d",
   "metadata": {},
   "outputs": [],
   "source": [
    "train_sample = pd.read_csv('gold_recovery_train_new.csv')\n",
    "train_sample.head()"
   ]
  },
  {
   "cell_type": "code",
   "execution_count": null,
   "id": "20442c8d",
   "metadata": {},
   "outputs": [],
   "source": [
    "train_sample.info()"
   ]
  },
  {
   "cell_type": "markdown",
   "id": "f4da680a",
   "metadata": {},
   "source": [
    "Обучающая выборка обладает 87 признаками - 1 - это дата по часам, 86 - производственные характеристики."
   ]
  },
  {
   "cell_type": "markdown",
   "id": "90224923",
   "metadata": {},
   "source": [
    "Такое количество обусловлено тем, что технология производства золота делится на 4 этапа:\n",
    "\n",
    "* rougher - флотация;\n",
    "* primary_cleaner — первичная очистка\n",
    "* secondary_cleaner — вторичная очистка\n",
    "* final — характеристики конечного продукта.\n",
    "\n",
    "Каждый этап производства золота, в свою очередь, обладает своими типами параметров, их тоже четыре:\n",
    "\n",
    "* input — параметры сырья;\n",
    "* output — параметры продукта;\n",
    "* state — параметры, характеризующие текущее состояние этапа;\n",
    "* calculation — расчётные характеристики.\n",
    "\n",
    "Каждый тип параметров включает в себя уже конкретные параметры, которые выражают определенные производственные характеристики, их много, поэтому весь список приводить не будем."
   ]
  },
  {
   "cell_type": "markdown",
   "id": "bd069153",
   "metadata": {},
   "source": [
    "Пример: rougher.input.feed_au - доля золота в руде до осуществления флотации, а rougher.output.concentrate_au - доля золота в концентрате после флотации.\n",
    "\n",
    "Также обращает на себя внимание большое количество пропусков в данных, и во многих столбцах количество пропущенных значений различается. Кроме того, самое большое количество пропусков в выходных значениях содержания золота в хвостах после флотации (rougher.output.tail_au) и в эффективности обогащения чернового концентрата - rougher.output.recovery."
   ]
  },
  {
   "cell_type": "markdown",
   "id": "c09866ab",
   "metadata": {},
   "source": [
    "Далее посмотрим на тестовую выборку."
   ]
  },
  {
   "cell_type": "code",
   "execution_count": null,
   "id": "211c83db",
   "metadata": {},
   "outputs": [],
   "source": [
    "test_sample = pd.read_csv('gold_recovery_test_new.csv')\n",
    "test_sample.head()"
   ]
  },
  {
   "cell_type": "code",
   "execution_count": null,
   "id": "3552902c",
   "metadata": {},
   "outputs": [],
   "source": [
    "test_sample.info()"
   ]
  },
  {
   "cell_type": "markdown",
   "id": "f5d5a0a9",
   "metadata": {},
   "source": [
    "Здесь мы видим меньшее количество признаков и гораздо меньшее количество пропусков."
   ]
  },
  {
   "cell_type": "markdown",
   "id": "bf5a2a15",
   "metadata": {},
   "source": [
    "Далее посмотрим на исходные данные."
   ]
  },
  {
   "cell_type": "code",
   "execution_count": null,
   "id": "fd2062ba",
   "metadata": {},
   "outputs": [],
   "source": [
    "full_data = pd.read_csv('gold_recovery_full_new.csv')\n",
    "full_data.head()"
   ]
  },
  {
   "cell_type": "code",
   "execution_count": null,
   "id": "7fc0e070",
   "metadata": {},
   "outputs": [],
   "source": [
    "full_data.info()"
   ]
  },
  {
   "cell_type": "markdown",
   "id": "02549543",
   "metadata": {},
   "source": [
    "Признаков также, как и в тестовой выборке 87. \n",
    "Проверим, что названия столбцов в обучающей выборке соответствуют исходным данным."
   ]
  },
  {
   "cell_type": "code",
   "execution_count": null,
   "id": "7057199b",
   "metadata": {},
   "outputs": [],
   "source": [
    "full_data.columns == train_sample.columns"
   ]
  },
  {
   "cell_type": "markdown",
   "id": "e91ac6fd",
   "metadata": {},
   "source": [
    "Итак, мы здесь видим полное соответствие названий."
   ]
  },
  {
   "cell_type": "markdown",
   "id": "e8e33bb0",
   "metadata": {},
   "source": [
    "Сумма значений rougher.input.feed_au в обучающей выборке (14149) и в тестовой (5290) равно количеству значений в исходных данных (19439). То есть, по всей видимости, заполнить пропуски значениями из исходных данных в обучающей выборке у нас не получится."
   ]
  },
  {
   "cell_type": "markdown",
   "id": "2d2f4166",
   "metadata": {},
   "source": [
    "### Проверим эффективности обогащения."
   ]
  },
  {
   "cell_type": "markdown",
   "id": "581cdefb",
   "metadata": {},
   "source": [
    "Проверим, верно ли рассчитана эффективность обогащения чернового концентрата rougher.output.recovery.\n",
    "\n",
    "Для этого возьмем обучающую выборку, самостоятельно рассчитаем этот коэффициент по формуле и найдем среднее абсолютное отклонение (МАЕ) между расчетами и фактическими значениями.\n",
    "\n",
    "Создадим датафрейм для проверки только с необходимыми признаками."
   ]
  },
  {
   "cell_type": "code",
   "execution_count": null,
   "id": "e3a40058",
   "metadata": {},
   "outputs": [],
   "source": [
    "recovery_check_data = train_sample[['date', 'rougher.output.concentrate_au', 'rougher.input.feed_au',\n",
    "                                   'rougher.output.tail_au', 'rougher.output.recovery' ]]\n",
    "recovery_check_data.info()"
   ]
  },
  {
   "cell_type": "markdown",
   "id": "3b4d4de5",
   "metadata": {},
   "source": [
    "Создадим функцию для расчета эффективности.\n",
    "Эффективность обогащения рассчитывается по формуле:"
   ]
  },
  {
   "cell_type": "markdown",
   "id": "06902cce",
   "metadata": {},
   "source": [
    "<img src=\"https://pictures.s3.yandex.net/resources/Recovery_1576238822.jpg\" title=\"Эффективность обогащения\"/>"
   ]
  },
  {
   "cell_type": "markdown",
   "id": "b1c80db6",
   "metadata": {},
   "source": [
    "где:\n",
    "* C — доля золота в концентрате после флотации/очистки;\n",
    "* F — доля золота в сырье/концентрате до флотации/очистки;\n",
    "* T — доля золота в отвальных хвостах после флотации/очистки."
   ]
  },
  {
   "cell_type": "code",
   "execution_count": null,
   "id": "420a657e",
   "metadata": {},
   "outputs": [],
   "source": [
    "def check_rougher_output_recovery(row):\n",
    "    \n",
    "    C = row['rougher.output.concentrate_au']\n",
    "    F = row['rougher.input.feed_au']\n",
    "    T = row['rougher.output.tail_au']\n",
    "    \n",
    "    if F * (C - T) == 0:\n",
    "        return\n",
    "    else: \n",
    "        recovery = (C * (F - T)) / (F * (C - T)) * 100\n",
    "        \n",
    "        return recovery"
   ]
  },
  {
   "cell_type": "code",
   "execution_count": null,
   "id": "d6ed5c21",
   "metadata": {},
   "outputs": [],
   "source": [
    "recovery_check_data['check_rougher_recovery'] = recovery_check_data.apply(check_rougher_output_recovery, axis = 1)\n",
    "mean_absolute_error(recovery_check_data['rougher.output.recovery'],recovery_check_data['check_rougher_recovery'] )"
   ]
  },
  {
   "cell_type": "markdown",
   "id": "3430f712",
   "metadata": {},
   "source": [
    "Итак, МАЕ находится на очень низком уровне, что говорит о том, что фактические данные об эффективности обогащения чернового концентрата в обучающей выборке рассчитаны верно. Значит, мы можем доверять фактическом коэффициенту."
   ]
  },
  {
   "cell_type": "markdown",
   "id": "a1abc6a7",
   "metadata": {},
   "source": [
    "### Анализ признаков тестовой выборки."
   ]
  },
  {
   "cell_type": "markdown",
   "id": "2a349577",
   "metadata": {},
   "source": [
    "Выясним, какие из признаков, которые есть в исходных данных, отсутствуют в тестовой выборке. Для ответа на этот вопрос сравним множества признаков двух датасетов."
   ]
  },
  {
   "cell_type": "code",
   "execution_count": null,
   "id": "adab2972",
   "metadata": {},
   "outputs": [],
   "source": [
    "set(train_sample.columns) ^ set(test_sample.columns)"
   ]
  },
  {
   "cell_type": "markdown",
   "id": "1d84de46",
   "metadata": {},
   "source": [
    "Здесь мы видим, что в тестовой выборке отсутствуют признаки со следующими типами параметров:\n",
    "\n",
    "* calculation - то есть расчетные характеристики;\n",
    "* output - параметры выходного продукта на каждой стадии.\n",
    "\n",
    "Другими словами, тестовая выборка содержит только типы параметров:\n",
    "\n",
    "* input - параметры сырья;\n",
    "* state - параметры, характеризующие текущее состояние этапа."
   ]
  },
  {
   "cell_type": "markdown",
   "id": "ee0712f3",
   "metadata": {},
   "source": [
    "### Предобработка данных."
   ]
  },
  {
   "cell_type": "markdown",
   "id": "911b9b6d",
   "metadata": {},
   "source": [
    "Начнем с индексации. При описани данных нам дали подсказку о том, что данные индексируются датой и временем получения информации. Возможно, мы можем сделать столбец 'date' индексом. Убедимся, что в каждом датасете значения в этом столбце уникальны."
   ]
  },
  {
   "cell_type": "code",
   "execution_count": null,
   "id": "d5a31d23",
   "metadata": {},
   "outputs": [],
   "source": [
    "dfs = [train_sample, test_sample, full_data]\n",
    "for df in dfs:\n",
    "    display(df['date'].value_counts())"
   ]
  },
  {
   "cell_type": "markdown",
   "id": "faeff81a",
   "metadata": {},
   "source": [
    "Видим, что все значения даты уникальны и мы можем сделать этот столбец индексом."
   ]
  },
  {
   "cell_type": "code",
   "execution_count": null,
   "id": "e138fed3",
   "metadata": {},
   "outputs": [],
   "source": [
    "train_sample = train_sample.set_index('date')\n",
    "test_sample = test_sample.set_index('date')\n",
    "full_data = full_data.set_index('date')"
   ]
  },
  {
   "cell_type": "markdown",
   "id": "8531ced1",
   "metadata": {},
   "source": [
    "Проверим, не содержат ли наши данные дубликатов."
   ]
  },
  {
   "cell_type": "code",
   "execution_count": null,
   "id": "9230088d",
   "metadata": {},
   "outputs": [],
   "source": [
    "for df in dfs:\n",
    "    display(df[df.duplicated()])"
   ]
  },
  {
   "cell_type": "markdown",
   "id": "c4139ba5",
   "metadata": {},
   "source": [
    "Дубликатов не выявлено.\n",
    "\n",
    "Теперь самая главная проблема - большое количество пропусков, принимая во внимание тот факт, что у нас есть два целевых признака - rougher.output.recovery и final.output.recovery, выглядит опасным заполнять какими-либо данными признаки, которые непосредственно влияют на целевые признаки, так как, на наш взгляд, это будет похоже на то, что мы немного \"сочиним\" ответы, что приведет к некорректному анализу.\n",
    "\n",
    "Поэтому наблюдения с пропусками в признаках, которые непосредственно влияют на rougher.output.recovery (группа признаков rougher.output) и на final.output.recovery (группа признаков final.output) решено удалить."
   ]
  },
  {
   "cell_type": "markdown",
   "id": "7576d910",
   "metadata": {},
   "source": [
    "Найдем названия этих столбцов и сохраним в массив."
   ]
  },
  {
   "cell_type": "code",
   "execution_count": null,
   "id": "626b4d5c",
   "metadata": {},
   "outputs": [],
   "source": [
    "output_arrays = (list(full_data.filter(regex=(\"final.output.\")).columns) +\n",
    "                list(full_data.filter(regex=(\"rougher.output.\")).columns))\n",
    "output_arrays"
   ]
  },
  {
   "cell_type": "markdown",
   "id": "a1c8b160",
   "metadata": {},
   "source": [
    "Итак, у нас есть массив с названия столбцов, которые выражают характеристики выхода продукции - на этапе флотации и после вторичной очистки.\n",
    "\n",
    "Значит, из наших датасетов будем удалять строки с пропусками в этих столбцах.\n",
    "\n",
    "ЧТо касается остальных признаков, то в описании данных также содержится подсказка о том, что соседние по времени данные часто похожи. Попробуем опереться на нее и заполнить такие пропуски последним наблюдаемым значением. Для этого выберем метод ffill в функции fillna().\n",
    "\n",
    "Сделаем это для train_sample и full_data."
   ]
  },
  {
   "cell_type": "code",
   "execution_count": null,
   "id": "282f7d2e",
   "metadata": {},
   "outputs": [],
   "source": [
    "train_sample = train_sample.dropna(subset=output_arrays).fillna(method='ffill')\n",
    "train_sample.info()"
   ]
  },
  {
   "cell_type": "code",
   "execution_count": null,
   "id": "183bfab7",
   "metadata": {},
   "outputs": [],
   "source": [
    "full_data = full_data.dropna(subset=output_arrays).fillna(method='ffill')\n",
    "full_data.info()"
   ]
  },
  {
   "cell_type": "markdown",
   "id": "83ffec1e",
   "metadata": {},
   "source": [
    "Для тестовой выборки просто заполним пропуски методом ffill, поскольку она не имеет характеристик выхода продукта."
   ]
  },
  {
   "cell_type": "code",
   "execution_count": null,
   "id": "b210ab4b",
   "metadata": {},
   "outputs": [],
   "source": [
    "test_sample = test_sample.fillna(method='ffill')\n",
    "test_sample.info()"
   ]
  },
  {
   "cell_type": "markdown",
   "id": "917bd740",
   "metadata": {},
   "source": [
    "В конце взглянем на итоговую описательную статистику."
   ]
  },
  {
   "cell_type": "code",
   "execution_count": null,
   "id": "f261ef7e",
   "metadata": {},
   "outputs": [],
   "source": [
    "full_data[['rougher.input.feed_au','rougher.input.feed_size','rougher.output.concentrate_au',\n",
    "             'rougher.output.tail_au', 'rougher.output.recovery',\n",
    "              'primary_cleaner.output.concentrate_au','primary_cleaner.output.tail_au', \n",
    "              'secondary_cleaner.output.tail_au', 'final.output.concentrate_au',\n",
    "         'final.output.tail_au', 'final.output.recovery']].describe().T"
   ]
  },
  {
   "cell_type": "markdown",
   "id": "1cf6b773",
   "metadata": {},
   "source": [
    "В таблице настораживают 2 момента - в столбцах rougher.output.recovery и final.output.recovery есть значения с 0 и 100 - то есть когда металл был восстановлен из сырья полностью и вообще не восстановлен.\n",
    "\n",
    "Нулевая эффективность может быть, когда концентрат равен нулю, а 100% - когда нулю равны соответствующие хвосты.\n",
    "\n",
    "Проверим, выполняются ли эти условия для обозначенных случаев."
   ]
  },
  {
   "cell_type": "code",
   "execution_count": null,
   "id": "8cd7a2a1",
   "metadata": {},
   "outputs": [],
   "source": [
    "full_data[full_data['rougher.output.recovery'] == 0][['rougher.output.concentrate_au']].sum()"
   ]
  },
  {
   "cell_type": "markdown",
   "id": "52fe4c1a",
   "metadata": {},
   "source": [
    "Сумма значений столбца равна нулю, значит, в черновом концентрате золота не было, и мы оставим эти строки."
   ]
  },
  {
   "cell_type": "markdown",
   "id": "de84abc7",
   "metadata": {},
   "source": [
    "Проверим 100% эффективность."
   ]
  },
  {
   "cell_type": "code",
   "execution_count": null,
   "id": "34aa93fe",
   "metadata": {},
   "outputs": [],
   "source": [
    "full_data[full_data['rougher.output.recovery'] == 100][['rougher.input.feed_au',\n",
    "                                                        'rougher.output.concentrate_au', \n",
    "                                                        'rougher.output.tail_au']]"
   ]
  },
  {
   "cell_type": "markdown",
   "id": "7808ceae",
   "metadata": {},
   "source": [
    "Такой ситуации не может быть, ведь если есть металл в \"хвосте\", значит, он отделился от сырья, и в черновом концентрате его доля должна была вырасти. Нужно удалить эти строки.\n",
    "\n"
   ]
  },
  {
   "cell_type": "code",
   "execution_count": null,
   "id": "b8155f23",
   "metadata": {},
   "outputs": [],
   "source": [
    "full_data = full_data[full_data['rougher.output.recovery'] < 100]\n",
    "train_sample = train_sample[train_sample['rougher.output.recovery'] < 100]"
   ]
  },
  {
   "cell_type": "markdown",
   "id": "06e57053",
   "metadata": {},
   "source": [
    "Проверим нулевую концентрацию для эффективности финального концентрата."
   ]
  },
  {
   "cell_type": "code",
   "execution_count": null,
   "id": "974ac4b6",
   "metadata": {},
   "outputs": [],
   "source": [
    "full_data[full_data['final.output.recovery'] == 0][['final.output.concentrate_au']].sum()"
   ]
  },
  {
   "cell_type": "markdown",
   "id": "be31d69c",
   "metadata": {},
   "source": [
    "Cумма хвоствых значений равна нулю. Такая ситуация теоретически возможна. Строки оставим.\n",
    "\n",
    "Поскольку мы удалили строки из исходных данных, удостоверимся в том, что тестовая выборка соответствует индексам исходных данных"
   ]
  },
  {
   "cell_type": "code",
   "execution_count": null,
   "id": "569c89ca",
   "metadata": {},
   "outputs": [],
   "source": [
    "test_sample = test_sample.loc[test_sample.index & full_data.index]\n",
    "test_sample"
   ]
  },
  {
   "cell_type": "markdown",
   "id": "7208d29c",
   "metadata": {},
   "source": [
    "Выводы:"
   ]
  },
  {
   "cell_type": "markdown",
   "id": "fee190ab",
   "metadata": {},
   "source": [
    "* Познакомились с данными, выяснили, что у нас 86 признаков, характеризующих процесс производства золота.\n",
    "\n",
    "* В тестовой выборке отсутствуют признаки, относящиеся к типу параметров состояния и параметров выходного продукта.\n",
    "\n",
    "* Проверили расчет эффективности обогащения руды флотацией, выяснили, что данным можно доверять.\n",
    "\n",
    "* Проиндексировали таблицы столбцом с датой, удалили наблюдения из обучающей выборки и исходных данных там, где есть пропуски в столбцах, непосредственно влияющих на наши целевые признаки, заполнили оставшиеся пропуски последним наблюдаемым значением."
   ]
  },
  {
   "cell_type": "markdown",
   "id": "5e9f687d",
   "metadata": {},
   "source": [
    "## Шаг 2. Исследовательский анализ данных."
   ]
  },
  {
   "cell_type": "markdown",
   "id": "7bb2b781",
   "metadata": {},
   "source": [
    "### Изменение концентрации металлов на этапах очистки."
   ]
  },
  {
   "cell_type": "markdown",
   "id": "c74f76d1",
   "metadata": {},
   "source": [
    "Для анализа изменения концентрации металлов на разных этапах создадим функцию."
   ]
  },
  {
   "cell_type": "code",
   "execution_count": null,
   "id": "23d494d4",
   "metadata": {},
   "outputs": [],
   "source": [
    "def concentration(metal):\n",
    "    \n",
    "    \"\"\"Функция на вход принимает строковое название металла, затем отбирает признаки, в которых \n",
    "    оно содержится. После этого по заранее заданным индексам строятся массивы признаков для отбора \n",
    "    значений из исходных данных. Затем строятся боксплоты и выводится описательная статистика\"\"\"\n",
    "    \n",
    "    all_features = list(full_data.filter(regex=(metal + '$')).columns)\n",
    "    \n",
    "    idx = [4,5,2,0]\n",
    "    \n",
    "    feed_and_concentrate_features = [all_features[i] for i in idx]\n",
    "    \n",
    "    idx_2 = [6,3,7,1]\n",
    "    \n",
    "    tail_features = [all_features[i] for i in idx_2]\n",
    "    \n",
    "    sns.set_style('whitegrid')\n",
    "    ax = plt.subplots(figsize = (10,6))\n",
    "    data_concentrate = full_data[feed_and_concentrate_features]\n",
    "    chart = sns.boxplot(data=data_concentrate, orient='h', palette='Set2', fliersize=0.5)\n",
    "    plt.title(metal)\n",
    "    plt.xlabel('Stage concentration, %')\n",
    "    \n",
    "    ax = plt.subplots(figsize = (10,6))\n",
    "    data_tail = full_data[tail_features]\n",
    "    chart_2 = sns.boxplot(data=data_tail, orient='h', palette='Set2', fliersize=0.5).set_xlim([0,25]) \n",
    "    plt.title('tail ' + metal)\n",
    "    plt.xlabel('Stage concentration, %')\n",
    "    \n",
    "    display(full_data[feed_and_concentrate_features].describe().T)\n",
    "    display(full_data[tail_features].describe().T)"
   ]
  },
  {
   "cell_type": "markdown",
   "id": "63275e0f",
   "metadata": {},
   "source": [
    "Начнем анализ с золота."
   ]
  },
  {
   "cell_type": "code",
   "execution_count": null,
   "id": "8918f47f",
   "metadata": {},
   "outputs": [],
   "source": [
    "concentration('au')"
   ]
  },
  {
   "cell_type": "markdown",
   "id": "3c755a47",
   "metadata": {},
   "source": [
    "Доля золота в концентрате на этапе подачи смеси золотосодержащей руды составляет в среднем около 8% и на этапе получения финального концентрата составляет в среднем около 44%. При этом видно, что его доля возрастает от этапа к этапу достаточно равномерно.\n",
    "\n",
    "Стоит обратить внимание, что концентрации имеют очень много выбросов \"вниз\", то есть много значений выходят за нижний придел 1.5 межквартильного интервала.\n",
    "\n",
    "Что касается доли золота в отвальных хвостах - то она растет до этапа вторичной очистки. Но не превышает 5%. Распределения характеризуются многочисленными выбросами вверх - значит, имеют место быть ситуации выпадения в хвосты чрезмерного количества золота."
   ]
  },
  {
   "cell_type": "markdown",
   "id": "7c9fb696",
   "metadata": {},
   "source": [
    "Посмотрим на серебро."
   ]
  },
  {
   "cell_type": "code",
   "execution_count": null,
   "id": "806c43be",
   "metadata": {},
   "outputs": [],
   "source": [
    "concentration('ag')"
   ]
  },
  {
   "cell_type": "markdown",
   "id": "5872f4d6",
   "metadata": {},
   "source": [
    "На уровне подаваемого сырья концетрации золота и серебра примерно одинаковы - 8.3% против 8.8%. Но, видимо, из-за того, что золото ценнее серебра, мы сосредотачиваемся на получении золота - и доля серебра в черновом концентрате увеличивается, по сравнению с сырьем, но потом на стадии первичной очистки значительное количество серебра уходит в \"хвост\" - его доля в \"хвостах\" превышает 15% - более чем на 10 п.п. больше, чем концентрация золота в \"хвостах\". В итоге в финальном концентрате доля серебра составляет в среднем 5%."
   ]
  },
  {
   "cell_type": "markdown",
   "id": "7553cd46",
   "metadata": {},
   "source": [
    "Рассмотрим свинец."
   ]
  },
  {
   "cell_type": "code",
   "execution_count": null,
   "id": "8f7565ff",
   "metadata": {},
   "outputs": [],
   "source": [
    "concentration('pb')"
   ]
  },
  {
   "cell_type": "markdown",
   "id": "526f5192",
   "metadata": {},
   "source": [
    "Исходя из графиков и таблиц заметно, что свинец, по всей видимости, является трудноудалимой примесью, с которой борются уже на стадиях после получения финального концентрата. Доказательством этому служит его возрастающая доля по этапам: в начальном сырье его всего лишь 3.5%, но в финальном концентрате - целых 10%.\n",
    "Отметим, что, к примеру, после флотации его доля в хвостах около 0.5%."
   ]
  },
  {
   "cell_type": "markdown",
   "id": "3330924d",
   "metadata": {},
   "source": [
    "Итого, мы выяснили, что доля золота во время этапов возрасате до 44%, по сравнению с сырьем, где оно составляет 8%. Доля серебра в финальном концентрате мала, вероятно, это обусловлено свойствами руды. Также мы выяснили, что свинец является трудноудалимой примесью."
   ]
  },
  {
   "cell_type": "markdown",
   "id": "02b35691",
   "metadata": {},
   "source": [
    "### Сравнение распределений размеров гранул сырья."
   ]
  },
  {
   "cell_type": "markdown",
   "id": "752b5c10",
   "metadata": {},
   "source": [
    "Cравним, различается ли распределение гранул сырья на обучающей и тестовой выборках."
   ]
  },
  {
   "cell_type": "markdown",
   "id": "f7ed3aec",
   "metadata": {},
   "source": [
    "Построим гистограммы."
   ]
  },
  {
   "cell_type": "code",
   "execution_count": null,
   "id": "5d6b67b1",
   "metadata": {},
   "outputs": [],
   "source": [
    "fig, axes = plt.subplots(figsize=(12,7))\n",
    "\n",
    "chart = sns.distplot(train_sample['rougher.input.feed_size'],ax=axes, color='y',\n",
    "                     bins=100, label='Обучающая выборка').set_xlim([20,120])\n",
    "\n",
    "chart_2 = sns.distplot(test_sample['rougher.input.feed_size'],ax=axes, color='b',\n",
    "                       bins=100, label='Тестовая выборка').set_xlim([20,120])\n",
    "\n",
    "plt.title('Распределение размеров гранул сырья на выборках')\n",
    "plt.xlabel('Размер гранул сырья')\n",
    "axes.legend();"
   ]
  },
  {
   "cell_type": "code",
   "execution_count": null,
   "id": "7eeb521f",
   "metadata": {},
   "outputs": [],
   "source": [
    "display(train_sample[['rougher.input.feed_size']].describe().T)\n",
    "display(test_sample[['rougher.input.feed_size']].describe().T)"
   ]
  },
  {
   "cell_type": "markdown",
   "id": "de67efd5",
   "metadata": {},
   "source": [
    "Распределение размеров все-таки незначительно отличается между выборками. Видно, что на тестовой выборке больше значений размера в диапазоне 40-50, чем на тестовой. На тестовой, в свою очередь - больше значений в диапзоне 50-60. То есть у распределений немного не совпадают пики. Поэтому медиана обучающей выборки на 5 больше, чем тестовой."
   ]
  },
  {
   "cell_type": "markdown",
   "id": "54c55464",
   "metadata": {},
   "source": [
    "### Исследование суммарной концентрации всех веществ на разных этапах."
   ]
  },
  {
   "cell_type": "markdown",
   "id": "9bfbbf4b",
   "metadata": {},
   "source": [
    "Исследуем суммарную концентрацию веществ на этапе подачи сырья, чернового концентрата и финального концентрата.\n",
    "Для этого мы будем суммировать 4 столбца, оканчивающиеся на соответствующих этапах на '_au', '_ag', '_pb', '_sol'."
   ]
  },
  {
   "cell_type": "code",
   "execution_count": null,
   "id": "05d2d2d7",
   "metadata": {},
   "outputs": [],
   "source": [
    "def overall_feature(stage, df):\n",
    "    \n",
    "    \"\"\"Функция принимает на вход строковое название интересующего нас этапа и нужную выборку.\n",
    "    Отбираются признаки для суммирования, суммируются и записываются новым столбцом в нужную выборку.\n",
    "    Затем по этому столбцу строится диаграмма и рассчитывается количество значений равных 0 и > 100\"\"\"\n",
    "    \n",
    "    dict_names = {'rougher.input.feed' : 'Этап подачи сырья', \n",
    "                  'rougher.output.concentrate': 'Черновой концентрат',\n",
    "                'final.output.concentrate' : 'Финальный концентрат'}\n",
    "    \n",
    "    features = (list(df.filter(regex=(stage+'_..$')).columns) + \n",
    "                        list(df.filter(regex=(stage+'_...$')).columns))\n",
    "    \n",
    "    elements = df[features]\n",
    "    df[stage+'.overall_concentration'] = elements.sum(axis=1)\n",
    "    \n",
    "    df[stage+'.overall_concentration'].plot(kind='hist', bins=50, range=[0,100], figsize = [9,5])\n",
    "    \n",
    "    plt.title(dict_names[stage])\n",
    "    plt.xlabel('Суммарная концентрация веществ, %')\n",
    "    plt.ylabel('Частота')\n",
    "    \n",
    "    print('Количество наблюдений с концентрацией равной 0%: ',\n",
    "          len(df[df[stage+'.overall_concentration'] == 0]))\n",
    "    \n",
    "    print('Количество наблюдений с концентрацией больше 100%: ',\n",
    "          len(df[df[stage+'.overall_concentration'] >= 100]))\n",
    "    \n",
    "    display(df[[stage+'.overall_concentration']].describe().T)"
   ]
  },
  {
   "cell_type": "markdown",
   "id": "67db5eeb",
   "metadata": {},
   "source": [
    "Начнем с обучающей выборки и этап подачи сырья."
   ]
  },
  {
   "cell_type": "code",
   "execution_count": null,
   "id": "ac7bff41",
   "metadata": {},
   "outputs": [],
   "source": [
    "overall_feature('rougher.input.feed', train_sample)"
   ]
  },
  {
   "cell_type": "markdown",
   "id": "e3acb09e",
   "metadata": {},
   "source": [
    "Ситуация выглядит нормальной - большинство значений расположились в диапазоне от 50 до 70%. Нулевых и зашкаливающих концентраций нет. Значит, предположим, что здесь аномалий нет."
   ]
  },
  {
   "cell_type": "markdown",
   "id": "6a4990e7",
   "metadata": {},
   "source": [
    "Рассмотрим характеристики чернового концентрата обучающей выборки."
   ]
  },
  {
   "cell_type": "code",
   "execution_count": null,
   "id": "af5dd18b",
   "metadata": {},
   "outputs": [],
   "source": [
    "overall_feature('rougher.output.concentrate', train_sample)"
   ]
  },
  {
   "cell_type": "markdown",
   "id": "0d36483e",
   "metadata": {},
   "source": [
    "Здесь большинство наблюдений кучно расположились в диапзоне от 55% до 80%. Но присутствуют нулевые значения.\n",
    "Такие наблюдения можно признать аномальными - поскольку на предыдущем этапе мы явно видели, что вся поступившая руда имела коцентрацию четырех основных веществ.\n",
    "\n",
    "Можно предположить, что все ушло в \"хвосты\", однако вряд ли технологический процесс допустил бы такую ситуацию, к тому же здесь значения строго равны нулю - то есть там вообще нет металлов. А самое главное отсутствует параметр '_sol', который, видимо, является заполнителем прочих веществ. Следовательно, это аномальная ситуация и от этих наблюдений нам лучше избавиться."
   ]
  },
  {
   "cell_type": "markdown",
   "id": "e126caed",
   "metadata": {},
   "source": [
    "Рассмотрим характеристики финального концентрата обучающей выборки."
   ]
  },
  {
   "cell_type": "code",
   "execution_count": null,
   "id": "4421867d",
   "metadata": {},
   "outputs": [],
   "source": [
    "overall_feature('final.output.concentrate', train_sample)"
   ]
  },
  {
   "cell_type": "markdown",
   "id": "72c13445",
   "metadata": {},
   "source": [
    "Здесь видно, что подавляющее большинство наблюдений лежит в диапзоне 60-80%. Также встречается несколько нулей - по причинам описанным выше, эти строки также можно считать аномальными, поэтому удалим их."
   ]
  },
  {
   "cell_type": "code",
   "execution_count": null,
   "id": "87f1a51e",
   "metadata": {},
   "outputs": [],
   "source": [
    "train_sample = train_sample[(train_sample['rougher.output.concentrate.overall_concentration'] > 0) & \n",
    "                        (train_sample['final.output.concentrate.overall_concentration'] > 0)]"
   ]
  },
  {
   "cell_type": "markdown",
   "id": "9802a139",
   "metadata": {},
   "source": [
    "Далее рассмотрим на предмет концентрации тестовую выборку.\n",
    "У нее нет признаков с выходными параметрами, поэтому будем рассматривать только параметры сырья."
   ]
  },
  {
   "cell_type": "code",
   "execution_count": null,
   "id": "be653490",
   "metadata": {},
   "outputs": [],
   "source": [
    "overall_feature('rougher.input.feed', test_sample)"
   ]
  },
  {
   "cell_type": "markdown",
   "id": "fe99a883",
   "metadata": {},
   "source": [
    "Мы видим среднюю концентрацию на уровне обучающей выборки, значений, похожих на аномальные, на наш взгляд, нет. Оставим все строки и удалим столбцы с расчетной концентрацией."
   ]
  },
  {
   "cell_type": "code",
   "execution_count": null,
   "id": "ff5bbc97",
   "metadata": {},
   "outputs": [],
   "source": [
    "train_sample = train_sample.drop(columns = list(train_sample.filter(regex=('overall_concentration'))))\n",
    "test_sample = test_sample.drop(columns = list(test_sample.filter(regex=('overall_concentration'))))"
   ]
  },
  {
   "cell_type": "markdown",
   "id": "11c830a0",
   "metadata": {},
   "source": [
    "## Шаг 3. Построение и обучение модели."
   ]
  },
  {
   "cell_type": "markdown",
   "id": "316ed9d8",
   "metadata": {},
   "source": [
    "### Напишем функцию для вычисления итоговой sMAPE."
   ]
  },
  {
   "cell_type": "markdown",
   "id": "2f1effb6",
   "metadata": {},
   "source": [
    "\n",
    "Перед тем, как написать функцию для оценки качества, подготовим данные для обучения, чтобы понимать, с какими массивами нам нужно будет работать.\n",
    "\n",
    "По условиям задачи нам необходимо спрогнозировать сразу две величины - эффективность обогащения чернового концентрата ('rougher.output.recovery') и эффективность обогащения финального концентрата('final.output.recovery').\n",
    "\n",
    "Значит, нам нужна регрессионная модель, в которой будет сразу 2 зависимых переменных.\n",
    "\n",
    "Создадим массивы для обучающей выборки. Для обучения будем использовать только те признаки, которые есть в тестовой выборке."
   ]
  },
  {
   "cell_type": "code",
   "execution_count": null,
   "id": "5b7866e8",
   "metadata": {},
   "outputs": [],
   "source": [
    "target_train = train_sample[['rougher.output.recovery', 'final.output.recovery']]\n",
    "features_train = train_sample.loc[:, list(test_sample.columns)]\n",
    "                               \n",
    "features_train.info()"
   ]
  },
  {
   "cell_type": "markdown",
   "id": "d196183b",
   "metadata": {},
   "source": [
    "Подготовим значения целевых признаков тестовой выборки, отберем их из исходных данных."
   ]
  },
  {
   "cell_type": "code",
   "execution_count": null,
   "id": "561387c4",
   "metadata": {},
   "outputs": [],
   "source": [
    "target_test = full_data.loc[test_sample.index, ['rougher.output.recovery', 'final.output.recovery']]\n",
    "target_test"
   ]
  },
  {
   "cell_type": "markdown",
   "id": "0355da1e",
   "metadata": {},
   "source": [
    "Для решения задачи прогнозирования эффективности обогащения будем использовать метрику качества - симметричное среднее абсолютное процентное отклонение."
   ]
  },
  {
   "cell_type": "markdown",
   "id": "22883e64",
   "metadata": {},
   "source": [
    "Регрессионные модели в предсказаниях будут возвращать массив, состоящий из подмассивов с двумя элементами, соответственно, первый элемент такого подмассива - это предсказание 'rougher', второй - 'final'.\n",
    "\n",
    "Учтем это в метрике качества."
   ]
  },
  {
   "cell_type": "code",
   "execution_count": null,
   "id": "a7eab64a",
   "metadata": {},
   "outputs": [],
   "source": [
    "def sMAPE(target, predictions):\n",
    "    \n",
    "    \"\"\"Функция суммирует отношение модуля разности таргета и предсказания к среднему значению\n",
    "    модуля таргета и модуля предсказания. Затем взвешивает полученные оценки с весами 0.25 и 0.75\n",
    "    для чернового и финального концентрата соответственно\"\"\"\n",
    "    \n",
    "    rougher_sMAPE = sum([abs(target.iloc[:,0][i] - predictions[:,0][i]) / \n",
    "                         ((abs(target.iloc[:,0][i]) + abs(predictions[:,0][i])) / 2) \n",
    "                 for i in range(len(target))]) / len(target) * 100\n",
    "    \n",
    "    \n",
    "    final_sMAPE = sum([abs(target.iloc[:,1][i] - predictions[:,1][i]) / \n",
    "                         ((abs(target.iloc[:,1][i]) + abs(predictions[:,1][i])) / 2) \n",
    "                 for i in range(len(target))]) / len(target) * 100\n",
    "    \n",
    "    overall_sMAPE = 0.25 * rougher_sMAPE + 0.75 * final_sMAPE\n",
    "    \n",
    "    return overall_sMAPE"
   ]
  },
  {
   "cell_type": "markdown",
   "id": "2df0b4f6",
   "metadata": {},
   "source": [
    "### Обучим модели."
   ]
  },
  {
   "cell_type": "markdown",
   "id": "f4ec291f",
   "metadata": {},
   "source": [
    "Найдём лучшие модели в алгоритмах линейной регрессии, решающего дерева и случайного леса для регрессии.\n",
    "\n",
    "Для подбора гиперпараметров будем использовать инструмент GridSearchCV - он позволит перебирать параметры и содержит в себе кросс-валидацию.\n",
    "\n",
    "Также будем использовать функцию cross_val_score для модели с выбранными параметрами.\n",
    "\n",
    "Для оценки качества перебираемых параметров будем использовать нашу функцию sMAPE.\n",
    "\n",
    "Найдя лучшие параметры, применим модель на данных тестовой выборки."
   ]
  },
  {
   "cell_type": "markdown",
   "id": "266ec846",
   "metadata": {},
   "source": [
    "Создадим инструмент оценки качества для его использования в GridSearchCV.\n",
    "\n",
    "Сделаем это инструментом make_scorer, наша задача минимизировать значение этой метрики, передадим соответствующий параметр."
   ]
  },
  {
   "cell_type": "code",
   "execution_count": null,
   "id": "1d9ccfa7",
   "metadata": {},
   "outputs": [],
   "source": [
    "my_scorer = make_scorer(sMAPE, greater_is_better=False)"
   ]
  },
  {
   "cell_type": "markdown",
   "id": "38b88a93",
   "metadata": {},
   "source": [
    "**Линейная регрессия**"
   ]
  },
  {
   "cell_type": "code",
   "execution_count": null,
   "id": "002d928b",
   "metadata": {},
   "outputs": [],
   "source": [
    "lin_model = LinearRegression()"
   ]
  },
  {
   "cell_type": "markdown",
   "id": "2f885010",
   "metadata": {},
   "source": [
    "Проверим качество кросс-валидацией."
   ]
  },
  {
   "cell_type": "code",
   "execution_count": null,
   "id": "df2066af",
   "metadata": {},
   "outputs": [],
   "source": [
    "lin_scores = cross_val_score(lin_model, features_train, target_train, scoring=my_scorer, cv=5)\n",
    "lin_scores"
   ]
  },
  {
   "cell_type": "markdown",
   "id": "f42f0e5f",
   "metadata": {},
   "source": [
    "Получили массив sMAPE на 5 валидационных выборках, посчитаем среднее отклонение.\n",
    "\n",
    "Знак \"минус\" перед оценками значит, что нам необходимо минимизировать метрику."
   ]
  },
  {
   "cell_type": "code",
   "execution_count": null,
   "id": "80f59e9f",
   "metadata": {},
   "outputs": [],
   "source": [
    "-sum(lin_scores) / len(lin_scores)"
   ]
  },
  {
   "cell_type": "markdown",
   "id": "ac30ee1e",
   "metadata": {},
   "source": [
    "В среднем модель линейной регрессии ошибается примерно на 9.5% по взвешенным таргетам."
   ]
  },
  {
   "cell_type": "markdown",
   "id": "bc1f1934",
   "metadata": {},
   "source": [
    "**Дерево решений**"
   ]
  },
  {
   "cell_type": "code",
   "execution_count": null,
   "id": "5f287c63",
   "metadata": {},
   "outputs": [],
   "source": [
    "tree_model = DecisionTreeRegressor(random_state = 2)"
   ]
  },
  {
   "cell_type": "markdown",
   "id": "0771336a",
   "metadata": {},
   "source": [
    "Используем GridSearchCV, чтобы и перебрать немного параметров и получить оценку по кросс-валидации."
   ]
  },
  {
   "cell_type": "code",
   "execution_count": null,
   "id": "3c834610",
   "metadata": {},
   "outputs": [],
   "source": [
    "tree_params = {\n",
    "                'max_features' : range(8, 10, 1),\n",
    "                'max_depth': range(3,6)}\n",
    "\n",
    "best_tree = GridSearchCV(tree_model, tree_params, scoring=my_scorer, cv=5,n_jobs=-1, verbose=True)"
   ]
  },
  {
   "cell_type": "code",
   "execution_count": null,
   "id": "192756dd",
   "metadata": {},
   "outputs": [],
   "source": [
    "best_tree.fit(features_train, target_train)"
   ]
  },
  {
   "cell_type": "code",
   "execution_count": null,
   "id": "10e17e45",
   "metadata": {},
   "outputs": [],
   "source": [
    "best_tree.best_params_"
   ]
  },
  {
   "cell_type": "markdown",
   "id": "0f601b6e",
   "metadata": {},
   "source": [
    "Лучшее дерево обладает глубиной - 3 и число признаков, по которым ищется разбиение равно 9."
   ]
  },
  {
   "cell_type": "code",
   "execution_count": null,
   "id": "de3615df",
   "metadata": {},
   "outputs": [],
   "source": [
    "best_tree.best_score_"
   ]
  },
  {
   "cell_type": "markdown",
   "id": "85c83300",
   "metadata": {},
   "source": [
    "Оценка лучшей модели чуть выше 8%, что лучше, чем линейная регрессия."
   ]
  },
  {
   "cell_type": "markdown",
   "id": "e8e8d0d4",
   "metadata": {},
   "source": [
    "#### Случайный лес"
   ]
  },
  {
   "cell_type": "code",
   "execution_count": null,
   "id": "100497f2",
   "metadata": {},
   "outputs": [],
   "source": [
    "rf_model = RandomForestRegressor(random_state=2, n_estimators=20)"
   ]
  },
  {
   "cell_type": "code",
   "execution_count": null,
   "id": "68c0e5a8",
   "metadata": {},
   "outputs": [],
   "source": [
    "forest_params = {\n",
    "                'max_features' : range(5, 10, 1),\n",
    "                'max_depth': range(3,5)}\n",
    "\n",
    "forest_grid = GridSearchCV(rf_model, forest_params, scoring=my_scorer, cv=5, n_jobs=-1, verbose=True)"
   ]
  },
  {
   "cell_type": "code",
   "execution_count": null,
   "id": "39619bed",
   "metadata": {},
   "outputs": [],
   "source": [
    "forest_grid.fit(features_train, target_train)"
   ]
  },
  {
   "cell_type": "code",
   "execution_count": null,
   "id": "bf37f7d2",
   "metadata": {},
   "outputs": [],
   "source": [
    "forest_grid.best_params_"
   ]
  },
  {
   "cell_type": "code",
   "execution_count": null,
   "id": "5b9fddcc",
   "metadata": {},
   "outputs": [],
   "source": [
    "forest_grid.best_score_"
   ]
  },
  {
   "cell_type": "markdown",
   "id": "21872a2c",
   "metadata": {},
   "source": [
    "У случайного леса глубина - 4, а количество признаков, по которым ищется разбиение - 7. Оценка незначительно лучше, чем у решащего дерева. Получается, что лучшая модель - это случайный лес."
   ]
  },
  {
   "cell_type": "markdown",
   "id": "25146481",
   "metadata": {},
   "source": [
    "Далее проверим модель на адекватность, то есть узнаем, действительно ли модель справляется с предсказанием значений лучше, чем какая-либо константа, например - медиана целевых признаков.\n",
    "\n",
    "Для этого создадим массив с медианами."
   ]
  },
  {
   "cell_type": "code",
   "execution_count": null,
   "id": "099e963a",
   "metadata": {},
   "outputs": [],
   "source": [
    "target_median_rougher = pd.Series(target_train.iloc[:, 0].median(), index=target_test.index)\n",
    "target_median_rougher"
   ]
  },
  {
   "cell_type": "code",
   "execution_count": null,
   "id": "0ce931ce",
   "metadata": {},
   "outputs": [],
   "source": [
    "target_median_final = pd.Series(target_train.iloc[:, 1].median(), index=target_test.index)\n",
    "target_median_final"
   ]
  },
  {
   "cell_type": "code",
   "execution_count": null,
   "id": "157a2f05",
   "metadata": {},
   "outputs": [],
   "source": [
    "target_median = np.column_stack((target_median_rougher, target_median_final))\n",
    "target_median"
   ]
  },
  {
   "cell_type": "markdown",
   "id": "379c8d1c",
   "metadata": {},
   "source": [
    "Передадим метрике качества массив с медианами."
   ]
  },
  {
   "cell_type": "code",
   "execution_count": null,
   "id": "3c49d968",
   "metadata": {},
   "outputs": [],
   "source": [
    "sMAPE(target_test, target_median)"
   ]
  },
  {
   "cell_type": "markdown",
   "id": "84790377",
   "metadata": {},
   "source": [
    "Предсказания целевых признаков по медианным значениям приводят к средней ошибке около 9% по взвешенным эффективностям обогащения.\n",
    "\n",
    "Поскольку модель случайного леса показала значение метрики качества почти на 1 п.п. ниже, то можно сказать, что она прошла проверку на адекватность."
   ]
  },
  {
   "cell_type": "markdown",
   "id": "a44b78a6",
   "metadata": {},
   "source": [
    "Проверим прошедшую на адекватность лучшую модель на тестовой выборке."
   ]
  },
  {
   "cell_type": "code",
   "execution_count": null,
   "id": "f41dfcb0",
   "metadata": {},
   "outputs": [],
   "source": [
    "best_forest_model = RandomForestRegressor(random_state=2, n_estimators=20, max_depth=4, max_features=7)"
   ]
  },
  {
   "cell_type": "code",
   "execution_count": null,
   "id": "ab30f684",
   "metadata": {},
   "outputs": [],
   "source": [
    "best_forest_model.fit(features_train, target_train)"
   ]
  },
  {
   "cell_type": "code",
   "execution_count": null,
   "id": "8c1187f5",
   "metadata": {},
   "outputs": [],
   "source": [
    "predictions_forest = best_forest_model.predict(test_sample)"
   ]
  },
  {
   "cell_type": "code",
   "execution_count": null,
   "id": "15e32361",
   "metadata": {},
   "outputs": [],
   "source": [
    "display(f'sMAPE на тестовой выборке: {sMAPE(target_test, predictions_forest)}')"
   ]
  },
  {
   "cell_type": "markdown",
   "id": "ba8e6384",
   "metadata": {},
   "source": [
    "### Вывод:\n",
    "Лучшей моделью является случайный лес.\n",
    "\n",
    "Оценка метрики качества на тестовой выборке - около 8.7%. Значит, если мы будем пользоваться ей в будущем, то в среднем будем ошибаться почти на 9% при оценке эффективности обогащения концентратов.\n",
    "\n",
    "Отметим, что модель прошла проверку на адекватность - она справляется с предсказанием целевых признаков лучше, чем константная модель с медианами - 8.08% против 9.06% на обучающей выборке. Да, различие невелико, однако оно есть, и это значит, что мы на верном пути."
   ]
  },
  {
   "cell_type": "code",
   "execution_count": null,
   "id": "1689c2e8",
   "metadata": {},
   "outputs": [],
   "source": []
  }
 ],
 "metadata": {
  "kernelspec": {
   "display_name": "Python 3 (ipykernel)",
   "language": "python",
   "name": "python3"
  },
  "language_info": {
   "codemirror_mode": {
    "name": "ipython",
    "version": 3
   },
   "file_extension": ".py",
   "mimetype": "text/x-python",
   "name": "python",
   "nbconvert_exporter": "python",
   "pygments_lexer": "ipython3",
   "version": "3.9.7"
  },
  "toc": {
   "base_numbering": 1,
   "nav_menu": {},
   "number_sections": true,
   "sideBar": true,
   "skip_h1_title": true,
   "title_cell": "Table of Contents",
   "title_sidebar": "Contents",
   "toc_cell": false,
   "toc_position": {},
   "toc_section_display": true,
   "toc_window_display": true
  }
 },
 "nbformat": 4,
 "nbformat_minor": 5
}
