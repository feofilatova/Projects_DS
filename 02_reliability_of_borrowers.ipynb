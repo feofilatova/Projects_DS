{
 "cells": [
  {
   "cell_type": "markdown",
   "id": "3e44c293",
   "metadata": {},
   "source": [
    "# Предобработка данных. Проектная работа. Исследование надежности заемщиков."
   ]
  },
  {
   "cell_type": "markdown",
   "id": "c930d075",
   "metadata": {},
   "source": [
    "## Описание проекта. \n",
    "Нужно разобраться, влияет ли семейное положение и количество детей клиента на факт погашения кредита в срок. Входные данные от банка — статистика о платёжеспособности клиентов.\n",
    "Результаты исследования будут учтены при построении модели кредитного скоринга — специальной системы, которая оценивает способность потенциального заёмщика вернуть кредит банку."
   ]
  },
  {
   "cell_type": "markdown",
   "id": "8c67b869",
   "metadata": {},
   "source": [
    "### Шаг 1. Обзор данных"
   ]
  },
  {
   "cell_type": "code",
   "execution_count": null,
   "id": "9abd7338",
   "metadata": {},
   "outputs": [],
   "source": [
    "import pandas as pd\n",
    "import numpy as np\n",
    "\n",
    "import warnings\n",
    "\n",
    "warnings.filterwarnings('ignore')"
   ]
  },
  {
   "cell_type": "code",
   "execution_count": null,
   "id": "e3d83580",
   "metadata": {},
   "outputs": [],
   "source": [
    "try:\n",
    "    data = pd.read_csv('data.csv')\n",
    "except:    \n",
    "    data = pd.read_csv('/datasets/data.csv')"
   ]
  },
  {
   "cell_type": "code",
   "execution_count": null,
   "id": "9aa9befe",
   "metadata": {},
   "outputs": [],
   "source": [
    "data.info()"
   ]
  },
  {
   "cell_type": "code",
   "execution_count": null,
   "id": "51343e24",
   "metadata": {},
   "outputs": [],
   "source": [
    "data.head(30)"
   ]
  },
  {
   "cell_type": "code",
   "execution_count": null,
   "id": "b67c57a7",
   "metadata": {},
   "outputs": [],
   "source": [
    "data.describe()"
   ]
  },
  {
   "cell_type": "markdown",
   "id": "00d2913f",
   "metadata": {},
   "source": [
    "**<font color=\"maroon\"></font>В таблице с данными 12 столбцов:</font>**\n",
    "\n",
    "* children — количество детей в семье \n",
    "* days_employed — общий трудовой стаж в днях\n",
    "* dob_years — возраст клиента в годах\n",
    "* education — уровень образования клиента\n",
    "* education_id — идентификатор уровня образования\n",
    "* family_status — семейное положение\n",
    "* family_status_id — идентификатор семейного положения\n",
    "* gender — пол клиента\n",
    "* income_type — тип занятости\n",
    "* debt — имел ли задолженность по возврату кредитов\n",
    "* total_income — ежемесячный доход\n",
    "* purpose — цель получения кредита\n",
    "\n",
    "**<font color=\"maroon\"></font>Имеются пропуски, дубликаты, неверный тип данных, отрицательные значения в днях работы.</font>**"
   ]
  },
  {
   "cell_type": "markdown",
   "id": "118a9aec",
   "metadata": {},
   "source": [
    "### Шаг 2.1 Обработка пропусков."
   ]
  },
  {
   "cell_type": "code",
   "execution_count": null,
   "id": "de2b8d5b",
   "metadata": {},
   "outputs": [],
   "source": [
    "data.isna().sum()"
   ]
  },
  {
   "cell_type": "code",
   "execution_count": null,
   "id": "9a7a7546",
   "metadata": {},
   "outputs": [],
   "source": [
    "data.isna().mean()"
   ]
  },
  {
   "cell_type": "markdown",
   "id": "8bafbe93",
   "metadata": {},
   "source": [
    "**<font color=\"maroon\"></font>Обнаружены пропуски в столбце о стаже работы и в столбце о размере доходов,в обоих столбцах доля пропусков составляет по 10%. Это достаточно значимо для анализа и порсто удалить эти строки нельзя. Пропуски в этих данных могут быть обусловлены нежеланием заемщиков сообщать свои данные, а могут отсутствовать, ввиду отсутствия у заёмщиков стажа работы и доходов, то есть равны нулю.</font>** \n",
    "\n",
    "**<font color=\"maroon\"></font>Видим, что количество пропусков в этих столбцах совпадает и предполагаем, что это не отсутствие  существующей информации, а отсустствие стажа работы и, как следствие - доходов, то есть это категория безработных или студентов.</font>** \n",
    "\n",
    "**<font color=\"maroon\"></font>Посмотрим, каким типам занятости соответствуют пропущенные значения.</font>**"
   ]
  },
  {
   "cell_type": "code",
   "execution_count": null,
   "id": "2b12befa",
   "metadata": {},
   "outputs": [],
   "source": [
    "data['income_type'][data['total_income'].isnull()].value_counts().plot.bar();"
   ]
  },
  {
   "cell_type": "markdown",
   "id": "53df8473",
   "metadata": {},
   "source": [
    "**<font color=\"maroon\"></font>Пропуски в данных есть у заемщиков с различными типапи занятости, можно сделать вывод, что пропуски обусловлены нежеланием заёмщиков их сообщать.</font>**"
   ]
  },
  {
   "cell_type": "markdown",
   "id": "071c8ecd",
   "metadata": {},
   "source": [
    "**<font color=\"maroon\"></font>Поэтому для корректного анализа отсутствие этих данных лучше заменить на медианные значения.</font>**\n"
   ]
  },
  {
   "cell_type": "code",
   "execution_count": null,
   "id": "6e55632e",
   "metadata": {},
   "outputs": [],
   "source": [
    "data['days_employed'] = data['days_employed'].fillna(data.groupby('income_type')['days_employed'].transform('median'))\n",
    "data['total_income'] = data['total_income'].fillna(data.groupby('income_type')['total_income'].transform('median'))"
   ]
  },
  {
   "cell_type": "markdown",
   "id": "7accc8ee",
   "metadata": {},
   "source": [
    "**<font color=\"maroon\"></font>Проверим, не осталось ли пропусков</font>**"
   ]
  },
  {
   "cell_type": "code",
   "execution_count": null,
   "id": "910d2727",
   "metadata": {},
   "outputs": [],
   "source": [
    "data.isna().sum()"
   ]
  },
  {
   "cell_type": "markdown",
   "id": "65591860",
   "metadata": {},
   "source": [
    "**<font color=\"maroon\"></font>Итак, пропусков в данных не осталось, можем переходить к следующему шагу.</font>**"
   ]
  },
  {
   "cell_type": "markdown",
   "id": "14ec936e",
   "metadata": {},
   "source": [
    "### Шаг 2.2 Проверка данных на аномалии и исправления."
   ]
  },
  {
   "cell_type": "markdown",
   "id": "32cc92ec",
   "metadata": {},
   "source": [
    "**<font color=\"maroon\"></font>Проверим данные на наличие отрицательных значений</font>**"
   ]
  },
  {
   "cell_type": "code",
   "execution_count": null,
   "id": "441341ed",
   "metadata": {},
   "outputs": [],
   "source": [
    "columns_numeric = data.dtypes[data.dtypes!='object'].index"
   ]
  },
  {
   "cell_type": "code",
   "execution_count": null,
   "id": "de15004c",
   "metadata": {},
   "outputs": [],
   "source": [
    "data_is_negative = data[columns_numeric]<0"
   ]
  },
  {
   "cell_type": "code",
   "execution_count": null,
   "id": "d453c4aa",
   "metadata": {},
   "outputs": [],
   "source": [
    "data_is_negative.sum()"
   ]
  },
  {
   "cell_type": "code",
   "execution_count": null,
   "id": "3212014d",
   "metadata": {},
   "outputs": [],
   "source": [
    "data['children'].value_counts()"
   ]
  },
  {
   "cell_type": "markdown",
   "id": "afa3c9fc",
   "metadata": {},
   "source": [
    "**<font color=\"maroon\"></font>Видим отрицательные значения в днях работы и количестве детей, так же есть явный выброс в виде 20 детей у 76 заёмщиков это может быть вызвано технической ошибкой или опечаткой, так как количество дней не используется для анализа, а аномальные значения в данных о детях представляют не значительную часть и подавляющее число детей у заемщиков равно нулю, заменим эти данные нулями.</font>**"
   ]
  },
  {
   "cell_type": "code",
   "execution_count": null,
   "id": "37e89713",
   "metadata": {},
   "outputs": [],
   "source": [
    "data.loc[data['children']<0, 'children'] = 0"
   ]
  },
  {
   "cell_type": "code",
   "execution_count": null,
   "id": "f1ff1336",
   "metadata": {},
   "outputs": [],
   "source": [
    "data.loc[data['children']==20, 'children'] = 0"
   ]
  },
  {
   "cell_type": "code",
   "execution_count": null,
   "id": "15d1ec36",
   "metadata": {},
   "outputs": [],
   "source": [
    "data.loc[data['days_employed']<0, 'days_employed'] = 0"
   ]
  },
  {
   "cell_type": "code",
   "execution_count": null,
   "id": "6f4ce279",
   "metadata": {},
   "outputs": [],
   "source": [
    "data['children'].value_counts()"
   ]
  },
  {
   "cell_type": "code",
   "execution_count": null,
   "id": "e9f2c859",
   "metadata": {},
   "outputs": [],
   "source": [
    "data['days_employed'].value_counts()"
   ]
  },
  {
   "cell_type": "markdown",
   "id": "8a7bd443",
   "metadata": {},
   "source": [
    "### Шаг 2.3. Изменение типов данных."
   ]
  },
  {
   "cell_type": "code",
   "execution_count": null,
   "id": "453ee085",
   "metadata": {},
   "outputs": [],
   "source": [
    "data.info()"
   ]
  },
  {
   "cell_type": "markdown",
   "id": "5cbc5fd0",
   "metadata": {},
   "source": [
    "**<font color=\"maroon\"></font>Вызвав информацию о типах данных, видим, что столбцы 'days_employed' и 'total_income' содержат вещественные числа.</font>**"
   ]
  },
  {
   "cell_type": "markdown",
   "id": "f5120c30",
   "metadata": {},
   "source": [
    "**<font color=\"maroon\"></font>Для удобства работы с данными заменим тип данных в столбце total_income на целочисленный.</font>**"
   ]
  },
  {
   "cell_type": "code",
   "execution_count": null,
   "id": "640bb56d",
   "metadata": {},
   "outputs": [],
   "source": [
    "data['total_income'] = data['total_income'].astype('int')"
   ]
  },
  {
   "cell_type": "code",
   "execution_count": null,
   "id": "96a6b39a",
   "metadata": {},
   "outputs": [],
   "source": [
    "data.info()"
   ]
  },
  {
   "cell_type": "markdown",
   "id": "da55d01c",
   "metadata": {},
   "source": [
    "### Шаг 2.4. Удаление дубликатов."
   ]
  },
  {
   "cell_type": "code",
   "execution_count": null,
   "id": "87cb043f",
   "metadata": {},
   "outputs": [],
   "source": [
    "data[data.duplicated()]"
   ]
  },
  {
   "cell_type": "markdown",
   "id": "7ce00544",
   "metadata": {},
   "source": [
    "**<font color=\"maroon\"></font>Приведём все данные типа 'object' к нижнему регистру и удалим явные дубликаты.</font>**"
   ]
  },
  {
   "cell_type": "code",
   "execution_count": null,
   "id": "cd18ee96",
   "metadata": {},
   "outputs": [],
   "source": [
    "str_columns = data.dtypes[data.dtypes=='object'].index\n",
    "for index in str_columns:\n",
    "    data[index] = data[index].str.lower()"
   ]
  },
  {
   "cell_type": "code",
   "execution_count": null,
   "id": "cddf5746",
   "metadata": {},
   "outputs": [],
   "source": [
    "data = data.drop_duplicates()\n",
    "\n",
    "data[data.duplicated()]"
   ]
  },
  {
   "cell_type": "markdown",
   "id": "55e32c2c",
   "metadata": {},
   "source": [
    "### Шаг 2.6. Категоризация дохода."
   ]
  },
  {
   "cell_type": "code",
   "execution_count": null,
   "id": "80cbc47d",
   "metadata": {},
   "outputs": [],
   "source": [
    "def total_income_category(total_income):\n",
    "    if total_income <= 30000:\n",
    "        return 'E'\n",
    "    elif 30000 < total_income <= 50000:\n",
    "        return 'D'\n",
    "    elif 50000 < total_income <= 200000:\n",
    "        return 'C'\n",
    "    elif 200000 < total_income <= 1000000:\n",
    "        return 'B'\n",
    "    else:\n",
    "        return 'A'\n",
    "data['total_income_category'] = data['total_income'].apply(total_income_category)\n",
    "data['total_income_category'].value_counts()    "
   ]
  },
  {
   "cell_type": "markdown",
   "id": "dafd1356",
   "metadata": {},
   "source": [
    "**<font color=\"maroon\"></font>Для упрощения визуализации, разбила заёмщиков на категории по уровню дохода.</font>**"
   ]
  },
  {
   "cell_type": "markdown",
   "id": "735da511",
   "metadata": {},
   "source": [
    "### Шаг 2.7. Категоризация целей кредита."
   ]
  },
  {
   "cell_type": "code",
   "execution_count": null,
   "id": "257d04ae",
   "metadata": {},
   "outputs": [],
   "source": [
    "data['purpose'].value_counts()"
   ]
  },
  {
   "cell_type": "code",
   "execution_count": null,
   "id": "b330e73d",
   "metadata": {},
   "outputs": [],
   "source": [
    "def purpose_category(purpose):\n",
    "    purpose_auto = ['на покупку своего автомобиля', 'автомобиль', 'сделка с подержанным автомобилем', 'автомобили', 'на покупку подержанного автомобиля', 'свой автомобиль','на покупку автомобиля', 'приобретение автомобиля', 'сделка с автомобилем']\n",
    "    purpose_property = ['операции с недвижимостью', 'покупка коммерческой недвижимости', 'операции с жильем', 'покупка жилья для сдачи', 'операции с коммерческой недвижимостью','покупка жилья', 'жилье', 'покупка жилья для семьи', 'строительство собственной недвижимости', 'недвижимость', 'операции со своей недвижимостью', 'строительство жилой недвижимости', 'покупка недвижимости', 'покупка своего жилья', 'строительство недвижимости', 'ремонт жилью', 'покупка жилой недвижимости']\n",
    "    purpose_wedding = ['свадьба', 'на проведение свадьбы', 'сыграть свадьбу', 'образование', 'получение дополнительного образования', 'получение образования', 'профильное образование', 'получение высшего образования', 'заняться образованием']\n",
    "    purpose_education = ['заняться высшим образованием', 'дополнительное образование', 'высшее образование']\n",
    "    if purpose in purpose_auto:\n",
    "        return 'операции с автомобилем'\n",
    "    elif purpose in purpose_property:\n",
    "        return 'операции с недвижимостью'\n",
    "    elif purpose in purpose_wedding:\n",
    "        return 'проведение свадьбы'\n",
    "    elif purpose in purpose_education:\n",
    "        return 'получение образования'\n",
    "    else:\n",
    "        return 'не определено'\n",
    "data['purpose_category'] = data['purpose'].apply(purpose_category)\n",
    "data['purpose_category'].value_counts()"
   ]
  },
  {
   "cell_type": "markdown",
   "id": "8c16dff1",
   "metadata": {},
   "source": [
    "**<font color=\"maroon\"></font>Скомпоновала цели кредитов по категориям.</font>**"
   ]
  },
  {
   "cell_type": "markdown",
   "id": "48481664",
   "metadata": {},
   "source": [
    "**<font color=\"maroon\"></font>Сгруппируем должников по количеству детей, по семейному статусу, по доходу и по целям кредита, посмотрим наглядно, как распределяются должники.</font>**"
   ]
  },
  {
   "cell_type": "code",
   "execution_count": null,
   "id": "8eabaabe",
   "metadata": {},
   "outputs": [],
   "source": [
    "children_debt = data.groupby(['children'])['debt'].value_counts().unstack().T/data['children'].value_counts()\n",
    "children_debt.T[1].plot();"
   ]
  },
  {
   "cell_type": "code",
   "execution_count": null,
   "id": "c5d1345f",
   "metadata": {},
   "outputs": [],
   "source": [
    "family_status_debt = data.groupby(['family_status'])['debt'].value_counts().unstack().T/data['family_status'].value_counts()\n",
    "family_status_debt.T[1].plot();"
   ]
  },
  {
   "cell_type": "code",
   "execution_count": null,
   "id": "6562e0f3",
   "metadata": {},
   "outputs": [],
   "source": [
    "total_income_debt = data.groupby(['total_income_category'])['debt'].value_counts().unstack().T/data['total_income_category'].value_counts()\n",
    "total_income_debt.T[1].plot();"
   ]
  },
  {
   "cell_type": "code",
   "execution_count": null,
   "id": "1981114d",
   "metadata": {},
   "outputs": [],
   "source": [
    "purpose_debt = data.groupby(['purpose_category'])['debt'].value_counts().unstack().T/data['purpose_category'].value_counts()\n",
    "purpose_debt.T[1].plot();"
   ]
  },
  {
   "cell_type": "code",
   "execution_count": null,
   "id": "699bb916",
   "metadata": {},
   "outputs": [],
   "source": [
    "purpose_debt_pivot = data.pivot_table(index='purpose_category', values='debt')\n",
    "\n",
    "purpose_debt_pivot"
   ]
  },
  {
   "cell_type": "markdown",
   "id": "166caf43",
   "metadata": {},
   "source": [
    "### Ответы на вопросы."
   ]
  },
  {
   "cell_type": "markdown",
   "id": "5e013eb5",
   "metadata": {},
   "source": [
    "##### Вопрос 1: Есть ли зависимость между количеством детей и возвратом кредита в срок?"
   ]
  },
  {
   "cell_type": "markdown",
   "id": "0f3ad120",
   "metadata": {},
   "source": [
    "**<font color=\"maroon\"></font>Да, зависимость наблюдается.</font>**"
   ]
  },
  {
   "cell_type": "markdown",
   "id": "3f3e812f",
   "metadata": {},
   "source": [
    "##### Вывод 1:"
   ]
  },
  {
   "cell_type": "markdown",
   "id": "5abd4b85",
   "metadata": {},
   "source": [
    "**<font color=\"maroon\"></font>У заемщиков без детей возвращаемость кредитов выше.</font>**"
   ]
  },
  {
   "cell_type": "markdown",
   "id": "1a6e00d1",
   "metadata": {},
   "source": [
    "##### Вопрос 2: Есть ли зависимость между семейным положением и возвратом кредита в срок?"
   ]
  },
  {
   "cell_type": "markdown",
   "id": "f4168764",
   "metadata": {},
   "source": [
    "**<font color=\"maroon\"></font>Да, зависимость наблюдается.</font>**"
   ]
  },
  {
   "cell_type": "markdown",
   "id": "d8593734",
   "metadata": {},
   "source": [
    "##### Вывод 2: "
   ]
  },
  {
   "cell_type": "markdown",
   "id": "d8fafa39",
   "metadata": {},
   "source": [
    "**<font color=\"maroon\"></font>Самая низкая вероятность должников среди вдовцов, чуть выше у - разведённых, еще выше - у тех, кто в браке и самая высокая - среди заемщиков в гражданском браке и не состоящих в браке.</font>**"
   ]
  },
  {
   "cell_type": "markdown",
   "id": "ab33d3d1",
   "metadata": {},
   "source": [
    "##### Вопрос 3: Есть ли зависимость между уровнем дохода и возвратом кредита в срок?"
   ]
  },
  {
   "cell_type": "markdown",
   "id": "3c0347bb",
   "metadata": {},
   "source": [
    "**<font color=\"maroon\"></font>Да, зависимость наблюдается.</font>**"
   ]
  },
  {
   "cell_type": "markdown",
   "id": "3053e2ea",
   "metadata": {},
   "source": [
    "##### Вывод 3: "
   ]
  },
  {
   "cell_type": "markdown",
   "id": "ca7528b9",
   "metadata": {},
   "source": [
    "**<font color=\"maroon\"></font>Самая низкая вероятность должников среди заемщиков чей доход в диапазоне 30000-50000, чуть выше у тех, кто зарабатывает от 200000 до 1000000, еще выше вероятность появления долга у тех, чей доход выше 1000000 и от  50000 до 200000, самая высокая - у тех чей доход до 30000.</font>**"
   ]
  },
  {
   "cell_type": "markdown",
   "id": "bd17b854",
   "metadata": {},
   "source": [
    "##### Вопрос 4: Как разные цели кредита влияют на его возврат в срок?"
   ]
  },
  {
   "cell_type": "markdown",
   "id": "3ffc5e8b",
   "metadata": {},
   "source": [
    "**<font color=\"maroon\"></font>Наблюдается зависимось возврата кредита от его цели .</font>**"
   ]
  },
  {
   "cell_type": "markdown",
   "id": "5f5c4fb6",
   "metadata": {},
   "source": [
    "##### Вывод 4: "
   ]
  },
  {
   "cell_type": "markdown",
   "id": "8f170402",
   "metadata": {},
   "source": [
    "**<font color=\"maroon\"></font>Самая низкая вероятность должников, среди тех, чья цель кредита операции с недвижимостью, чуть выше - образование и свадьба, самая высокая вероятность неплательщиков среди тех, кто берёт деньги на автомобиль.</font>**"
   ]
  },
  {
   "cell_type": "markdown",
   "id": "4fd9dd6d",
   "metadata": {},
   "source": [
    "## Общий вывод:"
   ]
  },
  {
   "cell_type": "markdown",
   "id": "e638a7d6",
   "metadata": {},
   "source": [
    "**<font color=\"maroon\"></font>Можно составить портрет самых добросовестных заёмщиков, ими будут вдовцы без детей, зарабатывающие 30000-50000, берущие кредит для операций с недвижимостью. Самые проблемные заемщики с детьми, не состоящие в браке, с доходом до 30000, занимающие деньги на операции с автомобилем.</font>**"
   ]
  },
  {
   "cell_type": "code",
   "execution_count": null,
   "id": "f91c2d6c",
   "metadata": {},
   "outputs": [],
   "source": []
  }
 ],
 "metadata": {
  "ExecuteTimeLog": [
   {
    "duration": 338,
    "start_time": "2022-02-10T23:12:50.352Z"
   },
   {
    "duration": 85,
    "start_time": "2022-02-10T23:14:38.335Z"
   },
   {
    "duration": 248,
    "start_time": "2022-02-10T23:15:10.918Z"
   },
   {
    "duration": 753,
    "start_time": "2022-02-10T23:15:17.567Z"
   },
   {
    "duration": 63,
    "start_time": "2022-02-10T23:15:19.675Z"
   },
   {
    "duration": 58,
    "start_time": "2022-02-10T23:15:40.951Z"
   },
   {
    "duration": 21,
    "start_time": "2022-02-10T23:17:14.434Z"
   },
   {
    "duration": 624,
    "start_time": "2022-02-11T12:18:14.225Z"
   },
   {
    "duration": 59,
    "start_time": "2022-02-11T12:18:15.988Z"
   },
   {
    "duration": 17,
    "start_time": "2022-02-11T12:18:16.725Z"
   },
   {
    "duration": 11,
    "start_time": "2022-02-11T12:18:24.273Z"
   },
   {
    "duration": 13,
    "start_time": "2022-02-11T12:18:27.870Z"
   },
   {
    "duration": 2,
    "start_time": "2022-02-11T12:19:03.441Z"
   },
   {
    "duration": 4,
    "start_time": "2022-02-11T12:19:04.212Z"
   },
   {
    "duration": 4,
    "start_time": "2022-02-11T12:19:05.019Z"
   },
   {
    "duration": 11,
    "start_time": "2022-02-11T12:19:05.764Z"
   },
   {
    "duration": 13,
    "start_time": "2022-02-11T12:45:40.532Z"
   },
   {
    "duration": 52,
    "start_time": "2022-02-11T13:07:06.440Z"
   },
   {
    "duration": 12,
    "start_time": "2022-02-11T13:07:20.006Z"
   },
   {
    "duration": 24,
    "start_time": "2022-02-11T13:08:11.295Z"
   },
   {
    "duration": 307,
    "start_time": "2022-02-11T13:09:15.530Z"
   },
   {
    "duration": 246,
    "start_time": "2022-02-11T13:09:23.667Z"
   },
   {
    "duration": 246,
    "start_time": "2022-02-11T13:09:34.264Z"
   },
   {
    "duration": 268,
    "start_time": "2022-02-11T13:09:39.481Z"
   },
   {
    "duration": 5,
    "start_time": "2022-02-11T13:09:48.738Z"
   },
   {
    "duration": 248,
    "start_time": "2022-02-11T13:10:02.217Z"
   },
   {
    "duration": 14,
    "start_time": "2022-02-11T13:17:14.223Z"
   },
   {
    "duration": 8,
    "start_time": "2022-02-11T13:22:09.360Z"
   },
   {
    "duration": 245,
    "start_time": "2022-02-11T13:29:23.582Z"
   },
   {
    "duration": 274,
    "start_time": "2022-02-11T13:29:54.471Z"
   },
   {
    "duration": 227,
    "start_time": "2022-02-11T13:34:22.762Z"
   },
   {
    "duration": 244,
    "start_time": "2022-02-11T13:34:39.318Z"
   },
   {
    "duration": 244,
    "start_time": "2022-02-11T13:35:17.719Z"
   },
   {
    "duration": 3,
    "start_time": "2022-02-11T13:35:27.026Z"
   },
   {
    "duration": 237,
    "start_time": "2022-02-11T13:35:40.451Z"
   },
   {
    "duration": 5,
    "start_time": "2022-02-11T13:35:48.007Z"
   },
   {
    "duration": 5,
    "start_time": "2022-02-11T13:36:17.032Z"
   },
   {
    "duration": 6075,
    "start_time": "2022-02-11T13:39:41.212Z"
   },
   {
    "duration": 1699,
    "start_time": "2022-02-11T13:40:09.073Z"
   },
   {
    "duration": 5,
    "start_time": "2022-02-11T13:42:56.191Z"
   },
   {
    "duration": 7,
    "start_time": "2022-02-11T13:44:28.355Z"
   },
   {
    "duration": 7,
    "start_time": "2022-02-11T13:44:46.987Z"
   },
   {
    "duration": 7,
    "start_time": "2022-02-11T13:44:52.018Z"
   },
   {
    "duration": 9,
    "start_time": "2022-02-11T13:45:25.541Z"
   },
   {
    "duration": 261,
    "start_time": "2022-02-11T13:47:16.871Z"
   },
   {
    "duration": 179,
    "start_time": "2022-02-11T13:47:31.576Z"
   },
   {
    "duration": 9,
    "start_time": "2022-02-11T13:52:40.140Z"
   },
   {
    "duration": 87,
    "start_time": "2022-02-11T13:57:17.341Z"
   },
   {
    "duration": 12,
    "start_time": "2022-02-11T14:00:11.858Z"
   },
   {
    "duration": 11,
    "start_time": "2022-02-11T14:00:29.507Z"
   },
   {
    "duration": 87,
    "start_time": "2022-02-11T14:08:54.164Z"
   },
   {
    "duration": 77,
    "start_time": "2022-02-11T14:09:20.168Z"
   },
   {
    "duration": 269,
    "start_time": "2022-02-11T14:10:04.822Z"
   },
   {
    "duration": 84,
    "start_time": "2022-02-11T14:10:31.341Z"
   },
   {
    "duration": 92,
    "start_time": "2022-02-11T14:10:37.600Z"
   },
   {
    "duration": 151,
    "start_time": "2022-02-11T14:11:17.457Z"
   },
   {
    "duration": 77,
    "start_time": "2022-02-11T14:11:34.883Z"
   },
   {
    "duration": 345,
    "start_time": "2022-02-11T14:11:56.364Z"
   },
   {
    "duration": 248,
    "start_time": "2022-02-11T14:13:09.450Z"
   },
   {
    "duration": 7,
    "start_time": "2022-02-11T14:14:37.645Z"
   },
   {
    "duration": 50,
    "start_time": "2022-02-11T14:14:50.155Z"
   },
   {
    "duration": 12,
    "start_time": "2022-02-11T14:14:50.454Z"
   },
   {
    "duration": 11,
    "start_time": "2022-02-11T14:14:50.745Z"
   },
   {
    "duration": 7,
    "start_time": "2022-02-11T14:14:51.798Z"
   },
   {
    "duration": 168,
    "start_time": "2022-02-11T14:15:01.790Z"
   },
   {
    "duration": 226,
    "start_time": "2022-02-11T14:16:19.177Z"
   },
   {
    "duration": 10,
    "start_time": "2022-02-11T14:16:31.594Z"
   },
   {
    "duration": 848,
    "start_time": "2022-02-11T14:18:40.228Z"
   },
   {
    "duration": 257,
    "start_time": "2022-02-11T14:18:59.750Z"
   },
   {
    "duration": 12,
    "start_time": "2022-02-11T14:19:15.716Z"
   },
   {
    "duration": 990,
    "start_time": "2022-02-11T14:28:46.466Z"
   },
   {
    "duration": 12,
    "start_time": "2022-02-11T14:29:09.078Z"
   },
   {
    "duration": 29,
    "start_time": "2022-02-11T14:29:52.103Z"
   },
   {
    "duration": 851,
    "start_time": "2022-02-13T14:51:45.338Z"
   },
   {
    "duration": 87,
    "start_time": "2022-02-13T14:51:47.245Z"
   },
   {
    "duration": 20,
    "start_time": "2022-02-13T14:51:48.002Z"
   },
   {
    "duration": 13,
    "start_time": "2022-02-13T14:51:48.621Z"
   },
   {
    "duration": 362,
    "start_time": "2022-02-13T14:51:49.633Z"
   },
   {
    "duration": 3,
    "start_time": "2022-02-13T14:51:51.206Z"
   },
   {
    "duration": 18,
    "start_time": "2022-02-13T14:51:51.701Z"
   },
   {
    "duration": 83,
    "start_time": "2022-02-13T14:51:52.178Z"
   },
   {
    "duration": 13,
    "start_time": "2022-02-13T14:51:53.323Z"
   },
   {
    "duration": 87,
    "start_time": "2022-02-13T14:51:54.078Z"
   },
   {
    "duration": 41,
    "start_time": "2022-02-13T14:52:00.988Z"
   },
   {
    "duration": 19,
    "start_time": "2022-02-13T14:53:39.423Z"
   },
   {
    "duration": 18,
    "start_time": "2022-02-13T14:54:03.317Z"
   },
   {
    "duration": 8,
    "start_time": "2022-02-13T14:56:12.973Z"
   },
   {
    "duration": 1263,
    "start_time": "2022-02-13T14:57:12.693Z"
   },
   {
    "duration": 9,
    "start_time": "2022-02-13T14:58:05.881Z"
   },
   {
    "duration": 8,
    "start_time": "2022-02-13T14:59:25.600Z"
   },
   {
    "duration": 7,
    "start_time": "2022-02-13T14:59:43.681Z"
   },
   {
    "duration": 6,
    "start_time": "2022-02-13T15:00:14.608Z"
   },
   {
    "duration": 26,
    "start_time": "2022-02-13T15:00:38.746Z"
   },
   {
    "duration": 23,
    "start_time": "2022-02-13T15:00:52.777Z"
   },
   {
    "duration": 25,
    "start_time": "2022-02-13T15:01:05.973Z"
   },
   {
    "duration": 15,
    "start_time": "2022-02-13T15:01:47.804Z"
   },
   {
    "duration": 12,
    "start_time": "2022-02-13T15:02:19.965Z"
   },
   {
    "duration": 7,
    "start_time": "2022-02-13T15:02:25.437Z"
   },
   {
    "duration": 5,
    "start_time": "2022-02-13T15:03:06.358Z"
   },
   {
    "duration": 6,
    "start_time": "2022-02-13T15:13:18.620Z"
   },
   {
    "duration": 12,
    "start_time": "2022-02-13T15:13:19.241Z"
   },
   {
    "duration": 7,
    "start_time": "2022-02-13T15:13:32.865Z"
   },
   {
    "duration": 9,
    "start_time": "2022-02-13T15:14:27.781Z"
   },
   {
    "duration": 81,
    "start_time": "2022-02-13T15:15:01.461Z"
   },
   {
    "duration": 8,
    "start_time": "2022-02-13T15:15:15.272Z"
   },
   {
    "duration": 8,
    "start_time": "2022-02-13T15:16:20.167Z"
   },
   {
    "duration": 7,
    "start_time": "2022-02-13T15:16:48.696Z"
   },
   {
    "duration": 5,
    "start_time": "2022-02-13T15:17:01.118Z"
   },
   {
    "duration": 8,
    "start_time": "2022-02-13T15:17:06.652Z"
   },
   {
    "duration": 84,
    "start_time": "2022-02-13T15:18:46.573Z"
   },
   {
    "duration": 10,
    "start_time": "2022-02-13T15:18:56.591Z"
   },
   {
    "duration": 8,
    "start_time": "2022-02-13T15:19:35.911Z"
   },
   {
    "duration": 5,
    "start_time": "2022-02-13T15:23:06.037Z"
   },
   {
    "duration": 7238,
    "start_time": "2022-02-13T15:24:11.127Z"
   },
   {
    "duration": 19,
    "start_time": "2022-02-13T15:24:53.482Z"
   },
   {
    "duration": 23,
    "start_time": "2022-02-13T15:25:01.572Z"
   },
   {
    "duration": 21,
    "start_time": "2022-02-13T15:25:13.030Z"
   },
   {
    "duration": 4,
    "start_time": "2022-02-13T15:27:23.029Z"
   },
   {
    "duration": 9,
    "start_time": "2022-02-13T15:27:37.909Z"
   },
   {
    "duration": 10,
    "start_time": "2022-02-13T15:28:49.559Z"
   },
   {
    "duration": 10549,
    "start_time": "2022-02-13T15:32:03.614Z"
   },
   {
    "duration": 273,
    "start_time": "2022-02-13T15:32:28.906Z"
   },
   {
    "duration": 6,
    "start_time": "2022-02-13T15:33:07.638Z"
   },
   {
    "duration": 300,
    "start_time": "2022-02-13T15:33:08.258Z"
   },
   {
    "duration": 61,
    "start_time": "2022-02-13T15:34:44.154Z"
   },
   {
    "duration": 13,
    "start_time": "2022-02-13T15:34:44.664Z"
   },
   {
    "duration": 14,
    "start_time": "2022-02-13T15:34:45.177Z"
   },
   {
    "duration": 256,
    "start_time": "2022-02-13T15:34:46.428Z"
   },
   {
    "duration": 4,
    "start_time": "2022-02-13T15:34:49.215Z"
   },
   {
    "duration": 16,
    "start_time": "2022-02-13T15:34:49.715Z"
   },
   {
    "duration": 14,
    "start_time": "2022-02-13T15:34:50.827Z"
   },
   {
    "duration": 6,
    "start_time": "2022-02-13T15:35:00.397Z"
   },
   {
    "duration": 12,
    "start_time": "2022-02-13T15:35:02.637Z"
   },
   {
    "duration": 8,
    "start_time": "2022-02-13T15:35:03.598Z"
   },
   {
    "duration": 9,
    "start_time": "2022-02-13T15:35:36.786Z"
   },
   {
    "duration": 87,
    "start_time": "2022-02-13T15:35:55.577Z"
   },
   {
    "duration": 92,
    "start_time": "2022-02-13T15:36:08.832Z"
   },
   {
    "duration": 273,
    "start_time": "2022-02-13T15:36:23.229Z"
   },
   {
    "duration": 9,
    "start_time": "2022-02-13T15:37:28.007Z"
   },
   {
    "duration": 8,
    "start_time": "2022-02-13T15:38:20.542Z"
   },
   {
    "duration": 26,
    "start_time": "2022-02-13T16:11:06.891Z"
   },
   {
    "duration": 11,
    "start_time": "2022-02-13T16:11:13.739Z"
   },
   {
    "duration": 27,
    "start_time": "2022-02-13T16:12:08.266Z"
   },
   {
    "duration": 7,
    "start_time": "2022-02-13T16:12:09.333Z"
   },
   {
    "duration": 13,
    "start_time": "2022-02-13T16:13:28.356Z"
   },
   {
    "duration": 15,
    "start_time": "2022-02-13T16:13:44.474Z"
   },
   {
    "duration": 13,
    "start_time": "2022-02-13T16:14:06.148Z"
   },
   {
    "duration": 9,
    "start_time": "2022-02-13T16:14:19.076Z"
   },
   {
    "duration": 4,
    "start_time": "2022-02-13T16:14:39.319Z"
   },
   {
    "duration": 57,
    "start_time": "2022-02-13T16:14:40.244Z"
   },
   {
    "duration": 15,
    "start_time": "2022-02-13T16:14:40.664Z"
   },
   {
    "duration": 13,
    "start_time": "2022-02-13T16:14:41.096Z"
   },
   {
    "duration": 251,
    "start_time": "2022-02-13T16:14:42.118Z"
   },
   {
    "duration": 4,
    "start_time": "2022-02-13T16:14:44.356Z"
   },
   {
    "duration": 17,
    "start_time": "2022-02-13T16:14:44.887Z"
   },
   {
    "duration": 14,
    "start_time": "2022-02-13T16:14:46.071Z"
   },
   {
    "duration": 5,
    "start_time": "2022-02-13T16:14:48.921Z"
   },
   {
    "duration": 13,
    "start_time": "2022-02-13T16:14:49.521Z"
   },
   {
    "duration": 7,
    "start_time": "2022-02-13T16:14:50.394Z"
   },
   {
    "duration": 9,
    "start_time": "2022-02-13T16:14:58.649Z"
   },
   {
    "duration": 41,
    "start_time": "2022-02-13T16:15:05.166Z"
   },
   {
    "duration": 40,
    "start_time": "2022-02-13T16:15:18.517Z"
   },
   {
    "duration": 35,
    "start_time": "2022-02-13T16:15:46.726Z"
   },
   {
    "duration": 8,
    "start_time": "2022-02-13T16:16:17.183Z"
   },
   {
    "duration": 8,
    "start_time": "2022-02-13T16:16:45.454Z"
   },
   {
    "duration": 6,
    "start_time": "2022-02-13T16:16:48.533Z"
   },
   {
    "duration": 8,
    "start_time": "2022-02-13T16:17:18.402Z"
   },
   {
    "duration": 9,
    "start_time": "2022-02-13T16:18:41.678Z"
   },
   {
    "duration": 8,
    "start_time": "2022-02-13T16:18:45.824Z"
   },
   {
    "duration": 9,
    "start_time": "2022-02-13T16:19:27.623Z"
   },
   {
    "duration": 8,
    "start_time": "2022-02-13T16:19:28.240Z"
   },
   {
    "duration": 99,
    "start_time": "2022-02-13T16:19:28.886Z"
   },
   {
    "duration": 7,
    "start_time": "2022-02-13T16:19:36.238Z"
   },
   {
    "duration": 7,
    "start_time": "2022-02-13T16:20:47.605Z"
   },
   {
    "duration": 7,
    "start_time": "2022-02-13T16:22:25.186Z"
   },
   {
    "duration": 9,
    "start_time": "2022-02-13T16:22:26.052Z"
   },
   {
    "duration": 10,
    "start_time": "2022-02-13T16:22:28.921Z"
   },
   {
    "duration": 18,
    "start_time": "2022-02-13T16:23:09.437Z"
   },
   {
    "duration": 5,
    "start_time": "2022-02-13T16:23:50.271Z"
   },
   {
    "duration": 15,
    "start_time": "2022-02-13T16:24:07.077Z"
   },
   {
    "duration": 46,
    "start_time": "2022-02-13T16:25:38.946Z"
   },
   {
    "duration": 241,
    "start_time": "2022-02-13T16:28:53.226Z"
   },
   {
    "duration": 52,
    "start_time": "2022-02-13T16:29:05.797Z"
   },
   {
    "duration": 25,
    "start_time": "2022-02-13T16:30:36.872Z"
   },
   {
    "duration": 53,
    "start_time": "2022-02-13T16:37:49.592Z"
   },
   {
    "duration": 248,
    "start_time": "2022-02-13T16:41:10.452Z"
   },
   {
    "duration": 292,
    "start_time": "2022-02-13T16:43:34.861Z"
   },
   {
    "duration": 19,
    "start_time": "2022-02-13T16:44:08.416Z"
   },
   {
    "duration": 15,
    "start_time": "2022-02-13T16:44:30.570Z"
   },
   {
    "duration": 8,
    "start_time": "2022-02-13T16:48:28.963Z"
   },
   {
    "duration": 7,
    "start_time": "2022-02-13T16:50:15.847Z"
   },
   {
    "duration": 291,
    "start_time": "2022-02-13T16:52:48.711Z"
   },
   {
    "duration": 264,
    "start_time": "2022-02-13T16:53:07.377Z"
   },
   {
    "duration": 9,
    "start_time": "2022-02-13T16:53:20.275Z"
   },
   {
    "duration": 10,
    "start_time": "2022-02-13T16:53:46.465Z"
   },
   {
    "duration": 73,
    "start_time": "2022-02-13T16:57:34.790Z"
   },
   {
    "duration": 114,
    "start_time": "2022-02-13T16:57:59.177Z"
   },
   {
    "duration": 61,
    "start_time": "2022-02-13T16:58:46.531Z"
   },
   {
    "duration": 69,
    "start_time": "2022-02-13T17:02:08.988Z"
   },
   {
    "duration": 67,
    "start_time": "2022-02-13T17:02:10.582Z"
   },
   {
    "duration": 32,
    "start_time": "2022-02-13T17:06:34.280Z"
   },
   {
    "duration": 78,
    "start_time": "2022-02-13T17:07:37.527Z"
   },
   {
    "duration": 29,
    "start_time": "2022-02-13T17:08:28.531Z"
   },
   {
    "duration": 21,
    "start_time": "2022-02-13T17:08:45.775Z"
   },
   {
    "duration": 15,
    "start_time": "2022-02-13T17:10:03.387Z"
   },
   {
    "duration": 4,
    "start_time": "2022-02-13T17:12:19.346Z"
   },
   {
    "duration": 60,
    "start_time": "2022-02-13T17:12:20.437Z"
   },
   {
    "duration": 15,
    "start_time": "2022-02-13T17:12:20.913Z"
   },
   {
    "duration": 16,
    "start_time": "2022-02-13T17:12:21.564Z"
   },
   {
    "duration": 249,
    "start_time": "2022-02-13T17:12:22.742Z"
   },
   {
    "duration": 4,
    "start_time": "2022-02-13T17:12:25.060Z"
   },
   {
    "duration": 16,
    "start_time": "2022-02-13T17:12:25.731Z"
   },
   {
    "duration": 13,
    "start_time": "2022-02-13T17:12:27.461Z"
   },
   {
    "duration": 5,
    "start_time": "2022-02-13T17:12:30.569Z"
   },
   {
    "duration": 13,
    "start_time": "2022-02-13T17:12:31.165Z"
   },
   {
    "duration": 8,
    "start_time": "2022-02-13T17:12:31.779Z"
   },
   {
    "duration": 8,
    "start_time": "2022-02-13T17:12:32.404Z"
   },
   {
    "duration": 9,
    "start_time": "2022-02-13T17:12:34.018Z"
   },
   {
    "duration": 9,
    "start_time": "2022-02-13T17:12:34.649Z"
   },
   {
    "duration": 8,
    "start_time": "2022-02-13T17:12:35.281Z"
   },
   {
    "duration": 10,
    "start_time": "2022-02-13T17:12:35.889Z"
   },
   {
    "duration": 11,
    "start_time": "2022-02-13T17:12:36.955Z"
   },
   {
    "duration": 16,
    "start_time": "2022-02-13T17:12:40.441Z"
   },
   {
    "duration": 8,
    "start_time": "2022-02-13T17:12:43.461Z"
   },
   {
    "duration": 17,
    "start_time": "2022-02-13T17:12:45.767Z"
   },
   {
    "duration": 54,
    "start_time": "2022-02-13T17:12:52.203Z"
   },
   {
    "duration": 71,
    "start_time": "2022-02-13T17:12:55.645Z"
   },
   {
    "duration": 64,
    "start_time": "2022-02-13T17:12:59.382Z"
   },
   {
    "duration": 55,
    "start_time": "2022-02-13T17:13:21.147Z"
   },
   {
    "duration": 12,
    "start_time": "2022-02-13T17:35:32.242Z"
   },
   {
    "duration": 20,
    "start_time": "2022-02-13T17:35:42.671Z"
   },
   {
    "duration": 8,
    "start_time": "2022-02-13T17:36:48.654Z"
   },
   {
    "duration": 33,
    "start_time": "2022-02-13T17:40:03.404Z"
   },
   {
    "duration": 12,
    "start_time": "2022-02-13T17:43:06.831Z"
   },
   {
    "duration": 30,
    "start_time": "2022-02-13T17:43:09.152Z"
   },
   {
    "duration": 16,
    "start_time": "2022-02-13T18:03:28.293Z"
   },
   {
    "duration": 262,
    "start_time": "2022-02-13T18:05:17.429Z"
   },
   {
    "duration": 13,
    "start_time": "2022-02-13T18:07:13.203Z"
   },
   {
    "duration": 631,
    "start_time": "2022-02-14T08:56:33.499Z"
   },
   {
    "duration": 52,
    "start_time": "2022-02-14T08:56:34.763Z"
   },
   {
    "duration": 16,
    "start_time": "2022-02-14T08:56:35.302Z"
   },
   {
    "duration": 11,
    "start_time": "2022-02-14T08:56:35.839Z"
   },
   {
    "duration": 238,
    "start_time": "2022-02-14T08:56:36.887Z"
   },
   {
    "duration": 3,
    "start_time": "2022-02-14T08:56:39.723Z"
   },
   {
    "duration": 17,
    "start_time": "2022-02-14T08:56:40.338Z"
   },
   {
    "duration": 11,
    "start_time": "2022-02-14T08:56:41.377Z"
   },
   {
    "duration": 4,
    "start_time": "2022-02-14T08:56:43.694Z"
   },
   {
    "duration": 13,
    "start_time": "2022-02-14T08:56:44.231Z"
   },
   {
    "duration": 6,
    "start_time": "2022-02-14T08:56:44.691Z"
   },
   {
    "duration": 7,
    "start_time": "2022-02-14T08:56:45.181Z"
   },
   {
    "duration": 7,
    "start_time": "2022-02-14T08:56:46.210Z"
   },
   {
    "duration": 8,
    "start_time": "2022-02-14T08:56:46.757Z"
   },
   {
    "duration": 7,
    "start_time": "2022-02-14T08:56:47.340Z"
   },
   {
    "duration": 7,
    "start_time": "2022-02-14T08:56:47.893Z"
   },
   {
    "duration": 9,
    "start_time": "2022-02-14T08:56:48.438Z"
   },
   {
    "duration": 12,
    "start_time": "2022-02-14T08:56:49.937Z"
   },
   {
    "duration": 5,
    "start_time": "2022-02-14T08:56:52.091Z"
   },
   {
    "duration": 13,
    "start_time": "2022-02-14T08:56:52.754Z"
   },
   {
    "duration": 39,
    "start_time": "2022-02-14T08:56:54.855Z"
   },
   {
    "duration": 62,
    "start_time": "2022-02-14T08:58:30.930Z"
   },
   {
    "duration": 52,
    "start_time": "2022-02-14T08:58:31.906Z"
   },
   {
    "duration": 11,
    "start_time": "2022-02-14T08:58:33.799Z"
   },
   {
    "duration": 10,
    "start_time": "2022-02-14T08:58:35.099Z"
   },
   {
    "duration": 102,
    "start_time": "2022-02-14T09:11:45.053Z"
   },
   {
    "duration": 4,
    "start_time": "2022-02-14T09:12:14.159Z"
   },
   {
    "duration": 21,
    "start_time": "2022-02-14T09:14:04.620Z"
   },
   {
    "duration": 529,
    "start_time": "2022-02-14T09:19:55.729Z"
   },
   {
    "duration": 11,
    "start_time": "2022-02-14T09:20:01.893Z"
   },
   {
    "duration": 10,
    "start_time": "2022-02-14T09:22:06.404Z"
   },
   {
    "duration": 10,
    "start_time": "2022-02-14T10:10:24.849Z"
   },
   {
    "duration": 88,
    "start_time": "2022-02-14T10:19:27.849Z"
   },
   {
    "duration": 4,
    "start_time": "2022-02-14T10:20:08.350Z"
   },
   {
    "duration": 5,
    "start_time": "2022-02-14T10:20:57.093Z"
   },
   {
    "duration": 87,
    "start_time": "2022-02-14T10:21:52.813Z"
   },
   {
    "duration": 83,
    "start_time": "2022-02-14T10:22:29.609Z"
   },
   {
    "duration": 4,
    "start_time": "2022-02-14T10:22:46.342Z"
   },
   {
    "duration": 422,
    "start_time": "2022-02-14T10:23:54.565Z"
   },
   {
    "duration": 4,
    "start_time": "2022-02-14T10:24:22.036Z"
   },
   {
    "duration": 4,
    "start_time": "2022-02-14T10:24:27.486Z"
   },
   {
    "duration": 4,
    "start_time": "2022-02-14T10:25:21.656Z"
   },
   {
    "duration": 5,
    "start_time": "2022-02-14T10:25:36.461Z"
   },
   {
    "duration": 4,
    "start_time": "2022-02-14T10:25:50.550Z"
   },
   {
    "duration": 3,
    "start_time": "2022-02-14T10:26:51.655Z"
   },
   {
    "duration": 4,
    "start_time": "2022-02-14T10:33:58.557Z"
   },
   {
    "duration": 4,
    "start_time": "2022-02-14T10:34:10.932Z"
   },
   {
    "duration": 3,
    "start_time": "2022-02-14T10:34:33.949Z"
   },
   {
    "duration": 48,
    "start_time": "2022-02-14T10:34:34.970Z"
   },
   {
    "duration": 11,
    "start_time": "2022-02-14T10:34:35.242Z"
   },
   {
    "duration": 11,
    "start_time": "2022-02-14T10:34:35.676Z"
   },
   {
    "duration": 158,
    "start_time": "2022-02-14T10:34:36.555Z"
   },
   {
    "duration": 3,
    "start_time": "2022-02-14T10:34:37.910Z"
   },
   {
    "duration": 12,
    "start_time": "2022-02-14T10:34:38.386Z"
   },
   {
    "duration": 11,
    "start_time": "2022-02-14T10:34:39.359Z"
   },
   {
    "duration": 5,
    "start_time": "2022-02-14T10:34:41.408Z"
   },
   {
    "duration": 9,
    "start_time": "2022-02-14T10:34:41.862Z"
   },
   {
    "duration": 6,
    "start_time": "2022-02-14T10:34:42.420Z"
   },
   {
    "duration": 7,
    "start_time": "2022-02-14T10:34:42.902Z"
   },
   {
    "duration": 7,
    "start_time": "2022-02-14T10:34:43.992Z"
   },
   {
    "duration": 7,
    "start_time": "2022-02-14T10:34:44.566Z"
   },
   {
    "duration": 6,
    "start_time": "2022-02-14T10:34:45.057Z"
   },
   {
    "duration": 7,
    "start_time": "2022-02-14T10:34:45.601Z"
   },
   {
    "duration": 8,
    "start_time": "2022-02-14T10:34:46.102Z"
   },
   {
    "duration": 12,
    "start_time": "2022-02-14T10:34:47.128Z"
   },
   {
    "duration": 5,
    "start_time": "2022-02-14T10:34:49.254Z"
   },
   {
    "duration": 12,
    "start_time": "2022-02-14T10:34:49.753Z"
   },
   {
    "duration": 37,
    "start_time": "2022-02-14T10:34:50.844Z"
   },
   {
    "duration": 56,
    "start_time": "2022-02-14T10:34:52.176Z"
   },
   {
    "duration": 48,
    "start_time": "2022-02-14T10:34:52.739Z"
   },
   {
    "duration": 11,
    "start_time": "2022-02-14T10:34:53.367Z"
   },
   {
    "duration": 9,
    "start_time": "2022-02-14T10:34:56.348Z"
   },
   {
    "duration": 4,
    "start_time": "2022-02-14T10:34:57.847Z"
   },
   {
    "duration": 21,
    "start_time": "2022-02-14T10:35:03.791Z"
   },
   {
    "duration": 11,
    "start_time": "2022-02-14T10:35:17.008Z"
   },
   {
    "duration": 3,
    "start_time": "2022-02-14T10:35:18.864Z"
   },
   {
    "duration": 4,
    "start_time": "2022-02-14T10:36:22.791Z"
   },
   {
    "duration": 3,
    "start_time": "2022-02-14T10:37:12.637Z"
   },
   {
    "duration": 736,
    "start_time": "2022-02-14T10:38:30.342Z"
   },
   {
    "duration": 418,
    "start_time": "2022-02-14T11:02:54.015Z"
   },
   {
    "duration": 4,
    "start_time": "2022-02-14T11:03:31.817Z"
   },
   {
    "duration": 4,
    "start_time": "2022-02-14T11:03:43.729Z"
   },
   {
    "duration": 391,
    "start_time": "2022-02-14T11:04:44.675Z"
   },
   {
    "duration": 402,
    "start_time": "2022-02-14T11:05:37.519Z"
   },
   {
    "duration": 6,
    "start_time": "2022-02-14T11:06:36.619Z"
   },
   {
    "duration": 6,
    "start_time": "2022-02-14T11:29:13.903Z"
   },
   {
    "duration": 233,
    "start_time": "2022-02-14T11:30:09.799Z"
   },
   {
    "duration": 4,
    "start_time": "2022-02-14T11:30:44.877Z"
   },
   {
    "duration": 448,
    "start_time": "2022-02-14T11:31:08.355Z"
   },
   {
    "duration": 260,
    "start_time": "2022-02-14T11:32:38.220Z"
   },
   {
    "duration": 256,
    "start_time": "2022-02-14T11:32:42.812Z"
   },
   {
    "duration": 37,
    "start_time": "2022-02-14T11:36:58.360Z"
   },
   {
    "duration": 24,
    "start_time": "2022-02-14T11:37:34.131Z"
   },
   {
    "duration": 9,
    "start_time": "2022-02-14T11:37:53.240Z"
   },
   {
    "duration": 17,
    "start_time": "2022-02-14T11:39:10.124Z"
   },
   {
    "duration": 17,
    "start_time": "2022-02-14T11:42:52.459Z"
   },
   {
    "duration": 30,
    "start_time": "2022-02-14T11:43:11.505Z"
   },
   {
    "duration": 19,
    "start_time": "2022-02-14T11:49:20.177Z"
   },
   {
    "duration": 25,
    "start_time": "2022-02-14T12:28:25.196Z"
   },
   {
    "duration": 236,
    "start_time": "2022-02-14T12:30:15.784Z"
   },
   {
    "duration": 21,
    "start_time": "2022-02-14T12:31:22.681Z"
   },
   {
    "duration": 23,
    "start_time": "2022-02-14T12:32:10.593Z"
   },
   {
    "duration": 21,
    "start_time": "2022-02-14T12:32:48.603Z"
   },
   {
    "duration": 15,
    "start_time": "2022-02-14T12:34:00.820Z"
   },
   {
    "duration": 15,
    "start_time": "2022-02-14T12:34:34.390Z"
   },
   {
    "duration": 76,
    "start_time": "2022-02-14T12:35:44.019Z"
   },
   {
    "duration": 280,
    "start_time": "2022-02-14T12:36:28.970Z"
   },
   {
    "duration": 265,
    "start_time": "2022-02-14T12:36:45.968Z"
   },
   {
    "duration": 15,
    "start_time": "2022-02-14T12:37:05.631Z"
   },
   {
    "duration": 21,
    "start_time": "2022-02-14T12:38:01.451Z"
   },
   {
    "duration": 21,
    "start_time": "2022-02-14T12:38:34.823Z"
   },
   {
    "duration": 17,
    "start_time": "2022-02-14T12:39:21.732Z"
   },
   {
    "duration": 18,
    "start_time": "2022-02-14T12:40:19.679Z"
   },
   {
    "duration": 264,
    "start_time": "2022-02-14T12:41:00.840Z"
   },
   {
    "duration": 19,
    "start_time": "2022-02-14T12:41:12.575Z"
   },
   {
    "duration": 30,
    "start_time": "2022-02-14T12:42:49.685Z"
   },
   {
    "duration": 282,
    "start_time": "2022-02-14T12:44:54.088Z"
   },
   {
    "duration": 239,
    "start_time": "2022-02-14T12:45:19.533Z"
   },
   {
    "duration": 17,
    "start_time": "2022-02-14T12:45:31.964Z"
   },
   {
    "duration": 80,
    "start_time": "2022-02-14T12:47:48.711Z"
   },
   {
    "duration": 255,
    "start_time": "2022-02-14T12:47:55.149Z"
   },
   {
    "duration": 255,
    "start_time": "2022-02-14T12:48:12.351Z"
   },
   {
    "duration": 248,
    "start_time": "2022-02-14T12:48:29.847Z"
   },
   {
    "duration": 8,
    "start_time": "2022-02-14T12:49:51.339Z"
   },
   {
    "duration": 15,
    "start_time": "2022-02-14T12:51:35.270Z"
   },
   {
    "duration": 270,
    "start_time": "2022-02-14T12:54:53.119Z"
   },
   {
    "duration": 15,
    "start_time": "2022-02-14T12:56:09.183Z"
   },
   {
    "duration": 252,
    "start_time": "2022-02-14T12:56:21.723Z"
   },
   {
    "duration": 17,
    "start_time": "2022-02-14T12:56:39.535Z"
   },
   {
    "duration": 14,
    "start_time": "2022-02-14T12:57:51.002Z"
   },
   {
    "duration": 8329,
    "start_time": "2022-02-14T13:05:27.157Z"
   },
   {
    "duration": 8,
    "start_time": "2022-02-14T13:06:14.103Z"
   },
   {
    "duration": 9,
    "start_time": "2022-02-14T13:06:24.767Z"
   },
   {
    "duration": 318,
    "start_time": "2022-02-14T13:07:42.587Z"
   },
   {
    "duration": 245,
    "start_time": "2022-02-14T13:08:04.120Z"
   },
   {
    "duration": 254,
    "start_time": "2022-02-14T13:08:22.815Z"
   },
   {
    "duration": 3,
    "start_time": "2022-02-14T13:08:46.824Z"
   },
   {
    "duration": 49,
    "start_time": "2022-02-14T13:08:47.696Z"
   },
   {
    "duration": 11,
    "start_time": "2022-02-14T13:08:48.360Z"
   },
   {
    "duration": 11,
    "start_time": "2022-02-14T13:08:48.823Z"
   },
   {
    "duration": 171,
    "start_time": "2022-02-14T13:08:49.993Z"
   },
   {
    "duration": 3,
    "start_time": "2022-02-14T13:08:51.854Z"
   },
   {
    "duration": 18,
    "start_time": "2022-02-14T13:08:52.409Z"
   },
   {
    "duration": 15,
    "start_time": "2022-02-14T13:08:53.817Z"
   },
   {
    "duration": 5,
    "start_time": "2022-02-14T13:08:56.131Z"
   },
   {
    "duration": 11,
    "start_time": "2022-02-14T13:08:56.640Z"
   },
   {
    "duration": 6,
    "start_time": "2022-02-14T13:08:57.240Z"
   },
   {
    "duration": 7,
    "start_time": "2022-02-14T13:08:57.930Z"
   },
   {
    "duration": 7,
    "start_time": "2022-02-14T13:09:03.949Z"
   },
   {
    "duration": 7,
    "start_time": "2022-02-14T13:09:04.569Z"
   },
   {
    "duration": 6,
    "start_time": "2022-02-14T13:09:05.177Z"
   },
   {
    "duration": 7,
    "start_time": "2022-02-14T13:09:07.084Z"
   },
   {
    "duration": 8,
    "start_time": "2022-02-14T13:09:08.153Z"
   },
   {
    "duration": 13,
    "start_time": "2022-02-14T13:09:11.410Z"
   },
   {
    "duration": 4,
    "start_time": "2022-02-14T13:09:15.739Z"
   },
   {
    "duration": 13,
    "start_time": "2022-02-14T13:09:17.104Z"
   },
   {
    "duration": 36,
    "start_time": "2022-02-14T13:09:23.234Z"
   },
   {
    "duration": 51,
    "start_time": "2022-02-14T13:09:28.831Z"
   },
   {
    "duration": 49,
    "start_time": "2022-02-14T13:09:37.500Z"
   },
   {
    "duration": 17,
    "start_time": "2022-02-14T13:10:39.949Z"
   },
   {
    "duration": 11,
    "start_time": "2022-02-14T13:10:44.187Z"
   },
   {
    "duration": 30,
    "start_time": "2022-02-14T13:10:45.228Z"
   },
   {
    "duration": 21,
    "start_time": "2022-02-14T13:10:53.683Z"
   },
   {
    "duration": 18,
    "start_time": "2022-02-14T13:11:28.868Z"
   },
   {
    "duration": 11,
    "start_time": "2022-02-14T13:12:16.841Z"
   },
   {
    "duration": 18,
    "start_time": "2022-02-14T13:12:26.780Z"
   },
   {
    "duration": 10,
    "start_time": "2022-02-14T13:12:30.774Z"
   },
   {
    "duration": 31,
    "start_time": "2022-02-14T13:12:32.542Z"
   },
   {
    "duration": 15,
    "start_time": "2022-02-14T13:12:38.024Z"
   },
   {
    "duration": 248,
    "start_time": "2022-02-14T13:12:39.665Z"
   },
   {
    "duration": 15,
    "start_time": "2022-02-14T13:13:02.027Z"
   },
   {
    "duration": 11,
    "start_time": "2022-02-14T13:13:50.682Z"
   },
   {
    "duration": 11,
    "start_time": "2022-02-14T13:14:56.464Z"
   },
   {
    "duration": 4,
    "start_time": "2022-02-14T13:16:14.237Z"
   },
   {
    "duration": 48,
    "start_time": "2022-02-14T13:16:15.178Z"
   },
   {
    "duration": 11,
    "start_time": "2022-02-14T13:16:15.666Z"
   },
   {
    "duration": 12,
    "start_time": "2022-02-14T13:16:16.126Z"
   },
   {
    "duration": 167,
    "start_time": "2022-02-14T13:16:17.113Z"
   },
   {
    "duration": 3,
    "start_time": "2022-02-14T13:16:18.591Z"
   },
   {
    "duration": 13,
    "start_time": "2022-02-14T13:16:19.129Z"
   },
   {
    "duration": 11,
    "start_time": "2022-02-14T13:16:20.145Z"
   },
   {
    "duration": 5,
    "start_time": "2022-02-14T13:16:22.212Z"
   },
   {
    "duration": 9,
    "start_time": "2022-02-14T13:16:22.722Z"
   },
   {
    "duration": 5,
    "start_time": "2022-02-14T13:16:23.268Z"
   },
   {
    "duration": 6,
    "start_time": "2022-02-14T13:16:23.813Z"
   },
   {
    "duration": 6,
    "start_time": "2022-02-14T13:16:24.855Z"
   },
   {
    "duration": 6,
    "start_time": "2022-02-14T13:16:25.435Z"
   },
   {
    "duration": 6,
    "start_time": "2022-02-14T13:16:25.939Z"
   },
   {
    "duration": 7,
    "start_time": "2022-02-14T13:16:26.468Z"
   },
   {
    "duration": 8,
    "start_time": "2022-02-14T13:16:27.122Z"
   },
   {
    "duration": 12,
    "start_time": "2022-02-14T13:16:28.946Z"
   },
   {
    "duration": 4,
    "start_time": "2022-02-14T13:16:30.730Z"
   },
   {
    "duration": 13,
    "start_time": "2022-02-14T13:16:31.408Z"
   },
   {
    "duration": 37,
    "start_time": "2022-02-14T13:16:32.919Z"
   },
   {
    "duration": 47,
    "start_time": "2022-02-14T13:16:37.372Z"
   },
   {
    "duration": 50,
    "start_time": "2022-02-14T13:16:38.046Z"
   },
   {
    "duration": 3,
    "start_time": "2022-02-14T13:16:39.935Z"
   },
   {
    "duration": 3,
    "start_time": "2022-02-14T13:16:41.481Z"
   },
   {
    "duration": 3,
    "start_time": "2022-02-14T13:16:42.544Z"
   },
   {
    "duration": 20,
    "start_time": "2022-02-14T13:16:46.539Z"
   },
   {
    "duration": 11,
    "start_time": "2022-02-14T13:16:56.388Z"
   },
   {
    "duration": 29,
    "start_time": "2022-02-14T13:16:57.980Z"
   },
   {
    "duration": 21,
    "start_time": "2022-02-14T13:17:03.729Z"
   },
   {
    "duration": 17,
    "start_time": "2022-02-14T13:17:16.317Z"
   },
   {
    "duration": 17,
    "start_time": "2022-02-14T13:19:14.358Z"
   },
   {
    "duration": 241,
    "start_time": "2022-02-14T13:25:28.109Z"
   },
   {
    "duration": 17,
    "start_time": "2022-02-14T13:26:04.034Z"
   },
   {
    "duration": 17,
    "start_time": "2022-02-14T13:26:35.809Z"
   },
   {
    "duration": 32,
    "start_time": "2022-02-14T13:29:29.916Z"
   },
   {
    "duration": 106,
    "start_time": "2022-02-14T13:30:11.559Z"
   },
   {
    "duration": 86,
    "start_time": "2022-02-14T13:30:20.385Z"
   },
   {
    "duration": 190,
    "start_time": "2022-02-14T13:30:35.743Z"
   },
   {
    "duration": 209,
    "start_time": "2022-02-14T13:31:11.204Z"
   },
   {
    "duration": 7264,
    "start_time": "2022-02-14T13:31:59.220Z"
   },
   {
    "duration": 35,
    "start_time": "2022-02-14T13:39:16.127Z"
   },
   {
    "duration": 400,
    "start_time": "2022-02-14T13:40:58.458Z"
   },
   {
    "duration": 32,
    "start_time": "2022-02-14T14:10:45.233Z"
   },
   {
    "duration": 79,
    "start_time": "2022-02-14T14:15:23.941Z"
   },
   {
    "duration": 100,
    "start_time": "2022-02-14T14:15:52.740Z"
   },
   {
    "duration": 78,
    "start_time": "2022-02-14T14:16:17.692Z"
   },
   {
    "duration": 79,
    "start_time": "2022-02-14T14:16:58.235Z"
   },
   {
    "duration": 20,
    "start_time": "2022-02-14T14:19:54.326Z"
   },
   {
    "duration": 6881,
    "start_time": "2022-02-14T14:21:12.245Z"
   },
   {
    "duration": 6415,
    "start_time": "2022-02-14T14:21:51.861Z"
   },
   {
    "duration": 7261,
    "start_time": "2022-02-14T14:22:38.038Z"
   },
   {
    "duration": 21,
    "start_time": "2022-02-14T14:23:05.273Z"
   },
   {
    "duration": 6310,
    "start_time": "2022-02-14T14:23:06.580Z"
   },
   {
    "duration": 6481,
    "start_time": "2022-02-14T14:23:36.940Z"
   },
   {
    "duration": 76,
    "start_time": "2022-02-14T14:25:43.530Z"
   },
   {
    "duration": 171,
    "start_time": "2022-02-14T14:25:54.998Z"
   },
   {
    "duration": 187,
    "start_time": "2022-02-14T14:26:18.636Z"
   },
   {
    "duration": 253,
    "start_time": "2022-02-14T14:26:44.177Z"
   },
   {
    "duration": 193,
    "start_time": "2022-02-14T14:27:07.464Z"
   },
   {
    "duration": 97,
    "start_time": "2022-02-14T14:27:43.233Z"
   },
   {
    "duration": 95,
    "start_time": "2022-02-14T14:27:52.711Z"
   },
   {
    "duration": 240,
    "start_time": "2022-02-14T14:28:05.241Z"
   },
   {
    "duration": 197,
    "start_time": "2022-02-14T14:28:44.153Z"
   },
   {
    "duration": 18,
    "start_time": "2022-02-14T14:29:03.012Z"
   },
   {
    "duration": 189,
    "start_time": "2022-02-14T14:29:14.949Z"
   },
   {
    "duration": 776,
    "start_time": "2022-02-15T12:13:19.879Z"
   },
   {
    "duration": 63,
    "start_time": "2022-02-15T12:13:21.194Z"
   },
   {
    "duration": 22,
    "start_time": "2022-02-15T12:13:21.761Z"
   },
   {
    "duration": 14,
    "start_time": "2022-02-15T12:13:22.355Z"
   },
   {
    "duration": 347,
    "start_time": "2022-02-15T12:13:23.565Z"
   },
   {
    "duration": 4,
    "start_time": "2022-02-15T12:13:25.273Z"
   },
   {
    "duration": 22,
    "start_time": "2022-02-15T12:13:25.812Z"
   },
   {
    "duration": 14,
    "start_time": "2022-02-15T12:13:26.880Z"
   },
   {
    "duration": 6,
    "start_time": "2022-02-15T12:13:29.140Z"
   },
   {
    "duration": 19,
    "start_time": "2022-02-15T12:13:29.665Z"
   },
   {
    "duration": 7,
    "start_time": "2022-02-15T12:13:30.173Z"
   },
   {
    "duration": 11,
    "start_time": "2022-02-15T12:13:30.705Z"
   },
   {
    "duration": 10,
    "start_time": "2022-02-15T12:13:31.841Z"
   },
   {
    "duration": 9,
    "start_time": "2022-02-15T12:13:32.493Z"
   },
   {
    "duration": 8,
    "start_time": "2022-02-15T12:13:33.122Z"
   },
   {
    "duration": 12,
    "start_time": "2022-02-15T12:13:33.672Z"
   },
   {
    "duration": 11,
    "start_time": "2022-02-15T12:13:34.326Z"
   },
   {
    "duration": 19,
    "start_time": "2022-02-15T12:13:35.628Z"
   },
   {
    "duration": 5,
    "start_time": "2022-02-15T12:13:37.378Z"
   },
   {
    "duration": 17,
    "start_time": "2022-02-15T12:13:38.228Z"
   },
   {
    "duration": 57,
    "start_time": "2022-02-15T12:13:40.219Z"
   },
   {
    "duration": 72,
    "start_time": "2022-02-15T12:13:41.409Z"
   },
   {
    "duration": 82,
    "start_time": "2022-02-15T12:13:41.993Z"
   },
   {
    "duration": 4,
    "start_time": "2022-02-15T12:13:43.682Z"
   },
   {
    "duration": 4,
    "start_time": "2022-02-15T12:13:44.534Z"
   },
   {
    "duration": 4,
    "start_time": "2022-02-15T12:13:45.436Z"
   },
   {
    "duration": 35,
    "start_time": "2022-02-15T12:13:46.768Z"
   },
   {
    "duration": 14,
    "start_time": "2022-02-15T12:14:00.901Z"
   },
   {
    "duration": 46,
    "start_time": "2022-02-15T12:14:02.126Z"
   },
   {
    "duration": 26,
    "start_time": "2022-02-15T12:14:08.934Z"
   },
   {
    "duration": 32,
    "start_time": "2022-02-15T12:14:09.841Z"
   },
   {
    "duration": 26,
    "start_time": "2022-02-15T12:14:11.010Z"
   },
   {
    "duration": 27,
    "start_time": "2022-02-15T12:14:12.071Z"
   },
   {
    "duration": 33,
    "start_time": "2022-02-15T12:14:14.175Z"
   },
   {
    "duration": 15,
    "start_time": "2022-02-15T12:14:39.513Z"
   },
   {
    "duration": 27,
    "start_time": "2022-02-15T12:15:04.820Z"
   },
   {
    "duration": 16,
    "start_time": "2022-02-15T12:15:16.619Z"
   },
   {
    "duration": 25,
    "start_time": "2022-02-15T12:16:50.903Z"
   },
   {
    "duration": 8047,
    "start_time": "2022-02-15T12:33:29.415Z"
   },
   {
    "duration": 26,
    "start_time": "2022-02-15T12:34:09.138Z"
   },
   {
    "duration": 7411,
    "start_time": "2022-02-15T12:34:11.030Z"
   },
   {
    "duration": 115,
    "start_time": "2022-02-15T12:34:46.443Z"
   },
   {
    "duration": 94,
    "start_time": "2022-02-15T12:35:13.977Z"
   },
   {
    "duration": 102,
    "start_time": "2022-02-15T12:35:42.040Z"
   },
   {
    "duration": 381,
    "start_time": "2022-02-15T13:52:30.719Z"
   },
   {
    "duration": 801,
    "start_time": "2022-02-15T13:52:36.984Z"
   },
   {
    "duration": 69,
    "start_time": "2022-02-15T13:52:38.186Z"
   },
   {
    "duration": 21,
    "start_time": "2022-02-15T13:52:38.733Z"
   },
   {
    "duration": 13,
    "start_time": "2022-02-15T13:52:39.290Z"
   },
   {
    "duration": 354,
    "start_time": "2022-02-15T13:52:40.379Z"
   },
   {
    "duration": 4,
    "start_time": "2022-02-15T13:52:41.974Z"
   },
   {
    "duration": 16,
    "start_time": "2022-02-15T13:52:42.482Z"
   },
   {
    "duration": 14,
    "start_time": "2022-02-15T13:52:43.745Z"
   },
   {
    "duration": 6,
    "start_time": "2022-02-15T13:52:45.848Z"
   },
   {
    "duration": 17,
    "start_time": "2022-02-15T13:52:46.355Z"
   },
   {
    "duration": 7,
    "start_time": "2022-02-15T13:52:46.888Z"
   },
   {
    "duration": 9,
    "start_time": "2022-02-15T13:52:47.438Z"
   },
   {
    "duration": 9,
    "start_time": "2022-02-15T13:52:48.441Z"
   },
   {
    "duration": 9,
    "start_time": "2022-02-15T13:52:48.970Z"
   },
   {
    "duration": 7,
    "start_time": "2022-02-15T13:52:49.470Z"
   },
   {
    "duration": 9,
    "start_time": "2022-02-15T13:52:49.994Z"
   },
   {
    "duration": 10,
    "start_time": "2022-02-15T13:52:50.575Z"
   },
   {
    "duration": 16,
    "start_time": "2022-02-15T13:52:51.662Z"
   },
   {
    "duration": 11,
    "start_time": "2022-02-15T13:52:53.528Z"
   },
   {
    "duration": 18,
    "start_time": "2022-02-15T13:52:54.099Z"
   },
   {
    "duration": 53,
    "start_time": "2022-02-15T13:52:55.374Z"
   },
   {
    "duration": 72,
    "start_time": "2022-02-15T13:52:56.769Z"
   },
   {
    "duration": 62,
    "start_time": "2022-02-15T13:52:57.458Z"
   },
   {
    "duration": 3,
    "start_time": "2022-02-15T13:52:58.445Z"
   },
   {
    "duration": 3,
    "start_time": "2022-02-15T13:52:59.304Z"
   },
   {
    "duration": 3,
    "start_time": "2022-02-15T13:52:59.927Z"
   },
   {
    "duration": 25,
    "start_time": "2022-02-15T13:53:01.013Z"
   },
   {
    "duration": 15,
    "start_time": "2022-02-15T13:53:02.750Z"
   },
   {
    "duration": 45,
    "start_time": "2022-02-15T13:53:03.573Z"
   },
   {
    "duration": 26,
    "start_time": "2022-02-15T13:53:04.615Z"
   },
   {
    "duration": 23,
    "start_time": "2022-02-15T13:53:05.426Z"
   },
   {
    "duration": 20,
    "start_time": "2022-02-15T13:53:06.129Z"
   },
   {
    "duration": 21,
    "start_time": "2022-02-15T13:53:06.681Z"
   },
   {
    "duration": 28,
    "start_time": "2022-02-15T13:53:08.398Z"
   },
   {
    "duration": 335,
    "start_time": "2022-02-15T13:53:08.506Z"
   },
   {
    "duration": 21,
    "start_time": "2022-02-15T13:53:27.489Z"
   },
   {
    "duration": 7,
    "start_time": "2022-02-15T13:54:52.693Z"
   },
   {
    "duration": 26,
    "start_time": "2022-02-15T13:55:29.180Z"
   },
   {
    "duration": 44,
    "start_time": "2022-02-15T13:56:02.349Z"
   },
   {
    "duration": 4,
    "start_time": "2022-02-15T13:57:45.681Z"
   },
   {
    "duration": 80,
    "start_time": "2022-02-15T13:57:47.037Z"
   },
   {
    "duration": 36,
    "start_time": "2022-02-15T13:58:29.618Z"
   },
   {
    "duration": 74,
    "start_time": "2022-02-15T13:58:43.091Z"
   },
   {
    "duration": 63,
    "start_time": "2022-02-15T14:14:22.124Z"
   },
   {
    "duration": 263,
    "start_time": "2022-02-15T14:29:54.761Z"
   },
   {
    "duration": 269,
    "start_time": "2022-02-15T14:31:00.286Z"
   },
   {
    "duration": 251,
    "start_time": "2022-02-15T14:31:22.570Z"
   },
   {
    "duration": 253,
    "start_time": "2022-02-15T14:31:56.114Z"
   },
   {
    "duration": 267,
    "start_time": "2022-02-15T14:32:25.386Z"
   },
   {
    "duration": 18,
    "start_time": "2022-02-15T14:39:30.627Z"
   },
   {
    "duration": 22,
    "start_time": "2022-02-15T14:43:48.066Z"
   },
   {
    "duration": 15,
    "start_time": "2022-02-15T14:44:43.313Z"
   },
   {
    "duration": 15,
    "start_time": "2022-02-15T14:45:15.063Z"
   },
   {
    "duration": 23,
    "start_time": "2022-02-15T14:46:13.628Z"
   },
   {
    "duration": 121,
    "start_time": "2022-02-15T14:46:33.657Z"
   },
   {
    "duration": 26,
    "start_time": "2022-02-15T14:46:45.636Z"
   },
   {
    "duration": 324,
    "start_time": "2022-02-15T14:48:20.192Z"
   },
   {
    "duration": 373,
    "start_time": "2022-02-15T14:48:33.826Z"
   },
   {
    "duration": 13,
    "start_time": "2022-02-15T14:49:45.285Z"
   },
   {
    "duration": 257,
    "start_time": "2022-02-15T14:51:10.096Z"
   },
   {
    "duration": 22,
    "start_time": "2022-02-15T14:52:47.616Z"
   },
   {
    "duration": 266,
    "start_time": "2022-02-15T14:53:47.377Z"
   },
   {
    "duration": 268,
    "start_time": "2022-02-15T14:53:53.283Z"
   },
   {
    "duration": 305,
    "start_time": "2022-02-15T14:54:01.145Z"
   },
   {
    "duration": 264,
    "start_time": "2022-02-15T15:00:45.288Z"
   },
   {
    "duration": 411,
    "start_time": "2022-02-15T15:01:30.818Z"
   },
   {
    "duration": 341,
    "start_time": "2022-02-15T15:01:37.370Z"
   },
   {
    "duration": 4,
    "start_time": "2022-02-15T15:03:53.588Z"
   },
   {
    "duration": 3,
    "start_time": "2022-02-15T16:05:31.166Z"
   },
   {
    "duration": 136,
    "start_time": "2022-02-15T16:09:01.445Z"
   },
   {
    "duration": 92,
    "start_time": "2022-02-15T16:11:01.589Z"
   },
   {
    "duration": 85,
    "start_time": "2022-02-15T16:12:39.609Z"
   },
   {
    "duration": 416,
    "start_time": "2022-02-17T13:21:17.674Z"
   },
   {
    "duration": 655,
    "start_time": "2022-02-17T13:21:24.123Z"
   },
   {
    "duration": 52,
    "start_time": "2022-02-17T13:21:24.779Z"
   },
   {
    "duration": 14,
    "start_time": "2022-02-17T13:21:25.362Z"
   },
   {
    "duration": 778,
    "start_time": "2022-02-18T12:40:25.971Z"
   },
   {
    "duration": 63,
    "start_time": "2022-02-18T12:40:26.752Z"
   },
   {
    "duration": 15,
    "start_time": "2022-02-18T12:40:26.818Z"
   },
   {
    "duration": 21,
    "start_time": "2022-02-18T12:40:26.835Z"
   },
   {
    "duration": 40,
    "start_time": "2022-02-18T12:40:26.859Z"
   },
   {
    "duration": 361,
    "start_time": "2022-02-18T12:40:26.901Z"
   },
   {
    "duration": 4,
    "start_time": "2022-02-18T12:40:27.264Z"
   },
   {
    "duration": 34,
    "start_time": "2022-02-18T12:40:27.273Z"
   },
   {
    "duration": 12,
    "start_time": "2022-02-18T12:40:27.310Z"
   },
   {
    "duration": 4,
    "start_time": "2022-02-18T12:40:27.324Z"
   },
   {
    "duration": 15,
    "start_time": "2022-02-18T12:40:27.330Z"
   },
   {
    "duration": 7,
    "start_time": "2022-02-18T12:40:27.347Z"
   },
   {
    "duration": 42,
    "start_time": "2022-02-18T12:40:27.357Z"
   },
   {
    "duration": 9,
    "start_time": "2022-02-18T12:40:27.402Z"
   },
   {
    "duration": 12,
    "start_time": "2022-02-18T12:40:27.413Z"
   },
   {
    "duration": 9,
    "start_time": "2022-02-18T12:40:27.427Z"
   },
   {
    "duration": 23,
    "start_time": "2022-02-18T12:40:27.439Z"
   },
   {
    "duration": 33,
    "start_time": "2022-02-18T12:40:27.464Z"
   },
   {
    "duration": 14,
    "start_time": "2022-02-18T12:40:27.500Z"
   },
   {
    "duration": 5,
    "start_time": "2022-02-18T12:40:27.517Z"
   },
   {
    "duration": 18,
    "start_time": "2022-02-18T12:40:27.524Z"
   },
   {
    "duration": 87,
    "start_time": "2022-02-18T12:40:27.545Z"
   },
   {
    "duration": 86,
    "start_time": "2022-02-18T12:40:27.636Z"
   },
   {
    "duration": 55,
    "start_time": "2022-02-18T12:40:27.725Z"
   },
   {
    "duration": 3,
    "start_time": "2022-02-18T12:40:27.794Z"
   },
   {
    "duration": 12,
    "start_time": "2022-02-18T12:40:27.799Z"
   },
   {
    "duration": 5,
    "start_time": "2022-02-18T12:40:27.813Z"
   },
   {
    "duration": 29,
    "start_time": "2022-02-18T12:40:27.820Z"
   },
   {
    "duration": 11,
    "start_time": "2022-02-18T12:40:27.853Z"
   },
   {
    "duration": 42,
    "start_time": "2022-02-18T12:40:27.894Z"
   },
   {
    "duration": 298,
    "start_time": "2022-02-18T12:40:27.938Z"
   },
   {
    "duration": 278,
    "start_time": "2022-02-18T12:40:28.238Z"
   },
   {
    "duration": 303,
    "start_time": "2022-02-18T12:40:28.518Z"
   },
   {
    "duration": 267,
    "start_time": "2022-02-18T12:40:28.823Z"
   },
   {
    "duration": 32,
    "start_time": "2022-02-18T12:49:38.264Z"
   },
   {
    "duration": 43,
    "start_time": "2022-02-18T12:51:29.326Z"
   },
   {
    "duration": 253,
    "start_time": "2022-02-20T13:31:16.241Z"
   },
   {
    "duration": 200,
    "start_time": "2022-02-20T13:31:21.756Z"
   },
   {
    "duration": 590,
    "start_time": "2022-02-20T13:31:26.216Z"
   },
   {
    "duration": 47,
    "start_time": "2022-02-20T13:31:26.919Z"
   },
   {
    "duration": 12,
    "start_time": "2022-02-20T13:31:27.521Z"
   },
   {
    "duration": 22,
    "start_time": "2022-02-20T13:31:29.345Z"
   },
   {
    "duration": 57,
    "start_time": "2022-02-20T13:33:13.771Z"
   },
   {
    "duration": 19,
    "start_time": "2022-02-20T13:34:57.886Z"
   },
   {
    "duration": 59,
    "start_time": "2022-02-20T13:40:40.967Z"
   },
   {
    "duration": 73,
    "start_time": "2022-02-20T13:46:25.095Z"
   },
   {
    "duration": 18,
    "start_time": "2022-02-20T13:50:13.774Z"
   },
   {
    "duration": 17,
    "start_time": "2022-02-20T13:51:19.837Z"
   },
   {
    "duration": 14,
    "start_time": "2022-02-20T13:51:37.676Z"
   },
   {
    "duration": 234,
    "start_time": "2022-02-20T13:52:43.143Z"
   },
   {
    "duration": 31,
    "start_time": "2022-02-20T13:52:57.003Z"
   },
   {
    "duration": 21,
    "start_time": "2022-02-20T13:53:02.878Z"
   },
   {
    "duration": 591,
    "start_time": "2022-02-20T13:54:27.763Z"
   },
   {
    "duration": 46,
    "start_time": "2022-02-20T13:54:28.356Z"
   },
   {
    "duration": 15,
    "start_time": "2022-02-20T13:54:28.404Z"
   },
   {
    "duration": 34,
    "start_time": "2022-02-20T13:54:28.422Z"
   },
   {
    "duration": 9,
    "start_time": "2022-02-20T13:54:28.458Z"
   },
   {
    "duration": 8,
    "start_time": "2022-02-20T13:54:28.469Z"
   },
   {
    "duration": 292,
    "start_time": "2022-02-20T13:54:28.479Z"
   },
   {
    "duration": 12,
    "start_time": "2022-02-20T13:54:28.773Z"
   },
   {
    "duration": 10,
    "start_time": "2022-02-20T13:54:28.788Z"
   },
   {
    "duration": 22,
    "start_time": "2022-02-20T13:54:28.800Z"
   },
   {
    "duration": 15,
    "start_time": "2022-02-20T13:54:28.825Z"
   },
   {
    "duration": 6,
    "start_time": "2022-02-20T13:54:28.843Z"
   },
   {
    "duration": 6,
    "start_time": "2022-02-20T13:54:28.850Z"
   },
   {
    "duration": 5,
    "start_time": "2022-02-20T13:54:28.858Z"
   },
   {
    "duration": 5,
    "start_time": "2022-02-20T13:54:28.865Z"
   },
   {
    "duration": 4,
    "start_time": "2022-02-20T13:54:28.872Z"
   },
   {
    "duration": 44,
    "start_time": "2022-02-20T13:54:28.878Z"
   },
   {
    "duration": 10,
    "start_time": "2022-02-20T13:54:28.925Z"
   },
   {
    "duration": 14,
    "start_time": "2022-02-20T13:54:28.937Z"
   },
   {
    "duration": 5,
    "start_time": "2022-02-20T13:54:28.953Z"
   },
   {
    "duration": 13,
    "start_time": "2022-02-20T13:54:28.959Z"
   },
   {
    "duration": 85,
    "start_time": "2022-02-20T13:54:28.974Z"
   },
   {
    "duration": 58,
    "start_time": "2022-02-20T13:54:29.061Z"
   },
   {
    "duration": 53,
    "start_time": "2022-02-20T13:54:29.121Z"
   },
   {
    "duration": 15,
    "start_time": "2022-02-20T13:54:29.176Z"
   },
   {
    "duration": 32,
    "start_time": "2022-02-20T13:54:29.192Z"
   },
   {
    "duration": 31,
    "start_time": "2022-02-20T13:54:29.229Z"
   },
   {
    "duration": 214,
    "start_time": "2022-02-20T13:54:29.262Z"
   },
   {
    "duration": 198,
    "start_time": "2022-02-20T13:54:29.478Z"
   },
   {
    "duration": 217,
    "start_time": "2022-02-20T13:54:29.677Z"
   },
   {
    "duration": 188,
    "start_time": "2022-02-20T13:54:29.895Z"
   },
   {
    "duration": 16,
    "start_time": "2022-02-20T13:54:30.084Z"
   },
   {
    "duration": 14,
    "start_time": "2022-02-20T14:01:23.223Z"
   },
   {
    "duration": 255,
    "start_time": "2022-02-20T14:02:02.725Z"
   },
   {
    "duration": 13,
    "start_time": "2022-02-20T14:02:16.732Z"
   },
   {
    "duration": 14,
    "start_time": "2022-02-20T14:02:45.916Z"
   },
   {
    "duration": 189,
    "start_time": "2022-02-20T14:08:04.729Z"
   },
   {
    "duration": 200,
    "start_time": "2022-02-20T14:08:10.529Z"
   },
   {
    "duration": 189,
    "start_time": "2022-02-20T14:10:12.091Z"
   },
   {
    "duration": 196,
    "start_time": "2022-02-20T14:10:17.173Z"
   },
   {
    "duration": 62,
    "start_time": "2022-02-20T14:10:32.424Z"
   },
   {
    "duration": 200,
    "start_time": "2022-02-20T14:11:12.129Z"
   },
   {
    "duration": 227,
    "start_time": "2022-02-20T14:11:33.683Z"
   },
   {
    "duration": 15,
    "start_time": "2022-02-20T14:12:09.873Z"
   },
   {
    "duration": 13,
    "start_time": "2022-02-20T14:12:21.520Z"
   },
   {
    "duration": 315,
    "start_time": "2022-02-20T17:36:52.665Z"
   },
   {
    "duration": 558,
    "start_time": "2022-02-20T17:37:09.972Z"
   },
   {
    "duration": 70,
    "start_time": "2022-02-20T17:37:10.532Z"
   },
   {
    "duration": 16,
    "start_time": "2022-02-20T17:37:10.605Z"
   },
   {
    "duration": 30,
    "start_time": "2022-02-20T17:37:10.624Z"
   },
   {
    "duration": 12,
    "start_time": "2022-02-20T17:37:10.656Z"
   },
   {
    "duration": 46,
    "start_time": "2022-02-20T17:37:10.670Z"
   },
   {
    "duration": 52839,
    "start_time": "2022-02-20T17:37:10.718Z"
   },
   {
    "duration": 11,
    "start_time": "2022-02-20T17:38:03.560Z"
   },
   {
    "duration": 48,
    "start_time": "2022-02-20T17:38:03.574Z"
   },
   {
    "duration": 25,
    "start_time": "2022-02-20T17:38:03.624Z"
   },
   {
    "duration": 25,
    "start_time": "2022-02-20T17:38:03.651Z"
   },
   {
    "duration": 35,
    "start_time": "2022-02-20T17:38:03.678Z"
   },
   {
    "duration": 24,
    "start_time": "2022-02-20T17:38:03.715Z"
   },
   {
    "duration": 29,
    "start_time": "2022-02-20T17:38:03.741Z"
   },
   {
    "duration": 25,
    "start_time": "2022-02-20T17:38:03.772Z"
   },
   {
    "duration": 36,
    "start_time": "2022-02-20T17:38:03.800Z"
   },
   {
    "duration": 32,
    "start_time": "2022-02-20T17:38:03.838Z"
   },
   {
    "duration": 29,
    "start_time": "2022-02-20T17:38:03.872Z"
   },
   {
    "duration": 32,
    "start_time": "2022-02-20T17:38:03.902Z"
   },
   {
    "duration": 44,
    "start_time": "2022-02-20T17:38:03.936Z"
   },
   {
    "duration": 56,
    "start_time": "2022-02-20T17:38:03.982Z"
   },
   {
    "duration": 64,
    "start_time": "2022-02-20T17:38:04.040Z"
   },
   {
    "duration": 45,
    "start_time": "2022-02-20T17:38:04.107Z"
   },
   {
    "duration": 63,
    "start_time": "2022-02-20T17:38:04.154Z"
   },
   {
    "duration": 16,
    "start_time": "2022-02-20T17:38:04.219Z"
   },
   {
    "duration": 33,
    "start_time": "2022-02-20T17:38:04.237Z"
   },
   {
    "duration": 32,
    "start_time": "2022-02-20T17:38:04.272Z"
   },
   {
    "duration": 207,
    "start_time": "2022-02-20T17:38:04.306Z"
   },
   {
    "duration": 191,
    "start_time": "2022-02-20T17:38:04.515Z"
   },
   {
    "duration": 164,
    "start_time": "2022-02-20T17:38:04.708Z"
   },
   {
    "duration": 165,
    "start_time": "2022-02-20T17:38:04.873Z"
   },
   {
    "duration": 26,
    "start_time": "2022-02-20T17:38:05.040Z"
   },
   {
    "duration": 63,
    "start_time": "2022-02-20T17:38:05.068Z"
   }
  ],
  "kernelspec": {
   "display_name": "Python 3 (ipykernel)",
   "language": "python",
   "name": "python3"
  },
  "language_info": {
   "codemirror_mode": {
    "name": "ipython",
    "version": 3
   },
   "file_extension": ".py",
   "mimetype": "text/x-python",
   "name": "python",
   "nbconvert_exporter": "python",
   "pygments_lexer": "ipython3",
   "version": "3.9.7"
  },
  "toc": {
   "base_numbering": 1,
   "nav_menu": {},
   "number_sections": true,
   "sideBar": true,
   "skip_h1_title": true,
   "title_cell": "Table of Contents",
   "title_sidebar": "Contents",
   "toc_cell": false,
   "toc_position": {},
   "toc_section_display": true,
   "toc_window_display": false
  }
 },
 "nbformat": 4,
 "nbformat_minor": 5
}
